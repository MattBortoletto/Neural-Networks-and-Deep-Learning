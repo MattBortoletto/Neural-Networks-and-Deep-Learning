{
  "nbformat": 4,
  "nbformat_minor": 0,
  "metadata": {
    "colab": {
      "name": "MatteoBortolettoHW3.ipynb",
      "provenance": [],
      "collapsed_sections": []
    },
    "kernelspec": {
      "name": "python3",
      "display_name": "Python 3"
    },
    "widgets": {
      "application/vnd.jupyter.widget-state+json": {
        "f0733c30781947e1aa3237b15f6e4c7e": {
          "model_module": "@jupyter-widgets/controls",
          "model_name": "HBoxModel",
          "state": {
            "_view_name": "HBoxView",
            "_dom_classes": [],
            "_model_name": "HBoxModel",
            "_view_module": "@jupyter-widgets/controls",
            "_model_module_version": "1.5.0",
            "_view_count": null,
            "_view_module_version": "1.5.0",
            "box_style": "",
            "layout": "IPY_MODEL_c064a1e24b2942558e22b6e21b936a7b",
            "_model_module": "@jupyter-widgets/controls",
            "children": [
              "IPY_MODEL_50aada914d71411ba88ad675366b3df6",
              "IPY_MODEL_26f00618369f455e8e465097736be9b3"
            ]
          }
        },
        "c064a1e24b2942558e22b6e21b936a7b": {
          "model_module": "@jupyter-widgets/base",
          "model_name": "LayoutModel",
          "state": {
            "_view_name": "LayoutView",
            "grid_template_rows": null,
            "right": null,
            "justify_content": null,
            "_view_module": "@jupyter-widgets/base",
            "overflow": null,
            "_model_module_version": "1.2.0",
            "_view_count": null,
            "flex_flow": null,
            "width": null,
            "min_width": null,
            "border": null,
            "align_items": null,
            "bottom": null,
            "_model_module": "@jupyter-widgets/base",
            "top": null,
            "grid_column": null,
            "overflow_y": null,
            "overflow_x": null,
            "grid_auto_flow": null,
            "grid_area": null,
            "grid_template_columns": null,
            "flex": null,
            "_model_name": "LayoutModel",
            "justify_items": null,
            "grid_row": null,
            "max_height": null,
            "align_content": null,
            "visibility": null,
            "align_self": null,
            "height": null,
            "min_height": null,
            "padding": null,
            "grid_auto_rows": null,
            "grid_gap": null,
            "max_width": null,
            "order": null,
            "_view_module_version": "1.2.0",
            "grid_template_areas": null,
            "object_position": null,
            "object_fit": null,
            "grid_auto_columns": null,
            "margin": null,
            "display": null,
            "left": null
          }
        },
        "50aada914d71411ba88ad675366b3df6": {
          "model_module": "@jupyter-widgets/controls",
          "model_name": "FloatProgressModel",
          "state": {
            "_view_name": "ProgressView",
            "style": "IPY_MODEL_20b5b4f9f00e4d609624df6a2dc261ca",
            "_dom_classes": [],
            "description": "100%",
            "_model_name": "FloatProgressModel",
            "bar_style": "success",
            "max": 1000,
            "_view_module": "@jupyter-widgets/controls",
            "_model_module_version": "1.5.0",
            "value": 1000,
            "_view_count": null,
            "_view_module_version": "1.5.0",
            "orientation": "horizontal",
            "min": 0,
            "description_tooltip": null,
            "_model_module": "@jupyter-widgets/controls",
            "layout": "IPY_MODEL_aabe7d8089914af7aecfd13ca9759b9b"
          }
        },
        "26f00618369f455e8e465097736be9b3": {
          "model_module": "@jupyter-widgets/controls",
          "model_name": "HTMLModel",
          "state": {
            "_view_name": "HTMLView",
            "style": "IPY_MODEL_8464c495a6714060b40a78ef3e1e5fa9",
            "_dom_classes": [],
            "description": "",
            "_model_name": "HTMLModel",
            "placeholder": "​",
            "_view_module": "@jupyter-widgets/controls",
            "_model_module_version": "1.5.0",
            "value": " 1000/1000 [31:04&lt;00:00,  1.86s/it]",
            "_view_count": null,
            "_view_module_version": "1.5.0",
            "description_tooltip": null,
            "_model_module": "@jupyter-widgets/controls",
            "layout": "IPY_MODEL_a7360b223add49c79e4905864bd224dc"
          }
        },
        "20b5b4f9f00e4d609624df6a2dc261ca": {
          "model_module": "@jupyter-widgets/controls",
          "model_name": "ProgressStyleModel",
          "state": {
            "_view_name": "StyleView",
            "_model_name": "ProgressStyleModel",
            "description_width": "initial",
            "_view_module": "@jupyter-widgets/base",
            "_model_module_version": "1.5.0",
            "_view_count": null,
            "_view_module_version": "1.2.0",
            "bar_color": null,
            "_model_module": "@jupyter-widgets/controls"
          }
        },
        "aabe7d8089914af7aecfd13ca9759b9b": {
          "model_module": "@jupyter-widgets/base",
          "model_name": "LayoutModel",
          "state": {
            "_view_name": "LayoutView",
            "grid_template_rows": null,
            "right": null,
            "justify_content": null,
            "_view_module": "@jupyter-widgets/base",
            "overflow": null,
            "_model_module_version": "1.2.0",
            "_view_count": null,
            "flex_flow": null,
            "width": null,
            "min_width": null,
            "border": null,
            "align_items": null,
            "bottom": null,
            "_model_module": "@jupyter-widgets/base",
            "top": null,
            "grid_column": null,
            "overflow_y": null,
            "overflow_x": null,
            "grid_auto_flow": null,
            "grid_area": null,
            "grid_template_columns": null,
            "flex": null,
            "_model_name": "LayoutModel",
            "justify_items": null,
            "grid_row": null,
            "max_height": null,
            "align_content": null,
            "visibility": null,
            "align_self": null,
            "height": null,
            "min_height": null,
            "padding": null,
            "grid_auto_rows": null,
            "grid_gap": null,
            "max_width": null,
            "order": null,
            "_view_module_version": "1.2.0",
            "grid_template_areas": null,
            "object_position": null,
            "object_fit": null,
            "grid_auto_columns": null,
            "margin": null,
            "display": null,
            "left": null
          }
        },
        "8464c495a6714060b40a78ef3e1e5fa9": {
          "model_module": "@jupyter-widgets/controls",
          "model_name": "DescriptionStyleModel",
          "state": {
            "_view_name": "StyleView",
            "_model_name": "DescriptionStyleModel",
            "description_width": "",
            "_view_module": "@jupyter-widgets/base",
            "_model_module_version": "1.5.0",
            "_view_count": null,
            "_view_module_version": "1.2.0",
            "_model_module": "@jupyter-widgets/controls"
          }
        },
        "a7360b223add49c79e4905864bd224dc": {
          "model_module": "@jupyter-widgets/base",
          "model_name": "LayoutModel",
          "state": {
            "_view_name": "LayoutView",
            "grid_template_rows": null,
            "right": null,
            "justify_content": null,
            "_view_module": "@jupyter-widgets/base",
            "overflow": null,
            "_model_module_version": "1.2.0",
            "_view_count": null,
            "flex_flow": null,
            "width": null,
            "min_width": null,
            "border": null,
            "align_items": null,
            "bottom": null,
            "_model_module": "@jupyter-widgets/base",
            "top": null,
            "grid_column": null,
            "overflow_y": null,
            "overflow_x": null,
            "grid_auto_flow": null,
            "grid_area": null,
            "grid_template_columns": null,
            "flex": null,
            "_model_name": "LayoutModel",
            "justify_items": null,
            "grid_row": null,
            "max_height": null,
            "align_content": null,
            "visibility": null,
            "align_self": null,
            "height": null,
            "min_height": null,
            "padding": null,
            "grid_auto_rows": null,
            "grid_gap": null,
            "max_width": null,
            "order": null,
            "_view_module_version": "1.2.0",
            "grid_template_areas": null,
            "object_position": null,
            "object_fit": null,
            "grid_auto_columns": null,
            "margin": null,
            "display": null,
            "left": null
          }
        }
      }
    }
  },
  "cells": [
    {
      "cell_type": "markdown",
      "metadata": {
        "id": "zYncZVOyF8Rb"
      },
      "source": [
        "#NEURAL NETWORKS AND DEEP LEARNING\n",
        "> M.Sc. ICT FOR LIFE AND HEALTH\n",
        "> \n",
        "> Department of Information Engineering\n",
        "\n",
        "> M.Sc. COMPUTER ENGINEERING\n",
        ">\n",
        "> Department of Information Engineering\n",
        "\n",
        "> M.Sc. AUTOMATION ENGINEERING\n",
        ">\n",
        "> Department of Information Engineering\n",
        " \n",
        "> M.Sc. PHYSICS OF DATA\n",
        ">\n",
        "> Department of Physics and Astronomy\n",
        " \n",
        "> M.Sc. COGNITIVE NEUROSCIENCE AND CLINICAL NEUROPSYCHOLOGY\n",
        ">\n",
        "> Department of General Psychology\n",
        "\n",
        "---\n",
        "A.A. 2020/21 (6 CFU) - Dr. Alberto Testolin, Dr. Matteo Gadaleta\n",
        "---\n"
      ]
    },
    {
      "cell_type": "markdown",
      "metadata": {
        "id": "AgHJFDwYvgHg"
      },
      "source": [
        "# Homework 3 - Deep Reinforcement Learning"
      ]
    },
    {
      "cell_type": "markdown",
      "metadata": {
        "id": "bNENm7RHGFMd"
      },
      "source": [
        "## General overview\n",
        "In this homework you will learn how to implement and test neural network models for solving reinforcement learning problems. The basic tasks for the homework will require to implement some extensions to the code that you have seen in the Lab. More advanced tasks will require to train and test your learning agent on a different environment. Given the higher computational complexity of RL, in this homework you don’t need to tune learning hyperparameters using search procedures and cross-validation; however, you are encouraged to play with model hyperparameters in order to find a satisfactory configuration."
      ]
    },
    {
      "cell_type": "markdown",
      "metadata": {
        "id": "bZGjMokMvk2h"
      },
      "source": [
        "\n",
        "## Technical notes\n",
        "The homework should be implemented in Python using the PyTorch framework. The student can explore additional libraries and tools to implement the models; however, please make sure you understand the code you are writing because during the exam you might receive specific questions related to your implementation. The entire source code required to run the homework must be uploaded as a compressed archive in a Moodle section dedicated to the homework. If your code will be entirely included in a single Python notebook, just upload the notebook file.\n",
        "\n",
        "As an example of more advanced libraries that can be used to implement deep RL agents, you can check this website:\n",
        "\n",
        "https://stable-baselines.readthedocs.io/en/master/\n"
      ]
    },
    {
      "cell_type": "markdown",
      "metadata": {
        "id": "UYZUBEMCvlpB"
      },
      "source": [
        "\n",
        "## Final report\n",
        "Along with the source code, you must separately upload a PDF file containing a brief report of your homework. The report should include a brief Introduction on which you explain the homework goals and the main implementation strategies you choose, a brief Method section where you describe your model architectures and hyperparameters, and a Result section where you present the simulation results. Total length must not exceed 6 pages, though you can include additional tables and figures in a final Appendix (optional). Given the dynamical nature of RL problems, you can explore more sophisticated media for showing the results of your model (e.g., animated GIFs or short movies).\n",
        "\n"
      ]
    },
    {
      "cell_type": "markdown",
      "metadata": {
        "id": "RchPc7G6vmRB"
      },
      "source": [
        "\n",
        "## Grade\n",
        "The maximum grade for this homework will be **8 points**. Points will be assigned based on the correct implementation of the following items:\n",
        "*\t2 pt: extend the notebook used in Lab 07, in order to study how the exploration profile (either using eps-greedy or softmax) impacts the learning curve. Try to tune the model hyperparameters or tweak the reward function in order to speed-up learning convergence (i.e., reach the same accuracy with fewer training episodes).\n",
        "*\t3 pt: extend the notebook used in Lab 07, in order to learn to control the CartPole environment using directly the screen pixels, rather than the compact state representation used during the Lab (cart position, cart velocity, pole angle, pole angular velocity). This will require to change the “observation_space”.\n",
        "*\t3 pt: train a deep RL agent on a different Gym environment. You are free to choose whatever Gym environment you like from the available list, or even explore other simulation platforms:\n",
        "https://gym.openai.com/envs \n"
      ]
    },
    {
      "cell_type": "markdown",
      "metadata": {
        "id": "LYE6Cjhgvm3B"
      },
      "source": [
        "\n",
        "## Deadline\n",
        "The complete homework (source code + report) must be submitted through Moodle at least 10 days before the chosen exam date."
      ]
    },
    {
      "cell_type": "code",
      "metadata": {
        "colab": {
          "base_uri": "https://localhost:8080/"
        },
        "id": "O4mPmM7puvxD",
        "outputId": "f7ee629d-37a1-4aa3-d97c-d1df4bd47fb6"
      },
      "source": [
        "!pip install gym"
      ],
      "execution_count": 1,
      "outputs": [
        {
          "output_type": "stream",
          "text": [
            "Requirement already satisfied: gym in /usr/local/lib/python3.7/dist-packages (0.17.3)\n",
            "Requirement already satisfied: scipy in /usr/local/lib/python3.7/dist-packages (from gym) (1.4.1)\n",
            "Requirement already satisfied: cloudpickle<1.7.0,>=1.2.0 in /usr/local/lib/python3.7/dist-packages (from gym) (1.3.0)\n",
            "Requirement already satisfied: numpy>=1.10.4 in /usr/local/lib/python3.7/dist-packages (from gym) (1.19.5)\n",
            "Requirement already satisfied: pyglet<=1.5.0,>=1.4.0 in /usr/local/lib/python3.7/dist-packages (from gym) (1.5.0)\n",
            "Requirement already satisfied: future in /usr/local/lib/python3.7/dist-packages (from pyglet<=1.5.0,>=1.4.0->gym) (0.16.0)\n"
          ],
          "name": "stdout"
        }
      ]
    },
    {
      "cell_type": "code",
      "metadata": {
        "id": "sLcaRpiiuqVN"
      },
      "source": [
        "import random\n",
        "import torch\n",
        "import numpy as np\n",
        "import gym\n",
        "import matplotlib.pyplot as plt\n",
        "from tqdm.notebook import tqdm\n",
        "\n",
        "from torch import nn\n",
        "from collections import deque # this python module implements exactly what we need for the replay memeory"
      ],
      "execution_count": 2,
      "outputs": []
    },
    {
      "cell_type": "markdown",
      "metadata": {
        "id": "LKzDB1SPZYY1"
      },
      "source": [
        "# Enable gym environment rendering in Colab\n",
        "\n",
        "> This section is not required if you are executing the notebook in a local environment. It enables the video generation from Gym environments, and it is only required in Colab since we do not have access to a screen.\n",
        "\n",
        "Source: https://colab.research.google.com/drive/18LdlDDT87eb8cCTHZsXyS9ksQPzL3i6H"
      ]
    },
    {
      "cell_type": "code",
      "metadata": {
        "id": "V0HIwpatSteb",
        "colab": {
          "base_uri": "https://localhost:8080/"
        },
        "outputId": "2c3ff460-de84-4362-a8a7-2cae153a3e16"
      },
      "source": [
        "!apt update\n",
        "!apt-get install python-opengl -y\n",
        "!apt install xvfb -y\n",
        "!pip install pyvirtualdisplay\n",
        "!pip install piglet"
      ],
      "execution_count": 3,
      "outputs": [
        {
          "output_type": "stream",
          "text": [
            "\u001b[33m\r0% [Working]\u001b[0m\r            \rGet:1 http://security.ubuntu.com/ubuntu bionic-security InRelease [88.7 kB]\n",
            "\u001b[33m\r0% [Connecting to archive.ubuntu.com (91.189.88.142)] [1 InRelease 14.2 kB/88.7\u001b[0m\r                                                                               \rHit:2 https://cloud.r-project.org/bin/linux/ubuntu bionic-cran40/ InRelease\n",
            "Ign:3 https://developer.download.nvidia.com/compute/cuda/repos/ubuntu1804/x86_64  InRelease\n",
            "Ign:4 https://developer.download.nvidia.com/compute/machine-learning/repos/ubuntu1804/x86_64  InRelease\n",
            "Get:5 https://developer.download.nvidia.com/compute/cuda/repos/ubuntu1804/x86_64  Release [697 B]\n",
            "Hit:6 http://ppa.launchpad.net/c2d4u.team/c2d4u4.0+/ubuntu bionic InRelease\n",
            "Hit:7 https://developer.download.nvidia.com/compute/machine-learning/repos/ubuntu1804/x86_64  Release\n",
            "Get:8 https://developer.download.nvidia.com/compute/cuda/repos/ubuntu1804/x86_64  Release.gpg [836 B]\n",
            "Hit:9 http://archive.ubuntu.com/ubuntu bionic InRelease\n",
            "Get:10 http://archive.ubuntu.com/ubuntu bionic-updates InRelease [88.7 kB]\n",
            "Hit:11 http://ppa.launchpad.net/cran/libgit2/ubuntu bionic InRelease\n",
            "Get:12 http://ppa.launchpad.net/deadsnakes/ppa/ubuntu bionic InRelease [15.9 kB]\n",
            "Get:13 http://security.ubuntu.com/ubuntu bionic-security/universe amd64 Packages [1,415 kB]\n",
            "Get:14 http://archive.ubuntu.com/ubuntu bionic-backports InRelease [74.6 kB]\n",
            "Hit:15 http://ppa.launchpad.net/graphics-drivers/ppa/ubuntu bionic InRelease\n",
            "Get:16 http://security.ubuntu.com/ubuntu bionic-security/main amd64 Packages [2,185 kB]\n",
            "Ign:18 https://developer.download.nvidia.com/compute/cuda/repos/ubuntu1804/x86_64  Packages\n",
            "Get:18 https://developer.download.nvidia.com/compute/cuda/repos/ubuntu1804/x86_64  Packages [599 kB]\n",
            "Get:19 http://archive.ubuntu.com/ubuntu bionic-updates/main amd64 Packages [2,619 kB]\n",
            "Get:20 http://ppa.launchpad.net/deadsnakes/ppa/ubuntu bionic/main amd64 Packages [40.9 kB]\n",
            "Get:21 http://archive.ubuntu.com/ubuntu bionic-updates/universe amd64 Packages [2,185 kB]\n",
            "Fetched 9,312 kB in 3s (2,810 kB/s)\n",
            "Reading package lists... Done\n",
            "Building dependency tree       \n",
            "Reading state information... Done\n",
            "49 packages can be upgraded. Run 'apt list --upgradable' to see them.\n",
            "Reading package lists... Done\n",
            "Building dependency tree       \n",
            "Reading state information... Done\n",
            "Suggested packages:\n",
            "  libgle3\n",
            "The following NEW packages will be installed:\n",
            "  python-opengl\n",
            "0 upgraded, 1 newly installed, 0 to remove and 49 not upgraded.\n",
            "Need to get 496 kB of archives.\n",
            "After this operation, 5,416 kB of additional disk space will be used.\n",
            "Get:1 http://archive.ubuntu.com/ubuntu bionic/universe amd64 python-opengl all 3.1.0+dfsg-1 [496 kB]\n",
            "Fetched 496 kB in 1s (586 kB/s)\n",
            "Selecting previously unselected package python-opengl.\n",
            "(Reading database ... 160772 files and directories currently installed.)\n",
            "Preparing to unpack .../python-opengl_3.1.0+dfsg-1_all.deb ...\n",
            "Unpacking python-opengl (3.1.0+dfsg-1) ...\n",
            "Setting up python-opengl (3.1.0+dfsg-1) ...\n",
            "Reading package lists... Done\n",
            "Building dependency tree       \n",
            "Reading state information... Done\n",
            "The following NEW packages will be installed:\n",
            "  xvfb\n",
            "0 upgraded, 1 newly installed, 0 to remove and 49 not upgraded.\n",
            "Need to get 784 kB of archives.\n",
            "After this operation, 2,270 kB of additional disk space will be used.\n",
            "Get:1 http://archive.ubuntu.com/ubuntu bionic-updates/universe amd64 xvfb amd64 2:1.19.6-1ubuntu4.9 [784 kB]\n",
            "Fetched 784 kB in 1s (813 kB/s)\n",
            "Selecting previously unselected package xvfb.\n",
            "(Reading database ... 163127 files and directories currently installed.)\n",
            "Preparing to unpack .../xvfb_2%3a1.19.6-1ubuntu4.9_amd64.deb ...\n",
            "Unpacking xvfb (2:1.19.6-1ubuntu4.9) ...\n",
            "Setting up xvfb (2:1.19.6-1ubuntu4.9) ...\n",
            "Processing triggers for man-db (2.8.3-2ubuntu0.1) ...\n",
            "Collecting pyvirtualdisplay\n",
            "  Downloading https://files.pythonhosted.org/packages/79/30/e99e0c480a858410757e7516958e149285ea08ed6c9cfe201ed0aa12cee2/PyVirtualDisplay-2.2-py3-none-any.whl\n",
            "Collecting EasyProcess\n",
            "  Downloading https://files.pythonhosted.org/packages/48/3c/75573613641c90c6d094059ac28adb748560d99bd27ee6f80cce398f404e/EasyProcess-0.3-py2.py3-none-any.whl\n",
            "Installing collected packages: EasyProcess, pyvirtualdisplay\n",
            "Successfully installed EasyProcess-0.3 pyvirtualdisplay-2.2\n",
            "Collecting piglet\n",
            "  Downloading https://files.pythonhosted.org/packages/11/56/6840e5f45626dc7eb7cd5dff57d11880b3113723b3b7b1fb1fa537855b75/piglet-1.0.0-py2.py3-none-any.whl\n",
            "Collecting piglet-templates\n",
            "\u001b[?25l  Downloading https://files.pythonhosted.org/packages/f1/cc/bad8acca362189a05a58523f376d24a0a2578a0e386e34e969310ced3100/piglet_templates-1.2.0-py3-none-any.whl (67kB)\n",
            "\u001b[K     |████████████████████████████████| 71kB 3.5MB/s \n",
            "\u001b[?25hRequirement already satisfied: markupsafe in /usr/local/lib/python3.7/dist-packages (from piglet-templates->piglet) (2.0.1)\n",
            "Requirement already satisfied: pyparsing in /usr/local/lib/python3.7/dist-packages (from piglet-templates->piglet) (2.4.7)\n",
            "Requirement already satisfied: attrs in /usr/local/lib/python3.7/dist-packages (from piglet-templates->piglet) (21.2.0)\n",
            "Requirement already satisfied: astunparse in /usr/local/lib/python3.7/dist-packages (from piglet-templates->piglet) (1.6.3)\n",
            "Requirement already satisfied: wheel<1.0,>=0.23.0 in /usr/local/lib/python3.7/dist-packages (from astunparse->piglet-templates->piglet) (0.36.2)\n",
            "Requirement already satisfied: six<2.0,>=1.6.1 in /usr/local/lib/python3.7/dist-packages (from astunparse->piglet-templates->piglet) (1.15.0)\n",
            "Installing collected packages: piglet-templates, piglet\n",
            "Successfully installed piglet-1.0.0 piglet-templates-1.2.0\n"
          ],
          "name": "stdout"
        }
      ]
    },
    {
      "cell_type": "code",
      "metadata": {
        "id": "jxM-vHKz1r_M"
      },
      "source": [
        "import glob\n",
        "import io\n",
        "import base64\n",
        "import os\n",
        "from IPython.display import HTML\n",
        "from IPython import display as ipythondisplay\n",
        "from pyvirtualdisplay import Display\n",
        "from gym.wrappers import Monitor"
      ],
      "execution_count": 4,
      "outputs": []
    },
    {
      "cell_type": "code",
      "metadata": {
        "id": "E0oXbzI2ZAfv",
        "colab": {
          "base_uri": "https://localhost:8080/"
        },
        "outputId": "91205530-95ee-468b-ace3-ebf36a644635"
      },
      "source": [
        "display = Display(visible=0, size=(1400, 900))\n",
        "display.start()"
      ],
      "execution_count": 5,
      "outputs": [
        {
          "output_type": "execute_result",
          "data": {
            "text/plain": [
              "<pyvirtualdisplay.display.Display at 0x7f60089a7650>"
            ]
          },
          "metadata": {
            "tags": []
          },
          "execution_count": 5
        }
      ]
    },
    {
      "cell_type": "code",
      "metadata": {
        "id": "yr5j5rz0ZEJf"
      },
      "source": [
        "# This code creates a virtual display to draw game images on. \n",
        "# If you are running locally, just ignore it\n",
        "if type(os.environ.get(\"DISPLAY\")) is not str or len(os.environ.get(\"DISPLAY\"))==0:\n",
        "    !bash ../xvfb start\n",
        "    %env DISPLAY=:1"
      ],
      "execution_count": 6,
      "outputs": []
    },
    {
      "cell_type": "code",
      "metadata": {
        "id": "StaxWEA0Z-O1"
      },
      "source": [
        "\"\"\"\n",
        "Utility functions to enable video recording of gym environment and displaying it\n",
        "To enable video, just do \"env = wrap_env(env)\"\"\n",
        "\"\"\"\n",
        "\n",
        "def show_videos():\n",
        "  mp4list = glob.glob('video/*.mp4')\n",
        "  mp4list.sort()\n",
        "  for mp4 in mp4list:\n",
        "    print(f\"\\nSHOWING VIDEO {mp4}\")\n",
        "    video = io.open(mp4, 'r+b').read()\n",
        "    encoded = base64.b64encode(video)\n",
        "    ipythondisplay.display(HTML(data='''<video alt=\"test\" autoplay \n",
        "                loop controls style=\"height: 400px;\">\n",
        "                <source src=\"data:video/mp4;base64,{0}\" type=\"video/mp4\" />\n",
        "             </video>'''.format(encoded.decode('ascii'))))\n",
        "    \n",
        "def wrap_env(env, video_callable=None):\n",
        "  env = Monitor(env, './video', force=True, video_callable=video_callable)\n",
        "  return env"
      ],
      "execution_count": 7,
      "outputs": []
    },
    {
      "cell_type": "markdown",
      "metadata": {
        "id": "wA_0gAmJfFlT"
      },
      "source": [
        "## Experience replay (Replay Memory)"
      ]
    },
    {
      "cell_type": "markdown",
      "metadata": {
        "id": "dqPUYNrpZhPw"
      },
      "source": [
        "\"*To perform experience replay, we store the agent's experiences e_t=(s_t,a_t,r_t,s_t+1) at each time-step t in a data set D_t={e_1,…,e_t}. During learning, we apply Q-learning updates, on samples (or mini-batches) of experience (s,a,r,s′)∼U(D), drawn uniformly at random from the pool of stored samples.*\"\n",
        "\n",
        "Source: https://www.nature.com/articles/nature14236\n",
        "\n",
        "In practice, what we need is a queue with a predefined capacity. When we reach the maximum capacity, the oldest element in the queue will be replaced with the new one.\n",
        "\n",
        "This exact behavior is implemented by the `deque` object from the python `collections` library (https://docs.python.org/3/library/collections.html#collections.deque):\n",
        "\n",
        "\"*If maxlen is not specified or is None, deques may grow to an arbitrary length. Otherwise, the deque is bounded to the specified maximum length. Once a bounded length deque is full, when new items are added, a corresponding number of items are discarded from the opposite end.*\"\n",
        "\n",
        "The random sampling can be easily achieved using the `random.sample` method (https://docs.python.org/3/library/random.html). "
      ]
    },
    {
      "cell_type": "code",
      "metadata": {
        "id": "1axKWEBl8uik"
      },
      "source": [
        "class ReplayMemory(object):\n",
        "\n",
        "    def __init__(self, capacity):\n",
        "        self.memory = deque(maxlen=capacity) # Define a queue with maxlen \"capacity\"\n",
        "\n",
        "    def push(self, state, action, next_state, reward):\n",
        "        self.memory.append( (state, action, next_state, reward) ) # Add the tuple (state, action, next_state, reward) to the queue\n",
        "\n",
        "    def sample(self, batch_size):\n",
        "        batch_size = min(batch_size, len(self)) # Get all the samples if the requested batch_size is higher than the number of sample currently in the memory\n",
        "        return random.sample(self.memory, batch_size) # Randomly select \"batch_size\" samples\n",
        "\n",
        "    def __len__(self):\n",
        "        return len(self.memory) # Return the number of samples currently stored in the memory"
      ],
      "execution_count": 8,
      "outputs": []
    },
    {
      "cell_type": "markdown",
      "metadata": {
        "id": "74v3ChPPqox3"
      },
      "source": [
        "Test if it works as expected."
      ]
    },
    {
      "cell_type": "code",
      "metadata": {
        "id": "mtwQjNqjaT4E",
        "colab": {
          "base_uri": "https://localhost:8080/"
        },
        "outputId": "287e5c7c-fc28-48e2-98e7-1cf0839190b0"
      },
      "source": [
        "# Define the replay memory\n",
        "replay_mem = ReplayMemory(capacity=3)\n",
        "\n",
        "# Push some samples\n",
        "print(f\"CURRENT MEMORY SIZE: {len(replay_mem)}\")\n",
        "replay_mem.push(1,1,1,1)\n",
        "print(f\"CURRENT MEMORY SIZE: {len(replay_mem)}\")\n",
        "replay_mem.push(2,2,2,2)\n",
        "print(f\"CURRENT MEMORY SIZE: {len(replay_mem)}\")\n",
        "replay_mem.push(3,3,3,3)\n",
        "print(f\"CURRENT MEMORY SIZE: {len(replay_mem)}\")\n",
        "replay_mem.push(4,4,4,4)\n",
        "print(f\"CURRENT MEMORY SIZE: {len(replay_mem)}\")\n",
        "replay_mem.push(5,5,5,5)\n",
        "print(f\"CURRENT MEMORY SIZE: {len(replay_mem)}\")\n",
        "\n",
        "# Check the content of the memory\n",
        "print('\\nCONTENT OF THE MEMORY')\n",
        "print(replay_mem.memory)\n",
        "\n",
        "# Random sample\n",
        "print('\\nRANDOM SAMPLING')\n",
        "for i in range(5):\n",
        "  print(replay_mem.sample(2)) # Select 2 samples randomly from the memory"
      ],
      "execution_count": 9,
      "outputs": [
        {
          "output_type": "stream",
          "text": [
            "CURRENT MEMORY SIZE: 0\n",
            "CURRENT MEMORY SIZE: 1\n",
            "CURRENT MEMORY SIZE: 2\n",
            "CURRENT MEMORY SIZE: 3\n",
            "CURRENT MEMORY SIZE: 3\n",
            "CURRENT MEMORY SIZE: 3\n",
            "\n",
            "CONTENT OF THE MEMORY\n",
            "deque([(3, 3, 3, 3), (4, 4, 4, 4), (5, 5, 5, 5)], maxlen=3)\n",
            "\n",
            "RANDOM SAMPLING\n",
            "[(3, 3, 3, 3), (4, 4, 4, 4)]\n",
            "[(3, 3, 3, 3), (5, 5, 5, 5)]\n",
            "[(5, 5, 5, 5), (4, 4, 4, 4)]\n",
            "[(3, 3, 3, 3), (5, 5, 5, 5)]\n",
            "[(5, 5, 5, 5), (4, 4, 4, 4)]\n"
          ],
          "name": "stdout"
        }
      ]
    },
    {
      "cell_type": "markdown",
      "metadata": {
        "id": "Y-nBdx6KfKNE"
      },
      "source": [
        "## Policy network"
      ]
    },
    {
      "cell_type": "markdown",
      "metadata": {
        "id": "vt2uYYCSrL8q"
      },
      "source": [
        "The policy network takes a state as input, and provides the Q-value for each of the possible actions.\n",
        "\n",
        "Let's define a simple generic fully-connected feed forward network with `state_space_dim` inputs and `action_space_dim` outputs (e.g. 2 hidden layers with 64 neurons each). \n",
        "\n",
        "Be sure to keep a linear output activation."
      ]
    },
    {
      "cell_type": "markdown",
      "metadata": {
        "id": "-rdsRx6wfZw1"
      },
      "source": [
        "### Network definition"
      ]
    },
    {
      "cell_type": "code",
      "metadata": {
        "id": "W41rXekb8x7K"
      },
      "source": [
        "class DQN(nn.Module):\n",
        "\n",
        "    def __init__(self, state_space_dim, action_space_dim):\n",
        "        super().__init__()\n",
        "\n",
        "        self.linear = nn.Sequential(\n",
        "                nn.Linear(state_space_dim, 128),\n",
        "                nn.Tanh(),\n",
        "                nn.Linear(128, 128),\n",
        "                nn.Tanh(),\n",
        "                nn.Linear(128, action_space_dim)\n",
        "                )\n",
        "\n",
        "    def forward(self, x):\n",
        "        return self.linear(x)"
      ],
      "execution_count": 10,
      "outputs": []
    },
    {
      "cell_type": "code",
      "metadata": {
        "id": "tLPAsTT4gpeW"
      },
      "source": [
        "# Define an example network\n",
        "net = DQN(state_space_dim=4, action_space_dim=2)"
      ],
      "execution_count": 11,
      "outputs": []
    },
    {
      "cell_type": "markdown",
      "metadata": {
        "id": "ynfEXqjGfbpl"
      },
      "source": [
        "### Exploration Policy"
      ]
    },
    {
      "cell_type": "markdown",
      "metadata": {
        "id": "b1Hs7GrEw5FW"
      },
      "source": [
        "Starting from the estimated Q-values, we need to choose the proper action. This action may be the one expected to provide the highest long term reward (exploitation), or maybe we want to find a better policy by choosing a different action (exploration).\n",
        "\n",
        "The exploration policy controls this behavior, typically by varying a single parameter.\n",
        "\n",
        "Since our Q-values estimates are far from the true values at the beginning of the training, a high exploration is preferred in the initial phase.\n",
        "\n",
        "The steps are:\n",
        "\n",
        "`Current state -> Policy network -> Q-values -> Exploration Policy -> Action`"
      ]
    },
    {
      "cell_type": "markdown",
      "metadata": {
        "id": "3x-kRJbQfqBR"
      },
      "source": [
        "#### Epsilon-greedy policy\n"
      ]
    },
    {
      "cell_type": "markdown",
      "metadata": {
        "id": "RFVPF0aMy3be"
      },
      "source": [
        "With an epsilon-greedy policy we choose a **non optimal** action with probability epsilon, otherwise choose the best action (the one corresponding to the highest Q-value)."
      ]
    },
    {
      "cell_type": "code",
      "metadata": {
        "id": "ZXfh_Ub1fv4c"
      },
      "source": [
        "def choose_action_epsilon_greedy(net, state, epsilon):\n",
        "    \n",
        "    if epsilon > 1 or epsilon < 0:\n",
        "        raise Exception('The epsilon value must be between 0 and 1')\n",
        "                \n",
        "    # Evaluate the network output from the current state\n",
        "    with torch.no_grad():\n",
        "        net.eval()\n",
        "        state = torch.tensor(state, dtype=torch.float32) # Convert the state to tensor\n",
        "        net_out = net(state)\n",
        "\n",
        "    # Get the best action (argmax of the network output)\n",
        "    best_action = int(net_out.argmax())\n",
        "    # Get the number of possible actions\n",
        "    action_space_dim = net_out.shape[-1]\n",
        "\n",
        "    # Select a non optimal action with probability epsilon, otherwise choose the best action\n",
        "    if random.random() < epsilon:\n",
        "        # List of non-optimal actions\n",
        "        non_optimal_actions = [a for a in range(action_space_dim) if a != best_action]\n",
        "        # Select randomly\n",
        "        action = random.choice(non_optimal_actions)\n",
        "    else:\n",
        "        # Select best action\n",
        "        action = best_action\n",
        "        \n",
        "    return action, net_out.numpy()"
      ],
      "execution_count": 12,
      "outputs": []
    },
    {
      "cell_type": "code",
      "metadata": {
        "id": "nklFJdMoiDVo",
        "colab": {
          "base_uri": "https://localhost:8080/"
        },
        "outputId": "c63b0ccd-5eea-4da9-85ad-f71bf4620f39"
      },
      "source": [
        "# Test if it works as expected\n",
        "state = (0, 0, 0, 0)\n",
        "epsilon = 0.5\n",
        "chosen_action, q_values = choose_action_epsilon_greedy(net, state, epsilon)\n",
        "\n",
        "print(f\"ACTION: {chosen_action}\")\n",
        "print(f\"Q-VALUES: {q_values}\")"
      ],
      "execution_count": 13,
      "outputs": [
        {
          "output_type": "stream",
          "text": [
            "ACTION: 0\n",
            "Q-VALUES: [0.05391712 0.1893811 ]\n"
          ],
          "name": "stdout"
        }
      ]
    },
    {
      "cell_type": "markdown",
      "metadata": {
        "id": "Vvxi7b82f0g4"
      },
      "source": [
        "#### Softmax policy"
      ]
    },
    {
      "cell_type": "markdown",
      "metadata": {
        "id": "8I0r6m-p1UQG"
      },
      "source": [
        "With a softmax policy we choose the action based on a distribution obtained applying a softmax (with temperature $\\tau$) to the estimated Q-values. The highest the temperature, the more the distribution will converge to a random uniform distribution. At zero temperature, instead, the policy will always choose the action with the highest Q-value.\n",
        "\n",
        "> **HINT**\n",
        ">\n",
        "> To sample from a random (discrete) distribution you can use the numpy function `numpy.random.choice` (https://docs.scipy.org/doc//numpy-1.10.4/reference/generated/numpy.random.choice.html), by setting the parameter `p` properly.\n",
        "\n",
        "> **HINT**\n",
        ">\n",
        "> Even if the PyTorch softmax function does not support the temperature parameter directly, you can still use it and apply the temperature outside the function. Just look carefully at the softmax formula in the slide above.\n",
        "\n",
        "> **HINT**\n",
        ">\n",
        "> The softmax function may be numerically unstable with very low temperature values. In practice, it is suggested to set a minimum value for the temperature (e.g. 1e-8)."
      ]
    },
    {
      "cell_type": "code",
      "metadata": {
        "id": "taW_cjBsf4sW"
      },
      "source": [
        "def choose_action_softmax(net, state, temperature):\n",
        "    \n",
        "    if temperature < 0:\n",
        "        raise Exception('The temperature value must be greater than or equal to 0 ')\n",
        "        \n",
        "    # If the temperature is 0, just select the best action using the eps-greedy policy with epsilon = 0\n",
        "    if temperature == 0:\n",
        "        return choose_action_epsilon_greedy(net, state, 0)\n",
        "    \n",
        "    # Evaluate the network output from the current state\n",
        "    with torch.no_grad():\n",
        "        net.eval()\n",
        "        state = torch.tensor(state, dtype=torch.float32)\n",
        "        net_out = net(state)\n",
        "\n",
        "    # Apply softmax with temp\n",
        "    temperature = max(temperature, 1e-8) # set a minimum to the temperature for numerical stability\n",
        "    softmax_out = nn.functional.softmax(net_out / temperature, dim=0).numpy()\n",
        "                \n",
        "    # Sample the action using softmax output as mass pdf\n",
        "    all_possible_actions = np.arange(0, softmax_out.shape[-1])\n",
        "    action = np.random.choice(all_possible_actions, p=softmax_out) # this samples a random element from \"all_possible_actions\" with the probability distribution p (softmax_out in this case)\n",
        "    \n",
        "    return action, net_out.numpy()"
      ],
      "execution_count": 14,
      "outputs": []
    },
    {
      "cell_type": "code",
      "metadata": {
        "id": "CAIMqC5kldtB",
        "colab": {
          "base_uri": "https://localhost:8080/"
        },
        "outputId": "870e439d-d307-4f89-cba4-96433748f3a6"
      },
      "source": [
        "state = (0, 0, 0, 0)\n",
        "temperature = 1\n",
        "chosen_action, q_values = choose_action_softmax(net, state, temperature)\n",
        "\n",
        "print(f\"ACTION: {chosen_action}\")\n",
        "print(f\"Q-VALUES: {q_values}\")"
      ],
      "execution_count": 15,
      "outputs": [
        {
          "output_type": "stream",
          "text": [
            "ACTION: 1\n",
            "Q-VALUES: [0.05391712 0.1893811 ]\n"
          ],
          "name": "stdout"
        }
      ]
    },
    {
      "cell_type": "markdown",
      "metadata": {
        "id": "QMXhJfZcpqIA"
      },
      "source": [
        "#### Exploration profile"
      ]
    },
    {
      "cell_type": "markdown",
      "metadata": {
        "id": "7rOvTpcbMPnR"
      },
      "source": [
        "Let's consider, for example, an exponentially decreasing exploration profile using a softmax policy.\n",
        "\n",
        "$$\n",
        "\\text{softmax_temperature}  = \\text{initial_temperature} * \\text{exp_decay}^i \\qquad \\text{for $i$ = 1, 2, ..., num_iterations } \n",
        "$$\n",
        "\n",
        "Alternatively, you can consider an epsilon greedy policy. In this case the exploration would be controlled by the epsilon parameter, for which you should consider a different initial value (max 1). "
      ]
    },
    {
      "cell_type": "code",
      "metadata": {
        "id": "G-f78CC3ptt2",
        "colab": {
          "base_uri": "https://localhost:8080/",
          "height": 515
        },
        "outputId": "ffdfb39a-2456-4f43-b3fe-4c91dc604581"
      },
      "source": [
        "### Define exploration profile\n",
        "initial_value = 5\n",
        "num_iterations = 1000\n",
        "exp_decay = np.exp(-np.log(initial_value) / num_iterations * 6) # We compute the exponential decay in such a way the shape of the exploration profile does not depend on the number of iterations\n",
        "exploration_profile = [initial_value * (exp_decay ** i) for i in range(num_iterations)]\n",
        "\n",
        "### Plot exploration profile\n",
        "plt.figure(figsize=(12,8))\n",
        "plt.plot(exploration_profile)\n",
        "plt.grid()\n",
        "plt.xlabel('Iteration')\n",
        "plt.ylabel('Exploration profile (Softmax temperature)')"
      ],
      "execution_count": 16,
      "outputs": [
        {
          "output_type": "execute_result",
          "data": {
            "text/plain": [
              "Text(0, 0.5, 'Exploration profile (Softmax temperature)')"
            ]
          },
          "metadata": {
            "tags": []
          },
          "execution_count": 16
        },
        {
          "output_type": "display_data",
          "data": {
            "image/png": "[encoded data removed]",
            "text/plain": [
              "<Figure size 864x576 with 1 Axes>"
            ]
          },
          "metadata": {
            "tags": [],
            "needs_background": "light"
          }
        }
      ]
    },
    {
      "cell_type": "markdown",
      "metadata": {
        "id": "pS4wcptHuq7j"
      },
      "source": [
        "# CartPole in Gym environment"
      ]
    },
    {
      "cell_type": "markdown",
      "metadata": {
        "id": "uC_cbOXjEJlb"
      },
      "source": [
        "A pole is attached by an un-actuated joint to a cart, which moves along a frictionless track. The system is controlled by applying a force of +1 or -1 to the cart. The pendulum starts upright, and the goal is to prevent it from falling over. A reward of +1 is provided for every timestep that the pole remains upright. The episode ends when the pole is more than 15 degrees from vertical, or the cart moves more than 2.4 units from the center.\n",
        "\n",
        "https://gym.openai.com/envs/CartPole-v1/"
      ]
    },
    {
      "cell_type": "markdown",
      "metadata": {
        "id": "9FmV7DVqEikG"
      },
      "source": [
        "![image.png](data:image/png;base64,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)"
      ]
    },
    {
      "cell_type": "code",
      "metadata": {
        "id": "Ar0yNaNrCnjn",
        "colab": {
          "base_uri": "https://localhost:8080/"
        },
        "outputId": "1003a23d-14a0-4646-bfc4-b01eeed7d3b1"
      },
      "source": [
        "### Create environment\n",
        "env = gym.make('CartPole-v1') # Initialize the Gym environment\n",
        "env.seed(0) # Set a random seed for the environment (reproducible results)\n",
        "\n",
        "# Get the shapes of the state space (observation_space) and action space (action_space)\n",
        "state_space_dim = env.observation_space.shape[0]\n",
        "action_space_dim = env.action_space.n\n",
        "\n",
        "print(f\"STATE SPACE SIZE: {state_space_dim}\")\n",
        "print(f\"ACTION SPACE SIZE: {action_space_dim}\")"
      ],
      "execution_count": 17,
      "outputs": [
        {
          "output_type": "stream",
          "text": [
            "STATE SPACE SIZE: 4\n",
            "ACTION SPACE SIZE: 2\n"
          ],
          "name": "stdout"
        }
      ]
    },
    {
      "cell_type": "markdown",
      "metadata": {
        "id": "GR0X30SQwwC7"
      },
      "source": [
        "## Random agent"
      ]
    },
    {
      "cell_type": "markdown",
      "metadata": {
        "id": "eJP0ggFyOLLG"
      },
      "source": [
        "First of all, to check that the environment is working properly, let's try with an agent which simply choose an action randomly."
      ]
    },
    {
      "cell_type": "code",
      "metadata": {
        "id": "2g4NatpgSpbc",
        "colab": {
          "base_uri": "https://localhost:8080/"
        },
        "outputId": "abf599e7-f64b-4cea-9f43-45fd7b68ef32"
      },
      "source": [
        "# Initialize the Gym environment\n",
        "env = gym.make('CartPole-v1') \n",
        "env.seed(0) # Set a random seed for the environment (reproducible results)\n",
        "\n",
        "# This is for creating the output video in Colab, not required outside Colab\n",
        "env = wrap_env(env, video_callable=lambda episode_id: True)\n",
        "\n",
        "# Let's try for a total of 10 episodes\n",
        "for num_episode in range(10): \n",
        "    # Reset the environment and get the initial state\n",
        "    state = env.reset()\n",
        "    # Reset the score. The final score will be the total amount of steps before the pole falls\n",
        "    score = 0\n",
        "    done = False\n",
        "    # Go on until the pole falls off or the score reach 490\n",
        "    while not done and score < 490:\n",
        "      # Choose a random action\n",
        "      action = random.choice([0, 1])\n",
        "      # Apply the action and get the next state, the reward and a flag \"done\" that is True if the game is ended\n",
        "      next_state, reward, done, info = env.step(action)\n",
        "      # Visually render the environment (optional, comment this line to speed up the simulation)\n",
        "      env.render()\n",
        "      # Update the final score (+1 for each step)\n",
        "      score += reward \n",
        "      # Set the current state for the next iteration\n",
        "      state = next_state\n",
        "      # Check if the episode ended (the pole fell down)\n",
        "    # Print the final score\n",
        "    print(f\"EPISODE {num_episode + 1} - FINAL SCORE: {score}\") \n",
        "\n",
        "env.close()\n"
      ],
      "execution_count": 18,
      "outputs": [
        {
          "output_type": "stream",
          "text": [
            "EPISODE 1 - FINAL SCORE: 36.0\n",
            "EPISODE 2 - FINAL SCORE: 19.0\n",
            "EPISODE 3 - FINAL SCORE: 24.0\n",
            "EPISODE 4 - FINAL SCORE: 27.0\n",
            "EPISODE 5 - FINAL SCORE: 66.0\n",
            "EPISODE 6 - FINAL SCORE: 21.0\n",
            "EPISODE 7 - FINAL SCORE: 24.0\n",
            "EPISODE 8 - FINAL SCORE: 47.0\n",
            "EPISODE 9 - FINAL SCORE: 33.0\n",
            "EPISODE 10 - FINAL SCORE: 17.0\n"
          ],
          "name": "stdout"
        }
      ]
    },
    {
      "cell_type": "code",
      "metadata": {
        "id": "AnX-nFLiVPH6",
        "colab": {
          "base_uri": "https://localhost:8080/",
          "height": 1000
        },
        "outputId": "66254c04-390e-4bd9-cbb0-0d90325a2336"
      },
      "source": [
        "# Display the videos, not required outside Colab\n",
        "show_videos()"
      ],
      "execution_count": 19,
      "outputs": [
        {
          "output_type": "stream",
          "text": [
            "\n",
            "SHOWING VIDEO video/openaigym.video.0.62.video000000.mp4\n"
          ],
          "name": "stdout"
        },
        {
          "output_type": "display_data",
          "data": {
            "text/html": [
              "<video alt=\"test\" autoplay \n",
              "                loop controls style=\"height: 400px;\">\n",
              "                <source src=\"data:video/mp4;base64,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\" type=\"video/mp4\" />\n",
              "             </video>"
            ],
            "text/plain": [
              "<IPython.core.display.HTML object>"
            ]
          },
          "metadata": {
            "tags": []
          }
        },
        {
          "output_type": "stream",
          "text": [
            "\n",
            "SHOWING VIDEO video/openaigym.video.0.62.video000001.mp4\n"
          ],
          "name": "stdout"
        },
        {
          "output_type": "display_data",
          "data": {
            "text/html": [
              "<video alt=\"test\" autoplay \n",
              "                loop controls style=\"height: 400px;\">\n",
              "                <source src=\"data:video/mp4;base64,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\" type=\"video/mp4\" />\n",
              "             </video>"
            ],
            "text/plain": [
              "<IPython.core.display.HTML object>"
            ]
          },
          "metadata": {
            "tags": []
          }
        },
        {
          "output_type": "stream",
          "text": [
            "\n",
            "SHOWING VIDEO video/openaigym.video.0.62.video000002.mp4\n"
          ],
          "name": "stdout"
        },
        {
          "output_type": "display_data",
          "data": {
            "text/html": [
              "<video alt=\"test\" autoplay \n",
              "                loop controls style=\"height: 400px;\">\n",
              "                <source src=\"data:video/mp4;base64,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\" type=\"video/mp4\" />\n",
              "             </video>"
            ],
            "text/plain": [
              "<IPython.core.display.HTML object>"
            ]
          },
          "metadata": {
            "tags": []
          }
        },
        {
          "output_type": "stream",
          "text": [
            "\n",
            "SHOWING VIDEO video/openaigym.video.0.62.video000003.mp4\n"
          ],
          "name": "stdout"
        },
        {
          "output_type": "display_data",
          "data": {
            "text/html": [
              "<video alt=\"test\" autoplay \n",
              "                loop controls style=\"height: 400px;\">\n",
              "                <source src=\"data:video/mp4;base64,AAAAIGZ0eXBpc29tAAACAGlzb21pc28yYXZjMW1wNDEAAAAIZnJlZQAADzttZGF0AAACrgYF//+q3EXpvebZSLeWLNgg2SPu73gyNjQgLSBjb3JlIDE1MiByMjg1NCBlOWE1OTAzIC0gSC4yNjQvTVBFRy00IEFWQyBjb2RlYyAtIENvcHlsZWZ0IDIwMDMtMjAxNyAtIGh0dHA6Ly93d3cudmlkZW9sYW4ub3JnL3gyNjQuaHRtbCAtIG9wdGlvbnM6IGNhYmFjPTEgcmVmPTMgZGVibG9jaz0xOjA6MCBhbmFseXNlPTB4MzoweDExMyBtZT1oZXggc3VibWU9NyBwc3k9MSBwc3lfcmQ9MS4wMDowLjAwIG1peGVkX3JlZj0xIG1lX3JhbmdlPTE2IGNocm9tYV9tZT0xIHRyZWxsaXM9MSA4eDhkY3Q9MSBjcW09MCBkZWFkem9uZT0yMSwxMSBmYXN0X3Bza2lwPTEgY2hyb21hX3FwX29mZnNldD0tMiB0aHJlYWRzPTMgbG9va2FoZWFkX3RocmVhZHM9MSBzbGljZWRfdGhyZWFkcz0wIG5yPTAgZGVjaW1hdGU9MSBpbnRlcmxhY2VkPTAgYmx1cmF5X2NvbXBhdD0wIGNvbnN0cmFpbmVkX2ludHJhPTAgYmZyYW1lcz0zIGJfcHlyYW1pZD0yIGJfYWRhcHQ9MSBiX2JpYXM9MCBkaXJlY3Q9MSB3ZWlnaHRiPTEgb3Blbl9nb3A9MCB3ZWlnaHRwPTIga2V5aW50PTI1MCBrZXlpbnRfbWluPTI1IHNjZW5lY3V0PTQwIGludHJhX3JlZnJlc2g9MCByY19sb29rYWhlYWQ9NDAgcmM9Y3JmIG1idHJlZT0xIGNyZj0yMy4wIHFjb21wPTAuNjAgcXBtaW49MCBxcG1heD02OSBxcHN0ZXA9NCBpcF9yYXRpbz0xLjQwIGFxPTE6MS4wMACAAAACM2WIhAAz//727L4FNf2f0JcRLMXaSnA+KqSAgHc0wAAAAwAAAwAAFgn0I7DkqgN3QAAAHGAFBCwCPCVC2EhH2OkN/wOssgDk3lJdcNpbXyR+zg8Sa0x1LHq2r4L7nyjHIQn0ylyIenIxBw4bmZJrMD/zBIrjCEQnvM63mIzKFizNj7Sxti7me+CGqAORLf+5Ra1FM+taCPuTfFE+Q+40RvhyvmDWgX9bJWsUx/RF4O2X2pGI2SCvKN4euiPFVwq0d69lIejdFORTDhDDteIhN71e1cFr6PvktAAtHciy22za8jbCpLN34cLRJkNYxPBs5ibAbx70+VDUA3Cp1kKvBBSZz8uXMMGpBAs2IeVwp0DQEn9ON/fknwd8YZL8RsxVLZJZArwllA9qKHwtPgwyy6C1X1wx4Zop7CBykrs57NF7DVAhpQA4c7r8RReDGnHeUDfq5lA18cBIqxdqsLpbTwpkZT7OwdC3QVrhi2P6uPJU/j7aw+Eei3YVrbxQm4n27AXsLmso1hGvYFedoOqzQaiZztPKQfKLfBLbsrWL/HRMQMwBsdAo6ZRmuOa7o469ebD2tKFqbCTGKBteF585ulx+ZCDCpyrqis6o6Yl3D+ZQyBH1OP5e+ABEADItEO5u7TgYed8ZllW9EPjpkfSDonnmikYARkNdzHrejE2HDD6IG+LDFMEs5YurALvnielvettLFDMC6EzSlylOzVdzdUfH/qHey6g2fwyAAAADAAADABPRAAAA2EGaJGxDP/6eEAAARUsTuQBW9GEZBst1mBbMrUhHy+xoMJHPiz/VfW8edefc3pk529sUFrto3UILqvJRUwZ9EQeCTj2mGTUHhCgfhpz29R4ingABCHI523s/DZIRGQslBpZ3eaTAZ5MDMlhP6u3HthipMdKjpnsX3AuQP9HDNOVAy6MVNK/UBmw02LaNM/MXVHSRyV86+zAQDS1rSyKV/k0zLvrF3EPJZsGQO3BQDm8TZCKKigJpjTiy5lYifaCXlWSiAAAJ3SHObD/CAWL3RmfRMQ6cbEKRpgAAAHFBnkJ4hH8AABa7H0gCPXxJOUUOr/WjuEP3lnB4/PQwRSSCC6d6ctSbVIp/ka+Sk8htA1tUVL74lHZ2hvgcsievOJNA5NofSKLr8Wg/pR8pgBaAidijSIcXBT9Nl4EnXA6TLjkAAAMAABJVm1l6/wgFXQAAAEMBnmF0R/8AACPDObCkMXxdsUTjP4W+p7F3+Q64o3vmH8uxzlAkiaAbAMaMq5RssCXnQAAAAwAALraHNhKjUx3jhkmYAAAATgGeY2pH/wAAI78EJdpr/3U0EACzib6N9bN82QyWs8q2laqTB34HYmHt3LzGDWlWspDf4yPE5wyzCxXyd8mgJ8zwAAADAALIUw2ilWmKCQAAAFtBmmhJqEFomUwIZ//+nhAAAEVFh6QARC5NXXnUqDcOTNBTkP1KlUb1EI1pItiCLvU+Nd9TVpaJ6G63VUhPspeU0iqo+RE9jJ4ciWLIkQLb/55nTl/K9Oku98xBAAAAMkGehkURLCP/AAAWveEkoAdIdLFaiKdcX8HMC2lOQJykyJDFUFqERFx4/qQu+vElNgqnAAAAJgGepXRH/wAAI7CjEYPlD3KUA2cbp8tAola/lDITseDRLnclLVlBAAAAGQGep2pH/wAAI78Lr+oqEuTwHYaP8qzQB4QAAAC/QZqsSahBbJlMCF///oywAABGFEFWIHvGATShEYIiEajAUeukTNrJVdZJUkrnTZih4F0vMhtK3xn1NGFuePqe4kCfpFwlLVBCLba3h2NgfN95AlvtU1bQVQD1ABU74ECVwHCFW3XP6tZTbIce5VUL7GLXvdl4bn1uyHN+ey5TNWYSWh6ZFQcx+VYsy2PTJm+vstJ6qH9eymHDfJgMbQdNTETZzJI1UyDoLtXX2LtagSIn3dhmZ9z4rZHk9T/lc5AAAABRQZ7KRRUsI/8AABa7lFSxjWMfOiBH3WTlcuGoSDRneeIa5BtJmskP25J6oLB2pBsUGHbkaojCjXBmSujHqY1ScJar03op/FikKj5//RZnwFtBAAAAOAGe6XRH/wAAI7zx9NCtSvElgAugBg4bT8TMx1o6DeawI7TLz4RXwntbIOoxppXs2oHgO/ZjeQl4AAAAOAGe62pH/wAAI6OqRkWcKZIAF1ErPfTKnosXq30LvBgdH47zieYetrFlyyA771qTNPLfIofGNYfMAAAAkUGa8EmoQWyZTAhf//6MsAAARnpvQhvZomxD4CbgfquLgAhMHF1MUlQDTTQEy9s2NbFaT0KztYLFgTxJkYBhSA4OTKLuxg2FVA17DAhD3ced9ZwrlouC5Qph8Tdag0XEyv6jeRxJjSkrDfqH/KrD9WOBkSwzaCTSgUkZWVCCAfaEQvoOFuZ1zzrzezxdY5u5aEEAAABSQZ8ORRUsI/8AABa7lDf8wNyGsawsaPcj/vy9sJV9OTjBc3qh77zSKmvgVBoFMJX0z7B/YQOWRuDgBa3SOeXhdajLJtnbtJ/8fBODshY+49Wm4QAAAEEBny10R/8AACPCmF8aRU/4Ya0EoRv+VWEeQogBIBr2YkLwRHy4AH4fimsGTOKOGU/i3L/0SSrITLZeEWzP0Ril3QAAAD0Bny9qR/8AACPHN3RubK84ybnxsMbSoGDAUGTQ+j9SsQp+1ChSHCsiWZ38YE7OzcAgdU+cHiJAmt5pfzpgAAAAs0GbNEmoQWyZTAhf//6MsAAARDPG8FosAQ6t0ICVlOq/s5qGnMp5tYPwIJhHDgBDtKPCIemUkP+UsB9IhWfH/2K+Phj1gfGYSefp6UDciTrMLsUXvG4l3TYJF4K2+I/mT4u74r4wJ/vYa5k+6jpEyluDBCz6BLtbcaq+xgjsXK1zGmYLh2lEHg+2nPhi17WTBg/SLJlIlrWYEOQiOK4U2F6OluzslXHCzBfVjbWUeDQj+1iIAAAAdEGfUkUVLCP/AAAWGlID/ukavoQemsI9Z7FqSyqpmff8jK9NEbb6FQsahDZy6v87+fO/rklfb1WdhbdZSwRjABKiiHMAqqL61siGKcS/xMBGQUuNsWfMGeQ4fyL5uCBXOhkeM76raVz/j30EUFhqbry3kEZVAAAATwGfcXRH/wAAIsC5zDlAy+SJ3w1ggmRuwkS/KL4Trx/2yK95c7eUUKCRhbVTCnBDyKt6AD74dzfonhA+m9X4Rp03jMMtk4CiHt/zCInXk4cAAAAzAZ9zakf/AAANCXWF9E5SkEJi2cOlgQEKbTHgI2+aiR1yh1hdonnSWRgTwMD7/4SmyFnwAAAAqEGbeEmoQWyZTAhX//44QAABBZDz5i2YFLGCS6Uub8xoAW8dqpf2iLHN7+X0TlxHgc7PQccQvhlQljHx6VckIyWN2IO1FgTRzJczlOdrVFDFFBVb1ZFqkqpiJfGH0vcoVueSv6t/4073x9uYpdiVgmRo2dHwI4Zp4MfpucDSN9v4cTkhWKsoA5XVXYBI/ZPx6LOhMXEdu+L/fKUnkocxsBPAnse331yNgQAAAGRBn5ZFFSwj/wAAFhe7j+suLiY0G5Cjk/U3geIb0A22AjrYjq+QUn33Lxj0x5hoIwSnnbd7Ccv/IQWLvuNMIqktCc+EEAIswTm2yeCEqBtQHAIXRxLKAmOVRBGWKSvZHmm2vGMWAAAARQGftXRH/wAAInt3tJdgAcZzHh5qW/k66XkPy7oJUpAtBiENiSlpRJTbnwCYST8uygMsGv1kiaG3nMCPfqx7Def3phBCpwAAAD0Bn7dqR/8AACKuMdGgavNvLp4DWX26y2DCH4NAn2luJR0xTtx7LTM1lxwZUQDSwP+xjXhlmZ7xFddQsYM/AAAAfUGbu0moQWyZTAj//IQAAA97qHN8ixeaEjeNaAbv3MAC4qoLK4R/7qoqRENi8//rE8RQhJYq0EzCTwE3sNH24eRRX7xt9h7O1fjGlkBwpVhEvban7uIu5FzsWhBMW/+LYbSeJz5G3VZ0fphgRMGa4bUOExoyJz+oh+jrWAvAAAAAT0Gf2UUVLCP/AAAWIgKXpTC7+KYAAXUo4hkFFu6tZu82VwQKABAs4jIMfj4ZU+pzuQeRuJ+m0vaR1CZGqi4AS29z3oEyaO9Uu/VPNW61DpkAAABUAZ/6akf/AAAiv7ogBYHNPyOyhBN4fzQ9gSTO8adieHVJ43tPCsQZT4DV6dyMYD+vf2q8qnC+rq8+2yv/+bQDm7mTtFZhd4ymFGNRco9ThsxGkj7gAAAEW21vb3YAAABsbXZoZAAAAAAAAAAAAAAAAAAAA+gAAAIwAAEAAAEAAAAAAAAAAAAAAAABAAAAAAAAAAAAAAAAAAAAAQAAAAAAAAAAAAAAAAAAQAAAAAAAAAAAAAAAAAAAAAAAAAAAAAAAAAAAAAAAAAIAAAOFdHJhawAAAFx0a2hkAAAAAwAAAAAAAAAAAAAAAQAAAAAAAAIwAAAAAAAAAAAAAAAAAAAAAAABAAAAAAAAAAAAAAAAAAAAAQAAAAAAAAAAAAAAAAAAQAAAAAJYAAABkAAAAAAAJGVkdHMAAAAcZWxzdAAAAAAAAAABAAACMAAAAgAAAQAAAAAC/W1kaWEAAAAgbWRoZAAAAAAAAAAAAAAAAAAAMgAAABwAVcQAAAAAAC1oZGxyAAAAAAAAAAB2aWRlAAAAAAAAAAAAAAAAVmlkZW9IYW5kbGVyAAAAAqhtaW5mAAAAFHZtaGQAAAABAAAAAAAAAAAAAAAkZGluZgAAABxkcmVmAAAAAAAAAAEAAAAMdXJsIAAAAAEAAAJoc3RibAAAAJhzdHNkAAAAAAAAAAEAAACIYXZjMQAAAAAAAAABAAAAAAAAAAAAAAAAAAAAAAJYAZAASAAAAEgAAAAAAAAAAQAAAAAAAAAAAAAAAAAAAAAAAAAAAAAAAAAAAAAAAAAAABj//wAAADJhdmNDAWQAH//hABlnZAAfrNlAmDPl4QAAAwABAAADAGQPGDGWAQAGaOvjyyLAAAAAGHN0dHMAAAAAAAAAAQAAABwAAAEAAAAAFHN0c3MAAAAAAAAAAQAAAAEAAADoY3R0cwAAAAAAAAAbAAAAAQAAAgAAAAABAAAFAAAAAAEAAAIAAAAAAQAAAAAAAAABAAABAAAAAAEAAAUAAAAAAQAAAgAAAAABAAAAAAAAAAEAAAEAAAAAAQAABQAAAAABAAACAAAAAAEAAAAAAAAAAQAAAQAAAAABAAAFAAAAAAEAAAIAAAAAAQAAAAAAAAABAAABAAAAAAEAAAUAAAAAAQAAAgAAAAABAAAAAAAAAAEAAAEAAAAAAQAABQAAAAABAAACAAAAAAEAAAAAAAAAAQAAAQAAAAABAAAEAAAAAAIAAAEAAAAAHHN0c2MAAAAAAAAAAQAAAAEAAAAcAAAAAQAAAIRzdHN6AAAAAAAAAAAAAAAcAAAE6QAAANwAAAB1AAAARwAAAFIAAABfAAAANgAAACoAAAAdAAAAwwAAAFUAAAA8AAAAPAAAAJUAAABWAAAARQAAAEEAAAC3AAAAeAAAAFMAAAA3AAAArAAAAGgAAABJAAAAQQAAAIEAAABTAAAAWAAAABRzdGNvAAAAAAAAAAEAAAAwAAAAYnVkdGEAAABabWV0YQAAAAAAAAAhaGRscgAAAAAAAAAAbWRpcmFwcGwAAAAAAAAAAAAAAAAtaWxzdAAAACWpdG9vAAAAHWRhdGEAAAABAAAAAExhdmY1Ny44My4xMDA=\" type=\"video/mp4\" />\n",
              "             </video>"
            ],
            "text/plain": [
              "<IPython.core.display.HTML object>"
            ]
          },
          "metadata": {
            "tags": []
          }
        },
        {
          "output_type": "stream",
          "text": [
            "\n",
            "SHOWING VIDEO video/openaigym.video.0.62.video000004.mp4\n"
          ],
          "name": "stdout"
        },
        {
          "output_type": "display_data",
          "data": {
            "text/html": [
              "<video alt=\"test\" autoplay \n",
              "                loop controls style=\"height: 400px;\">\n",
              "                <source src=\"data:video/mp4;base64,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\" type=\"video/mp4\" />\n",
              "             </video>"
            ],
            "text/plain": [
              "<IPython.core.display.HTML object>"
            ]
          },
          "metadata": {
            "tags": []
          }
        },
        {
          "output_type": "stream",
          "text": [
            "\n",
            "SHOWING VIDEO video/openaigym.video.0.62.video000005.mp4\n"
          ],
          "name": "stdout"
        },
        {
          "output_type": "display_data",
          "data": {
            "text/html": [
              "<video alt=\"test\" autoplay \n",
              "                loop controls style=\"height: 400px;\">\n",
              "                <source src=\"data:video/mp4;base64,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\" type=\"video/mp4\" />\n",
              "             </video>"
            ],
            "text/plain": [
              "<IPython.core.display.HTML object>"
            ]
          },
          "metadata": {
            "tags": []
          }
        },
        {
          "output_type": "stream",
          "text": [
            "\n",
            "SHOWING VIDEO video/openaigym.video.0.62.video000006.mp4\n"
          ],
          "name": "stdout"
        },
        {
          "output_type": "display_data",
          "data": {
            "text/html": [
              "<video alt=\"test\" autoplay \n",
              "                loop controls style=\"height: 400px;\">\n",
              "                <source src=\"data:video/mp4;base64,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\" type=\"video/mp4\" />\n",
              "             </video>"
            ],
            "text/plain": [
              "<IPython.core.display.HTML object>"
            ]
          },
          "metadata": {
            "tags": []
          }
        },
        {
          "output_type": "stream",
          "text": [
            "\n",
            "SHOWING VIDEO video/openaigym.video.0.62.video000007.mp4\n"
          ],
          "name": "stdout"
        },
        {
          "output_type": "display_data",
          "data": {
            "text/html": [
              "<video alt=\"test\" autoplay \n",
              "                loop controls style=\"height: 400px;\">\n",
              "                <source src=\"data:video/mp4;base64,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\" type=\"video/mp4\" />\n",
              "             </video>"
            ],
            "text/plain": [
              "<IPython.core.display.HTML object>"
            ]
          },
          "metadata": {
            "tags": []
          }
        },
        {
          "output_type": "stream",
          "text": [
            "\n",
            "SHOWING VIDEO video/openaigym.video.0.62.video000008.mp4\n"
          ],
          "name": "stdout"
        },
        {
          "output_type": "display_data",
          "data": {
            "text/html": [
              "<video alt=\"test\" autoplay \n",
              "                loop controls style=\"height: 400px;\">\n",
              "                <source src=\"data:video/mp4;base64,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\" type=\"video/mp4\" />\n",
              "             </video>"
            ],
            "text/plain": [
              "<IPython.core.display.HTML object>"
            ]
          },
          "metadata": {
            "tags": []
          }
        },
        {
          "output_type": "stream",
          "text": [
            "\n",
            "SHOWING VIDEO video/openaigym.video.0.62.video000009.mp4\n"
          ],
          "name": "stdout"
        },
        {
          "output_type": "display_data",
          "data": {
            "text/html": [
              "<video alt=\"test\" autoplay \n",
              "                loop controls style=\"height: 400px;\">\n",
              "                <source src=\"data:video/mp4;base64,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\" type=\"video/mp4\" />\n",
              "             </video>"
            ],
            "text/plain": [
              "<IPython.core.display.HTML object>"
            ]
          },
          "metadata": {
            "tags": []
          }
        }
      ]
    },
    {
      "cell_type": "markdown",
      "metadata": {
        "id": "9KXpjzf2vdeL"
      },
      "source": [
        "## Network update"
      ]
    },
    {
      "cell_type": "markdown",
      "metadata": {
        "id": "NZ3P9MKjxCAL"
      },
      "source": [
        "## Initialization"
      ]
    },
    {
      "cell_type": "markdown",
      "metadata": {
        "id": "Y7gSKTn-ymDZ"
      },
      "source": [
        "In this case we will use the Huber loss as loss function (https://pytorch.org/docs/stable/generated/torch.nn.SmoothL1Loss.html). The Huber loss uses a squared term if the absolute element-wise error falls below beta and an L1 term otherwise. It is less sensitive to outliers than the MSELoss and in some cases prevents exploding gradients."
      ]
    },
    {
      "cell_type": "code",
      "metadata": {
        "id": "lVpk-g0i9d-B"
      },
      "source": [
        "# Set random seeds\n",
        "torch.manual_seed(0)\n",
        "np.random.seed(0)\n",
        "random.seed(0)\n",
        "\n",
        "### PARAMETERS\n",
        "gamma = 0.99   # gamma parameter for the long term reward\n",
        "replay_memory_capacity = 10000   # Replay memory capacity\n",
        "lr = 0.05   # Optimizer learning rate\n",
        "target_net_update_steps = 10   # Number of episodes to wait before updating the target network\n",
        "batch_size = 128   # Number of samples to take from the replay memory for each update\n",
        "bad_state_penalty = 0   # Penalty to the reward when we are in a bad state (in this case when the pole falls down) \n",
        "min_samples_for_training = 1000   # Minimum samples in the replay memory to enable the training"
      ],
      "execution_count": 20,
      "outputs": []
    },
    {
      "cell_type": "code",
      "metadata": {
        "id": "2k3ZQuh8xHo7"
      },
      "source": [
        "### Initialize the replay memory\n",
        "replay_mem = ReplayMemory(replay_memory_capacity)    \n",
        "\n",
        "### Initialize the policy network\n",
        "policy_net = DQN(state_space_dim, action_space_dim)\n",
        "\n",
        "### Initialize the target network with the same weights of the policy network\n",
        "target_net = DQN(state_space_dim, action_space_dim)\n",
        "target_net.load_state_dict(policy_net.state_dict()) # This will copy the weights of the policy network to the target network\n",
        "\n",
        "### Initialize the optimizer\n",
        "optimizer = torch.optim.SGD(policy_net.parameters(), lr=lr) # The optimizer will update ONLY the parameters of the policy network\n",
        "\n",
        "### Initialize the loss function (Huber loss)\n",
        "loss_fn = nn.SmoothL1Loss()"
      ],
      "execution_count": 21,
      "outputs": []
    },
    {
      "cell_type": "markdown",
      "metadata": {
        "id": "LQUTrt8DzJXO"
      },
      "source": [
        "## Update function"
      ]
    },
    {
      "cell_type": "code",
      "metadata": {
        "id": "Sj1hEvPOvkBX"
      },
      "source": [
        "def update_step(policy_net, target_net, replay_mem, gamma, optimizer, loss_fn, batch_size):\n",
        "        \n",
        "    # Sample the data from the replay memory\n",
        "    batch = replay_mem.sample(batch_size)\n",
        "    batch_size = len(batch)\n",
        "\n",
        "    # Create tensors for each element of the batch\n",
        "    states      = torch.tensor([s[0] for s in batch], dtype=torch.float32)\n",
        "    actions     = torch.tensor([s[1] for s in batch], dtype=torch.int64)\n",
        "    rewards     = torch.tensor([s[3] for s in batch], dtype=torch.float32)\n",
        "\n",
        "    # Compute a mask of non-final states (all the elements where the next state is not None)\n",
        "    non_final_next_states = torch.tensor([s[2] for s in batch if s[2] is not None], dtype=torch.float32) # the next state can be None if the game has ended\n",
        "    non_final_mask = torch.tensor([s[2] is not None for s in batch], dtype=torch.bool)\n",
        "\n",
        "    # Compute all the Q values (forward pass)\n",
        "    policy_net.train()\n",
        "    q_values = policy_net(states)\n",
        "    # Select the proper Q value for the corresponding action taken Q(s_t, a)\n",
        "    state_action_values = q_values.gather(1, actions.unsqueeze(1))\n",
        "\n",
        "    # Compute the value function of the next states using the target network V(s_{t+1}) = max_a( Q_target(s_{t+1}, a)) )\n",
        "    with torch.no_grad():\n",
        "      target_net.eval()\n",
        "      q_values_target = target_net(non_final_next_states)\n",
        "    next_state_max_q_values = torch.zeros(batch_size)\n",
        "    next_state_max_q_values[non_final_mask] = q_values_target.max(dim=1)[0]\n",
        "\n",
        "    # Compute the expected Q values\n",
        "    expected_state_action_values = rewards + (next_state_max_q_values * gamma)\n",
        "    expected_state_action_values = expected_state_action_values.unsqueeze(1) # Set the required tensor shape\n",
        "\n",
        "    # Compute the Huber loss\n",
        "    loss = loss_fn(state_action_values, expected_state_action_values)\n",
        "\n",
        "    # Optimize the model\n",
        "    optimizer.zero_grad()\n",
        "    loss.backward()\n",
        "    # Apply gradient clipping (clip all the gradients greater than 2 for training stability)\n",
        "    nn.utils.clip_grad_norm_(policy_net.parameters(), 2)\n",
        "    optimizer.step()"
      ],
      "execution_count": 22,
      "outputs": []
    },
    {
      "cell_type": "markdown",
      "metadata": {
        "id": "03Ab0RMB5CCC"
      },
      "source": [
        "## Training loop"
      ]
    },
    {
      "cell_type": "code",
      "metadata": {
        "id": "WF6Zf53FoRDZ",
        "colab": {
          "base_uri": "https://localhost:8080/",
          "height": 1000,
          "referenced_widgets": [
            "f0733c30781947e1aa3237b15f6e4c7e",
            "c064a1e24b2942558e22b6e21b936a7b",
            "50aada914d71411ba88ad675366b3df6",
            "26f00618369f455e8e465097736be9b3",
            "20b5b4f9f00e4d609624df6a2dc261ca",
            "aabe7d8089914af7aecfd13ca9759b9b",
            "8464c495a6714060b40a78ef3e1e5fa9",
            "a7360b223add49c79e4905864bd224dc"
          ]
        },
        "outputId": "50a6ff9b-e3d1-4e89-d763-1d757dd1bc39"
      },
      "source": [
        "# Initialize the Gym environment\n",
        "env = gym.make('CartPole-v1') \n",
        "env.seed(0) # Set a random seed for the environment (reproducible results)\n",
        "\n",
        "# This is for creating the output video in Colab, not required outside Colab\n",
        "env = wrap_env(env, video_callable=lambda episode_id: episode_id % 100 == 0) # Save a video every 100 episodes\n",
        "\n",
        "scores = []\n",
        "\n",
        "for episode_num, tau in enumerate(tqdm(exploration_profile)):\n",
        "\n",
        "    # Reset the environment and get the initial state\n",
        "    state = env.reset()\n",
        "    # Reset the score. The final score will be the total amount of steps before the pole falls\n",
        "    score = 0\n",
        "    done = False\n",
        "\n",
        "    # Go on until the pole falls off\n",
        "    while not done:\n",
        "\n",
        "      # Choose the action following the policy\n",
        "      action, q_values = choose_action_softmax(policy_net, state, temperature=tau)\n",
        "      \n",
        "      # Apply the action and get the next state, the reward and a flag \"done\" that is True if the game is ended\n",
        "      next_state, reward, done, info = env.step(action)\n",
        "\n",
        "      # We apply a (linear) penalty when the cart is far from center\n",
        "      pos_weight = 1\n",
        "      reward = reward - pos_weight * np.abs(state[0]) \n",
        "\n",
        "      # Update the final score (+1 for each step)\n",
        "      score += 1\n",
        "\n",
        "      # Apply penalty for bad state\n",
        "      if done: # if the pole has fallen down \n",
        "          reward += bad_state_penalty\n",
        "          next_state = None\n",
        "\n",
        "      # Update the replay memory\n",
        "      replay_mem.push(state, action, next_state, reward)\n",
        "\n",
        "      # Update the network\n",
        "      if len(replay_mem) > min_samples_for_training: # we enable the training only if we have enough samples in the replay memory, otherwise the training will use the same samples too often\n",
        "          update_step(policy_net, target_net, replay_mem, gamma, optimizer, loss_fn, batch_size)\n",
        "\n",
        "      # Visually render the environment (disable to speed up the training)\n",
        "      env.render()\n",
        "\n",
        "      # Set the current state for the next iteration\n",
        "      state = next_state\n",
        "\n",
        "    # Update the target network every target_net_update_steps episodes\n",
        "    if episode_num % target_net_update_steps == 0:\n",
        "        print('Updating target network...')\n",
        "        target_net.load_state_dict(policy_net.state_dict()) # This will copy the weights of the policy network to the target network\n",
        "\n",
        "    scores.append(score)\n",
        "\n",
        "    # Print the final score\n",
        "    print(f\"EPISODE: {episode_num + 1} - FINAL SCORE: {score} - Temperature: {tau}\") # Print the final score\n",
        "\n",
        "env.close()"
      ],
      "execution_count": 23,
      "outputs": [
        {
          "output_type": "display_data",
          "data": {
            "application/vnd.jupyter.widget-view+json": {
              "model_id": "f0733c30781947e1aa3237b15f6e4c7e",
              "version_minor": 0,
              "version_major": 2
            },
            "text/plain": [
              "HBox(children=(FloatProgress(value=0.0, max=1000.0), HTML(value='')))"
            ]
          },
          "metadata": {
            "tags": []
          }
        },
        {
          "output_type": "stream",
          "text": [
            "Updating target network...\n",
            "EPISODE: 1 - FINAL SCORE: 12 - Temperature: 5.0\n",
            "EPISODE: 2 - FINAL SCORE: 17 - Temperature: 4.951949240166454\n",
            "EPISODE: 3 - FINAL SCORE: 41 - Temperature: 4.904360255437024\n",
            "EPISODE: 4 - FINAL SCORE: 19 - Temperature: 4.857228608082785\n",
            "EPISODE: 5 - FINAL SCORE: 24 - Temperature: 4.810549903022062\n",
            "EPISODE: 6 - FINAL SCORE: 16 - Temperature: 4.764319787410582\n",
            "EPISODE: 7 - FINAL SCORE: 30 - Temperature: 4.7185339502355665\n",
            "EPISODE: 8 - FINAL SCORE: 29 - Temperature: 4.673188121913726\n",
            "EPISODE: 9 - FINAL SCORE: 15 - Temperature: 4.628278073893115\n",
            "EPISODE: 10 - FINAL SCORE: 21 - Temperature: 4.583799618258813\n",
            "Updating target network...\n",
            "EPISODE: 11 - FINAL SCORE: 31 - Temperature: 4.5397486073424025\n",
            "EPISODE: 12 - FINAL SCORE: 59 - Temperature: 4.4961209333351855\n",
            "EPISODE: 13 - FINAL SCORE: 29 - Temperature: 4.452912527905132\n",
            "EPISODE: 14 - FINAL SCORE: 26 - Temperature: 4.4101193618175\n",
            "EPISODE: 15 - FINAL SCORE: 18 - Temperature: 4.367737444559107\n",
            "EPISODE: 16 - FINAL SCORE: 14 - Temperature: 4.325762823966208\n",
            "EPISODE: 17 - FINAL SCORE: 17 - Temperature: 4.284191585855951\n",
            "EPISODE: 18 - FINAL SCORE: 27 - Temperature: 4.243019853661379\n",
            "EPISODE: 19 - FINAL SCORE: 20 - Temperature: 4.202243788069929\n",
            "EPISODE: 20 - FINAL SCORE: 67 - Temperature: 4.161859586665416\n",
            "Updating target network...\n",
            "EPISODE: 21 - FINAL SCORE: 16 - Temperature: 4.121863483573456\n",
            "EPISODE: 22 - FINAL SCORE: 25 - Temperature: 4.082251749110286\n",
            "EPISODE: 23 - FINAL SCORE: 18 - Temperature: 4.043020689434972\n",
            "EPISODE: 24 - FINAL SCORE: 28 - Temperature: 4.004166646204952\n",
            "EPISODE: 25 - FINAL SCORE: 11 - Temperature: 3.965685996234894\n",
            "EPISODE: 26 - FINAL SCORE: 30 - Temperature: 3.9275751511588264\n",
            "EPISODE: 27 - FINAL SCORE: 13 - Temperature: 3.889830557095519\n",
            "EPISODE: 28 - FINAL SCORE: 23 - Temperature: 3.8524486943170815\n",
            "EPISODE: 29 - FINAL SCORE: 14 - Temperature: 3.8154260769207444\n",
            "EPISODE: 30 - FINAL SCORE: 26 - Temperature: 3.7787592525037903\n",
            "Updating target network...\n",
            "EPISODE: 31 - FINAL SCORE: 13 - Temperature: 3.7424448018416205\n",
            "EPISODE: 32 - FINAL SCORE: 26 - Temperature: 3.7064793385689017\n",
            "EPISODE: 33 - FINAL SCORE: 16 - Temperature: 3.6708595088637863\n",
            "EPISODE: 34 - FINAL SCORE: 23 - Temperature: 3.635581991135166\n",
            "EPISODE: 35 - FINAL SCORE: 13 - Temperature: 3.6006434957129256\n",
            "EPISODE: 36 - FINAL SCORE: 16 - Temperature: 3.566040764541181\n",
            "EPISODE: 37 - FINAL SCORE: 17 - Temperature: 3.5317705708744604\n",
            "EPISODE: 38 - FINAL SCORE: 40 - Temperature: 3.497829718976806\n",
            "EPISODE: 39 - FINAL SCORE: 19 - Temperature: 3.4642150438237667\n",
            "EPISODE: 40 - FINAL SCORE: 22 - Temperature: 3.43092341080726\n",
            "Updating target network...\n",
            "EPISODE: 41 - FINAL SCORE: 16 - Temperature: 3.397951715443262\n",
            "EPISODE: 42 - FINAL SCORE: 26 - Temperature: 3.365296883082312\n",
            "EPISODE: 43 - FINAL SCORE: 16 - Temperature: 3.3329558686227982\n",
            "EPISODE: 44 - FINAL SCORE: 35 - Temperature: 3.300925656226998\n",
            "EPISODE: 45 - FINAL SCORE: 18 - Temperature: 3.2692032590398465\n",
            "EPISODE: 46 - FINAL SCORE: 23 - Temperature: 3.237785718910413\n",
            "EPISODE: 47 - FINAL SCORE: 20 - Temperature: 3.206670106116043\n",
            "EPISODE: 48 - FINAL SCORE: 16 - Temperature: 3.175853519089164\n",
            "EPISODE: 49 - FINAL SCORE: 26 - Temperature: 3.145333084146709\n",
            "EPISODE: 50 - FINAL SCORE: 14 - Temperature: 3.115105955222141\n",
            "Updating target network...\n",
            "EPISODE: 51 - FINAL SCORE: 52 - Temperature: 3.0851693136000553\n",
            "EPISODE: 52 - FINAL SCORE: 17 - Temperature: 3.0555203676533305\n",
            "EPISODE: 53 - FINAL SCORE: 37 - Temperature: 3.0261563525828072\n",
            "EPISODE: 54 - FINAL SCORE: 14 - Temperature: 2.9970745301594635\n",
            "EPISODE: 55 - FINAL SCORE: 18 - Temperature: 2.9682721884690775\n",
            "EPISODE: 56 - FINAL SCORE: 43 - Temperature: 2.939746641659333\n",
            "EPISODE: 57 - FINAL SCORE: 20 - Temperature: 2.911495229689364\n",
            "EPISODE: 58 - FINAL SCORE: 17 - Temperature: 2.8835153180817\n",
            "EPISODE: 59 - FINAL SCORE: 17 - Temperature: 2.855804297676601\n",
            "EPISODE: 60 - FINAL SCORE: 44 - Temperature: 2.828359584388748\n",
            "Updating target network...\n",
            "EPISODE: 61 - FINAL SCORE: 17 - Temperature: 2.8011786189662735\n",
            "EPISODE: 62 - FINAL SCORE: 12 - Temperature: 2.7742588667521106\n",
            "EPISODE: 63 - FINAL SCORE: 17 - Temperature: 2.747597817447632\n",
            "EPISODE: 64 - FINAL SCORE: 20 - Temperature: 2.721192984878562\n",
            "EPISODE: 65 - FINAL SCORE: 44 - Temperature: 2.695041906763136\n",
            "EPISODE: 66 - FINAL SCORE: 33 - Temperature: 2.6691421444824925\n",
            "EPISODE: 67 - FINAL SCORE: 27 - Temperature: 2.6434912828532675\n",
            "EPISODE: 68 - FINAL SCORE: 34 - Temperature: 2.618086929902377\n",
            "EPISODE: 69 - FINAL SCORE: 19 - Temperature: 2.5929267166439596\n",
            "EPISODE: 70 - FINAL SCORE: 18 - Temperature: 2.5680082968584705\n",
            "Updating target network...\n",
            "EPISODE: 71 - FINAL SCORE: 24 - Temperature: 2.5433293468738905\n",
            "EPISODE: 72 - FINAL SCORE: 18 - Temperature: 2.5188875653490412\n",
            "EPISODE: 73 - FINAL SCORE: 20 - Temperature: 2.4946806730589826\n",
            "EPISODE: 74 - FINAL SCORE: 27 - Temperature: 2.4707064126824734\n",
            "EPISODE: 75 - FINAL SCORE: 39 - Temperature: 2.446962548591472\n",
            "EPISODE: 76 - FINAL SCORE: 25 - Temperature: 2.423446866642662\n",
            "EPISODE: 77 - FINAL SCORE: 13 - Temperature: 2.4001571739709804\n",
            "EPISODE: 78 - FINAL SCORE: 25 - Temperature: 2.377091298785132\n",
            "EPISODE: 79 - FINAL SCORE: 14 - Temperature: 2.3542470901650647\n",
            "EPISODE: 80 - FINAL SCORE: 15 - Temperature: 2.3316224178613956\n",
            "Updating target network...\n",
            "EPISODE: 81 - FINAL SCORE: 11 - Temperature: 2.3092151720967617\n",
            "EPISODE: 82 - FINAL SCORE: 16 - Temperature: 2.287023263369081\n",
            "EPISODE: 83 - FINAL SCORE: 15 - Temperature: 2.265044622256705\n",
            "EPISODE: 84 - FINAL SCORE: 21 - Temperature: 2.2432771992254406\n",
            "EPISODE: 85 - FINAL SCORE: 31 - Temperature: 2.2217189644374304\n",
            "EPISODE: 86 - FINAL SCORE: 29 - Temperature: 2.2003679075618665\n",
            "EPISODE: 87 - FINAL SCORE: 15 - Temperature: 2.179222037587527\n",
            "EPISODE: 88 - FINAL SCORE: 15 - Temperature: 2.158279382637109\n",
            "EPISODE: 89 - FINAL SCORE: 59 - Temperature: 2.1375379897833513\n",
            "EPISODE: 90 - FINAL SCORE: 20 - Temperature: 2.1169959248669192\n",
            "Updating target network...\n",
            "EPISODE: 91 - FINAL SCORE: 37 - Temperature: 2.096651272316044\n",
            "EPISODE: 92 - FINAL SCORE: 14 - Temperature: 2.0765021349678925\n",
            "EPISODE: 93 - FINAL SCORE: 18 - Temperature: 2.0565466338916547\n",
            "EPISODE: 94 - FINAL SCORE: 20 - Temperature: 2.0367829082133317\n",
            "EPISODE: 95 - FINAL SCORE: 24 - Temperature: 2.0172091149422053\n",
            "EPISODE: 96 - FINAL SCORE: 12 - Temperature: 1.9978234287989798\n",
            "EPISODE: 97 - FINAL SCORE: 15 - Temperature: 1.9786240420455696\n",
            "EPISODE: 98 - FINAL SCORE: 54 - Temperature: 1.9596091643165272\n",
            "EPISODE: 99 - FINAL SCORE: 39 - Temperature: 1.9407770224520895\n",
            "EPISODE: 100 - FINAL SCORE: 22 - Temperature: 1.9221258603328273\n",
            "Updating target network...\n",
            "EPISODE: 101 - FINAL SCORE: 15 - Temperature: 1.903653938715887\n",
            "EPISODE: 102 - FINAL SCORE: 73 - Temperature: 1.8853595350728032\n",
            "EPISODE: 103 - FINAL SCORE: 21 - Temperature: 1.8672409434288693\n",
            "EPISODE: 104 - FINAL SCORE: 19 - Temperature: 1.849296474204056\n",
            "EPISODE: 105 - FINAL SCORE: 26 - Temperature: 1.8315244540554556\n",
            "EPISODE: 106 - FINAL SCORE: 13 - Temperature: 1.8139232257212385\n",
            "EPISODE: 107 - FINAL SCORE: 19 - Temperature: 1.796491147866114\n",
            "EPISODE: 108 - FINAL SCORE: 19 - Temperature: 1.7792265949282728\n",
            "EPISODE: 109 - FINAL SCORE: 54 - Temperature: 1.7621279569678014\n",
            "EPISODE: 110 - FINAL SCORE: 21 - Temperature: 1.745193639516554\n",
            "Updating target network...\n",
            "EPISODE: 111 - FINAL SCORE: 21 - Temperature: 1.7284220634294656\n",
            "EPISODE: 112 - FINAL SCORE: 12 - Temperature: 1.7118116647372952\n",
            "EPISODE: 113 - FINAL SCORE: 81 - Temperature: 1.6953608945007845\n",
            "EPISODE: 114 - FINAL SCORE: 10 - Temperature: 1.6790682186662158\n",
            "EPISODE: 115 - FINAL SCORE: 33 - Temperature: 1.6629321179223617\n",
            "EPISODE: 116 - FINAL SCORE: 18 - Temperature: 1.646951087558806\n",
            "EPISODE: 117 - FINAL SCORE: 41 - Temperature: 1.631123637325629\n",
            "EPISODE: 118 - FINAL SCORE: 24 - Temperature: 1.6154482912944381\n",
            "EPISODE: 119 - FINAL SCORE: 20 - Temperature: 1.5999235877207378\n",
            "EPISODE: 120 - FINAL SCORE: 31 - Temperature: 1.5845480789076192\n",
            "Updating target network...\n",
            "EPISODE: 121 - FINAL SCORE: 45 - Temperature: 1.5693203310707595\n",
            "EPISODE: 122 - FINAL SCORE: 15 - Temperature: 1.5542389242047232\n",
            "EPISODE: 123 - FINAL SCORE: 51 - Temperature: 1.5393024519505412\n",
            "EPISODE: 124 - FINAL SCORE: 29 - Temperature: 1.524509521464568\n",
            "EPISODE: 125 - FINAL SCORE: 16 - Temperature: 1.5098587532885988\n",
            "EPISODE: 126 - FINAL SCORE: 30 - Temperature: 1.495348781221229\n",
            "EPISODE: 127 - FINAL SCORE: 17 - Temperature: 1.4809782521904595\n",
            "EPISODE: 128 - FINAL SCORE: 32 - Temperature: 1.466745826127518\n",
            "EPISODE: 129 - FINAL SCORE: 19 - Temperature: 1.4526501758418962\n",
            "EPISODE: 130 - FINAL SCORE: 20 - Temperature: 1.4386899868975886\n",
            "Updating target network...\n",
            "EPISODE: 131 - FINAL SCORE: 12 - Temperature: 1.4248639574905198\n",
            "EPISODE: 132 - FINAL SCORE: 16 - Temperature: 1.4111707983271493\n",
            "EPISODE: 133 - FINAL SCORE: 42 - Temperature: 1.397609232504243\n",
            "EPISODE: 134 - FINAL SCORE: 21 - Temperature: 1.3841779953898012\n",
            "EPISODE: 135 - FINAL SCORE: 48 - Temperature: 1.3708758345051302\n",
            "EPISODE: 136 - FINAL SCORE: 12 - Temperature: 1.3577015094080467\n",
            "EPISODE: 137 - FINAL SCORE: 18 - Temperature: 1.344653791577205\n",
            "EPISODE: 138 - FINAL SCORE: 32 - Temperature: 1.3317314642975362\n",
            "EPISODE: 139 - FINAL SCORE: 51 - Temperature: 1.3189333225467887\n",
            "EPISODE: 140 - FINAL SCORE: 50 - Temperature: 1.3062581728831573\n",
            "Updating target network...\n",
            "EPISODE: 141 - FINAL SCORE: 12 - Temperature: 1.2937048333339942\n",
            "EPISODE: 142 - FINAL SCORE: 23 - Temperature: 1.2812721332855883\n",
            "EPISODE: 143 - FINAL SCORE: 14 - Temperature: 1.2689589133740042\n",
            "EPISODE: 144 - FINAL SCORE: 21 - Temperature: 1.2567640253769696\n",
            "EPISODE: 145 - FINAL SCORE: 36 - Temperature: 1.2446863321068038\n",
            "EPISODE: 146 - FINAL SCORE: 33 - Temperature: 1.2327247073043717\n",
            "EPISODE: 147 - FINAL SCORE: 63 - Temperature: 1.2208780355340594\n",
            "EPISODE: 148 - FINAL SCORE: 13 - Temperature: 1.2091452120797597\n",
            "EPISODE: 149 - FINAL SCORE: 21 - Temperature: 1.1975251428418543\n",
            "EPISODE: 150 - FINAL SCORE: 71 - Temperature: 1.186016744235189\n",
            "Updating target network...\n",
            "EPISODE: 151 - FINAL SCORE: 21 - Temperature: 1.174618943088027\n",
            "EPISODE: 152 - FINAL SCORE: 26 - Temperature: 1.1633306765419758\n",
            "EPISODE: 153 - FINAL SCORE: 39 - Temperature: 1.1521508919528727\n",
            "EPISODE: 154 - FINAL SCORE: 24 - Temperature: 1.141078546792626\n",
            "EPISODE: 155 - FINAL SCORE: 12 - Temperature: 1.1301126085519972\n",
            "EPISODE: 156 - FINAL SCORE: 40 - Temperature: 1.1192520546443183\n",
            "EPISODE: 157 - FINAL SCORE: 20 - Temperature: 1.1084958723101348\n",
            "EPISODE: 158 - FINAL SCORE: 16 - Temperature: 1.0978430585227645\n",
            "EPISODE: 159 - FINAL SCORE: 16 - Temperature: 1.087292619894764\n",
            "EPISODE: 160 - FINAL SCORE: 13 - Temperature: 1.0768435725852938\n",
            "Updating target network...\n",
            "EPISODE: 161 - FINAL SCORE: 16 - Temperature: 1.0664949422083752\n",
            "EPISODE: 162 - FINAL SCORE: 20 - Temperature: 1.0562457637420257\n",
            "EPISODE: 163 - FINAL SCORE: 95 - Temperature: 1.0460950814382721\n",
            "EPISODE: 164 - FINAL SCORE: 49 - Temperature: 1.0360419487340233\n",
            "EPISODE: 165 - FINAL SCORE: 15 - Temperature: 1.0260854281628038\n",
            "EPISODE: 166 - FINAL SCORE: 15 - Temperature: 1.0162245912673333\n",
            "EPISODE: 167 - FINAL SCORE: 24 - Temperature: 1.0064585185129473\n",
            "EPISODE: 168 - FINAL SCORE: 127 - Temperature: 0.9967862992018488\n",
            "EPISODE: 169 - FINAL SCORE: 28 - Temperature: 0.9872070313881853\n",
            "EPISODE: 170 - FINAL SCORE: 15 - Temperature: 0.977719821793941\n",
            "Updating target network...\n",
            "EPISODE: 171 - FINAL SCORE: 19 - Temperature: 0.9683237857256375\n",
            "EPISODE: 172 - FINAL SCORE: 46 - Temperature: 0.9590180469918348\n",
            "EPISODE: 173 - FINAL SCORE: 16 - Temperature: 0.9498017378214265\n",
            "EPISODE: 174 - FINAL SCORE: 23 - Temperature: 0.9406739987827183\n",
            "EPISODE: 175 - FINAL SCORE: 46 - Temperature: 0.9316339787032843\n",
            "EPISODE: 176 - FINAL SCORE: 51 - Temperature: 0.9226808345905957\n",
            "EPISODE: 177 - FINAL SCORE: 28 - Temperature: 0.9138137315534101\n",
            "EPISODE: 178 - FINAL SCORE: 26 - Temperature: 0.9050318427239161\n",
            "EPISODE: 179 - FINAL SCORE: 51 - Temperature: 0.8963343491806284\n",
            "EPISODE: 180 - FINAL SCORE: 18 - Temperature: 0.8877204398720212\n",
            "Updating target network...\n",
            "EPISODE: 181 - FINAL SCORE: 46 - Temperature: 0.8791893115408971\n",
            "EPISODE: 182 - FINAL SCORE: 38 - Temperature: 0.8707401686494826\n",
            "EPISODE: 183 - FINAL SCORE: 21 - Temperature: 0.8623722233052431\n",
            "EPISODE: 184 - FINAL SCORE: 79 - Temperature: 0.8540846951874108\n",
            "EPISODE: 185 - FINAL SCORE: 18 - Temperature: 0.8458768114742192\n",
            "EPISODE: 186 - FINAL SCORE: 13 - Temperature: 0.8377478067708365\n",
            "EPISODE: 187 - FINAL SCORE: 17 - Temperature: 0.8296969230379914\n",
            "EPISODE: 188 - FINAL SCORE: 132 - Temperature: 0.8217234095212853\n",
            "EPISODE: 189 - FINAL SCORE: 15 - Temperature: 0.8138265226811834\n",
            "EPISODE: 190 - FINAL SCORE: 79 - Temperature: 0.8060055261236786\n",
            "Updating target network...\n",
            "EPISODE: 191 - FINAL SCORE: 20 - Temperature: 0.7982596905316226\n",
            "EPISODE: 192 - FINAL SCORE: 16 - Temperature: 0.7905882935967155\n",
            "EPISODE: 193 - FINAL SCORE: 46 - Temperature: 0.7829906199521497\n",
            "EPISODE: 194 - FINAL SCORE: 50 - Temperature: 0.7754659611059017\n",
            "EPISODE: 195 - FINAL SCORE: 23 - Temperature: 0.7680136153746637\n",
            "EPISODE: 196 - FINAL SCORE: 38 - Temperature: 0.7606328878184114\n",
            "EPISODE: 197 - FINAL SCORE: 16 - Temperature: 0.7533230901755995\n",
            "EPISODE: 198 - FINAL SCORE: 21 - Temperature: 0.746083540798981\n",
            "EPISODE: 199 - FINAL SCORE: 24 - Temperature: 0.7389135645920424\n",
            "EPISODE: 200 - FINAL SCORE: 22 - Temperature: 0.7318124929460501\n",
            "Updating target network...\n",
            "EPISODE: 201 - FINAL SCORE: 23 - Temperature: 0.7247796636777022\n",
            "EPISODE: 202 - FINAL SCORE: 18 - Temperature: 0.7178144209673791\n",
            "EPISODE: 203 - FINAL SCORE: 58 - Temperature: 0.7109161152979872\n",
            "EPISODE: 204 - FINAL SCORE: 97 - Temperature: 0.704084103394391\n",
            "EPISODE: 205 - FINAL SCORE: 19 - Temperature: 0.6973177481634265\n",
            "EPISODE: 206 - FINAL SCORE: 36 - Temperature: 0.6906164186344926\n",
            "EPISODE: 207 - FINAL SCORE: 37 - Temperature: 0.6839794899007107\n",
            "EPISODE: 208 - FINAL SCORE: 35 - Temperature: 0.6774063430606526\n",
            "EPISODE: 209 - FINAL SCORE: 23 - Temperature: 0.670896365160627\n",
            "EPISODE: 210 - FINAL SCORE: 19 - Temperature: 0.6644489491375205\n",
            "Updating target network...\n",
            "EPISODE: 211 - FINAL SCORE: 23 - Temperature: 0.6580634937621886\n",
            "EPISODE: 212 - FINAL SCORE: 63 - Temperature: 0.6517394035833903\n",
            "EPISODE: 213 - FINAL SCORE: 180 - Temperature: 0.6454760888722616\n",
            "EPISODE: 214 - FINAL SCORE: 167 - Temperature: 0.6392729655673222\n",
            "EPISODE: 215 - FINAL SCORE: 130 - Temperature: 0.6331294552200112\n",
            "EPISODE: 216 - FINAL SCORE: 83 - Temperature: 0.6270449849407471\n",
            "EPISODE: 217 - FINAL SCORE: 200 - Temperature: 0.6210189873455036\n",
            "EPISODE: 218 - FINAL SCORE: 17 - Temperature: 0.6150509005029015\n",
            "EPISODE: 219 - FINAL SCORE: 35 - Temperature: 0.6091401678818072\n",
            "EPISODE: 220 - FINAL SCORE: 112 - Temperature: 0.6032862382994363\n",
            "Updating target network...\n",
            "EPISODE: 221 - FINAL SCORE: 58 - Temperature: 0.5974885658699544\n",
            "EPISODE: 222 - FINAL SCORE: 47 - Temperature: 0.591746609953573\n",
            "EPISODE: 223 - FINAL SCORE: 27 - Temperature: 0.586059835106134\n",
            "EPISODE: 224 - FINAL SCORE: 19 - Temperature: 0.5804277110291796\n",
            "EPISODE: 225 - FINAL SCORE: 39 - Temperature: 0.5748497125205\n",
            "EPISODE: 226 - FINAL SCORE: 22 - Temperature: 0.5693253194251588\n",
            "EPISODE: 227 - FINAL SCORE: 45 - Temperature: 0.5638540165869879\n",
            "EPISODE: 228 - FINAL SCORE: 54 - Temperature: 0.5584352938005475\n",
            "EPISODE: 229 - FINAL SCORE: 229 - Temperature: 0.5530686457635503\n",
            "EPISODE: 230 - FINAL SCORE: 56 - Temperature: 0.5477535720297405\n",
            "Updating target network...\n",
            "EPISODE: 231 - FINAL SCORE: 81 - Temperature: 0.5424895769622269\n",
            "EPISODE: 232 - FINAL SCORE: 47 - Temperature: 0.5372761696872641\n",
            "EPISODE: 233 - FINAL SCORE: 15 - Temperature: 0.532112864048478\n",
            "EPISODE: 234 - FINAL SCORE: 91 - Temperature: 0.5269991785615312\n",
            "EPISODE: 235 - FINAL SCORE: 159 - Temperature: 0.5219346363692241\n",
            "EPISODE: 236 - FINAL SCORE: 221 - Temperature: 0.5169187651970266\n",
            "EPISODE: 237 - FINAL SCORE: 146 - Temperature: 0.5119510973090395\n",
            "EPISODE: 238 - FINAL SCORE: 109 - Temperature: 0.5070311694643761\n",
            "EPISODE: 239 - FINAL SCORE: 21 - Temperature: 0.5021585228739652\n",
            "EPISODE: 240 - FINAL SCORE: 122 - Temperature: 0.4973327031577682\n",
            "Updating target network...\n",
            "EPISODE: 241 - FINAL SCORE: 122 - Temperature: 0.4925532603024077\n",
            "EPISODE: 242 - FINAL SCORE: 95 - Temperature: 0.4878197486192035\n",
            "EPISODE: 243 - FINAL SCORE: 92 - Temperature: 0.48313172670261106\n",
            "EPISODE: 244 - FINAL SCORE: 140 - Temperature: 0.4784887573890603\n",
            "EPISODE: 245 - FINAL SCORE: 81 - Temperature: 0.4738904077161896\n",
            "EPISODE: 246 - FINAL SCORE: 106 - Temperature: 0.4693362488824712\n",
            "EPISODE: 247 - FINAL SCORE: 144 - Temperature: 0.46482585620722544\n",
            "EPISODE: 248 - FINAL SCORE: 93 - Temperature: 0.46035880909101823\n",
            "EPISODE: 249 - FINAL SCORE: 129 - Temperature: 0.4559346909764403\n",
            "EPISODE: 250 - FINAL SCORE: 50 - Temperature: 0.4515530893092621\n",
            "Updating target network...\n",
            "EPISODE: 251 - FINAL SCORE: 118 - Temperature: 0.4472135954999631\n",
            "EPISODE: 252 - FINAL SCORE: 96 - Temperature: 0.44291580488563\n",
            "EPISODE: 253 - FINAL SCORE: 175 - Temperature: 0.43865931669222175\n",
            "EPISODE: 254 - FINAL SCORE: 177 - Temperature: 0.4344437339971967\n",
            "EPISODE: 255 - FINAL SCORE: 88 - Temperature: 0.430268663692499\n",
            "EPISODE: 256 - FINAL SCORE: 157 - Temperature: 0.4261337164479012\n",
            "EPISODE: 257 - FINAL SCORE: 142 - Temperature: 0.42203850667469833\n",
            "EPISODE: 258 - FINAL SCORE: 252 - Temperature: 0.4179826524897514\n",
            "EPISODE: 259 - FINAL SCORE: 150 - Temperature: 0.4139657756798767\n",
            "EPISODE: 260 - FINAL SCORE: 89 - Temperature: 0.4099875016665764\n",
            "Updating target network...\n",
            "EPISODE: 261 - FINAL SCORE: 108 - Temperature: 0.40604745947110915\n",
            "EPISODE: 262 - FINAL SCORE: 186 - Temperature: 0.4021452816798956\n",
            "EPISODE: 263 - FINAL SCORE: 46 - Temperature: 0.3982806044102567\n",
            "EPISODE: 264 - FINAL SCORE: 128 - Temperature: 0.39445306727648133\n",
            "EPISODE: 265 - FINAL SCORE: 24 - Temperature: 0.3906623133562198\n",
            "EPISODE: 266 - FINAL SCORE: 122 - Temperature: 0.3869079891572003\n",
            "EPISODE: 267 - FINAL SCORE: 114 - Temperature: 0.38318974458426575\n",
            "EPISODE: 268 - FINAL SCORE: 157 - Temperature: 0.37950723290672644\n",
            "EPISODE: 269 - FINAL SCORE: 107 - Temperature: 0.37586011072602754\n",
            "EPISODE: 270 - FINAL SCORE: 115 - Temperature: 0.37224803794372624\n",
            "Updating target network...\n",
            "EPISODE: 271 - FINAL SCORE: 98 - Temperature: 0.3686706777297777\n",
            "EPISODE: 272 - FINAL SCORE: 131 - Temperature: 0.36512769649112486\n",
            "EPISODE: 273 - FINAL SCORE: 117 - Temperature: 0.36161876384059066\n",
            "EPISODE: 274 - FINAL SCORE: 148 - Temperature: 0.358143552566069\n",
            "EPISODE: 275 - FINAL SCORE: 115 - Temperature: 0.35470173860001203\n",
            "EPISODE: 276 - FINAL SCORE: 132 - Temperature: 0.3512930009892099\n",
            "EPISODE: 277 - FINAL SCORE: 149 - Temperature: 0.3479170218648623\n",
            "EPISODE: 278 - FINAL SCORE: 102 - Temperature: 0.34457348641293606\n",
            "EPISODE: 279 - FINAL SCORE: 203 - Temperature: 0.34126208284480897\n",
            "EPISODE: 280 - FINAL SCORE: 88 - Temperature: 0.3379825023681946\n",
            "Updating target network...\n",
            "EPISODE: 281 - FINAL SCORE: 94 - Temperature: 0.3347344391583476\n",
            "EPISODE: 282 - FINAL SCORE: 108 - Temperature: 0.3315175903295447\n",
            "EPISODE: 283 - FINAL SCORE: 105 - Temperature: 0.3283316559068405\n",
            "EPISODE: 284 - FINAL SCORE: 111 - Temperature: 0.3251763387980945\n",
            "EPISODE: 285 - FINAL SCORE: 151 - Temperature: 0.3220513447662666\n",
            "EPISODE: 286 - FINAL SCORE: 214 - Temperature: 0.31895638240197977\n",
            "EPISODE: 287 - FINAL SCORE: 125 - Temperature: 0.3158911630963449\n",
            "EPISODE: 288 - FINAL SCORE: 139 - Temperature: 0.3128554010140485\n",
            "EPISODE: 289 - FINAL SCORE: 114 - Temperature: 0.30984881306669776\n",
            "EPISODE: 290 - FINAL SCORE: 151 - Temperature: 0.3068711188864223\n",
            "Updating target network...\n",
            "EPISODE: 291 - FINAL SCORE: 83 - Temperature: 0.30392204079972973\n",
            "EPISODE: 292 - FINAL SCORE: 128 - Temperature: 0.3010013038016119\n",
            "EPISODE: 293 - FINAL SCORE: 120 - Temperature: 0.2981086355299008\n",
            "EPISODE: 294 - FINAL SCORE: 187 - Temperature: 0.29524376623987014\n",
            "EPISODE: 295 - FINAL SCORE: 74 - Temperature: 0.2924064287790814\n",
            "EPISODE: 296 - FINAL SCORE: 187 - Temperature: 0.28959635856247173\n",
            "EPISODE: 297 - FINAL SCORE: 127 - Temperature: 0.28681329354768076\n",
            "EPISODE: 298 - FINAL SCORE: 117 - Temperature: 0.28405697421061515\n",
            "EPISODE: 299 - FINAL SCORE: 185 - Temperature: 0.28132714352124755\n",
            "EPISODE: 300 - FINAL SCORE: 135 - Temperature: 0.2786235469196481\n",
            "Updating target network...\n",
            "EPISODE: 301 - FINAL SCORE: 202 - Temperature: 0.27594593229224673\n",
            "EPISODE: 302 - FINAL SCORE: 97 - Temperature: 0.273294049948323\n",
            "EPISODE: 303 - FINAL SCORE: 89 - Temperature: 0.2706676525967222\n",
            "EPISODE: 304 - FINAL SCORE: 180 - Temperature: 0.26806649532279525\n",
            "EPISODE: 305 - FINAL SCORE: 129 - Temperature: 0.26549033556556006\n",
            "EPISODE: 306 - FINAL SCORE: 78 - Temperature: 0.26293893309508237\n",
            "EPISODE: 307 - FINAL SCORE: 152 - Temperature: 0.2604120499900742\n",
            "EPISODE: 308 - FINAL SCORE: 143 - Temperature: 0.25790945061570736\n",
            "EPISODE: 309 - FINAL SCORE: 246 - Temperature: 0.25543090160163995\n",
            "EPISODE: 310 - FINAL SCORE: 134 - Temperature: 0.2529761718202546\n",
            "Updating target network...\n",
            "EPISODE: 311 - FINAL SCORE: 198 - Temperature: 0.2505450323651056\n",
            "EPISODE: 312 - FINAL SCORE: 99 - Temperature: 0.24813725652957286\n",
            "EPISODE: 313 - FINAL SCORE: 87 - Temperature: 0.24575261978572138\n",
            "EPISODE: 314 - FINAL SCORE: 112 - Temperature: 0.24339089976336367\n",
            "EPISODE: 315 - FINAL SCORE: 67 - Temperature: 0.24105187622932367\n",
            "EPISODE: 316 - FINAL SCORE: 166 - Temperature: 0.23873533106689948\n",
            "EPISODE: 317 - FINAL SCORE: 18 - Temperature: 0.23644104825552392\n",
            "EPISODE: 318 - FINAL SCORE: 88 - Temperature: 0.23416881385062033\n",
            "EPISODE: 319 - FINAL SCORE: 132 - Temperature: 0.23191841596365181\n",
            "EPISODE: 320 - FINAL SCORE: 132 - Temperature: 0.22968964474236264\n",
            "Updating target network...\n",
            "EPISODE: 321 - FINAL SCORE: 135 - Temperature: 0.22748229235120906\n",
            "EPISODE: 322 - FINAL SCORE: 95 - Temperature: 0.22529615295197858\n",
            "EPISODE: 323 - FINAL SCORE: 129 - Temperature: 0.2231310226845951\n",
            "EPISODE: 324 - FINAL SCORE: 121 - Temperature: 0.2209866996481089\n",
            "EPISODE: 325 - FINAL SCORE: 124 - Temperature: 0.21886298388186903\n",
            "EPISODE: 326 - FINAL SCORE: 119 - Temperature: 0.21675967734687687\n",
            "EPISODE: 327 - FINAL SCORE: 74 - Temperature: 0.2146765839073185\n",
            "EPISODE: 328 - FINAL SCORE: 91 - Temperature: 0.21261350931227518\n",
            "EPISODE: 329 - FINAL SCORE: 93 - Temperature: 0.21057026117760888\n",
            "EPISODE: 330 - FINAL SCORE: 113 - Temperature: 0.20854664896802239\n",
            "Updating target network...\n",
            "EPISODE: 331 - FINAL SCORE: 92 - Temperature: 0.20654248397929173\n",
            "EPISODE: 332 - FINAL SCORE: 78 - Temperature: 0.20455757932066915\n",
            "EPISODE: 333 - FINAL SCORE: 131 - Temperature: 0.20259174989745532\n",
            "EPISODE: 334 - FINAL SCORE: 106 - Temperature: 0.2006448123937392\n",
            "EPISODE: 335 - FINAL SCORE: 104 - Temperature: 0.19871658525530353\n",
            "EPISODE: 336 - FINAL SCORE: 28 - Temperature: 0.19680688867269455\n",
            "EPISODE: 337 - FINAL SCORE: 198 - Temperature: 0.19491554456445473\n",
            "EPISODE: 338 - FINAL SCORE: 134 - Temperature: 0.19304237656051643\n",
            "EPISODE: 339 - FINAL SCORE: 108 - Temperature: 0.19118720998575517\n",
            "EPISODE: 340 - FINAL SCORE: 215 - Temperature: 0.1893498718437009\n",
            "Updating target network...\n",
            "EPISODE: 341 - FINAL SCORE: 62 - Temperature: 0.187530190800406\n",
            "EPISODE: 342 - FINAL SCORE: 54 - Temperature: 0.18572799716846816\n",
            "EPISODE: 343 - FINAL SCORE: 69 - Temperature: 0.18394312289120665\n",
            "EPISODE: 344 - FINAL SCORE: 101 - Temperature: 0.18217540152699108\n",
            "EPISODE: 345 - FINAL SCORE: 132 - Temperature: 0.18042466823372041\n",
            "EPISODE: 346 - FINAL SCORE: 62 - Temperature: 0.17869075975345125\n",
            "EPISODE: 347 - FINAL SCORE: 168 - Temperature: 0.17697351439717388\n",
            "EPISODE: 348 - FINAL SCORE: 180 - Temperature: 0.1752727720297344\n",
            "EPISODE: 349 - FINAL SCORE: 77 - Temperature: 0.1735883740549023\n",
            "EPISODE: 350 - FINAL SCORE: 89 - Temperature: 0.17192016340058072\n",
            "Updating target network...\n",
            "EPISODE: 351 - FINAL SCORE: 139 - Temperature: 0.17026798450415964\n",
            "EPISODE: 352 - FINAL SCORE: 250 - Temperature: 0.16863168329800937\n",
            "EPISODE: 353 - FINAL SCORE: 119 - Temperature: 0.16701110719511356\n",
            "EPISODE: 354 - FINAL SCORE: 88 - Temperature: 0.16540610507484013\n",
            "EPISODE: 355 - FINAL SCORE: 109 - Temperature: 0.16381652726884943\n",
            "EPISODE: 356 - FINAL SCORE: 156 - Temperature: 0.16224222554713724\n",
            "EPISODE: 357 - FINAL SCORE: 79 - Temperature: 0.16068305310421216\n",
            "EPISODE: 358 - FINAL SCORE: 138 - Temperature: 0.15913886454540585\n",
            "EPISODE: 359 - FINAL SCORE: 112 - Temperature: 0.15760951587331495\n",
            "EPISODE: 360 - FINAL SCORE: 176 - Temperature: 0.1560948644743729\n",
            "Updating target network...\n",
            "EPISODE: 361 - FINAL SCORE: 151 - Temperature: 0.1545947691055513\n",
            "EPISODE: 362 - FINAL SCORE: 89 - Temperature: 0.15310908988118865\n",
            "EPISODE: 363 - FINAL SCORE: 185 - Temperature: 0.1516376882599459\n",
            "EPISODE: 364 - FINAL SCORE: 134 - Temperature: 0.15018042703188733\n",
            "EPISODE: 365 - FINAL SCORE: 90 - Temperature: 0.1487371703056856\n",
            "EPISODE: 366 - FINAL SCORE: 74 - Temperature: 0.14730778349594964\n",
            "EPISODE: 367 - FINAL SCORE: 94 - Temperature: 0.14589213331067447\n",
            "EPISODE: 368 - FINAL SCORE: 211 - Temperature: 0.14449008773881147\n",
            "EPISODE: 369 - FINAL SCORE: 191 - Temperature: 0.14310151603795834\n",
            "EPISODE: 370 - FINAL SCORE: 279 - Temperature: 0.1417262887221671\n",
            "Updating target network...\n",
            "EPISODE: 371 - FINAL SCORE: 223 - Temperature: 0.14036427754986935\n",
            "EPISODE: 372 - FINAL SCORE: 95 - Temperature: 0.13901535551191777\n",
            "EPISODE: 373 - FINAL SCORE: 124 - Temperature: 0.13767939681974212\n",
            "EPISODE: 374 - FINAL SCORE: 229 - Temperature: 0.13635627689361954\n",
            "EPISODE: 375 - FINAL SCORE: 214 - Temperature: 0.1350458723510572\n",
            "EPISODE: 376 - FINAL SCORE: 119 - Temperature: 0.13374806099528672\n",
            "EPISODE: 377 - FINAL SCORE: 241 - Temperature: 0.1324627218038693\n",
            "EPISODE: 378 - FINAL SCORE: 218 - Temperature: 0.13118973491741018\n",
            "EPISODE: 379 - FINAL SCORE: 85 - Temperature: 0.1299289816283816\n",
            "EPISODE: 380 - FINAL SCORE: 326 - Temperature: 0.12868034437005305\n",
            "Updating target network...\n",
            "EPISODE: 381 - FINAL SCORE: 108 - Temperature: 0.12744370670552838\n",
            "EPISODE: 382 - FINAL SCORE: 95 - Temperature: 0.12621895331688754\n",
            "EPISODE: 383 - FINAL SCORE: 119 - Temperature: 0.12500596999443325\n",
            "EPISODE: 384 - FINAL SCORE: 253 - Temperature: 0.12380464362604086\n",
            "EPISODE: 385 - FINAL SCORE: 246 - Temperature: 0.12261486218661034\n",
            "EPISODE: 386 - FINAL SCORE: 157 - Temperature: 0.1214365147276199\n",
            "EPISODE: 387 - FINAL SCORE: 187 - Temperature: 0.12026949136677996\n",
            "EPISODE: 388 - FINAL SCORE: 87 - Temperature: 0.11911368327778638\n",
            "EPISODE: 389 - FINAL SCORE: 72 - Temperature: 0.11796898268017236\n",
            "EPISODE: 390 - FINAL SCORE: 129 - Temperature: 0.11683528282925784\n",
            "Updating target network...\n",
            "EPISODE: 391 - FINAL SCORE: 500 - Temperature: 0.11571247800619522\n",
            "EPISODE: 392 - FINAL SCORE: 115 - Temperature: 0.11460046350811118\n",
            "EPISODE: 393 - FINAL SCORE: 101 - Temperature: 0.11349913563834291\n",
            "EPISODE: 394 - FINAL SCORE: 173 - Temperature: 0.11240839169676829\n",
            "EPISODE: 395 - FINAL SCORE: 206 - Temperature: 0.11132812997022898\n",
            "EPISODE: 396 - FINAL SCORE: 117 - Temperature: 0.11025824972304551\n",
            "EPISODE: 397 - FINAL SCORE: 146 - Temperature: 0.10919865118762367\n",
            "EPISODE: 398 - FINAL SCORE: 500 - Temperature: 0.10814923555515095\n",
            "EPISODE: 399 - FINAL SCORE: 500 - Temperature: 0.10710990496638251\n",
            "EPISODE: 400 - FINAL SCORE: 128 - Temperature: 0.1060805625025158\n",
            "Updating target network...\n",
            "EPISODE: 401 - FINAL SCORE: 159 - Temperature: 0.1050611121761526\n",
            "EPISODE: 402 - FINAL SCORE: 153 - Temperature: 0.10405145892234831\n",
            "EPISODE: 403 - FINAL SCORE: 145 - Temperature: 0.10305150858974674\n",
            "EPISODE: 404 - FINAL SCORE: 500 - Temperature: 0.10206116793180063\n",
            "EPISODE: 405 - FINAL SCORE: 123 - Temperature: 0.10108034459807619\n",
            "EPISODE: 406 - FINAL SCORE: 500 - Temperature: 0.10010894712564133\n",
            "EPISODE: 407 - FINAL SCORE: 500 - Temperature: 0.09914688493053667\n",
            "EPISODE: 408 - FINAL SCORE: 157 - Temperature: 0.09819406829932839\n",
            "EPISODE: 409 - FINAL SCORE: 109 - Temperature: 0.0972504083807424\n",
            "EPISODE: 410 - FINAL SCORE: 101 - Temperature: 0.09631581717737896\n",
            "Updating target network...\n",
            "EPISODE: 411 - FINAL SCORE: 500 - Temperature: 0.09539020753750654\n",
            "EPISODE: 412 - FINAL SCORE: 500 - Temperature: 0.09447349314693518\n",
            "EPISODE: 413 - FINAL SCORE: 118 - Temperature: 0.09356558852096727\n",
            "EPISODE: 414 - FINAL SCORE: 119 - Temperature: 0.09266640899642618\n",
            "EPISODE: 415 - FINAL SCORE: 88 - Temperature: 0.09177587072376131\n",
            "EPISODE: 416 - FINAL SCORE: 47 - Temperature: 0.0908938906592289\n",
            "EPISODE: 417 - FINAL SCORE: 101 - Temperature: 0.09002038655714827\n",
            "EPISODE: 418 - FINAL SCORE: 500 - Temperature: 0.08915527696223216\n",
            "EPISODE: 419 - FINAL SCORE: 500 - Temperature: 0.08829848120199105\n",
            "EPISODE: 420 - FINAL SCORE: 105 - Temperature: 0.08744991937921029\n",
            "Updating target network...\n",
            "EPISODE: 421 - FINAL SCORE: 89 - Temperature: 0.08660951236449962\n",
            "EPISODE: 422 - FINAL SCORE: 131 - Temperature: 0.0857771817889142\n",
            "EPISODE: 423 - FINAL SCORE: 500 - Temperature: 0.0849528500366467\n",
            "EPISODE: 424 - FINAL SCORE: 500 - Temperature: 0.08413644023778946\n",
            "EPISODE: 425 - FINAL SCORE: 500 - Temperature: 0.08332787626116636\n",
            "EPISODE: 426 - FINAL SCORE: 140 - Temperature: 0.08252708270723341\n",
            "EPISODE: 427 - FINAL SCORE: 126 - Temperature: 0.08173398490104772\n",
            "EPISODE: 428 - FINAL SCORE: 500 - Temperature: 0.08094850888530392\n",
            "EPISODE: 429 - FINAL SCORE: 115 - Temperature: 0.08017058141343764\n",
            "EPISODE: 430 - FINAL SCORE: 121 - Temperature: 0.07940012994279508\n",
            "Updating target network...\n",
            "EPISODE: 431 - FINAL SCORE: 108 - Temperature: 0.07863708262786834\n",
            "EPISODE: 432 - FINAL SCORE: 170 - Temperature: 0.07788136831359586\n",
            "EPISODE: 433 - FINAL SCORE: 33 - Temperature: 0.07713291652872696\n",
            "EPISODE: 434 - FINAL SCORE: 109 - Temperature: 0.07639165747925039\n",
            "EPISODE: 435 - FINAL SCORE: 500 - Temperature: 0.075657522041886\n",
            "EPISODE: 436 - FINAL SCORE: 130 - Temperature: 0.07493044175763881\n",
            "EPISODE: 437 - FINAL SCORE: 129 - Temperature: 0.07421034882541526\n",
            "EPISODE: 438 - FINAL SCORE: 143 - Temperature: 0.07349717609570051\n",
            "EPISODE: 439 - FINAL SCORE: 145 - Temperature: 0.07279085706429685\n",
            "EPISODE: 440 - FINAL SCORE: 500 - Temperature: 0.07209132586612194\n",
            "Updating target network...\n",
            "EPISODE: 441 - FINAL SCORE: 500 - Temperature: 0.07139851726906696\n",
            "EPISODE: 442 - FINAL SCORE: 136 - Temperature: 0.07071236666791351\n",
            "EPISODE: 443 - FINAL SCORE: 130 - Temperature: 0.0700328100783092\n",
            "EPISODE: 444 - FINAL SCORE: 122 - Temperature: 0.06935978413080096\n",
            "EPISODE: 445 - FINAL SCORE: 500 - Temperature: 0.06869322606492581\n",
            "EPISODE: 446 - FINAL SCORE: 500 - Temperature: 0.06803307372335836\n",
            "EPISODE: 447 - FINAL SCORE: 500 - Temperature: 0.06737926554611456\n",
            "EPISODE: 448 - FINAL SCORE: 500 - Temperature: 0.06673174056481114\n",
            "EPISODE: 449 - FINAL SCORE: 500 - Temperature: 0.0660904383969803\n",
            "EPISODE: 450 - FINAL SCORE: 129 - Temperature: 0.06545529924043889\n",
            "Updating target network...\n",
            "EPISODE: 451 - FINAL SCORE: 500 - Temperature: 0.06482626386771184\n",
            "EPISODE: 452 - FINAL SCORE: 500 - Temperature: 0.06420327362050914\n",
            "EPISODE: 453 - FINAL SCORE: 500 - Temperature: 0.06358627040425582\n",
            "EPISODE: 454 - FINAL SCORE: 500 - Temperature: 0.06297519668267466\n",
            "EPISODE: 455 - FINAL SCORE: 500 - Temperature: 0.06236999547242075\n",
            "EPISODE: 456 - FINAL SCORE: 500 - Temperature: 0.06177061033776783\n",
            "EPISODE: 457 - FINAL SCORE: 500 - Temperature: 0.061176985385345495\n",
            "EPISODE: 458 - FINAL SCORE: 500 - Temperature: 0.060589065258927176\n",
            "EPISODE: 459 - FINAL SCORE: 127 - Temperature: 0.06000679513426803\n",
            "EPISODE: 460 - FINAL SCORE: 168 - Temperature: 0.05943012071399252\n",
            "Updating target network...\n",
            "EPISODE: 461 - FINAL SCORE: 500 - Temperature: 0.05885898822253119\n",
            "EPISODE: 462 - FINAL SCORE: 500 - Temperature: 0.05829334440110591\n",
            "EPISODE: 463 - FINAL SCORE: 180 - Temperature: 0.057733136502763564\n",
            "EPISODE: 464 - FINAL SCORE: 344 - Temperature: 0.057178312287457234\n",
            "EPISODE: 465 - FINAL SCORE: 168 - Temperature: 0.056628820017174814\n",
            "EPISODE: 466 - FINAL SCORE: 500 - Temperature: 0.05608460845111434\n",
            "EPISODE: 467 - FINAL SCORE: 500 - Temperature: 0.05554562684090575\n",
            "EPISODE: 468 - FINAL SCORE: 351 - Temperature: 0.05501182492587852\n",
            "EPISODE: 469 - FINAL SCORE: 500 - Temperature: 0.05448315292837482\n",
            "EPISODE: 470 - FINAL SCORE: 500 - Temperature: 0.053959561549107686\n",
            "Updating target network...\n",
            "EPISODE: 471 - FINAL SCORE: 500 - Temperature: 0.05344100196256376\n",
            "EPISODE: 472 - FINAL SCORE: 500 - Temperature: 0.052927425812450316\n",
            "EPISODE: 473 - FINAL SCORE: 92 - Temperature: 0.052418785207185944\n",
            "EPISODE: 474 - FINAL SCORE: 500 - Temperature: 0.0519150327154346\n",
            "EPISODE: 475 - FINAL SCORE: 500 - Temperature: 0.05141612136168258\n",
            "EPISODE: 476 - FINAL SCORE: 500 - Temperature: 0.05092200462185805\n",
            "EPISODE: 477 - FINAL SCORE: 500 - Temperature: 0.050432636418992524\n",
            "EPISODE: 478 - FINAL SCORE: 500 - Temperature: 0.04994797111892421\n",
            "EPISODE: 479 - FINAL SCORE: 500 - Temperature: 0.04946796352604255\n",
            "EPISODE: 480 - FINAL SCORE: 500 - Temperature: 0.04899256887907365\n",
            "Updating target network...\n",
            "EPISODE: 481 - FINAL SCORE: 158 - Temperature: 0.04852174284690629\n",
            "EPISODE: 482 - FINAL SCORE: 500 - Temperature: 0.04805544152445793\n",
            "EPISODE: 483 - FINAL SCORE: 40 - Temperature: 0.04759362142858058\n",
            "EPISODE: 484 - FINAL SCORE: 206 - Temperature: 0.047136239494005895\n",
            "EPISODE: 485 - FINAL SCORE: 500 - Temperature: 0.0466832530693293\n",
            "EPISODE: 486 - FINAL SCORE: 500 - Temperature: 0.046234619913032696\n",
            "EPISODE: 487 - FINAL SCORE: 500 - Temperature: 0.045790298189545414\n",
            "EPISODE: 488 - FINAL SCORE: 500 - Temperature: 0.045350246465342955\n",
            "EPISODE: 489 - FINAL SCORE: 500 - Temperature: 0.04491442370508329\n",
            "EPISODE: 490 - FINAL SCORE: 500 - Temperature: 0.044482789267780265\n",
            "Updating target network...\n",
            "EPISODE: 491 - FINAL SCORE: 119 - Temperature: 0.04405530290301379\n",
            "EPISODE: 492 - FINAL SCORE: 500 - Temperature: 0.04363192474717643\n",
            "EPISODE: 493 - FINAL SCORE: 500 - Temperature: 0.04321261531975604\n",
            "EPISODE: 494 - FINAL SCORE: 500 - Temperature: 0.04279733551965424\n",
            "EPISODE: 495 - FINAL SCORE: 500 - Temperature: 0.04238604662154012\n",
            "EPISODE: 496 - FINAL SCORE: 500 - Temperature: 0.041978710272239095\n",
            "EPISODE: 497 - FINAL SCORE: 500 - Temperature: 0.041575288487156414\n",
            "EPISODE: 498 - FINAL SCORE: 500 - Temperature: 0.04117574364673507\n",
            "EPISODE: 499 - FINAL SCORE: 500 - Temperature: 0.04078003849294769\n",
            "EPISODE: 500 - FINAL SCORE: 500 - Temperature: 0.040388136125822205\n",
            "Updating target network...\n",
            "EPISODE: 501 - FINAL SCORE: 500 - Temperature: 0.040000000000000924\n",
            "EPISODE: 502 - FINAL SCORE: 500 - Temperature: 0.039615593921332536\n",
            "EPISODE: 503 - FINAL SCORE: 500 - Temperature: 0.039234882043497094\n",
            "EPISODE: 504 - FINAL SCORE: 413 - Temperature: 0.03885782886466317\n",
            "EPISODE: 505 - FINAL SCORE: 192 - Temperature: 0.03848439922417738\n",
            "EPISODE: 506 - FINAL SCORE: 303 - Temperature: 0.038114558299285534\n",
            "EPISODE: 507 - FINAL SCORE: 500 - Temperature: 0.037748271601885396\n",
            "EPISODE: 508 - FINAL SCORE: 500 - Temperature: 0.037385504975310666\n",
            "EPISODE: 509 - FINAL SCORE: 118 - Temperature: 0.03702622459114576\n",
            "EPISODE: 510 - FINAL SCORE: 50 - Temperature: 0.03667039694607135\n",
            "Updating target network...\n",
            "EPISODE: 511 - FINAL SCORE: 500 - Temperature: 0.036317988858740054\n",
            "EPISODE: 512 - FINAL SCORE: 500 - Temperature: 0.03596896746668231\n",
            "EPISODE: 513 - FINAL SCORE: 500 - Temperature: 0.03562330022324187\n",
            "EPISODE: 514 - FINAL SCORE: 500 - Temperature: 0.035280954894540806\n",
            "EPISODE: 515 - FINAL SCORE: 500 - Temperature: 0.03494189955647366\n",
            "EPISODE: 516 - FINAL SCORE: 500 - Temperature: 0.034606102591730456\n",
            "EPISODE: 517 - FINAL SCORE: 500 - Temperature: 0.0342735326868484\n",
            "EPISODE: 518 - FINAL SCORE: 500 - Temperature: 0.033944158829291804\n",
            "EPISODE: 519 - FINAL SCORE: 500 - Temperature: 0.0336179503045602\n",
            "EPISODE: 520 - FINAL SCORE: 500 - Temperature: 0.033294876693324094\n",
            "Updating target network...\n",
            "EPISODE: 521 - FINAL SCORE: 171 - Temperature: 0.03297490786858841\n",
            "EPISODE: 522 - FINAL SCORE: 500 - Temperature: 0.03265801399288304\n",
            "EPISODE: 523 - FINAL SCORE: 500 - Temperature: 0.032344165515480514\n",
            "EPISODE: 524 - FINAL SCORE: 500 - Temperature: 0.032033333169640354\n",
            "EPISODE: 525 - FINAL SCORE: 500 - Temperature: 0.03172548796987988\n",
            "EPISODE: 526 - FINAL SCORE: 447 - Temperature: 0.03142060120927133\n",
            "EPISODE: 527 - FINAL SCORE: 500 - Temperature: 0.031118644456764863\n",
            "EPISODE: 528 - FINAL SCORE: 500 - Temperature: 0.030819589554537362\n",
            "EPISODE: 529 - FINAL SCORE: 500 - Temperature: 0.030523408615366652\n",
            "EPISODE: 530 - FINAL SCORE: 146 - Temperature: 0.030230074020031018\n",
            "Updating target network...\n",
            "EPISODE: 531 - FINAL SCORE: 500 - Temperature: 0.029939558414733648\n",
            "EPISODE: 532 - FINAL SCORE: 500 - Temperature: 0.029651834708551893\n",
            "EPISODE: 533 - FINAL SCORE: 500 - Temperature: 0.029366876070910965\n",
            "EPISODE: 534 - FINAL SCORE: 500 - Temperature: 0.029084655929081993\n",
            "EPISODE: 535 - FINAL SCORE: 500 - Temperature: 0.02880514796570407\n",
            "EPISODE: 536 - FINAL SCORE: 500 - Temperature: 0.028528326116330105\n",
            "EPISODE: 537 - FINAL SCORE: 500 - Temperature: 0.028254164566996334\n",
            "EPISODE: 538 - FINAL SCORE: 500 - Temperature: 0.027982637751815087\n",
            "EPISODE: 539 - FINAL SCORE: 500 - Temperature: 0.02771372035059077\n",
            "EPISODE: 540 - FINAL SCORE: 500 - Temperature: 0.02744738728645871\n",
            "Updating target network...\n",
            "EPISODE: 541 - FINAL SCORE: 500 - Temperature: 0.02718361372354672\n",
            "EPISODE: 542 - FINAL SCORE: 500 - Temperature: 0.026922375064659113\n",
            "EPISODE: 543 - FINAL SCORE: 500 - Temperature: 0.026663646948982996\n",
            "EPISODE: 544 - FINAL SCORE: 500 - Temperature: 0.026407405249816586\n",
            "EPISODE: 545 - FINAL SCORE: 500 - Temperature: 0.026153626072319375\n",
            "EPISODE: 546 - FINAL SCORE: 500 - Temperature: 0.025902285751283897\n",
            "EPISODE: 547 - FINAL SCORE: 500 - Temperature: 0.02565336084892893\n",
            "EPISODE: 548 - FINAL SCORE: 500 - Temperature: 0.025406828152713896\n",
            "EPISODE: 549 - FINAL SCORE: 500 - Temperature: 0.025162664673174247\n",
            "EPISODE: 550 - FINAL SCORE: 500 - Temperature: 0.0249208476417777\n",
            "Updating target network...\n",
            "EPISODE: 551 - FINAL SCORE: 500 - Temperature: 0.024681354508801007\n",
            "EPISODE: 552 - FINAL SCORE: 500 - Temperature: 0.024444162941227206\n",
            "EPISODE: 553 - FINAL SCORE: 500 - Temperature: 0.02420925082066301\n",
            "EPISODE: 554 - FINAL SCORE: 500 - Temperature: 0.02397659624127626\n",
            "EPISODE: 555 - FINAL SCORE: 500 - Temperature: 0.023746177507753163\n",
            "EPISODE: 556 - FINAL SCORE: 500 - Temperature: 0.023517973133275208\n",
            "EPISODE: 557 - FINAL SCORE: 500 - Temperature: 0.023291961837515446\n",
            "EPISODE: 558 - FINAL SCORE: 500 - Temperature: 0.023068122544654127\n",
            "EPISODE: 559 - FINAL SCORE: 500 - Temperature: 0.022846434381413334\n",
            "EPISODE: 560 - FINAL SCORE: 500 - Temperature: 0.0226268766751105\n",
            "Updating target network...\n",
            "EPISODE: 561 - FINAL SCORE: 500 - Temperature: 0.0224094289517307\n",
            "EPISODE: 562 - FINAL SCORE: 500 - Temperature: 0.022194070934017394\n",
            "EPISODE: 563 - FINAL SCORE: 500 - Temperature: 0.02198078253958156\n",
            "EPISODE: 564 - FINAL SCORE: 500 - Temperature: 0.021769543879028994\n",
            "EPISODE: 565 - FINAL SCORE: 500 - Temperature: 0.021560335254105584\n",
            "EPISODE: 566 - FINAL SCORE: 500 - Temperature: 0.02135313715586043\n",
            "EPISODE: 567 - FINAL SCORE: 500 - Temperature: 0.021147930262826624\n",
            "EPISODE: 568 - FINAL SCORE: 500 - Temperature: 0.020944695439219493\n",
            "EPISODE: 569 - FINAL SCORE: 500 - Temperature: 0.020743413733152152\n",
            "EPISODE: 570 - FINAL SCORE: 500 - Temperature: 0.020544066374868237\n",
            "Updating target network...\n",
            "EPISODE: 571 - FINAL SCORE: 500 - Temperature: 0.02034663477499159\n",
            "EPISODE: 572 - FINAL SCORE: 500 - Temperature: 0.02015110052279279\n",
            "EPISODE: 573 - FINAL SCORE: 500 - Temperature: 0.01995744538447232\n",
            "EPISODE: 574 - FINAL SCORE: 500 - Temperature: 0.01976565130146024\n",
            "EPISODE: 575 - FINAL SCORE: 500 - Temperature: 0.019575700388732225\n",
            "EPISODE: 576 - FINAL SCORE: 500 - Temperature: 0.01938757493314174\n",
            "EPISODE: 577 - FINAL SCORE: 500 - Temperature: 0.019201257391768284\n",
            "EPISODE: 578 - FINAL SCORE: 500 - Temperature: 0.01901673039028149\n",
            "EPISODE: 579 - FINAL SCORE: 500 - Temperature: 0.01883397672132095\n",
            "EPISODE: 580 - FINAL SCORE: 500 - Temperature: 0.01865297934289159\n",
            "Updating target network...\n",
            "EPISODE: 581 - FINAL SCORE: 500 - Temperature: 0.018473721376774516\n",
            "EPISODE: 582 - FINAL SCORE: 500 - Temperature: 0.018296186106953067\n",
            "EPISODE: 583 - FINAL SCORE: 500 - Temperature: 0.018120356978054055\n",
            "EPISODE: 584 - FINAL SCORE: 500 - Temperature: 0.017946217593803937\n",
            "EPISODE: 585 - FINAL SCORE: 500 - Temperature: 0.017773751715499848\n",
            "EPISODE: 586 - FINAL SCORE: 500 - Temperature: 0.017602943260495336\n",
            "EPISODE: 587 - FINAL SCORE: 500 - Temperature: 0.017433776300700615\n",
            "EPISODE: 588 - FINAL SCORE: 500 - Temperature: 0.017266235061097267\n",
            "EPISODE: 589 - FINAL SCORE: 500 - Temperature: 0.017100303918267203\n",
            "EPISODE: 590 - FINAL SCORE: 500 - Temperature: 0.016935967398935742\n",
            "Updating target network...\n",
            "EPISODE: 591 - FINAL SCORE: 500 - Temperature: 0.016773210178528737\n",
            "EPISODE: 592 - FINAL SCORE: 500 - Temperature: 0.01661201707974352\n",
            "EPISODE: 593 - FINAL SCORE: 500 - Temperature: 0.016452373071133616\n",
            "EPISODE: 594 - FINAL SCORE: 500 - Temperature: 0.01629426326570703\n",
            "EPISODE: 595 - FINAL SCORE: 500 - Temperature: 0.016137672919538014\n",
            "EPISODE: 596 - FINAL SCORE: 500 - Temperature: 0.015982587430392207\n",
            "EPISODE: 597 - FINAL SCORE: 500 - Temperature: 0.015828992336364922\n",
            "EPISODE: 598 - FINAL SCORE: 500 - Temperature: 0.015676873314532578\n",
            "EPISODE: 599 - FINAL SCORE: 500 - Temperature: 0.01552621617961707\n",
            "EPISODE: 600 - FINAL SCORE: 500 - Temperature: 0.015377006882662973\n",
            "Updating target network...\n",
            "EPISODE: 601 - FINAL SCORE: 500 - Temperature: 0.015229231509727447\n",
            "EPISODE: 602 - FINAL SCORE: 500 - Temperature: 0.015082876280582769\n",
            "EPISODE: 603 - FINAL SCORE: 500 - Temperature: 0.014937927547431297\n",
            "EPISODE: 604 - FINAL SCORE: 500 - Temperature: 0.014794371793632789\n",
            "EPISODE: 605 - FINAL SCORE: 500 - Temperature: 0.014652195632443979\n",
            "EPISODE: 606 - FINAL SCORE: 500 - Temperature: 0.01451138580577024\n",
            "EPISODE: 607 - FINAL SCORE: 500 - Temperature: 0.014371929182929243\n",
            "EPISODE: 608 - FINAL SCORE: 500 - Temperature: 0.01423381275942651\n",
            "EPISODE: 609 - FINAL SCORE: 500 - Temperature: 0.014097023655742735\n",
            "EPISODE: 610 - FINAL SCORE: 500 - Temperature: 0.013961549116132753\n",
            "Updating target network...\n",
            "EPISODE: 611 - FINAL SCORE: 500 - Temperature: 0.013827376507436042\n",
            "EPISODE: 612 - FINAL SCORE: 500 - Temperature: 0.013694493317898678\n",
            "EPISODE: 613 - FINAL SCORE: 500 - Temperature: 0.013562887156006585\n",
            "EPISODE: 614 - FINAL SCORE: 500 - Temperature: 0.013432545749330034\n",
            "EPISODE: 615 - FINAL SCORE: 500 - Temperature: 0.013303456943379198\n",
            "EPISODE: 616 - FINAL SCORE: 500 - Temperature: 0.013175608700470751\n",
            "EPISODE: 617 - FINAL SCORE: 500 - Temperature: 0.013048989098605331\n",
            "EPISODE: 618 - FINAL SCORE: 500 - Temperature: 0.012923586330355803\n",
            "EPISODE: 619 - FINAL SCORE: 500 - Temperature: 0.012799388701766197\n",
            "EPISODE: 620 - FINAL SCORE: 500 - Temperature: 0.012676384631261242\n",
            "Updating target network...\n",
            "EPISODE: 621 - FINAL SCORE: 500 - Temperature: 0.012554562648566366\n",
            "EPISODE: 622 - FINAL SCORE: 500 - Temperature: 0.01243391139363807\n",
            "EPISODE: 623 - FINAL SCORE: 500 - Temperature: 0.012314419615604612\n",
            "EPISODE: 624 - FINAL SCORE: 500 - Temperature: 0.012196076171716827\n",
            "EPISODE: 625 - FINAL SCORE: 500 - Temperature: 0.012078870026309068\n",
            "EPISODE: 626 - FINAL SCORE: 500 - Temperature: 0.011962790249770107\n",
            "EPISODE: 627 - FINAL SCORE: 500 - Temperature: 0.01184782601752395\n",
            "EPISODE: 628 - FINAL SCORE: 500 - Temperature: 0.011733966609020412\n",
            "EPISODE: 629 - FINAL SCORE: 500 - Temperature: 0.011621201406735435\n",
            "EPISODE: 630 - FINAL SCORE: 500 - Temperature: 0.01150951989518097\n",
            "Updating target network...\n",
            "EPISODE: 631 - FINAL SCORE: 500 - Temperature: 0.011398911659924418\n",
            "EPISODE: 632 - FINAL SCORE: 500 - Temperature: 0.011289366386617454\n",
            "EPISODE: 633 - FINAL SCORE: 500 - Temperature: 0.011180873860034201\n",
            "EPISODE: 634 - FINAL SCORE: 500 - Temperature: 0.011073423963118664\n",
            "EPISODE: 635 - FINAL SCORE: 500 - Temperature: 0.010967006676041294\n",
            "EPISODE: 636 - FINAL SCORE: 500 - Temperature: 0.010861612075264624\n",
            "EPISODE: 637 - FINAL SCORE: 500 - Temperature: 0.010757230332617884\n",
            "EPISODE: 638 - FINAL SCORE: 500 - Temperature: 0.010653851714380535\n",
            "EPISODE: 639 - FINAL SCORE: 500 - Temperature: 0.010551466580374551\n",
            "EPISODE: 640 - FINAL SCORE: 500 - Temperature: 0.010450065383065497\n",
            "Updating target network...\n",
            "EPISODE: 641 - FINAL SCORE: 500 - Temperature: 0.010349638666672191\n",
            "EPISODE: 642 - FINAL SCORE: 500 - Temperature: 0.010250177066284942\n",
            "EPISODE: 643 - FINAL SCORE: 500 - Temperature: 0.010151671306992266\n",
            "EPISODE: 644 - FINAL SCORE: 500 - Temperature: 0.01005411220301599\n",
            "EPISODE: 645 - FINAL SCORE: 500 - Temperature: 0.00995749065685466\n",
            "EPISODE: 646 - FINAL SCORE: 500 - Temperature: 0.009861797658435199\n",
            "EPISODE: 647 - FINAL SCORE: 500 - Temperature: 0.009767024284272698\n",
            "EPISODE: 648 - FINAL SCORE: 500 - Temperature: 0.009673161696638299\n",
            "EPISODE: 649 - FINAL SCORE: 500 - Temperature: 0.009580201142735055\n",
            "EPISODE: 650 - FINAL SCORE: 500 - Temperature: 0.00948813395388173\n",
            "Updating target network...\n",
            "EPISODE: 651 - FINAL SCORE: 500 - Temperature: 0.009396951544704431\n",
            "EPISODE: 652 - FINAL SCORE: 500 - Temperature: 0.00930664541233602\n",
            "EPISODE: 653 - FINAL SCORE: 500 - Temperature: 0.009217207135623193\n",
            "EPISODE: 654 - FINAL SCORE: 500 - Temperature: 0.009128628374341217\n",
            "EPISODE: 655 - FINAL SCORE: 500 - Temperature: 0.009040900868416185\n",
            "EPISODE: 656 - FINAL SCORE: 500 - Temperature: 0.008954016437154752\n",
            "EPISODE: 657 - FINAL SCORE: 500 - Temperature: 0.008867966978481284\n",
            "EPISODE: 658 - FINAL SCORE: 500 - Temperature: 0.008782744468182318\n",
            "EPISODE: 659 - FINAL SCORE: 500 - Temperature: 0.00869834095915831\n",
            "EPISODE: 660 - FINAL SCORE: 500 - Temperature: 0.008614748580682549\n",
            "Updating target network...\n",
            "EPISODE: 661 - FINAL SCORE: 500 - Temperature: 0.008531959537667196\n",
            "EPISODE: 662 - FINAL SCORE: 500 - Temperature: 0.008449966109936402\n",
            "EPISODE: 663 - FINAL SCORE: 500 - Temperature: 0.008368760651506369\n",
            "EPISODE: 664 - FINAL SCORE: 500 - Temperature: 0.008288335589872376\n",
            "EPISODE: 665 - FINAL SCORE: 500 - Temperature: 0.008208683425302619\n",
            "EPISODE: 666 - FINAL SCORE: 500 - Temperature: 0.008129796730138854\n",
            "EPISODE: 667 - FINAL SCORE: 500 - Temperature: 0.008051668148103763\n",
            "EPISODE: 668 - FINAL SCORE: 500 - Temperature: 0.007974290393614974\n",
            "EPISODE: 669 - FINAL SCORE: 500 - Temperature: 0.007897656251105663\n",
            "EPISODE: 670 - FINAL SCORE: 500 - Temperature: 0.007821758574351708\n",
            "Updating target network...\n",
            "EPISODE: 671 - FINAL SCORE: 500 - Temperature: 0.007746590285805277\n",
            "EPISODE: 672 - FINAL SCORE: 500 - Temperature: 0.007672144375934854\n",
            "EPISODE: 673 - FINAL SCORE: 500 - Temperature: 0.007598413902571588\n",
            "EPISODE: 674 - FINAL SCORE: 500 - Temperature: 0.007525391990261918\n",
            "EPISODE: 675 - FINAL SCORE: 500 - Temperature: 0.007453071829626444\n",
            "EPISODE: 676 - FINAL SCORE: 500 - Temperature: 0.007381446676724935\n",
            "EPISODE: 677 - FINAL SCORE: 500 - Temperature: 0.007310509852427447\n",
            "EPISODE: 678 - FINAL SCORE: 500 - Temperature: 0.007240254741791495\n",
            "EPISODE: 679 - FINAL SCORE: 500 - Temperature: 0.007170674793445191\n",
            "EPISODE: 680 - FINAL SCORE: 500 - Temperature: 0.007101763518976332\n",
            "Updating target network...\n",
            "EPISODE: 681 - FINAL SCORE: 500 - Temperature: 0.007033514492327338\n",
            "EPISODE: 682 - FINAL SCORE: 500 - Temperature: 0.006965921349196021\n",
            "EPISODE: 683 - FINAL SCORE: 500 - Temperature: 0.006898977786442103\n",
            "EPISODE: 684 - FINAL SCORE: 500 - Temperature: 0.006832677561499443\n",
            "EPISODE: 685 - FINAL SCORE: 500 - Temperature: 0.0067670144917939086\n",
            "EPISODE: 686 - FINAL SCORE: 500 - Temperature: 0.006701982454166846\n",
            "EPISODE: 687 - FINAL SCORE: 500 - Temperature: 0.006637575384304084\n",
            "EPISODE: 688 - FINAL SCORE: 500 - Temperature: 0.006573787276170432\n",
            "EPISODE: 689 - FINAL SCORE: 500 - Temperature: 0.0065106121814496164\n",
            "EPISODE: 690 - FINAL SCORE: 500 - Temperature: 0.0064480442089895765\n",
            "Updating target network...\n",
            "EPISODE: 691 - FINAL SCORE: 500 - Temperature: 0.0063860775242531274\n",
            "EPISODE: 692 - FINAL SCORE: 500 - Temperature: 0.0063247063487738685\n",
            "EPISODE: 693 - FINAL SCORE: 500 - Temperature: 0.006263924959617341\n",
            "EPISODE: 694 - FINAL SCORE: 500 - Temperature: 0.006203727688847355\n",
            "EPISODE: 695 - FINAL SCORE: 500 - Temperature: 0.006144108922997451\n",
            "EPISODE: 696 - FINAL SCORE: 500 - Temperature: 0.0060850631025474305\n",
            "EPISODE: 697 - FINAL SCORE: 500 - Temperature: 0.0060265847214049355\n",
            "EPISODE: 698 - FINAL SCORE: 500 - Temperature: 0.005968668326391985\n",
            "EPISODE: 699 - FINAL SCORE: 500 - Temperature: 0.0059113085167364745\n",
            "EPISODE: 700 - FINAL SCORE: 500 - Temperature: 0.005854499943568534\n",
            "Updating target network...\n",
            "EPISODE: 701 - FINAL SCORE: 500 - Temperature: 0.00579823730942175\n",
            "EPISODE: 702 - FINAL SCORE: 500 - Temperature: 0.005742515367739165\n",
            "EPISODE: 703 - FINAL SCORE: 500 - Temperature: 0.005687328922384028\n",
            "EPISODE: 704 - FINAL SCORE: 500 - Temperature: 0.005632672827155257\n",
            "EPISODE: 705 - FINAL SCORE: 128 - Temperature: 0.0055785419853075415\n",
            "EPISODE: 706 - FINAL SCORE: 144 - Temperature: 0.005524931349076067\n",
            "EPISODE: 707 - FINAL SCORE: 144 - Temperature: 0.00547183591920581\n",
            "EPISODE: 708 - FINAL SCORE: 148 - Temperature: 0.005419250744485345\n",
            "EPISODE: 709 - FINAL SCORE: 174 - Temperature: 0.0053671709212851386\n",
            "EPISODE: 710 - FINAL SCORE: 208 - Temperature: 0.005315591593100286\n",
            "Updating target network...\n",
            "EPISODE: 711 - FINAL SCORE: 159 - Temperature: 0.005264507950097631\n",
            "EPISODE: 712 - FINAL SCORE: 228 - Temperature: 0.005213915228667243\n",
            "EPISODE: 713 - FINAL SCORE: 268 - Temperature: 0.005163808710978211\n",
            "EPISODE: 714 - FINAL SCORE: 154 - Temperature: 0.005114183724538694\n",
            "EPISODE: 715 - FINAL SCORE: 141 - Temperature: 0.0050650356417602065\n",
            "EPISODE: 716 - FINAL SCORE: 500 - Temperature: 0.005016359879526092\n",
            "EPISODE: 717 - FINAL SCORE: 500 - Temperature: 0.004968151898764143\n",
            "EPISODE: 718 - FINAL SCORE: 500 - Temperature: 0.004920407204023324\n",
            "EPISODE: 719 - FINAL SCORE: 500 - Temperature: 0.004873121343054569\n",
            "EPISODE: 720 - FINAL SCORE: 500 - Temperature: 0.004826289906395601\n",
            "Updating target network...\n",
            "EPISODE: 721 - FINAL SCORE: 500 - Temperature: 0.004779908526959744\n",
            "EPISODE: 722 - FINAL SCORE: 500 - Temperature: 0.004733972879628691\n",
            "EPISODE: 723 - FINAL SCORE: 500 - Temperature: 0.00468847868084918\n",
            "EPISODE: 724 - FINAL SCORE: 500 - Temperature: 0.004643421688233543\n",
            "EPISODE: 725 - FINAL SCORE: 500 - Temperature: 0.0045987977001641055\n",
            "EPISODE: 726 - FINAL SCORE: 500 - Temperature: 0.0045546025554013755\n",
            "EPISODE: 727 - FINAL SCORE: 500 - Temperature: 0.004510832132696006\n",
            "EPISODE: 728 - FINAL SCORE: 500 - Temperature: 0.004467482350404482\n",
            "EPISODE: 729 - FINAL SCORE: 500 - Temperature: 0.0044245491661085035\n",
            "EPISODE: 730 - FINAL SCORE: 500 - Temperature: 0.004382028576238024\n",
            "Updating target network...\n",
            "EPISODE: 731 - FINAL SCORE: 500 - Temperature: 0.004339916615697915\n",
            "EPISODE: 732 - FINAL SCORE: 500 - Temperature: 0.0042982093574982115\n",
            "EPISODE: 733 - FINAL SCORE: 500 - Temperature: 0.004256902912387922\n",
            "EPISODE: 734 - FINAL SCORE: 500 - Temperature: 0.004215993428492347\n",
            "EPISODE: 735 - FINAL SCORE: 500 - Temperature: 0.004175477090953888\n",
            "EPISODE: 736 - FINAL SCORE: 500 - Temperature: 0.004135350121576308\n",
            "EPISODE: 737 - FINAL SCORE: 500 - Temperature: 0.00409560877847241\n",
            "EPISODE: 738 - FINAL SCORE: 500 - Temperature: 0.004056249355715102\n",
            "EPISODE: 739 - FINAL SCORE: 500 - Temperature: 0.004017268182991814\n",
            "EPISODE: 740 - FINAL SCORE: 500 - Temperature: 0.003978661625262237\n",
            "Updating target network...\n",
            "EPISODE: 741 - FINAL SCORE: 500 - Temperature: 0.003940426082419352\n",
            "EPISODE: 742 - FINAL SCORE: 500 - Temperature: 0.003902557988953717\n",
            "EPISODE: 743 - FINAL SCORE: 500 - Temperature: 0.0038650538136209773\n",
            "EPISODE: 744 - FINAL SCORE: 500 - Temperature: 0.0038279100591125706\n",
            "EPISODE: 745 - FINAL SCORE: 500 - Temperature: 0.0037911232617296037\n",
            "EPISODE: 746 - FINAL SCORE: 500 - Temperature: 0.003754689991059856\n",
            "EPISODE: 747 - FINAL SCORE: 500 - Temperature: 0.0037186068496578885\n",
            "EPISODE: 748 - FINAL SCORE: 500 - Temperature: 0.0036828704727282302\n",
            "EPISODE: 749 - FINAL SCORE: 500 - Temperature: 0.003647477527811606\n",
            "EPISODE: 750 - FINAL SCORE: 500 - Temperature: 0.0036124247144741794\n",
            "Updating target network...\n",
            "EPISODE: 751 - FINAL SCORE: 500 - Temperature: 0.003577708763999787\n",
            "EPISODE: 752 - FINAL SCORE: 500 - Temperature: 0.0035433264390851214\n",
            "EPISODE: 753 - FINAL SCORE: 500 - Temperature: 0.0035092745335378547\n",
            "EPISODE: 754 - FINAL SCORE: 500 - Temperature: 0.003475549871977653\n",
            "EPISODE: 755 - FINAL SCORE: 500 - Temperature: 0.003442149309540071\n",
            "EPISODE: 756 - FINAL SCORE: 500 - Temperature: 0.0034090697315832877\n",
            "EPISODE: 757 - FINAL SCORE: 500 - Temperature: 0.003376308053397664\n",
            "EPISODE: 758 - FINAL SCORE: 500 - Temperature: 0.003343861219918088\n",
            "EPISODE: 759 - FINAL SCORE: 500 - Temperature: 0.0033117262054390894\n",
            "EPISODE: 760 - FINAL SCORE: 500 - Temperature: 0.003279900013332686\n",
            "Updating target network...\n",
            "EPISODE: 761 - FINAL SCORE: 500 - Temperature: 0.0032483796757689478\n",
            "EPISODE: 762 - FINAL SCORE: 500 - Temperature: 0.0032171622534392383\n",
            "EPISODE: 763 - FINAL SCORE: 500 - Temperature: 0.003186244835282127\n",
            "EPISODE: 764 - FINAL SCORE: 500 - Temperature: 0.003155624538211923\n",
            "EPISODE: 765 - FINAL SCORE: 500 - Temperature: 0.0031252985068498298\n",
            "EPISODE: 766 - FINAL SCORE: 500 - Temperature: 0.003095263913257674\n",
            "EPISODE: 767 - FINAL SCORE: 500 - Temperature: 0.0030655179566741967\n",
            "EPISODE: 768 - FINAL SCORE: 500 - Temperature: 0.0030360578632538816\n",
            "EPISODE: 769 - FINAL SCORE: 500 - Temperature: 0.0030068808858082887\n",
            "EPISODE: 770 - FINAL SCORE: 500 - Temperature: 0.0029779843035498783\n",
            "Updating target network...\n",
            "EPISODE: 771 - FINAL SCORE: 500 - Temperature: 0.002949365421838289\n",
            "EPISODE: 772 - FINAL SCORE: 500 - Temperature: 0.0029210215719290655\n",
            "EPISODE: 773 - FINAL SCORE: 500 - Temperature: 0.0028929501107247914\n",
            "EPISODE: 774 - FINAL SCORE: 500 - Temperature: 0.002865148420528618\n",
            "EPISODE: 775 - FINAL SCORE: 500 - Temperature: 0.002837613908800161\n",
            "EPISODE: 776 - FINAL SCORE: 500 - Temperature: 0.0028103440079137437\n",
            "EPISODE: 777 - FINAL SCORE: 500 - Temperature: 0.0027833361749189617\n",
            "EPISODE: 778 - FINAL SCORE: 500 - Temperature: 0.0027565878913035514\n",
            "EPISODE: 779 - FINAL SCORE: 500 - Temperature: 0.002730096662758534\n",
            "EPISODE: 780 - FINAL SCORE: 500 - Temperature: 0.0027038600189456187\n",
            "Updating target network...\n",
            "EPISODE: 781 - FINAL SCORE: 500 - Temperature: 0.002677875513266842\n",
            "EPISODE: 782 - FINAL SCORE: 500 - Temperature: 0.0026521407226364185\n",
            "EPISODE: 783 - FINAL SCORE: 500 - Temperature: 0.002626653247254784\n",
            "EPISODE: 784 - FINAL SCORE: 500 - Temperature: 0.0026014107103848154\n",
            "EPISODE: 785 - FINAL SCORE: 500 - Temperature: 0.0025764107581301926\n",
            "EPISODE: 786 - FINAL SCORE: 500 - Temperature: 0.0025516510592158963\n",
            "EPISODE: 787 - FINAL SCORE: 500 - Temperature: 0.0025271293047708174\n",
            "EPISODE: 788 - FINAL SCORE: 500 - Temperature: 0.002502843208112446\n",
            "EPISODE: 789 - FINAL SCORE: 500 - Temperature: 0.0024787905045336386\n",
            "EPISODE: 790 - FINAL SCORE: 500 - Temperature: 0.002454968951091435\n",
            "Updating target network...\n",
            "EPISODE: 791 - FINAL SCORE: 500 - Temperature: 0.0024313763263978934\n",
            "EPISODE: 792 - FINAL SCORE: 500 - Temperature: 0.0024080104304129504\n",
            "EPISODE: 793 - FINAL SCORE: 500 - Temperature: 0.002384869084239261\n",
            "EPISODE: 794 - FINAL SCORE: 500 - Temperature: 0.0023619501299190155\n",
            "EPISODE: 795 - FINAL SCORE: 500 - Temperature: 0.002339251430232705\n",
            "EPISODE: 796 - FINAL SCORE: 500 - Temperature: 0.002316770868499827\n",
            "EPISODE: 797 - FINAL SCORE: 500 - Temperature: 0.0022945063483814985\n",
            "EPISODE: 798 - FINAL SCORE: 500 - Temperature: 0.0022724557936849733\n",
            "EPISODE: 799 - FINAL SCORE: 500 - Temperature: 0.0022506171481700317\n",
            "EPISODE: 800 - FINAL SCORE: 500 - Temperature: 0.002228988375357236\n",
            "Updating target network...\n",
            "EPISODE: 801 - FINAL SCORE: 500 - Temperature: 0.0022075674583380248\n",
            "EPISODE: 802 - FINAL SCORE: 500 - Temperature: 0.0021863523995866345\n",
            "EPISODE: 803 - FINAL SCORE: 500 - Temperature: 0.0021653412207738275\n",
            "EPISODE: 804 - FINAL SCORE: 500 - Temperature: 0.002144531962582411\n",
            "EPISODE: 805 - FINAL SCORE: 500 - Temperature: 0.002123922684524529\n",
            "EPISODE: 806 - FINAL SCORE: 500 - Temperature: 0.002103511464760707\n",
            "EPISODE: 807 - FINAL SCORE: 500 - Temperature: 0.002083296399920642\n",
            "EPISODE: 808 - FINAL SCORE: 500 - Temperature: 0.002063275604925706\n",
            "EPISODE: 809 - FINAL SCORE: 500 - Temperature: 0.0020434472128131663\n",
            "EPISODE: 810 - FINAL SCORE: 500 - Temperature: 0.0020238093745620833\n",
            "Updating target network...\n",
            "EPISODE: 811 - FINAL SCORE: 500 - Temperature: 0.002004360258920891\n",
            "EPISODE: 812 - FINAL SCORE: 500 - Temperature: 0.0019850980522366285\n",
            "EPISODE: 813 - FINAL SCORE: 500 - Temperature: 0.001966020958285816\n",
            "EPISODE: 814 - FINAL SCORE: 500 - Temperature: 0.0019471271981069541\n",
            "EPISODE: 815 - FINAL SCORE: 500 - Temperature: 0.0019284150098346333\n",
            "EPISODE: 816 - FINAL SCORE: 500 - Temperature: 0.0019098826485352397\n",
            "EPISODE: 817 - FINAL SCORE: 500 - Temperature: 0.0018915283860442347\n",
            "EPISODE: 818 - FINAL SCORE: 500 - Temperature: 0.0018733505108050055\n",
            "EPISODE: 819 - FINAL SCORE: 500 - Temperature: 0.0018553473277092571\n",
            "EPISODE: 820 - FINAL SCORE: 500 - Temperature: 0.0018375171579389433\n",
            "Updating target network...\n",
            "EPISODE: 821 - FINAL SCORE: 500 - Temperature: 0.0018198583388097144\n",
            "EPISODE: 822 - FINAL SCORE: 500 - Temperature: 0.00180236922361587\n",
            "EPISODE: 823 - FINAL SCORE: 500 - Temperature: 0.0017850481814768017\n",
            "EPISODE: 824 - FINAL SCORE: 500 - Temperature: 0.0017678935971849117\n",
            "EPISODE: 825 - FINAL SCORE: 500 - Temperature: 0.0017509038710549925\n",
            "EPISODE: 826 - FINAL SCORE: 500 - Temperature: 0.0017340774187750547\n",
            "EPISODE: 827 - FINAL SCORE: 500 - Temperature: 0.0017174126712585875\n",
            "EPISODE: 828 - FINAL SCORE: 500 - Temperature: 0.0017009080744982404\n",
            "EPISODE: 829 - FINAL SCORE: 500 - Temperature: 0.0016845620894209096\n",
            "EPISODE: 830 - FINAL SCORE: 500 - Temperature: 0.0016683731917442172\n",
            "Updating target network...\n",
            "EPISODE: 831 - FINAL SCORE: 500 - Temperature: 0.0016523398718343717\n",
            "EPISODE: 832 - FINAL SCORE: 500 - Temperature: 0.0016364606345653904\n",
            "EPISODE: 833 - FINAL SCORE: 500 - Temperature: 0.0016207339991796798\n",
            "EPISODE: 834 - FINAL SCORE: 500 - Temperature: 0.0016051584991499507\n",
            "EPISODE: 835 - FINAL SCORE: 500 - Temperature: 0.001589732682042465\n",
            "EPISODE: 836 - FINAL SCORE: 500 - Temperature: 0.0015744551093815925\n",
            "EPISODE: 837 - FINAL SCORE: 500 - Temperature: 0.0015593243565156735\n",
            "EPISODE: 838 - FINAL SCORE: 500 - Temperature: 0.0015443390124841667\n",
            "EPISODE: 839 - FINAL SCORE: 500 - Temperature: 0.0015294976798860766\n",
            "EPISODE: 840 - FINAL SCORE: 500 - Temperature: 0.001514798974749642\n",
            "Updating target network...\n",
            "EPISODE: 841 - FINAL SCORE: 500 - Temperature: 0.0015002415264032825\n",
            "EPISODE: 842 - FINAL SCORE: 500 - Temperature: 0.0014858239773477791\n",
            "EPISODE: 843 - FINAL SCORE: 500 - Temperature: 0.0014715449831296866\n",
            "EPISODE: 844 - FINAL SCORE: 500 - Temperature: 0.001457403212215962\n",
            "EPISODE: 845 - FINAL SCORE: 500 - Temperature: 0.0014433973458697963\n",
            "EPISODE: 846 - FINAL SCORE: 500 - Temperature: 0.001429526078027643\n",
            "EPISODE: 847 - FINAL SCORE: 500 - Temperature: 0.0014157881151774234\n",
            "EPISODE: 848 - FINAL SCORE: 500 - Temperature: 0.0014021821762379074\n",
            "EPISODE: 849 - FINAL SCORE: 500 - Temperature: 0.0013887069924392503\n",
            "EPISODE: 850 - FINAL SCORE: 500 - Temperature: 0.0013753613072046771\n",
            "Updating target network...\n",
            "EPISODE: 851 - FINAL SCORE: 500 - Temperature: 0.0013621438760333085\n",
            "EPISODE: 852 - FINAL SCORE: 500 - Temperature: 0.001349053466384106\n",
            "EPISODE: 853 - FINAL SCORE: 500 - Temperature: 0.001336088857560939\n",
            "EPISODE: 854 - FINAL SCORE: 500 - Temperature: 0.0013232488405987512\n",
            "EPISODE: 855 - FINAL SCORE: 500 - Temperature: 0.0013105322181508256\n",
            "EPISODE: 856 - FINAL SCORE: 500 - Temperature: 0.0012979378043771275\n",
            "EPISODE: 857 - FINAL SCORE: 500 - Temperature: 0.0012854644248337264\n",
            "EPISODE: 858 - FINAL SCORE: 500 - Temperature: 0.0012731109163632759\n",
            "EPISODE: 859 - FINAL SCORE: 500 - Temperature: 0.0012608761269865484\n",
            "EPISODE: 860 - FINAL SCORE: 500 - Temperature: 0.0012487589157950119\n",
            "Updating target network...\n",
            "EPISODE: 861 - FINAL SCORE: 500 - Temperature: 0.0012367581528444388\n",
            "EPISODE: 862 - FINAL SCORE: 500 - Temperature: 0.0012248727190495373\n",
            "EPISODE: 863 - FINAL SCORE: 500 - Temperature: 0.0012131015060795947\n",
            "EPISODE: 864 - FINAL SCORE: 500 - Temperature: 0.001201443416255126\n",
            "EPISODE: 865 - FINAL SCORE: 500 - Temperature: 0.001189897362445512\n",
            "EPISODE: 866 - FINAL SCORE: 500 - Temperature: 0.0011784622679676241\n",
            "EPISODE: 867 - FINAL SCORE: 500 - Temperature: 0.0011671370664854224\n",
            "EPISODE: 868 - FINAL SCORE: 500 - Temperature: 0.0011559207019105184\n",
            "EPISODE: 869 - FINAL SCORE: 500 - Temperature: 0.001144812128303693\n",
            "EPISODE: 870 - FINAL SCORE: 500 - Temperature: 0.0011338103097773627\n",
            "Updating target network...\n",
            "EPISODE: 871 - FINAL SCORE: 500 - Temperature: 0.0011229142203989806\n",
            "EPISODE: 872 - FINAL SCORE: 500 - Temperature: 0.0011121228440953677\n",
            "EPISODE: 873 - FINAL SCORE: 500 - Temperature: 0.0011014351745579623\n",
            "EPISODE: 874 - FINAL SCORE: 500 - Temperature: 0.0010908502151489815\n",
            "EPISODE: 875 - FINAL SCORE: 500 - Temperature: 0.0010803669788084823\n",
            "EPISODE: 876 - FINAL SCORE: 500 - Temperature: 0.0010699844879623183\n",
            "EPISODE: 877 - FINAL SCORE: 500 - Temperature: 0.0010597017744309787\n",
            "EPISODE: 878 - FINAL SCORE: 500 - Temperature: 0.0010495178793393056\n",
            "EPISODE: 879 - FINAL SCORE: 500 - Temperature: 0.0010394318530270764\n",
            "EPISODE: 880 - FINAL SCORE: 500 - Temperature: 0.001029442754960448\n",
            "Updating target network...\n",
            "EPISODE: 881 - FINAL SCORE: 500 - Temperature: 0.0010195496536442505\n",
            "EPISODE: 882 - FINAL SCORE: 500 - Temperature: 0.0010097516265351234\n",
            "EPISODE: 883 - FINAL SCORE: 500 - Temperature: 0.0010000477599554892\n",
            "EPISODE: 884 - FINAL SCORE: 500 - Temperature: 0.0009904371490083495\n",
            "EPISODE: 885 - FINAL SCORE: 500 - Temperature: 0.0009809188974929052\n",
            "EPISODE: 886 - FINAL SCORE: 500 - Temperature: 0.0009714921178209815\n",
            "EPISODE: 887 - FINAL SCORE: 500 - Temperature: 0.0009621559309342617\n",
            "EPISODE: 888 - FINAL SCORE: 500 - Temperature: 0.0009529094662223129\n",
            "EPISODE: 889 - FINAL SCORE: 500 - Temperature: 0.0009437518614414007\n",
            "EPISODE: 890 - FINAL SCORE: 500 - Temperature: 0.000934682262634084\n",
            "Updating target network...\n",
            "EPISODE: 891 - FINAL SCORE: 500 - Temperature: 0.0009256998240495829\n",
            "EPISODE: 892 - FINAL SCORE: 500 - Temperature: 0.0009168037080649104\n",
            "EPISODE: 893 - FINAL SCORE: 500 - Temperature: 0.000907993085106764\n",
            "EPISODE: 894 - FINAL SCORE: 500 - Temperature: 0.000899267133574167\n",
            "EPISODE: 895 - FINAL SCORE: 500 - Temperature: 0.0008906250397618522\n",
            "EPISODE: 896 - FINAL SCORE: 500 - Temperature: 0.0008820659977843844\n",
            "EPISODE: 897 - FINAL SCORE: 500 - Temperature: 0.0008735892095010095\n",
            "EPISODE: 898 - FINAL SCORE: 500 - Temperature: 0.0008651938844412274\n",
            "EPISODE: 899 - FINAL SCORE: 500 - Temperature: 0.0008568792397310797\n",
            "EPISODE: 900 - FINAL SCORE: 500 - Temperature: 0.0008486445000201458\n",
            "Updating target network...\n",
            "EPISODE: 901 - FINAL SCORE: 500 - Temperature: 0.0008404888974092403\n",
            "EPISODE: 902 - FINAL SCORE: 500 - Temperature: 0.0008324116713788054\n",
            "EPISODE: 903 - FINAL SCORE: 500 - Temperature: 0.0008244120687179927\n",
            "EPISODE: 904 - FINAL SCORE: 500 - Temperature: 0.0008164893434544239\n",
            "EPISODE: 905 - FINAL SCORE: 500 - Temperature: 0.0008086427567846281\n",
            "EPISODE: 906 - FINAL SCORE: 500 - Temperature: 0.0008008715770051492\n",
            "EPISODE: 907 - FINAL SCORE: 500 - Temperature: 0.0007931750794443116\n",
            "EPISODE: 908 - FINAL SCORE: 500 - Temperature: 0.0007855525463946451\n",
            "EPISODE: 909 - FINAL SCORE: 500 - Temperature: 0.0007780032670459572\n",
            "EPISODE: 910 - FINAL SCORE: 500 - Temperature: 0.0007705265374190493\n",
            "Updating target network...\n",
            "EPISODE: 911 - FINAL SCORE: 500 - Temperature: 0.0007631216603000699\n",
            "EPISODE: 912 - FINAL SCORE: 500 - Temperature: 0.0007557879451754988\n",
            "EPISODE: 913 - FINAL SCORE: 500 - Temperature: 0.0007485247081677553\n",
            "EPISODE: 914 - FINAL SCORE: 500 - Temperature: 0.0007413312719714266\n",
            "EPISODE: 915 - FINAL SCORE: 500 - Temperature: 0.0007342069657901072\n",
            "EPISODE: 916 - FINAL SCORE: 500 - Temperature: 0.0007271511252738478\n",
            "EPISODE: 917 - FINAL SCORE: 500 - Temperature: 0.0007201630924572025\n",
            "EPISODE: 918 - FINAL SCORE: 500 - Temperature: 0.0007132422156978736\n",
            "EPISODE: 919 - FINAL SCORE: 500 - Temperature: 0.0007063878496159446\n",
            "EPISODE: 920 - FINAL SCORE: 500 - Temperature: 0.0006995993550336985\n",
            "Updating target network...\n",
            "EPISODE: 921 - FINAL SCORE: 500 - Temperature: 0.0006928760989160128\n",
            "EPISODE: 922 - FINAL SCORE: 500 - Temperature: 0.0006862174543113294\n",
            "EPISODE: 923 - FINAL SCORE: 500 - Temperature: 0.0006796228002931892\n",
            "EPISODE: 924 - FINAL SCORE: 500 - Temperature: 0.0006730915219023311\n",
            "EPISODE: 925 - FINAL SCORE: 500 - Temperature: 0.0006666230100893461\n",
            "EPISODE: 926 - FINAL SCORE: 500 - Temperature: 0.0006602166616578823\n",
            "EPISODE: 927 - FINAL SCORE: 500 - Temperature: 0.0006538718792083966\n",
            "EPISODE: 928 - FINAL SCORE: 500 - Temperature: 0.0006475880710824463\n",
            "EPISODE: 929 - FINAL SCORE: 500 - Temperature: 0.0006413646513075158\n",
            "EPISODE: 930 - FINAL SCORE: 500 - Temperature: 0.0006352010395423752\n",
            "Updating target network...\n",
            "EPISODE: 931 - FINAL SCORE: 500 - Temperature: 0.0006290966610229613\n",
            "EPISODE: 932 - FINAL SCORE: 500 - Temperature: 0.0006230509465087813\n",
            "EPISODE: 933 - FINAL SCORE: 500 - Temperature: 0.0006170633322298297\n",
            "EPISODE: 934 - FINAL SCORE: 500 - Temperature: 0.0006111332598340172\n",
            "EPISODE: 935 - FINAL SCORE: 500 - Temperature: 0.0006052601763351018\n",
            "EPISODE: 936 - FINAL SCORE: 500 - Temperature: 0.0005994435340611243\n",
            "EPISODE: 937 - FINAL SCORE: 500 - Temperature: 0.0005936827906033357\n",
            "EPISODE: 938 - FINAL SCORE: 500 - Temperature: 0.0005879774087656177\n",
            "EPISODE: 939 - FINAL SCORE: 500 - Temperature: 0.0005823268565143881\n",
            "EPISODE: 940 - FINAL SCORE: 500 - Temperature: 0.0005767306069289887\n",
            "Updating target network...\n",
            "EPISODE: 941 - FINAL SCORE: 500 - Temperature: 0.0005711881381525488\n",
            "EPISODE: 942 - FINAL SCORE: 500 - Temperature: 0.000565698933343321\n",
            "EPISODE: 943 - FINAL SCORE: 500 - Temperature: 0.0005602624806264864\n",
            "EPISODE: 944 - FINAL SCORE: 500 - Temperature: 0.0005548782730464203\n",
            "EPISODE: 945 - FINAL SCORE: 500 - Temperature: 0.0005495458085194191\n",
            "EPISODE: 946 - FINAL SCORE: 500 - Temperature: 0.0005442645897868794\n",
            "EPISODE: 947 - FINAL SCORE: 500 - Temperature: 0.0005390341243689289\n",
            "EPISODE: 948 - FINAL SCORE: 500 - Temperature: 0.0005338539245185014\n",
            "EPISODE: 949 - FINAL SCORE: 500 - Temperature: 0.0005287235071758544\n",
            "EPISODE: 950 - FINAL SCORE: 500 - Temperature: 0.0005236423939235231\n",
            "Updating target network...\n",
            "EPISODE: 951 - FINAL SCORE: 500 - Temperature: 0.0005186101109417065\n",
            "EPISODE: 952 - FINAL SCORE: 500 - Temperature: 0.0005136261889640848\n",
            "EPISODE: 953 - FINAL SCORE: 500 - Temperature: 0.0005086901632340582\n",
            "EPISODE: 954 - FINAL SCORE: 500 - Temperature: 0.0005038015734614089\n",
            "EPISODE: 955 - FINAL SCORE: 500 - Temperature: 0.0004989599637793775\n",
            "EPISODE: 956 - FINAL SCORE: 500 - Temperature: 0.0004941648827021539\n",
            "EPISODE: 957 - FINAL SCORE: 500 - Temperature: 0.0004894158830827752\n",
            "EPISODE: 958 - FINAL SCORE: 500 - Temperature: 0.00048471252207142856\n",
            "EPISODE: 959 - FINAL SCORE: 500 - Temperature: 0.0004800543610741552\n",
            "EPISODE: 960 - FINAL SCORE: 500 - Temperature: 0.0004754409657119511\n",
            "Updating target network...\n",
            "EPISODE: 961 - FINAL SCORE: 500 - Temperature: 0.00047087190578026024\n",
            "EPISODE: 962 - FINAL SCORE: 500 - Temperature: 0.000466346755208858\n",
            "EPISODE: 963 - FINAL SCORE: 500 - Temperature: 0.0004618650920221191\n",
            "EPISODE: 964 - FINAL SCORE: 500 - Temperature: 0.0004574264982996684\n",
            "EPISODE: 965 - FINAL SCORE: 500 - Temperature: 0.0004530305601374089\n",
            "EPISODE: 966 - FINAL SCORE: 500 - Temperature: 0.000448676867608925\n",
            "EPISODE: 967 - FINAL SCORE: 500 - Temperature: 0.00044436501472725615\n",
            "EPISODE: 968 - FINAL SCORE: 500 - Temperature: 0.00044009459940703825\n",
            "EPISODE: 969 - FINAL SCORE: 500 - Temperature: 0.00043586522342700857\n",
            "EPISODE: 970 - FINAL SCORE: 500 - Temperature: 0.00043167649239287135\n",
            "Updating target network...\n",
            "EPISODE: 971 - FINAL SCORE: 500 - Temperature: 0.00042752801570051987\n",
            "EPISODE: 972 - FINAL SCORE: 500 - Temperature: 0.00042341940649961226\n",
            "EPISODE: 973 - FINAL SCORE: 500 - Temperature: 0.0004193502816574971\n",
            "EPISODE: 974 - FINAL SCORE: 500 - Temperature: 0.00041532026172348625\n",
            "EPISODE: 975 - FINAL SCORE: 500 - Temperature: 0.00041132897089347014\n",
            "EPISODE: 976 - FINAL SCORE: 500 - Temperature: 0.0004073760369748738\n",
            "EPISODE: 977 - FINAL SCORE: 500 - Temperature: 0.0004034610913519494\n",
            "EPISODE: 978 - FINAL SCORE: 500 - Temperature: 0.0003995837689514029\n",
            "EPISODE: 979 - FINAL SCORE: 500 - Temperature: 0.00039574370820834944\n",
            "EPISODE: 980 - FINAL SCORE: 500 - Temperature: 0.00039194055103259826\n",
            "Updating target network...\n",
            "EPISODE: 981 - FINAL SCORE: 500 - Temperature: 0.00038817394277525913\n",
            "EPISODE: 982 - FINAL SCORE: 500 - Temperature: 0.00038444353219567223\n",
            "EPISODE: 983 - FINAL SCORE: 500 - Temperature: 0.0003807489714286534\n",
            "EPISODE: 984 - FINAL SCORE: 500 - Temperature: 0.0003770899159520558\n",
            "EPISODE: 985 - FINAL SCORE: 500 - Temperature: 0.0003734660245546429\n",
            "EPISODE: 986 - FINAL SCORE: 500 - Temperature: 0.00036987695930427\n",
            "EPISODE: 987 - FINAL SCORE: 500 - Temperature: 0.0003663223855163717\n",
            "EPISODE: 988 - FINAL SCORE: 500 - Temperature: 0.0003628019717227519\n",
            "EPISODE: 989 - FINAL SCORE: 500 - Temperature: 0.0003593153896406745\n",
            "EPISODE: 990 - FINAL SCORE: 500 - Temperature: 0.0003558623141422503\n",
            "Updating target network...\n",
            "EPISODE: 991 - FINAL SCORE: 500 - Temperature: 0.00035244242322411847\n",
            "EPISODE: 992 - FINAL SCORE: 500 - Temperature: 0.00034905539797741944\n",
            "EPISODE: 993 - FINAL SCORE: 500 - Temperature: 0.00034570092255805626\n",
            "EPISODE: 994 - FINAL SCORE: 500 - Temperature: 0.00034237868415724177\n",
            "EPISODE: 995 - FINAL SCORE: 500 - Temperature: 0.0003390883729723287\n",
            "EPISODE: 996 - FINAL SCORE: 500 - Temperature: 0.00033582968217792043\n",
            "EPISODE: 997 - FINAL SCORE: 500 - Temperature: 0.000332602307897259\n",
            "EPISODE: 998 - FINAL SCORE: 500 - Temperature: 0.0003294059491738881\n",
            "EPISODE: 999 - FINAL SCORE: 500 - Temperature: 0.00032624030794358897\n",
            "EPISODE: 1000 - FINAL SCORE: 500 - Temperature: 0.00032310508900658505\n",
            "\n"
          ],
          "name": "stdout"
        }
      ]
    },
    {
      "cell_type": "code",
      "metadata": {
        "id": "7FQjjVTiP2T6",
        "colab": {
          "base_uri": "https://localhost:8080/",
          "height": 1000
        },
        "outputId": "f13e4d48-5340-47c2-df93-9da0705115c1"
      },
      "source": [
        "# Display the videos, not required outside Colab\n",
        "show_videos()"
      ],
      "execution_count": 24,
      "outputs": [
        {
          "output_type": "stream",
          "text": [
            "\n",
            "SHOWING VIDEO video/openaigym.video.1.62.video000000.mp4\n"
          ],
          "name": "stdout"
        },
        {
          "output_type": "display_data",
          "data": {
            "text/html": [
              "<video alt=\"test\" autoplay \n",
              "                loop controls style=\"height: 400px;\">\n",
              "                <source src=\"data:video/mp4;base64,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\" type=\"video/mp4\" />\n",
              "             </video>"
            ],
            "text/plain": [
              "<IPython.core.display.HTML object>"
            ]
          },
          "metadata": {
            "tags": []
          }
        },
        {
          "output_type": "stream",
          "text": [
            "\n",
            "SHOWING VIDEO video/openaigym.video.1.62.video000100.mp4\n"
          ],
          "name": "stdout"
        },
        {
          "output_type": "display_data",
          "data": {
            "text/html": [
              "<video alt=\"test\" autoplay \n",
              "                loop controls style=\"height: 400px;\">\n",
              "                <source src=\"data:video/mp4;base64,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\" type=\"video/mp4\" />\n",
              "             </video>"
            ],
            "text/plain": [
              "<IPython.core.display.HTML object>"
            ]
          },
          "metadata": {
            "tags": []
          }
        },
        {
          "output_type": "stream",
          "text": [
            "\n",
            "SHOWING VIDEO video/openaigym.video.1.62.video000200.mp4\n"
          ],
          "name": "stdout"
        },
        {
          "output_type": "display_data",
          "data": {
            "text/html": [
              "<video alt=\"test\" autoplay \n",
              "                loop controls style=\"height: 400px;\">\n",
              "                <source src=\"data:video/mp4;base64,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\" type=\"video/mp4\" />\n",
              "             </video>"
            ],
            "text/plain": [
              "<IPython.core.display.HTML object>"
            ]
          },
          "metadata": {
            "tags": []
          }
        },
        {
          "output_type": "stream",
          "text": [
            "\n",
            "SHOWING VIDEO video/openaigym.video.1.62.video000300.mp4\n"
          ],
          "name": "stdout"
        },
        {
          "output_type": "display_data",
          "data": {
            "text/html": [
              "<video alt=\"test\" autoplay \n",
              "                loop controls style=\"height: 400px;\">\n",
              "                <source src=\"data:video/mp4;base64,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\" type=\"video/mp4\" />\n",
              "             </video>"
            ],
            "text/plain": [
              "<IPython.core.display.HTML object>"
            ]
          },
          "metadata": {
            "tags": []
          }
        },
        {
          "output_type": "stream",
          "text": [
            "\n",
            "SHOWING VIDEO video/openaigym.video.1.62.video000400.mp4\n"
          ],
          "name": "stdout"
        },
        {
          "output_type": "display_data",
          "data": {
            "text/html": [
              "<video alt=\"test\" autoplay \n",
              "                loop controls style=\"height: 400px;\">\n",
              "                <source src=\"data:video/mp4;base64,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\" type=\"video/mp4\" />\n",
              "             </video>"
            ],
            "text/plain": [
              "<IPython.core.display.HTML object>"
            ]
          },
          "metadata": {
            "tags": []
          }
        },
        {
          "output_type": "stream",
          "text": [
            "\n",
            "SHOWING VIDEO video/openaigym.video.1.62.video000500.mp4\n"
          ],
          "name": "stdout"
        },
        {
          "output_type": "display_data",
          "data": {
            "text/html": [
              "<video alt=\"test\" autoplay \n",
              "                loop controls style=\"height: 400px;\">\n",
              "                <source src=\"data:video/mp4;base64,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\" type=\"video/mp4\" />\n",
              "             </video>"
            ],
            "text/plain": [
              "<IPython.core.display.HTML object>"
            ]
          },
          "metadata": {
            "tags": []
          }
        },
        {
          "output_type": "stream",
          "text": [
            "\n",
            "SHOWING VIDEO video/openaigym.video.1.62.video000600.mp4\n"
          ],
          "name": "stdout"
        },
        {
          "output_type": "display_data",
          "data": {
            "text/html": [
              "<video alt=\"test\" autoplay \n",
              "                loop controls style=\"height: 400px;\">\n",
              "                <source src=\"data:video/mp4;base64,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\" type=\"video/mp4\" />\n",
              "             </video>"
            ],
            "text/plain": [
              "<IPython.core.display.HTML object>"
            ]
          },
          "metadata": {
            "tags": []
          }
        },
        {
          "output_type": "stream",
          "text": [
            "\n",
            "SHOWING VIDEO video/openaigym.video.1.62.video000700.mp4\n"
          ],
          "name": "stdout"
        },
        {
          "output_type": "display_data",
          "data": {
            "text/html": [
              "<video alt=\"test\" autoplay \n",
              "                loop controls style=\"height: 400px;\">\n",
              "                <source src=\"data:video/mp4;base64,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\" type=\"video/mp4\" />\n",
              "             </video>"
            ],
            "text/plain": [
              "<IPython.core.display.HTML object>"
            ]
          },
          "metadata": {
            "tags": []
          }
        },
        {
          "output_type": "stream",
          "text": [
            "\n",
            "SHOWING VIDEO video/openaigym.video.1.62.video000800.mp4\n"
          ],
          "name": "stdout"
        },
        {
          "output_type": "display_data",
          "data": {
            "text/html": [
              "<video alt=\"test\" autoplay \n",
              "                loop controls style=\"height: 400px;\">\n",
              "                <source src=\"data:video/mp4;base64,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\" type=\"video/mp4\" />\n",
              "             </video>"
            ],
            "text/plain": [
              "<IPython.core.display.HTML object>"
            ]
          },
          "metadata": {
            "tags": []
          }
        },
        {
          "output_type": "stream",
          "text": [
            "\n",
            "SHOWING VIDEO video/openaigym.video.1.62.video000900.mp4\n"
          ],
          "name": "stdout"
        },
        {
          "output_type": "display_data",
          "data": {
            "text/html": [
              "<video alt=\"test\" autoplay \n",
              "                loop controls style=\"height: 400px;\">\n",
              "                <source src=\"data:video/mp4;base64,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\" type=\"video/mp4\" />\n",
              "             </video>"
            ],
            "text/plain": [
              "<IPython.core.display.HTML object>"
            ]
          },
          "metadata": {
            "tags": []
          }
        }
      ]
    },
    {
      "cell_type": "code",
      "metadata": {
        "id": "Oc6cJfUnBpoi",
        "colab": {
          "base_uri": "https://localhost:8080/",
          "height": 263
        },
        "outputId": "ef562d0f-8a6a-4d88-d755-48ccc6009fce"
      },
      "source": [
        "# Exploration profile\n",
        "plt.figure(figsize=(12,6))\n",
        "plt.plot(scores)\n",
        "plt.xlabel('Iteration', fontsize=18)\n",
        "plt.ylabel('Score', fontsize=18)\n",
        "plt.legend()\n",
        "plt.grid(ls='--')"
      ],
      "execution_count": 25,
      "outputs": [
        {
          "output_type": "error",
          "ename": "NameError",
          "evalue": "ignored",
          "traceback": [
            "\u001b[0;31m---------------------------------------------------------------------------\u001b[0m",
            "\u001b[0;31mNameError\u001b[0m                                 Traceback (most recent call last)",
            "\u001b[0;32m<ipython-input-25-9523e7ef399d>\u001b[0m in \u001b[0;36m<module>\u001b[0;34m()\u001b[0m\n\u001b[1;32m      1\u001b[0m \u001b[0;31m# Exploration profile\u001b[0m\u001b[0;34m\u001b[0m\u001b[0;34m\u001b[0m\u001b[0;34m\u001b[0m\u001b[0m\n\u001b[1;32m      2\u001b[0m \u001b[0mplt\u001b[0m\u001b[0;34m.\u001b[0m\u001b[0mfigure\u001b[0m\u001b[0;34m(\u001b[0m\u001b[0mfigsize\u001b[0m\u001b[0;34m=\u001b[0m\u001b[0;34m(\u001b[0m\u001b[0;36m12\u001b[0m\u001b[0;34m,\u001b[0m\u001b[0;36m6\u001b[0m\u001b[0;34m)\u001b[0m\u001b[0;34m)\u001b[0m\u001b[0;34m\u001b[0m\u001b[0;34m\u001b[0m\u001b[0m\n\u001b[0;32m----> 3\u001b[0;31m \u001b[0mplt\u001b[0m\u001b[0;34m.\u001b[0m\u001b[0mplot\u001b[0m\u001b[0;34m(\u001b[0m\u001b[0mscores\u001b[0m\u001b[0;34m)\u001b[0m\u001b[0;34m\u001b[0m\u001b[0;34m\u001b[0m\u001b[0m\n\u001b[0m\u001b[1;32m      4\u001b[0m \u001b[0mplt\u001b[0m\u001b[0;34m.\u001b[0m\u001b[0mxlabel\u001b[0m\u001b[0;34m(\u001b[0m\u001b[0;34m'Iteration'\u001b[0m\u001b[0;34m,\u001b[0m \u001b[0mfontsize\u001b[0m\u001b[0;34m=\u001b[0m\u001b[0;36m18\u001b[0m\u001b[0;34m)\u001b[0m\u001b[0;34m\u001b[0m\u001b[0;34m\u001b[0m\u001b[0m\n\u001b[1;32m      5\u001b[0m \u001b[0mplt\u001b[0m\u001b[0;34m.\u001b[0m\u001b[0mylabel\u001b[0m\u001b[0;34m(\u001b[0m\u001b[0;34m'Score'\u001b[0m\u001b[0;34m,\u001b[0m \u001b[0mfontsize\u001b[0m\u001b[0;34m=\u001b[0m\u001b[0;36m18\u001b[0m\u001b[0;34m)\u001b[0m\u001b[0;34m\u001b[0m\u001b[0;34m\u001b[0m\u001b[0m\n",
            "\u001b[0;31mNameError\u001b[0m: name 'scores' is not defined"
          ]
        },
        {
          "output_type": "display_data",
          "data": {
            "text/plain": [
              "<Figure size 864x432 with 0 Axes>"
            ]
          },
          "metadata": {
            "tags": []
          }
        }
      ]
    },
    {
      "cell_type": "markdown",
      "metadata": {
        "id": "JkG9iDZTIhzc"
      },
      "source": [
        "## Final test"
      ]
    },
    {
      "cell_type": "code",
      "metadata": {
        "id": "vJKgnu3_IjWE"
      },
      "source": [
        "# Initialize the Gym environment\n",
        "env = gym.make('CartPole-v1') \n",
        "env.seed(1) # Set a random seed for the environment (reproducible results)\n",
        "\n",
        "# This is for creating the output video in Colab, not required outside Colab\n",
        "env = wrap_env(env, video_callable=lambda episode_id: True) # Save a video every episode\n",
        "\n",
        "# Let's try for a total of 10 episodes\n",
        "for num_episode in range(10): \n",
        "    # Reset the environment and get the initial state\n",
        "    state = env.reset()\n",
        "    # Reset the score. The final score will be the total amount of steps before the pole falls\n",
        "    score = 0\n",
        "    done = False\n",
        "    # Go on until the pole falls off or the score reach 490\n",
        "    while not done:\n",
        "      # Choose the best action (temperature 0)\n",
        "      action, q_values = choose_action_softmax(policy_net, state, temperature=0)\n",
        "      # Apply the action and get the next state, the reward and a flag \"done\" that is True if the game is ended\n",
        "      next_state, reward, done, info = env.step(action)\n",
        "      # Visually render the environment\n",
        "      env.render()\n",
        "      # Update the final score (+1 for each step)\n",
        "      score += reward \n",
        "      # Set the current state for the next iteration\n",
        "      state = next_state\n",
        "      # Check if the episode ended (the pole fell down)\n",
        "    # Print the final score\n",
        "    print(f\"EPISODE {num_episode + 1} - FINAL SCORE: {score}\") \n",
        "env.close()"
      ],
      "execution_count": null,
      "outputs": []
    },
    {
      "cell_type": "code",
      "metadata": {
        "id": "mxdtGJutLqlw"
      },
      "source": [
        "# Display the videos, not required outside Colab\n",
        "show_videos()"
      ],
      "execution_count": null,
      "outputs": []
    },
    {
      "cell_type": "markdown",
      "metadata": {
        "id": "Y8dVoPQmCGZ0"
      },
      "source": [
        "# CartPole control using screen pixels"
      ]
    },
    {
      "cell_type": "code",
      "metadata": {
        "id": "Bfh5N8jQPs24"
      },
      "source": [
        ""
      ],
      "execution_count": null,
      "outputs": []
    },
    {
      "cell_type": "markdown",
      "metadata": {
        "id": "cgd3MN3JPtkU"
      },
      "source": [
        "# Moon Landing"
      ]
    },
    {
      "cell_type": "code",
      "metadata": {
        "id": "IMrAycS5QdTn"
      },
      "source": [
        ""
      ],
      "execution_count": null,
      "outputs": []
    }
  ]
}
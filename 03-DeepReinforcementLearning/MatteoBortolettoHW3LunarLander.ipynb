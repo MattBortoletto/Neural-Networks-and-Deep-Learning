{
  "nbformat": 4,
  "nbformat_minor": 0,
  "metadata": {
    "colab": {
      "name": "MatteoBortolettoHW3LunarLander.ipynb",
      "provenance": [],
      "collapsed_sections": []
    },
    "kernelspec": {
      "name": "python3",
      "display_name": "Python 3"
    },
    "language_info": {
      "name": "python"
    },
    "widgets": {
      "application/vnd.jupyter.widget-state+json": {
        "cf8ba452e8a9438b91d5c475ed6fbfc9": {
          "model_module": "@jupyter-widgets/controls",
          "model_name": "HBoxModel",
          "state": {
            "_view_name": "HBoxView",
            "_dom_classes": [],
            "_model_name": "HBoxModel",
            "_view_module": "@jupyter-widgets/controls",
            "_model_module_version": "1.5.0",
            "_view_count": null,
            "_view_module_version": "1.5.0",
            "box_style": "",
            "layout": "IPY_MODEL_e0ef8e4a0e384f388e225193af681a00",
            "_model_module": "@jupyter-widgets/controls",
            "children": [
              "IPY_MODEL_c16ef23475294becb876a45186d4bc7a",
              "IPY_MODEL_35eb35a964c9430c95cba21b8bcef315"
            ]
          }
        },
        "e0ef8e4a0e384f388e225193af681a00": {
          "model_module": "@jupyter-widgets/base",
          "model_name": "LayoutModel",
          "state": {
            "_view_name": "LayoutView",
            "grid_template_rows": null,
            "right": null,
            "justify_content": null,
            "_view_module": "@jupyter-widgets/base",
            "overflow": null,
            "_model_module_version": "1.2.0",
            "_view_count": null,
            "flex_flow": null,
            "width": null,
            "min_width": null,
            "border": null,
            "align_items": null,
            "bottom": null,
            "_model_module": "@jupyter-widgets/base",
            "top": null,
            "grid_column": null,
            "overflow_y": null,
            "overflow_x": null,
            "grid_auto_flow": null,
            "grid_area": null,
            "grid_template_columns": null,
            "flex": null,
            "_model_name": "LayoutModel",
            "justify_items": null,
            "grid_row": null,
            "max_height": null,
            "align_content": null,
            "visibility": null,
            "align_self": null,
            "height": null,
            "min_height": null,
            "padding": null,
            "grid_auto_rows": null,
            "grid_gap": null,
            "max_width": null,
            "order": null,
            "_view_module_version": "1.2.0",
            "grid_template_areas": null,
            "object_position": null,
            "object_fit": null,
            "grid_auto_columns": null,
            "margin": null,
            "display": null,
            "left": null
          }
        },
        "c16ef23475294becb876a45186d4bc7a": {
          "model_module": "@jupyter-widgets/controls",
          "model_name": "FloatProgressModel",
          "state": {
            "_view_name": "ProgressView",
            "style": "IPY_MODEL_e91e277266894ee8897e62468fb7affc",
            "_dom_classes": [],
            "description": "100%",
            "_model_name": "FloatProgressModel",
            "bar_style": "success",
            "max": 800,
            "_view_module": "@jupyter-widgets/controls",
            "_model_module_version": "1.5.0",
            "value": 800,
            "_view_count": null,
            "_view_module_version": "1.5.0",
            "orientation": "horizontal",
            "min": 0,
            "description_tooltip": null,
            "_model_module": "@jupyter-widgets/controls",
            "layout": "IPY_MODEL_43abe0af4d2f4df0b323cb50e781cccb"
          }
        },
        "35eb35a964c9430c95cba21b8bcef315": {
          "model_module": "@jupyter-widgets/controls",
          "model_name": "HTMLModel",
          "state": {
            "_view_name": "HTMLView",
            "style": "IPY_MODEL_c46d08a42e3744ada426886ea729df25",
            "_dom_classes": [],
            "description": "",
            "_model_name": "HTMLModel",
            "placeholder": "​",
            "_view_module": "@jupyter-widgets/controls",
            "_model_module_version": "1.5.0",
            "value": " 800/800 [26:49&lt;00:00,  2.01s/it]",
            "_view_count": null,
            "_view_module_version": "1.5.0",
            "description_tooltip": null,
            "_model_module": "@jupyter-widgets/controls",
            "layout": "IPY_MODEL_c1a2acaf25e04e40a3fa8021ba595d4d"
          }
        },
        "e91e277266894ee8897e62468fb7affc": {
          "model_module": "@jupyter-widgets/controls",
          "model_name": "ProgressStyleModel",
          "state": {
            "_view_name": "StyleView",
            "_model_name": "ProgressStyleModel",
            "description_width": "initial",
            "_view_module": "@jupyter-widgets/base",
            "_model_module_version": "1.5.0",
            "_view_count": null,
            "_view_module_version": "1.2.0",
            "bar_color": null,
            "_model_module": "@jupyter-widgets/controls"
          }
        },
        "43abe0af4d2f4df0b323cb50e781cccb": {
          "model_module": "@jupyter-widgets/base",
          "model_name": "LayoutModel",
          "state": {
            "_view_name": "LayoutView",
            "grid_template_rows": null,
            "right": null,
            "justify_content": null,
            "_view_module": "@jupyter-widgets/base",
            "overflow": null,
            "_model_module_version": "1.2.0",
            "_view_count": null,
            "flex_flow": null,
            "width": null,
            "min_width": null,
            "border": null,
            "align_items": null,
            "bottom": null,
            "_model_module": "@jupyter-widgets/base",
            "top": null,
            "grid_column": null,
            "overflow_y": null,
            "overflow_x": null,
            "grid_auto_flow": null,
            "grid_area": null,
            "grid_template_columns": null,
            "flex": null,
            "_model_name": "LayoutModel",
            "justify_items": null,
            "grid_row": null,
            "max_height": null,
            "align_content": null,
            "visibility": null,
            "align_self": null,
            "height": null,
            "min_height": null,
            "padding": null,
            "grid_auto_rows": null,
            "grid_gap": null,
            "max_width": null,
            "order": null,
            "_view_module_version": "1.2.0",
            "grid_template_areas": null,
            "object_position": null,
            "object_fit": null,
            "grid_auto_columns": null,
            "margin": null,
            "display": null,
            "left": null
          }
        },
        "c46d08a42e3744ada426886ea729df25": {
          "model_module": "@jupyter-widgets/controls",
          "model_name": "DescriptionStyleModel",
          "state": {
            "_view_name": "StyleView",
            "_model_name": "DescriptionStyleModel",
            "description_width": "",
            "_view_module": "@jupyter-widgets/base",
            "_model_module_version": "1.5.0",
            "_view_count": null,
            "_view_module_version": "1.2.0",
            "_model_module": "@jupyter-widgets/controls"
          }
        },
        "c1a2acaf25e04e40a3fa8021ba595d4d": {
          "model_module": "@jupyter-widgets/base",
          "model_name": "LayoutModel",
          "state": {
            "_view_name": "LayoutView",
            "grid_template_rows": null,
            "right": null,
            "justify_content": null,
            "_view_module": "@jupyter-widgets/base",
            "overflow": null,
            "_model_module_version": "1.2.0",
            "_view_count": null,
            "flex_flow": null,
            "width": null,
            "min_width": null,
            "border": null,
            "align_items": null,
            "bottom": null,
            "_model_module": "@jupyter-widgets/base",
            "top": null,
            "grid_column": null,
            "overflow_y": null,
            "overflow_x": null,
            "grid_auto_flow": null,
            "grid_area": null,
            "grid_template_columns": null,
            "flex": null,
            "_model_name": "LayoutModel",
            "justify_items": null,
            "grid_row": null,
            "max_height": null,
            "align_content": null,
            "visibility": null,
            "align_self": null,
            "height": null,
            "min_height": null,
            "padding": null,
            "grid_auto_rows": null,
            "grid_gap": null,
            "max_width": null,
            "order": null,
            "_view_module_version": "1.2.0",
            "grid_template_areas": null,
            "object_position": null,
            "object_fit": null,
            "grid_auto_columns": null,
            "margin": null,
            "display": null,
            "left": null
          }
        }
      }
    }
  },
  "cells": [
    {
      "cell_type": "code",
      "metadata": {
        "id": "sLcaRpiiuqVN"
      },
      "source": [
        "import random\n",
        "import torch\n",
        "import numpy as np\n",
        "import gym\n",
        "import matplotlib.pyplot as plt\n",
        "from tqdm.notebook import tqdm\n",
        "\n",
        "from torch import nn\n",
        "from collections import deque # this python module implements exactly what we need for the replay memeory"
      ],
      "execution_count": 1,
      "outputs": []
    },
    {
      "cell_type": "markdown",
      "metadata": {
        "id": "LKzDB1SPZYY1"
      },
      "source": [
        "# Enable gym environment rendering in Colab\n",
        "\n",
        "> This section is not required if you are executing the notebook in a local environment. It enables the video generation from Gym environments, and it is only required in Colab since we do not have access to a screen.\n",
        "\n",
        "Source: https://colab.research.google.com/drive/18LdlDDT87eb8cCTHZsXyS9ksQPzL3i6H"
      ]
    },
    {
      "cell_type": "code",
      "metadata": {
        "id": "V0HIwpatSteb",
        "colab": {
          "base_uri": "https://localhost:8080/"
        },
        "outputId": "e0402e43-be83-440d-bae3-42f956964d4e"
      },
      "source": [
        "!apt update\n",
        "!apt-get install python-opengl -y\n",
        "!apt install xvfb -y\n",
        "!pip install pyvirtualdisplay\n",
        "!pip install piglet"
      ],
      "execution_count": 2,
      "outputs": [
        {
          "output_type": "stream",
          "text": [
            "\u001b[33m\r0% [Working]\u001b[0m\r            \rGet:1 http://security.ubuntu.com/ubuntu bionic-security InRelease [88.7 kB]\n",
            "\u001b[33m\r0% [Connecting to archive.ubuntu.com (91.189.88.152)] [1 InRelease 14.2 kB/88.7\u001b[0m\r                                                                               \rIgn:2 https://developer.download.nvidia.com/compute/cuda/repos/ubuntu1804/x86_64  InRelease\n",
            "\u001b[33m\r0% [Waiting for headers] [1 InRelease 77.9 kB/88.7 kB 88%] [Connected to cloud.\u001b[0m\u001b[33m\r0% [Waiting for headers] [Waiting for headers] [Waiting for headers] [Waiting f\u001b[0m\u001b[33m\r0% [1 InRelease gpgv 88.7 kB] [Waiting for headers] [Waiting for headers] [Wait\u001b[0m\r                                                                               \rHit:3 https://cloud.r-project.org/bin/linux/ubuntu bionic-cran40/ InRelease\n",
            "\u001b[33m\r0% [1 InRelease gpgv 88.7 kB] [Waiting for headers] [Waiting for headers] [Wait\u001b[0m\r                                                                               \rHit:4 http://ppa.launchpad.net/c2d4u.team/c2d4u4.0+/ubuntu bionic InRelease\n",
            "\u001b[33m\r0% [1 InRelease gpgv 88.7 kB] [Waiting for headers] [Connecting to ppa.launchpa\u001b[0m\r                                                                               \rHit:5 http://archive.ubuntu.com/ubuntu bionic InRelease\n",
            "Get:6 http://archive.ubuntu.com/ubuntu bionic-updates InRelease [88.7 kB]\n",
            "Ign:7 https://developer.download.nvidia.com/compute/machine-learning/repos/ubuntu1804/x86_64  InRelease\n",
            "Hit:8 https://developer.download.nvidia.com/compute/cuda/repos/ubuntu1804/x86_64  Release\n",
            "Hit:9 https://developer.download.nvidia.com/compute/machine-learning/repos/ubuntu1804/x86_64  Release\n",
            "Hit:10 http://ppa.launchpad.net/cran/libgit2/ubuntu bionic InRelease\n",
            "Hit:11 http://ppa.launchpad.net/deadsnakes/ppa/ubuntu bionic InRelease\n",
            "Get:12 http://archive.ubuntu.com/ubuntu bionic-backports InRelease [74.6 kB]\n",
            "Hit:13 http://ppa.launchpad.net/graphics-drivers/ppa/ubuntu bionic InRelease\n",
            "Fetched 252 kB in 2s (109 kB/s)\n",
            "Reading package lists... Done\n",
            "Building dependency tree       \n",
            "Reading state information... Done\n",
            "49 packages can be upgraded. Run 'apt list --upgradable' to see them.\n",
            "Reading package lists... Done\n",
            "Building dependency tree       \n",
            "Reading state information... Done\n",
            "python-opengl is already the newest version (3.1.0+dfsg-1).\n",
            "0 upgraded, 0 newly installed, 0 to remove and 49 not upgraded.\n",
            "Reading package lists... Done\n",
            "Building dependency tree       \n",
            "Reading state information... Done\n",
            "xvfb is already the newest version (2:1.19.6-1ubuntu4.9).\n",
            "0 upgraded, 0 newly installed, 0 to remove and 49 not upgraded.\n",
            "Requirement already satisfied: pyvirtualdisplay in /usr/local/lib/python3.7/dist-packages (2.2)\n",
            "Requirement already satisfied: EasyProcess in /usr/local/lib/python3.7/dist-packages (from pyvirtualdisplay) (0.3)\n",
            "Requirement already satisfied: piglet in /usr/local/lib/python3.7/dist-packages (1.0.0)\n",
            "Requirement already satisfied: piglet-templates in /usr/local/lib/python3.7/dist-packages (from piglet) (1.2.0)\n",
            "Requirement already satisfied: pyparsing in /usr/local/lib/python3.7/dist-packages (from piglet-templates->piglet) (2.4.7)\n",
            "Requirement already satisfied: astunparse in /usr/local/lib/python3.7/dist-packages (from piglet-templates->piglet) (1.6.3)\n",
            "Requirement already satisfied: attrs in /usr/local/lib/python3.7/dist-packages (from piglet-templates->piglet) (21.2.0)\n",
            "Requirement already satisfied: markupsafe in /usr/local/lib/python3.7/dist-packages (from piglet-templates->piglet) (2.0.1)\n",
            "Requirement already satisfied: six<2.0,>=1.6.1 in /usr/local/lib/python3.7/dist-packages (from astunparse->piglet-templates->piglet) (1.15.0)\n",
            "Requirement already satisfied: wheel<1.0,>=0.23.0 in /usr/local/lib/python3.7/dist-packages (from astunparse->piglet-templates->piglet) (0.36.2)\n"
          ],
          "name": "stdout"
        }
      ]
    },
    {
      "cell_type": "code",
      "metadata": {
        "id": "jxM-vHKz1r_M"
      },
      "source": [
        "import glob\n",
        "import io\n",
        "import base64\n",
        "import os\n",
        "from IPython.display import HTML\n",
        "from IPython import display as ipythondisplay\n",
        "from pyvirtualdisplay import Display\n",
        "from gym.wrappers import Monitor"
      ],
      "execution_count": 3,
      "outputs": []
    },
    {
      "cell_type": "code",
      "metadata": {
        "id": "E0oXbzI2ZAfv",
        "colab": {
          "base_uri": "https://localhost:8080/"
        },
        "outputId": "3bb456f0-a6c4-46fe-e966-e3500ad23b39"
      },
      "source": [
        "display = Display(visible=0, size=(1400, 900))\n",
        "display.start()"
      ],
      "execution_count": 4,
      "outputs": [
        {
          "output_type": "execute_result",
          "data": {
            "text/plain": [
              "<pyvirtualdisplay.display.Display at 0x7fdc2115d390>"
            ]
          },
          "metadata": {
            "tags": []
          },
          "execution_count": 4
        }
      ]
    },
    {
      "cell_type": "code",
      "metadata": {
        "id": "yr5j5rz0ZEJf"
      },
      "source": [
        "# This code creates a virtual display to draw game images on. \n",
        "# If you are running locally, just ignore it\n",
        "if type(os.environ.get(\"DISPLAY\")) is not str or len(os.environ.get(\"DISPLAY\"))==0:\n",
        "    !bash ../xvfb start\n",
        "    %env DISPLAY=:1"
      ],
      "execution_count": 5,
      "outputs": []
    },
    {
      "cell_type": "code",
      "metadata": {
        "id": "StaxWEA0Z-O1"
      },
      "source": [
        "\"\"\"\n",
        "Utility functions to enable video recording of gym environment and displaying it\n",
        "To enable video, just do \"env = wrap_env(env)\"\"\n",
        "\"\"\"\n",
        "\n",
        "def show_videos():\n",
        "  mp4list = glob.glob('video/*.mp4')\n",
        "  mp4list.sort()\n",
        "  for mp4 in mp4list:\n",
        "    print(f\"\\nSHOWING VIDEO {mp4}\")\n",
        "    video = io.open(mp4, 'r+b').read()\n",
        "    encoded = base64.b64encode(video)\n",
        "    ipythondisplay.display(HTML(data='''<video alt=\"test\" autoplay \n",
        "                loop controls style=\"height: 400px;\">\n",
        "                <source src=\"data:video/mp4;base64,{0}\" type=\"video/mp4\" />\n",
        "             </video>'''.format(encoded.decode('ascii'))))\n",
        "    \n",
        "def wrap_env(env, video_callable=None):\n",
        "  env = Monitor(env, './video', force=True, video_callable=video_callable)\n",
        "  return env"
      ],
      "execution_count": 6,
      "outputs": []
    },
    {
      "cell_type": "markdown",
      "metadata": {
        "id": "wA_0gAmJfFlT"
      },
      "source": [
        "## Experience replay (Replay Memory)"
      ]
    },
    {
      "cell_type": "code",
      "metadata": {
        "id": "1axKWEBl8uik"
      },
      "source": [
        "class ReplayMemory(object):\n",
        "\n",
        "    def __init__(self, capacity):\n",
        "        self.memory = deque(maxlen=capacity) # Define a queue with maxlen \"capacity\"\n",
        "\n",
        "    def push(self, state, action, next_state, reward):\n",
        "        self.memory.append( (state, action, next_state, reward) ) # Add the tuple (state, action, next_state, reward) to the queue\n",
        "\n",
        "    def sample(self, batch_size):\n",
        "        batch_size = min(batch_size, len(self)) # Get all the samples if the requested batch_size is higher than the number of sample currently in the memory\n",
        "        return random.sample(self.memory, batch_size) # Randomly select \"batch_size\" samples\n",
        "\n",
        "    def __len__(self):\n",
        "        return len(self.memory) # Return the number of samples currently stored in the memory"
      ],
      "execution_count": 7,
      "outputs": []
    },
    {
      "cell_type": "markdown",
      "metadata": {
        "id": "Y-nBdx6KfKNE"
      },
      "source": [
        "## Policy network"
      ]
    },
    {
      "cell_type": "markdown",
      "metadata": {
        "id": "-rdsRx6wfZw1"
      },
      "source": [
        "### Network definition"
      ]
    },
    {
      "cell_type": "code",
      "metadata": {
        "id": "W41rXekb8x7K"
      },
      "source": [
        "class DQN(nn.Module):\n",
        "\n",
        "    def __init__(self, state_space_dim, action_space_dim):\n",
        "        super().__init__()\n",
        "\n",
        "        self.linear = nn.Sequential(\n",
        "                nn.Linear(state_space_dim, 128),\n",
        "                nn.ReLU(),\n",
        "                nn.Linear(128, 128),\n",
        "                nn.ReLU(),\n",
        "                nn.Linear(128, 64)\n",
        "                nn.ReLU(),\n",
        "                nn.Linear(64, action_space_dim)\n",
        "                )\n",
        "\n",
        "    def forward(self, x):\n",
        "        return self.linear(x)"
      ],
      "execution_count": 8,
      "outputs": []
    },
    {
      "cell_type": "code",
      "metadata": {
        "id": "tLPAsTT4gpeW"
      },
      "source": [
        "# Define an example network\n",
        "net = DQN(state_space_dim=4, action_space_dim=2)"
      ],
      "execution_count": 9,
      "outputs": []
    },
    {
      "cell_type": "markdown",
      "metadata": {
        "id": "ynfEXqjGfbpl"
      },
      "source": [
        "### Exploration Policy"
      ]
    },
    {
      "cell_type": "markdown",
      "metadata": {
        "id": "3x-kRJbQfqBR"
      },
      "source": [
        "#### Epsilon-greedy policy\n"
      ]
    },
    {
      "cell_type": "code",
      "metadata": {
        "id": "ZXfh_Ub1fv4c"
      },
      "source": [
        "def choose_action_epsilon_greedy(net, state, epsilon):\n",
        "    \n",
        "    if epsilon > 1 or epsilon < 0:\n",
        "        raise Exception('The epsilon value must be between 0 and 1')\n",
        "                \n",
        "    # Evaluate the network output from the current state\n",
        "    with torch.no_grad():\n",
        "        net.eval()\n",
        "        state = torch.tensor(state, dtype=torch.float32) # Convert the state to tensor\n",
        "        net_out = net(state)\n",
        "\n",
        "    # Get the best action (argmax of the network output)\n",
        "    best_action = int(net_out.argmax())\n",
        "    # Get the number of possible actions\n",
        "    action_space_dim = net_out.shape[-1]\n",
        "\n",
        "    # Select a non optimal action with probability epsilon, otherwise choose the best action\n",
        "    if random.random() < epsilon:\n",
        "        # List of non-optimal actions\n",
        "        non_optimal_actions = [a for a in range(action_space_dim) if a != best_action]\n",
        "        # Select randomly\n",
        "        action = random.choice(non_optimal_actions)\n",
        "    else:\n",
        "        # Select best action\n",
        "        action = best_action\n",
        "        \n",
        "    return action, net_out.numpy()"
      ],
      "execution_count": 10,
      "outputs": []
    },
    {
      "cell_type": "markdown",
      "metadata": {
        "id": "Vvxi7b82f0g4"
      },
      "source": [
        "#### Softmax policy"
      ]
    },
    {
      "cell_type": "code",
      "metadata": {
        "id": "taW_cjBsf4sW"
      },
      "source": [
        "def choose_action_softmax(net, state, temperature):\n",
        "    \n",
        "    if temperature < 0:\n",
        "        raise Exception('The temperature value must be greater than or equal to 0 ')\n",
        "        \n",
        "    # If the temperature is 0, just select the best action using the eps-greedy policy with epsilon = 0\n",
        "    if temperature == 0:\n",
        "        return choose_action_epsilon_greedy(net, state, 0)\n",
        "    \n",
        "    # Evaluate the network output from the current state\n",
        "    with torch.no_grad():\n",
        "        net.eval()\n",
        "        state = torch.tensor(state, dtype=torch.float32)\n",
        "        net_out = net(state)\n",
        "\n",
        "    # Apply softmax with temp\n",
        "    temperature = max(temperature, 1e-8) # set a minimum to the temperature for numerical stability\n",
        "    softmax_out = nn.functional.softmax(net_out / temperature, dim=0).numpy()\n",
        "                \n",
        "    # Sample the action using softmax output as mass pdf\n",
        "    all_possible_actions = np.arange(0, softmax_out.shape[-1])\n",
        "    action = np.random.choice(all_possible_actions, p=softmax_out) # this samples a random element from \"all_possible_actions\" with the probability distribution p (softmax_out in this case)\n",
        "    \n",
        "    return action, net_out.numpy()"
      ],
      "execution_count": 11,
      "outputs": []
    },
    {
      "cell_type": "markdown",
      "metadata": {
        "id": "QMXhJfZcpqIA"
      },
      "source": [
        "#### Exploration profile"
      ]
    },
    {
      "cell_type": "code",
      "metadata": {
        "id": "G-f78CC3ptt2",
        "colab": {
          "base_uri": "https://localhost:8080/",
          "height": 515
        },
        "outputId": "991c4e1d-8be0-4500-fc1c-ce6ea711289a"
      },
      "source": [
        "### Define exploration profile\n",
        "initial_value = 5\n",
        "num_iterations = 800\n",
        "exp_decay = np.exp(-np.log(initial_value) / num_iterations * 6) # We compute the exponential decay in such a way the shape of the exploration profile does not depend on the number of iterations\n",
        "exploration_profile = [initial_value * (exp_decay ** i) for i in range(num_iterations)]\n",
        "\n",
        "### Plot exploration profile\n",
        "plt.figure(figsize=(12,8))\n",
        "plt.plot(exploration_profile)\n",
        "plt.grid()\n",
        "plt.xlabel('Iteration')\n",
        "plt.ylabel('Exploration profile (Softmax temperature)')"
      ],
      "execution_count": 12,
      "outputs": [
        {
          "output_type": "execute_result",
          "data": {
            "text/plain": [
              "Text(0, 0.5, 'Exploration profile (Softmax temperature)')"
            ]
          },
          "metadata": {
            "tags": []
          },
          "execution_count": 12
        },
        {
          "output_type": "display_data",
          "data": {
            "image/png": "[encoded data removed]",
            "text/plain": [
              "<Figure size 864x576 with 1 Axes>"
            ]
          },
          "metadata": {
            "tags": [],
            "needs_background": "light"
          }
        }
      ]
    },
    {
      "cell_type": "markdown",
      "metadata": {
        "id": "QybkAKpSRae2"
      },
      "source": [
        "## LunarLander in Gym environment"
      ]
    },
    {
      "cell_type": "code",
      "metadata": {
        "colab": {
          "base_uri": "https://localhost:8080/"
        },
        "id": "_u6FCJ05ZwKb",
        "outputId": "43c9f8ef-278f-4975-8751-c8a84a3a7f6f"
      },
      "source": [
        "!pip3 install box2d-py\n",
        "!pip3 install gym[Box_2D]"
      ],
      "execution_count": 13,
      "outputs": [
        {
          "output_type": "stream",
          "text": [
            "Requirement already satisfied: box2d-py in /usr/local/lib/python3.7/dist-packages (2.3.8)\n",
            "Requirement already satisfied: gym[Box_2D] in /usr/local/lib/python3.7/dist-packages (0.17.3)\n",
            "\u001b[33m  WARNING: gym 0.17.3 does not provide the extra 'box_2d'\u001b[0m\n",
            "Requirement already satisfied: scipy in /usr/local/lib/python3.7/dist-packages (from gym[Box_2D]) (1.4.1)\n",
            "Requirement already satisfied: pyglet<=1.5.0,>=1.4.0 in /usr/local/lib/python3.7/dist-packages (from gym[Box_2D]) (1.5.0)\n",
            "Requirement already satisfied: cloudpickle<1.7.0,>=1.2.0 in /usr/local/lib/python3.7/dist-packages (from gym[Box_2D]) (1.3.0)\n",
            "Requirement already satisfied: numpy>=1.10.4 in /usr/local/lib/python3.7/dist-packages (from gym[Box_2D]) (1.19.5)\n",
            "Requirement already satisfied: future in /usr/local/lib/python3.7/dist-packages (from pyglet<=1.5.0,>=1.4.0->gym[Box_2D]) (0.16.0)\n"
          ],
          "name": "stdout"
        }
      ]
    },
    {
      "cell_type": "code",
      "metadata": {
        "id": "BADUyI13Z0Um"
      },
      "source": [
        "import gym"
      ],
      "execution_count": 14,
      "outputs": []
    },
    {
      "cell_type": "code",
      "metadata": {
        "id": "Ar0yNaNrCnjn",
        "colab": {
          "base_uri": "https://localhost:8080/"
        },
        "outputId": "6b6ad9b6-773b-4251-b3a8-b92c75805bbb"
      },
      "source": [
        "### Create environment\n",
        "env = gym.make('LunarLander-v2') # Initialize the Gym environment\n",
        "env.seed(0) # Set a random seed for the environment (reproducible results)\n",
        "\n",
        "# Get the shapes of the state space (observation_space) and action space (action_space)\n",
        "state_space_dim = env.observation_space.shape[0]\n",
        "action_space_dim = env.action_space.n\n",
        "\n",
        "print(f\"STATE SPACE SIZE: {state_space_dim}\")\n",
        "print(f\"ACTION SPACE SIZE: {action_space_dim}\")"
      ],
      "execution_count": 15,
      "outputs": [
        {
          "output_type": "stream",
          "text": [
            "STATE SPACE SIZE: 8\n",
            "ACTION SPACE SIZE: 4\n"
          ],
          "name": "stdout"
        }
      ]
    },
    {
      "cell_type": "markdown",
      "metadata": {
        "id": "9KXpjzf2vdeL"
      },
      "source": [
        "## Network update"
      ]
    },
    {
      "cell_type": "markdown",
      "metadata": {
        "id": "NZ3P9MKjxCAL"
      },
      "source": [
        "## Initialization"
      ]
    },
    {
      "cell_type": "code",
      "metadata": {
        "id": "lVpk-g0i9d-B"
      },
      "source": [
        "# Set random seeds\n",
        "torch.manual_seed(0)\n",
        "np.random.seed(0)\n",
        "random.seed(0)\n",
        "\n",
        "### PARAMETERS\n",
        "gamma = 0.99   # gamma parameter for the long term reward\n",
        "replay_memory_capacity = 10000   # Replay memory capacity\n",
        "lr = 0.06   # Optimizer learning rate\n",
        "target_net_update_steps = 10   # Number of episodes to wait before updating the target network\n",
        "batch_size = 128   # Number of samples to take from the replay memory for each update\n",
        "bad_state_penalty = 0   # Penalty to the reward when we are in a bad state (in this case when the pole falls down) \n",
        "min_samples_for_training = 1000   # Minimum samples in the replay memory to enable the training"
      ],
      "execution_count": 16,
      "outputs": []
    },
    {
      "cell_type": "code",
      "metadata": {
        "id": "2k3ZQuh8xHo7"
      },
      "source": [
        "### Initialize the replay memory\n",
        "replay_mem = ReplayMemory(replay_memory_capacity)    \n",
        "\n",
        "### Initialize the policy network\n",
        "policy_net = DQN(state_space_dim, action_space_dim)\n",
        "\n",
        "### Initialize the target network with the same weights of the policy network\n",
        "target_net = DQN(state_space_dim, action_space_dim)\n",
        "target_net.load_state_dict(policy_net.state_dict()) # This will copy the weights of the policy network to the target network\n",
        "\n",
        "### Initialize the optimizer\n",
        "optimizer = torch.optim.SGD(policy_net.parameters(), lr=lr) # The optimizer will update ONLY the parameters of the policy network\n",
        "\n",
        "### Initialize the loss function (Huber loss)\n",
        "loss_fn = nn.SmoothL1Loss()"
      ],
      "execution_count": 17,
      "outputs": []
    },
    {
      "cell_type": "markdown",
      "metadata": {
        "id": "LQUTrt8DzJXO"
      },
      "source": [
        "## Update function"
      ]
    },
    {
      "cell_type": "code",
      "metadata": {
        "id": "Sj1hEvPOvkBX"
      },
      "source": [
        "def update_step(policy_net, target_net, replay_mem, gamma, optimizer, loss_fn, batch_size):\n",
        "        \n",
        "    # Sample the data from the replay memory\n",
        "    batch = replay_mem.sample(batch_size)\n",
        "    batch_size = len(batch)\n",
        "\n",
        "    # Create tensors for each element of the batch\n",
        "    states      = torch.tensor([s[0] for s in batch], dtype=torch.float32)\n",
        "    actions     = torch.tensor([s[1] for s in batch], dtype=torch.int64)\n",
        "    rewards     = torch.tensor([s[3] for s in batch], dtype=torch.float32)\n",
        "\n",
        "    # Compute a mask of non-final states (all the elements where the next state is not None)\n",
        "    non_final_next_states = torch.tensor([s[2] for s in batch if s[2] is not None], dtype=torch.float32) # the next state can be None if the game has ended\n",
        "    non_final_mask = torch.tensor([s[2] is not None for s in batch], dtype=torch.bool)\n",
        "\n",
        "    # Compute all the Q values (forward pass)\n",
        "    policy_net.train()\n",
        "    q_values = policy_net(states)\n",
        "    # Select the proper Q value for the corresponding action taken Q(s_t, a)\n",
        "    state_action_values = q_values.gather(1, actions.unsqueeze(1))\n",
        "\n",
        "    # Compute the value function of the next states using the target network V(s_{t+1}) = max_a( Q_target(s_{t+1}, a)) )\n",
        "    with torch.no_grad():\n",
        "      target_net.eval()\n",
        "      q_values_target = target_net(non_final_next_states)\n",
        "    next_state_max_q_values = torch.zeros(batch_size)\n",
        "    next_state_max_q_values[non_final_mask] = q_values_target.max(dim=1)[0]\n",
        "\n",
        "    # Compute the expected Q values\n",
        "    expected_state_action_values = rewards + (next_state_max_q_values * gamma)\n",
        "    expected_state_action_values = expected_state_action_values.unsqueeze(1) # Set the required tensor shape\n",
        "\n",
        "    # Compute the Huber loss\n",
        "    loss = loss_fn(state_action_values, expected_state_action_values)\n",
        "\n",
        "    # Optimize the model\n",
        "    optimizer.zero_grad()\n",
        "    loss.backward()\n",
        "    # Apply gradient clipping (clip all the gradients greater than 2 for training stability)\n",
        "    nn.utils.clip_grad_norm_(policy_net.parameters(), 2)\n",
        "    optimizer.step()"
      ],
      "execution_count": 18,
      "outputs": []
    },
    {
      "cell_type": "markdown",
      "metadata": {
        "id": "03Ab0RMB5CCC"
      },
      "source": [
        "## Training loop"
      ]
    },
    {
      "cell_type": "code",
      "metadata": {
        "id": "WF6Zf53FoRDZ",
        "colab": {
          "base_uri": "https://localhost:8080/",
          "height": 1000,
          "referenced_widgets": [
            "cf8ba452e8a9438b91d5c475ed6fbfc9",
            "e0ef8e4a0e384f388e225193af681a00",
            "c16ef23475294becb876a45186d4bc7a",
            "35eb35a964c9430c95cba21b8bcef315",
            "e91e277266894ee8897e62468fb7affc",
            "43abe0af4d2f4df0b323cb50e781cccb",
            "c46d08a42e3744ada426886ea729df25",
            "c1a2acaf25e04e40a3fa8021ba595d4d"
          ]
        },
        "outputId": "5fa7a93c-0cc7-4e54-f347-21c90e0fb339"
      },
      "source": [
        "# Initialize the Gym environment\n",
        "env = gym.make('LunarLander-v2') \n",
        "env.seed(0) # Set a random seed for the environment (reproducible results)\n",
        "\n",
        "# This is for creating the output video in Colab, not required outside Colab\n",
        "#env = wrap_env(env, video_callable=lambda episode_id: episode_id % 100 == 0) # Save a video every 100 episodes\n",
        "\n",
        "scores = []\n",
        "\n",
        "for episode_num, tau in enumerate(tqdm(exploration_profile)):\n",
        "\n",
        "    # Reset the environment and get the initial state\n",
        "    state = env.reset()\n",
        "    # Reset the score. The final score will be the total amount of steps before the pole falls\n",
        "    score = 0\n",
        "    done = False\n",
        "\n",
        "    # Go on until the pole falls off\n",
        "    while not done:\n",
        "\n",
        "      # Choose the action following the policy\n",
        "      action, q_values = choose_action_softmax(policy_net, state, temperature=tau)\n",
        "      \n",
        "      # Apply the action and get the next state, the reward and a flag \"done\" that is True if the game is ended\n",
        "      next_state, reward, done, info = env.step(action)\n",
        "\n",
        "      # We apply a (linear) penalty when the cart is far from center\n",
        "      if state[4] < 0:\n",
        "        pos_weight = 1\n",
        "        reward = reward - pos_weight * state[4] \n",
        "\n",
        "      # Update the final score (+1 for each step)\n",
        "      score += reward\n",
        "\n",
        "      # Apply penalty for bad state\n",
        "      if done: # if the pole has fallen down \n",
        "          reward += bad_state_penalty\n",
        "          next_state = None\n",
        "\n",
        "      # Update the replay memory\n",
        "      replay_mem.push(state, action, next_state, reward)\n",
        "\n",
        "      # Update the network\n",
        "      if len(replay_mem) > min_samples_for_training: # we enable the training only if we have enough samples in the replay memory, otherwise the training will use the same samples too often\n",
        "          update_step(policy_net, target_net, replay_mem, gamma, optimizer, loss_fn, batch_size)\n",
        "\n",
        "      # Visually render the environment (disable to speed up the training)\n",
        "      #env.render()\n",
        "\n",
        "      # Set the current state for the next iteration\n",
        "      state = next_state\n",
        "\n",
        "    # Update the target network every target_net_update_steps episodes\n",
        "    if episode_num % target_net_update_steps == 0:\n",
        "        print('Updating target network...')\n",
        "        target_net.load_state_dict(policy_net.state_dict()) # This will copy the weights of the policy network to the target network\n",
        "\n",
        "    scores.append(score)\n",
        "\n",
        "    # Print the final score\n",
        "    print(f\"EPISODE: {episode_num + 1} - FINAL SCORE: {score} - Temperature: {tau}\") # Print the final score\n",
        "\n",
        "env.close()"
      ],
      "execution_count": 19,
      "outputs": [
        {
          "output_type": "display_data",
          "data": {
            "application/vnd.jupyter.widget-view+json": {
              "model_id": "cf8ba452e8a9438b91d5c475ed6fbfc9",
              "version_minor": 0,
              "version_major": 2
            },
            "text/plain": [
              "HBox(children=(FloatProgress(value=0.0, max=800.0), HTML(value='')))"
            ]
          },
          "metadata": {
            "tags": []
          }
        },
        {
          "output_type": "stream",
          "text": [
            "Updating target network...\n",
            "EPISODE: 1 - FINAL SCORE: -92.44063380626383 - Temperature: 5.0\n",
            "EPISODE: 2 - FINAL SCORE: -161.3619729173231 - Temperature: 4.940008876649582\n",
            "EPISODE: 3 - FINAL SCORE: -92.94920087743263 - Temperature: 4.880737540275333\n",
            "EPISODE: 4 - FINAL SCORE: -44.651898224429544 - Temperature: 4.822177354711398\n",
            "EPISODE: 5 - FINAL SCORE: -221.72142935108252 - Temperature: 4.764319787410582\n",
            "EPISODE: 6 - FINAL SCORE: 41.859255555837194 - Temperature: 4.707156408201104\n",
            "EPISODE: 7 - FINAL SCORE: -142.6792913053473 - Temperature: 4.650678888058284\n",
            "EPISODE: 8 - FINAL SCORE: -161.93222930274555 - Temperature: 4.594878997890946\n",
            "EPISODE: 9 - FINAL SCORE: -97.03704739923123 - Temperature: 4.539748607342402\n",
            "EPISODE: 10 - FINAL SCORE: -86.33514214516 - Temperature: 4.485279683605809\n",
            "Updating target network...\n",
            "EPISODE: 11 - FINAL SCORE: -123.48607260061902 - Temperature: 4.431464290253745\n",
            "EPISODE: 12 - FINAL SCORE: -89.42518854276523 - Temperature: 4.378294586081827\n",
            "EPISODE: 13 - FINAL SCORE: -120.12373548543141 - Temperature: 4.325762823966207\n",
            "EPISODE: 14 - FINAL SCORE: -56.78370823817488 - Temperature: 4.273861349734766\n",
            "EPISODE: 15 - FINAL SCORE: -48.95091728239282 - Temperature: 4.222582601051861\n",
            "EPISODE: 16 - FINAL SCORE: -87.39735630931033 - Temperature: 4.171919106316454\n",
            "EPISODE: 17 - FINAL SCORE: 43.48055296657458 - Temperature: 4.121863483573455\n",
            "EPISODE: 18 - FINAL SCORE: -116.7415791301848 - Temperature: 4.072408439438128\n",
            "EPISODE: 19 - FINAL SCORE: -87.43971634880567 - Temperature: 4.0235467680334045\n",
            "EPISODE: 20 - FINAL SCORE: -108.22202841093774 - Temperature: 3.975271349939951\n",
            "Updating target network...\n",
            "EPISODE: 21 - FINAL SCORE: -16.91574548788394 - Temperature: 3.9275751511588246\n",
            "EPISODE: 22 - FINAL SCORE: -180.58957419697916 - Temperature: 3.8804512220865837\n",
            "EPISODE: 23 - FINAL SCORE: -56.36354731897739 - Temperature: 3.833892696502688\n",
            "EPISODE: 24 - FINAL SCORE: -48.011206810212926 - Temperature: 3.7878927905690563\n",
            "EPISODE: 25 - FINAL SCORE: -99.63469314029383 - Temperature: 3.7424448018416188\n",
            "EPISODE: 26 - FINAL SCORE: -46.290547368621645 - Temperature: 3.6975421082937365\n",
            "EPISODE: 27 - FINAL SCORE: -315.0189328778845 - Temperature: 3.653178167351334\n",
            "EPISODE: 28 - FINAL SCORE: 79.32854644200609 - Temperature: 3.6093465149396082\n",
            "EPISODE: 29 - FINAL SCORE: -107.37201432635841 - Temperature: 3.56604076454118\n",
            "EPISODE: 30 - FINAL SCORE: -65.82668837135651 - Temperature: 3.523254606265538\n",
            "Updating target network...\n",
            "EPISODE: 31 - FINAL SCORE: -106.06878345588945 - Temperature: 3.480981805929657\n",
            "EPISODE: 32 - FINAL SCORE: 17.91583704806196 - Temperature: 3.4392162041496395\n",
            "EPISODE: 33 - FINAL SCORE: -49.70468308771747 - Temperature: 3.39795171544326\n",
            "EPISODE: 34 - FINAL SCORE: -153.0812372729739 - Temperature: 3.357182327343276\n",
            "EPISODE: 35 - FINAL SCORE: -51.16587694181159 - Temperature: 3.316902099521377\n",
            "EPISODE: 36 - FINAL SCORE: -78.98424423534901 - Temperature: 3.2771051629226475\n",
            "EPISODE: 37 - FINAL SCORE: -246.8939237195349 - Temperature: 3.237785718910411\n",
            "EPISODE: 38 - FINAL SCORE: -50.72948903367572 - Temperature: 3.1989380384213355\n",
            "EPISODE: 39 - FINAL SCORE: -79.65497966783758 - Temperature: 3.1605564611306796\n",
            "EPISODE: 40 - FINAL SCORE: -177.7250758254783 - Temperature: 3.12263539462755\n",
            "Updating target network...\n",
            "EPISODE: 41 - FINAL SCORE: -51.72496811405652 - Temperature: 3.085169313600053\n",
            "EPISODE: 42 - FINAL SCORE: -75.4389117865409 - Temperature: 3.048152759030232\n",
            "EPISODE: 43 - FINAL SCORE: -21.368507020867 - Temperature: 3.011580337398652\n",
            "EPISODE: 44 - FINAL SCORE: -71.02085668399891 - Temperature: 2.975446719898537\n",
            "EPISODE: 45 - FINAL SCORE: -221.28230692398694 - Temperature: 2.939746641659331\n",
            "EPISODE: 46 - FINAL SCORE: -0.9823006498447882 - Temperature: 2.9044749009795785\n",
            "EPISODE: 47 - FINAL SCORE: -185.3164147243881 - Temperature: 2.8696263585690067\n",
            "EPISODE: 48 - FINAL SCORE: -153.0318973398209 - Temperature: 2.835195936799702\n",
            "EPISODE: 49 - FINAL SCORE: 44.90377874937158 - Temperature: 2.801178618966271\n",
            "EPISODE: 50 - FINAL SCORE: -45.742966297356716 - Temperature: 2.767569448554879\n",
            "Updating target network...\n",
            "EPISODE: 51 - FINAL SCORE: -153.15439926932294 - Temperature: 2.734363528521058\n",
            "EPISODE: 52 - FINAL SCORE: -66.37227654449387 - Temperature: 2.70155602057618\n",
            "EPISODE: 53 - FINAL SCORE: 26.719096537802585 - Temperature: 2.6691421444824903\n",
            "EPISODE: 54 - FINAL SCORE: -32.76344297212694 - Temperature: 2.6371171773566005\n",
            "EPISODE: 55 - FINAL SCORE: 5.87480195432309 - Temperature: 2.605476452981339\n",
            "EPISODE: 56 - FINAL SCORE: -12.7290338810499 - Temperature: 2.574215361125857\n",
            "EPISODE: 57 - FINAL SCORE: -62.03062225332171 - Temperature: 2.5433293468738882\n",
            "EPISODE: 58 - FINAL SCORE: -56.789817178789306 - Temperature: 2.5128139099600784\n",
            "EPISODE: 59 - FINAL SCORE: -64.13642471369639 - Temperature: 2.482664604114266\n",
            "EPISODE: 60 - FINAL SCORE: -24.99342911974385 - Temperature: 2.452877036413639\n",
            "Updating target network...\n",
            "EPISODE: 61 - FINAL SCORE: -170.74352315081387 - Temperature: 2.423446866642659\n",
            "EPISODE: 62 - FINAL SCORE: -13.994424672378557 - Temperature: 2.3943698066606705\n",
            "EPISODE: 63 - FINAL SCORE: -35.53937695620861 - Temperature: 2.365641619777091\n",
            "EPISODE: 64 - FINAL SCORE: -36.41129216015442 - Temperature: 2.337258120134105\n",
            "EPISODE: 65 - FINAL SCORE: 7.276181394055257 - Temperature: 2.3092151720967586\n",
            "EPISODE: 66 - FINAL SCORE: 75.01109874067377 - Temperature: 2.281508689650376\n",
            "EPISODE: 67 - FINAL SCORE: -84.60973130689987 - Temperature: 2.254134635805203\n",
            "EPISODE: 68 - FINAL SCORE: -28.43990436219036 - Temperature: 2.227089022008195\n",
            "EPISODE: 69 - FINAL SCORE: -80.00402182714112 - Temperature: 2.200367907561864\n",
            "EPISODE: 70 - FINAL SCORE: 42.67384944613622 - Temperature: 2.173967399050095\n",
            "Updating target network...\n",
            "EPISODE: 71 - FINAL SCORE: 123.00722460094345 - Temperature: 2.1478836497708547\n",
            "EPISODE: 72 - FINAL SCORE: 22.001559452343514 - Temperature: 2.122112859175705\n",
            "EPISODE: 73 - FINAL SCORE: -5.1971571909541865 - Temperature: 2.096651272316041\n",
            "EPISODE: 74 - FINAL SCORE: -62.85385171836633 - Temperature: 2.0714951792959764\n",
            "EPISODE: 75 - FINAL SCORE: 87.55616718934169 - Temperature: 2.0466409147317886\n",
            "EPISODE: 76 - FINAL SCORE: 37.69733428320319 - Temperature: 2.022084857217851\n",
            "EPISODE: 77 - FINAL SCORE: 43.838274260562855 - Temperature: 1.9978234287989773\n",
            "EPISODE: 78 - FINAL SCORE: -22.22537487677316 - Temperature: 1.9738530944490904\n",
            "EPISODE: 79 - FINAL SCORE: 45.643411622011115 - Temperature: 1.9501703615561505\n",
            "EPISODE: 80 - FINAL SCORE: -32.020669777934174 - Temperature: 1.9267717794132615\n",
            "Updating target network...\n",
            "EPISODE: 81 - FINAL SCORE: 37.610543105903645 - Temperature: 1.9036539387158846\n",
            "EPISODE: 82 - FINAL SCORE: -126.22726765925013 - Temperature: 1.8808134710650817\n",
            "EPISODE: 83 - FINAL SCORE: -56.74187940778874 - Temperature: 1.8582470484767233\n",
            "EPISODE: 84 - FINAL SCORE: 48.12690227391869 - Temperature: 1.8359513828965799\n",
            "EPISODE: 85 - FINAL SCORE: -0.6817089388166124 - Temperature: 1.8139232257212359\n",
            "EPISODE: 86 - FINAL SCORE: 47.71607966395368 - Temperature: 1.7921593673247496\n",
            "EPISODE: 87 - FINAL SCORE: 51.85497557970788 - Temperature: 1.7706566365909926\n",
            "EPISODE: 88 - FINAL SCORE: 66.41271543348213 - Temperature: 1.7494119004515993\n",
            "EPISODE: 89 - FINAL SCORE: 22.54339556766287 - Temperature: 1.7284220634294631\n",
            "EPISODE: 90 - FINAL SCORE: 26.891917864519428 - Temperature: 1.7076840671877067\n",
            "Updating target network...\n",
            "EPISODE: 91 - FINAL SCORE: 110.47234651710004 - Temperature: 1.6871948900840668\n",
            "EPISODE: 92 - FINAL SCORE: 2.490803161392492 - Temperature: 1.6669515467306208\n",
            "EPISODE: 93 - FINAL SCORE: 63.511608270601954 - Temperature: 1.6469510875588036\n",
            "EPISODE: 94 - FINAL SCORE: 10.744959241039794 - Temperature: 1.6271905983896344\n",
            "EPISODE: 95 - FINAL SCORE: -53.872309165374034 - Temperature: 1.6076672000091077\n",
            "EPISODE: 96 - FINAL SCORE: -6.989554322752511 - Temperature: 1.5883780477486744\n",
            "EPISODE: 97 - FINAL SCORE: 18.951268125208514 - Temperature: 1.569320331070757\n",
            "EPISODE: 98 - FINAL SCORE: -28.68482391121158 - Temperature: 1.5504912731592402\n",
            "EPISODE: 99 - FINAL SCORE: -28.92194697022157 - Temperature: 1.5318881305148715\n",
            "EPISODE: 100 - FINAL SCORE: 1.4875435831419423 - Temperature: 1.5135081925555196\n",
            "Updating target network...\n",
            "EPISODE: 101 - FINAL SCORE: 87.88505301750635 - Temperature: 1.4953487812212265\n",
            "EPISODE: 102 - FINAL SCORE: -13.410221229942081 - Temperature: 1.4774072505839986\n",
            "EPISODE: 103 - FINAL SCORE: -13.306691525506494 - Temperature: 1.4596809864622813\n",
            "EPISODE: 104 - FINAL SCORE: -82.9535458870645 - Temperature: 1.4421674060400576\n",
            "EPISODE: 105 - FINAL SCORE: 35.167313594655354 - Temperature: 1.4248639574905173\n",
            "EPISODE: 106 - FINAL SCORE: -8.753690723240751 - Temperature: 1.4077681196042415\n",
            "EPISODE: 107 - FINAL SCORE: -8.77049250957404 - Temperature: 1.3908774014218486\n",
            "EPISODE: 108 - FINAL SCORE: 20.62357300018057 - Temperature: 1.3741893418710474\n",
            "EPISODE: 109 - FINAL SCORE: 76.37497733464414 - Temperature: 1.3577015094080442\n",
            "EPISODE: 110 - FINAL SCORE: 55.889579636706486 - Temperature: 1.3414115016632548\n",
            "Updating target network...\n",
            "EPISODE: 111 - FINAL SCORE: 95.06769263747357 - Temperature: 1.325316945091265\n",
            "EPISODE: 112 - FINAL SCORE: 87.84310080754919 - Temperature: 1.3094154946249912\n",
            "EPISODE: 113 - FINAL SCORE: 135.2488943350314 - Temperature: 1.2937048333339918\n",
            "EPISODE: 114 - FINAL SCORE: 47.20372863616609 - Temperature: 1.2781826720868774\n",
            "EPISODE: 115 - FINAL SCORE: 96.52632718770481 - Temperature: 1.2628467492177715\n",
            "EPISODE: 116 - FINAL SCORE: 40.12499256914201 - Temperature: 1.2476948301967719\n",
            "EPISODE: 117 - FINAL SCORE: 46.437359852523706 - Temperature: 1.232724707304369\n",
            "EPISODE: 118 - FINAL SCORE: 171.40778328858158 - Temperature: 1.2179341993097683\n",
            "EPISODE: 119 - FINAL SCORE: 68.16551243220567 - Temperature: 1.2033211511530713\n",
            "EPISODE: 120 - FINAL SCORE: 37.71662671044015 - Temperature: 1.188883433631273\n",
            "Updating target network...\n",
            "EPISODE: 121 - FINAL SCORE: 336.9566558232673 - Temperature: 1.1746189430880247\n",
            "EPISODE: 122 - FINAL SCORE: -4.989568899378469 - Temperature: 1.1605256011071183\n",
            "EPISODE: 123 - FINAL SCORE: 121.40642408310978 - Temperature: 1.1466013542096514\n",
            "EPISODE: 124 - FINAL SCORE: 96.69512600901466 - Temperature: 1.1328441735548218\n",
            "EPISODE: 125 - FINAL SCORE: 127.63431430429867 - Temperature: 1.1192520546443159\n",
            "EPISODE: 126 - FINAL SCORE: 172.42383572031122 - Temperature: 1.1058230170302406\n",
            "EPISODE: 127 - FINAL SCORE: 32.22869187153324 - Temperature: 1.0925551040265622\n",
            "EPISODE: 128 - FINAL SCORE: 237.84079067054222 - Temperature: 1.079446382424005\n",
            "EPISODE: 129 - FINAL SCORE: 135.58772658034718 - Temperature: 1.0664949422083727\n",
            "EPISODE: 130 - FINAL SCORE: 42.7012983899175 - Temperature: 1.0536988962822489\n",
            "Updating target network...\n",
            "EPISODE: 131 - FINAL SCORE: 65.57145101594422 - Temperature: 1.0410563801900354\n",
            "EPISODE: 132 - FINAL SCORE: 233.2699998412118 - Temperature: 1.0285655518462913\n",
            "EPISODE: 133 - FINAL SCORE: 71.31087340761053 - Temperature: 1.016224591267331\n",
            "EPISODE: 134 - FINAL SCORE: 137.08673615682724 - Temperature: 1.0040317003060417\n",
            "EPISODE: 135 - FINAL SCORE: 134.6586614391176 - Temperature: 0.9919851023898838\n",
            "EPISODE: 136 - FINAL SCORE: 46.88288112363214 - Temperature: 0.9800830422620341\n",
            "EPISODE: 137 - FINAL SCORE: 105.5860970229054 - Temperature: 0.968323785725635\n",
            "EPISODE: 138 - FINAL SCORE: 81.47706630426349 - Temperature: 0.956705619391113\n",
            "EPISODE: 139 - FINAL SCORE: 40.39904633323134 - Temperature: 0.945226850426527\n",
            "EPISODE: 140 - FINAL SCORE: 45.24941702957673 - Temperature: 0.933885806310914\n",
            "Updating target network...\n",
            "EPISODE: 141 - FINAL SCORE: 94.48245885475437 - Temperature: 0.9226808345905935\n",
            "EPISODE: 142 - FINAL SCORE: 89.45076565033771 - Temperature: 0.9116103026383953\n",
            "EPISODE: 143 - FINAL SCORE: 67.60733667624862 - Temperature: 0.9006725974157769\n",
            "EPISODE: 144 - FINAL SCORE: 231.9447072381962 - Temperature: 0.8898661252377947\n",
            "EPISODE: 145 - FINAL SCORE: 288.39948954225304 - Temperature: 0.8791893115408949\n",
            "EPISODE: 146 - FINAL SCORE: 114.06894566905252 - Temperature: 0.868640600653491\n",
            "EPISODE: 147 - FINAL SCORE: 54.31798085404101 - Temperature: 0.8582184555692941\n",
            "EPISODE: 148 - FINAL SCORE: -95.97042913375829 - Temperature: 0.8479213577233615\n",
            "EPISODE: 149 - FINAL SCORE: -14.473902883086978 - Temperature: 0.8377478067708344\n",
            "EPISODE: 150 - FINAL SCORE: 167.29034965015856 - Temperature: 0.8276963203683281\n",
            "Updating target network...\n",
            "EPISODE: 151 - FINAL SCORE: 100.09539551070618 - Temperature: 0.8177654339579474\n",
            "EPISODE: 152 - FINAL SCORE: -9.429949862515144 - Temperature: 0.8079537005538916\n",
            "EPISODE: 153 - FINAL SCORE: 88.08201248196657 - Temperature: 0.7982596905316204\n",
            "EPISODE: 154 - FINAL SCORE: 65.11218090340758 - Temperature: 0.7886819914195508\n",
            "EPISODE: 155 - FINAL SCORE: 160.18969899690873 - Temperature: 0.77921920769325\n",
            "EPISODE: 156 - FINAL SCORE: -91.81165368572142 - Temperature: 0.7698699605721018\n",
            "EPISODE: 157 - FINAL SCORE: 1.318007504945797 - Temperature: 0.7606328878184093\n",
            "EPISODE: 158 - FINAL SCORE: 50.22576793874524 - Temperature: 0.7515066435389095\n",
            "EPISODE: 159 - FINAL SCORE: 194.50196489213653 - Temperature: 0.7424898979886694\n",
            "EPISODE: 160 - FINAL SCORE: -90.04361523181208 - Temperature: 0.7335813373773338\n",
            "Updating target network...\n",
            "EPISODE: 161 - FINAL SCORE: 84.76677605792497 - Temperature: 0.7247796636777002\n",
            "EPISODE: 162 - FINAL SCORE: 84.38410841361303 - Temperature: 0.7160835944365874\n",
            "EPISODE: 163 - FINAL SCORE: 187.87041506360777 - Temperature: 0.7074918625879763\n",
            "EPISODE: 164 - FINAL SCORE: -53.17150951554264 - Temperature: 0.6990032162683899\n",
            "EPISODE: 165 - FINAL SCORE: 123.0313235437384 - Temperature: 0.6906164186344907\n",
            "EPISODE: 166 - FINAL SCORE: -44.461022575366684 - Temperature: 0.6823302476828654\n",
            "EPISODE: 167 - FINAL SCORE: -58.119422304311186 - Temperature: 0.6741434960719727\n",
            "EPISODE: 168 - FINAL SCORE: 78.13831713494613 - Temperature: 0.6660549709462256\n",
            "EPISODE: 169 - FINAL SCORE: 98.11400350836456 - Temperature: 0.6580634937621866\n",
            "EPISODE: 170 - FINAL SCORE: 65.12669663105609 - Temperature: 0.6501679001168479\n",
            "Updating target network...\n",
            "EPISODE: 171 - FINAL SCORE: 249.41973346944374 - Temperature: 0.6423670395779695\n",
            "EPISODE: 172 - FINAL SCORE: 64.1224106959149 - Temperature: 0.6346597755164565\n",
            "EPISODE: 173 - FINAL SCORE: 106.43012558700184 - Temperature: 0.6270449849407451\n",
            "EPISODE: 174 - FINAL SCORE: 186.77368801739917 - Temperature: 0.6195215583331769\n",
            "EPISODE: 175 - FINAL SCORE: 99.7737747839944 - Temperature: 0.6120883994883352\n",
            "EPISODE: 176 - FINAL SCORE: 21.233958072009635 - Temperature: 0.6047444253533223\n",
            "EPISODE: 177 - FINAL SCORE: 142.27389149139472 - Temperature: 0.5974885658699525\n",
            "EPISODE: 178 - FINAL SCORE: 10.37819859558754 - Temperature: 0.5903197638188388\n",
            "EPISODE: 179 - FINAL SCORE: 4.760668038371251 - Temperature: 0.5832369746653496\n",
            "EPISODE: 180 - FINAL SCORE: 149.64112237811227 - Temperature: 0.5762391664074149\n",
            "Updating target network...\n",
            "EPISODE: 181 - FINAL SCORE: -111.99262892491026 - Temperature: 0.5693253194251571\n",
            "EPISODE: 182 - FINAL SCORE: 102.13358468716646 - Temperature: 0.5624944263323269\n",
            "EPISODE: 183 - FINAL SCORE: 66.21641229900477 - Temperature: 0.5557454918295219\n",
            "EPISODE: 184 - FINAL SCORE: 143.73642102590992 - Temperature: 0.5490775325591651\n",
            "EPISODE: 185 - FINAL SCORE: 182.7010040477494 - Temperature: 0.5424895769622252\n",
            "EPISODE: 186 - FINAL SCORE: 70.29012624981021 - Temperature: 0.5359806651366538\n",
            "EPISODE: 187 - FINAL SCORE: 171.73072822969698 - Temperature: 0.5295498486975234\n",
            "EPISODE: 188 - FINAL SCORE: 255.76520251779 - Temperature: 0.5231961906388417\n",
            "EPISODE: 189 - FINAL SCORE: 51.30910144361033 - Temperature: 0.516918765197025\n",
            "EPISODE: 190 - FINAL SCORE: 149.3953430924667 - Temperature: 0.5107166577160089\n",
            "Updating target network...\n",
            "EPISODE: 191 - FINAL SCORE: 97.4043339976962 - Temperature: 0.504588964513978\n",
            "EPISODE: 192 - FINAL SCORE: 62.08013777491112 - Temperature: 0.4985347927516945\n",
            "EPISODE: 193 - FINAL SCORE: 156.84681905347924 - Temperature: 0.49255326030240604\n",
            "EPISODE: 194 - FINAL SCORE: 60.48647972071865 - Temperature: 0.48664349562331566\n",
            "EPISODE: 195 - FINAL SCORE: -29.319073296951416 - Temperature: 0.48080463762859227\n",
            "EPISODE: 196 - FINAL SCORE: 95.38938081289227 - Temperature: 0.4750358355639062\n",
            "EPISODE: 197 - FINAL SCORE: 88.04001905743671 - Temperature: 0.4693362488824696\n",
            "EPISODE: 198 - FINAL SCORE: -59.80590888598559 - Temperature: 0.4637050471225635\n",
            "EPISODE: 199 - FINAL SCORE: 63.19539101680137 - Temperature: 0.4581414097865352\n",
            "EPISODE: 200 - FINAL SCORE: 88.78047801360985 - Temperature: 0.45264452622124757\n",
            "Updating target network...\n",
            "EPISODE: 201 - FINAL SCORE: -70.60963316684303 - Temperature: 0.4472135954999615\n",
            "EPISODE: 202 - FINAL SCORE: 198.7363420161024 - Temperature: 0.441847826305637\n",
            "EPISODE: 203 - FINAL SCORE: 94.29909418539802 - Temperature: 0.436546436815634\n",
            "EPISODE: 204 - FINAL SCORE: -63.587596086923426 - Temperature: 0.43130865458779555\n",
            "EPISODE: 205 - FINAL SCORE: 188.35493876853795 - Temperature: 0.42613371644789966\n",
            "EPISODE: 206 - FINAL SCORE: 167.72118455778485 - Temperature: 0.42102086837846003\n",
            "EPISODE: 207 - FINAL SCORE: 57.60156284607633 - Temperature: 0.41596936540886165\n",
            "EPISODE: 208 - FINAL SCORE: 79.23255510983226 - Temperature: 0.410978471506814\n",
            "EPISODE: 209 - FINAL SCORE: 187.06194706999122 - Temperature: 0.4060474594711077\n",
            "EPISODE: 210 - FINAL SCORE: 115.65348166136896 - Temperature: 0.40117561082565667\n",
            "Updating target network...\n",
            "EPISODE: 211 - FINAL SCORE: 230.83336622393077 - Temperature: 0.39636221571481245\n",
            "EPISODE: 212 - FINAL SCORE: 106.85856163073895 - Temperature: 0.391606572799934\n",
            "EPISODE: 213 - FINAL SCORE: 124.0529355759393 - Temperature: 0.3869079891571989\n",
            "EPISODE: 214 - FINAL SCORE: -79.9119054006759 - Temperature: 0.38226578017664053\n",
            "EPISODE: 215 - FINAL SCORE: 109.15757258394 - Temperature: 0.37767926946239644\n",
            "EPISODE: 216 - FINAL SCORE: 119.48988799883747 - Temperature: 0.37314778873415355\n",
            "EPISODE: 217 - FINAL SCORE: -40.40099937725209 - Temperature: 0.3686706777297763\n",
            "EPISODE: 218 - FINAL SCORE: 245.19225312308103 - Temperature: 0.36424728410910245\n",
            "EPISODE: 219 - FINAL SCORE: 102.02598100667475 - Temperature: 0.35987696335889363\n",
            "EPISODE: 220 - FINAL SCORE: 142.43248137885175 - Temperature: 0.3555590786989262\n",
            "Updating target network...\n",
            "EPISODE: 221 - FINAL SCORE: 64.48389587710432 - Temperature: 0.3512930009892085\n",
            "EPISODE: 222 - FINAL SCORE: 100.0555277582265 - Temperature: 0.3470781086383121\n",
            "EPISODE: 223 - FINAL SCORE: 123.65811388180619 - Temperature: 0.34291378751280194\n",
            "EPISODE: 224 - FINAL SCORE: 142.8881563981516 - Temperature: 0.33879943084775405\n",
            "EPISODE: 225 - FINAL SCORE: 334.8297123330355 - Temperature: 0.3347344391583463\n",
            "EPISODE: 226 - FINAL SCORE: 199.92767063560325 - Temperature: 0.33071822015251\n",
            "EPISODE: 227 - FINAL SCORE: 144.1787830037774 - Temperature: 0.32675018864463\n",
            "EPISODE: 228 - FINAL SCORE: 204.06457648989647 - Temperature: 0.32282976647027956\n",
            "EPISODE: 229 - FINAL SCORE: 201.44226924783294 - Temperature: 0.31895638240197854\n",
            "EPISODE: 230 - FINAL SCORE: -26.727519654985684 - Temperature: 0.3151294720659625\n",
            "Updating target network...\n",
            "EPISODE: 231 - FINAL SCORE: -78.93269717394715 - Temperature: 0.31134847785995023\n",
            "EPISODE: 232 - FINAL SCORE: 87.8129584068048 - Temperature: 0.307612848871898\n",
            "EPISODE: 233 - FINAL SCORE: 261.4641764097794 - Temperature: 0.30392204079972845\n",
            "EPISODE: 234 - FINAL SCORE: 151.66425229702597 - Temperature: 0.30027551587202306\n",
            "EPISODE: 235 - FINAL SCORE: 66.99841736289332 - Temperature: 0.2966727427696652\n",
            "EPISODE: 236 - FINAL SCORE: 53.86645687607249 - Temperature: 0.2931131965484249\n",
            "EPISODE: 237 - FINAL SCORE: -121.74636029495025 - Temperature: 0.2895963585624705\n",
            "EPISODE: 238 - FINAL SCORE: 152.37620516289678 - Temperature: 0.2861217163887999\n",
            "EPISODE: 239 - FINAL SCORE: 331.5602597844809 - Temperature: 0.2826887637525771\n",
            "EPISODE: 240 - FINAL SCORE: 251.30527402793246 - Temperature: 0.27929700045336553\n",
            "Updating target network...\n",
            "EPISODE: 241 - FINAL SCORE: 59.546004808065575 - Temperature: 0.2759459322922456\n",
            "EPISODE: 242 - FINAL SCORE: -14.9430735559785 - Temperature: 0.27263507099980755\n",
            "EPISODE: 243 - FINAL SCORE: -50.8171675629383 - Temperature: 0.2693639341650077\n",
            "EPISODE: 244 - FINAL SCORE: 115.61998126912141 - Temperature: 0.2661320451648783\n",
            "EPISODE: 245 - FINAL SCORE: -69.53262702865989 - Temperature: 0.26293893309508126\n",
            "EPISODE: 246 - FINAL SCORE: 407.5892001797432 - Temperature: 0.2597841327012944\n",
            "EPISODE: 247 - FINAL SCORE: 106.99481869045289 - Temperature: 0.25666718431142144\n",
            "EPISODE: 248 - FINAL SCORE: 92.07711031054274 - Temperature: 0.25358763376861526\n",
            "EPISODE: 249 - FINAL SCORE: -74.32556960852997 - Temperature: 0.2505450323651045\n",
            "EPISODE: 250 - FINAL SCORE: 203.379140415905 - Temperature: 0.24753893677681466\n",
            "Updating target network...\n",
            "EPISODE: 251 - FINAL SCORE: -54.749355167216464 - Temperature: 0.2445689089987728\n",
            "EPISODE: 252 - FINAL SCORE: 76.3936101848765 - Temperature: 0.2416345162812883\n",
            "EPISODE: 253 - FINAL SCORE: 95.38964318521614 - Temperature: 0.23873533106689843\n",
            "EPISODE: 254 - FINAL SCORE: 5.504240072442741 - Temperature: 0.235870930928071\n",
            "EPISODE: 255 - FINAL SCORE: 88.04883900591908 - Temperature: 0.2330408985056542\n",
            "EPISODE: 256 - FINAL SCORE: 122.16030241573365 - Temperature: 0.23024482144806524\n",
            "EPISODE: 257 - FINAL SCORE: 123.1204937811956 - Temperature: 0.22748229235120807\n",
            "EPISODE: 258 - FINAL SCORE: -16.63192280314374 - Temperature: 0.22475290869911263\n",
            "EPISODE: 259 - FINAL SCORE: 151.9709212116799 - Temperature: 0.2220562728052859\n",
            "EPISODE: 260 - FINAL SCORE: 111.42033455572557 - Temperature: 0.21939199175476667\n",
            "Updating target network...\n",
            "EPISODE: 261 - FINAL SCORE: 113.60745699505354 - Temperature: 0.21675967734687585\n",
            "EPISODE: 262 - FINAL SCORE: 166.70937717714708 - Temperature: 0.21415894603865324\n",
            "EPISODE: 263 - FINAL SCORE: 116.89922428527586 - Temperature: 0.21158941888897315\n",
            "EPISODE: 264 - FINAL SCORE: 84.05092798356375 - Temperature: 0.20905072150333082\n",
            "EPISODE: 265 - FINAL SCORE: 219.6513713273862 - Temperature: 0.2065424839792908\n",
            "EPISODE: 266 - FINAL SCORE: 144.47279796416922 - Temperature: 0.2040643408525901\n",
            "EPISODE: 267 - FINAL SCORE: 161.903435811026 - Temperature: 0.20161593104388822\n",
            "EPISODE: 268 - FINAL SCORE: 112.71356725172097 - Temperature: 0.19919689780615557\n",
            "EPISODE: 269 - FINAL SCORE: 61.56217777065497 - Temperature: 0.19680688867269364\n",
            "EPISODE: 270 - FINAL SCORE: -361.215594879623 - Temperature: 0.19444555540577851\n",
            "Updating target network...\n",
            "EPISODE: 271 - FINAL SCORE: 94.5116366787681 - Temperature: 0.19211255394592078\n",
            "EPISODE: 272 - FINAL SCORE: 78.93485398494417 - Temperature: 0.18980754436173408\n",
            "EPISODE: 273 - FINAL SCORE: 94.31300176223051 - Temperature: 0.18753019080040512\n",
            "EPISODE: 274 - FINAL SCORE: -41.07037188598733 - Temperature: 0.18528016143875822\n",
            "EPISODE: 275 - FINAL SCORE: 92.4950290575729 - Temperature: 0.18305712843490665\n",
            "EPISODE: 276 - FINAL SCORE: 76.5063662361088 - Temperature: 0.18086076788048427\n",
            "EPISODE: 277 - FINAL SCORE: 78.50468332228058 - Temperature: 0.1786907597534504\n",
            "EPISODE: 278 - FINAL SCORE: 130.948793618527 - Temperature: 0.17654678787146055\n",
            "EPISODE: 279 - FINAL SCORE: 92.6403929791863 - Temperature: 0.17442853984579718\n",
            "EPISODE: 280 - FINAL SCORE: 188.94478445516847 - Temperature: 0.17233570703585266\n",
            "Updating target network...\n",
            "EPISODE: 281 - FINAL SCORE: 140.90371136291225 - Temperature: 0.1702679845041588\n",
            "EPISODE: 282 - FINAL SCORE: 3.2425126999419263 - Temperature: 0.1682250709719556\n",
            "EPISODE: 283 - FINAL SCORE: 110.67089956869036 - Temperature: 0.16620666877529333\n",
            "EPISODE: 284 - FINAL SCORE: 189.293228933009 - Temperature: 0.16421248382166118\n",
            "EPISODE: 285 - FINAL SCORE: 108.22402568532148 - Temperature: 0.16224222554713644\n",
            "EPISODE: 286 - FINAL SCORE: 124.63869588265639 - Temperature: 0.16029560687404748\n",
            "EPISODE: 287 - FINAL SCORE: 95.01853193384973 - Temperature: 0.1583723441691453\n",
            "EPISODE: 288 - FINAL SCORE: 211.82613789882203 - Temperature: 0.15647215720227609\n",
            "EPISODE: 289 - FINAL SCORE: -36.58569325782522 - Temperature: 0.15459476910555053\n",
            "EPISODE: 290 - FINAL SCORE: 5.5394008152389915 - Temperature: 0.15273990633300244\n",
            "Updating target network...\n",
            "EPISODE: 291 - FINAL SCORE: -86.54912161253651 - Temperature: 0.15090729862073154\n",
            "EPISODE: 292 - FINAL SCORE: 249.71203720159505 - Temperature: 0.1490966789475246\n",
            "EPISODE: 293 - FINAL SCORE: 213.00106950076696 - Temperature: 0.1473077834959489\n",
            "EPISODE: 294 - FINAL SCORE: 289.7879367029365 - Temperature: 0.14554035161391246\n",
            "EPISODE: 295 - FINAL SCORE: 103.80182610107238 - Temperature: 0.14379412577668577\n",
            "EPISODE: 296 - FINAL SCORE: 46.2447716122336 - Temperature: 0.14206885154937884\n",
            "EPISODE: 297 - FINAL SCORE: 168.3108503399019 - Temperature: 0.14036427754986863\n",
            "EPISODE: 298 - FINAL SCORE: 155.44702116887063 - Temperature: 0.13868015541217135\n",
            "EPISODE: 299 - FINAL SCORE: 310.8932715475304 - Temperature: 0.137016239750254\n",
            "EPISODE: 300 - FINAL SCORE: 148.92721353114536 - Temperature: 0.13537228812228042\n",
            "Updating target network...\n",
            "EPISODE: 301 - FINAL SCORE: 9.702654864000081 - Temperature: 0.133748060995286\n",
            "EPISODE: 302 - FINAL SCORE: 147.08301483972895 - Temperature: 0.1321433217102765\n",
            "EPISODE: 303 - FINAL SCORE: -35.26029500373048 - Temperature: 0.1305578364477455\n",
            "EPISODE: 304 - FINAL SCORE: 211.99815858380984 - Temperature: 0.1289913741936054\n",
            "EPISODE: 305 - FINAL SCORE: 3.210797404150796 - Temperature: 0.12744370670552768\n",
            "EPISODE: 306 - FINAL SCORE: -55.08910748810867 - Temperature: 0.12591460847968655\n",
            "EPISODE: 307 - FINAL SCORE: -127.85974830518049 - Temperature: 0.12440385671790165\n",
            "EPISODE: 308 - FINAL SCORE: 12.610762276985202 - Temperature: 0.12291123129517537\n",
            "EPISODE: 309 - FINAL SCORE: 121.07137853063404 - Temperature: 0.12143651472761925\n",
            "EPISODE: 310 - FINAL SCORE: -47.54892309829968 - Temperature: 0.11997949214076535\n",
            "Updating target network...\n",
            "EPISODE: 311 - FINAL SCORE: 153.05207743088698 - Temperature: 0.11853995123825792\n",
            "EPISODE: 312 - FINAL SCORE: 133.32662461511987 - Temperature: 0.11711768227092054\n",
            "EPISODE: 313 - FINAL SCORE: 208.6348437266017 - Temperature: 0.11571247800619458\n",
            "EPISODE: 314 - FINAL SCORE: 81.25728373051116 - Temperature: 0.11432413369794414\n",
            "EPISODE: 315 - FINAL SCORE: 56.2769226508028 - Temperature: 0.11295244705662355\n",
            "EPISODE: 316 - FINAL SCORE: 210.84647900309415 - Temperature: 0.11159721821980245\n",
            "EPISODE: 317 - FINAL SCORE: 144.7310442137447 - Temperature: 0.1102582497230449\n",
            "EPISODE: 318 - FINAL SCORE: -195.05143329883515 - Temperature: 0.10893534647113763\n",
            "EPISODE: 319 - FINAL SCORE: -83.3075911105633 - Temperature: 0.10762831570966352\n",
            "EPISODE: 320 - FINAL SCORE: 222.35434589857243 - Temperature: 0.10633696699691629\n",
            "Updating target network...\n",
            "EPISODE: 321 - FINAL SCORE: -26.451329645048904 - Temperature: 0.10506111217615202\n",
            "EPISODE: 322 - FINAL SCORE: 160.80355333879444 - Temperature: 0.1038005653481737\n",
            "EPISODE: 323 - FINAL SCORE: 10.905080343128645 - Temperature: 0.10255514284424462\n",
            "EPISODE: 324 - FINAL SCORE: 142.93531050865815 - Temperature: 0.10132466319932686\n",
            "EPISODE: 325 - FINAL SCORE: -2.4575858509384574 - Temperature: 0.10010894712564078\n",
            "EPISODE: 326 - FINAL SCORE: 255.77409449050202 - Temperature: 0.09890781748654182\n",
            "EPISODE: 327 - FINAL SCORE: 51.69473225359013 - Temperature: 0.09772109927071067\n",
            "EPISODE: 328 - FINAL SCORE: 121.83929774314367 - Temperature: 0.09654861956665314\n",
            "EPISODE: 329 - FINAL SCORE: -55.72943796559474 - Temperature: 0.095390207537506\n",
            "EPISODE: 330 - FINAL SCORE: 144.75915712950172 - Temperature: 0.09424569439614511\n",
            "Updating target network...\n",
            "EPISODE: 331 - FINAL SCORE: 214.02203393229627 - Temperature: 0.09311491338059211\n",
            "EPISODE: 332 - FINAL SCORE: 283.3754452274843 - Temperature: 0.09199769972971639\n",
            "EPISODE: 333 - FINAL SCORE: 242.6279566831718 - Temperature: 0.09089389065922837\n",
            "EPISODE: 334 - FINAL SCORE: 333.07889136646986 - Temperature: 0.08980332533796093\n",
            "EPISODE: 335 - FINAL SCORE: -78.06389532485328 - Temperature: 0.08872584486443547\n",
            "EPISODE: 336 - FINAL SCORE: 142.79168189914665 - Temperature: 0.087661292243709\n",
            "EPISODE: 337 - FINAL SCORE: 94.69942746287977 - Temperature: 0.08660951236449912\n",
            "EPISODE: 338 - FINAL SCORE: 222.94948594895772 - Temperature: 0.08557035197658347\n",
            "EPISODE: 339 - FINAL SCORE: 116.00485572131136 - Temperature: 0.08454365966847027\n",
            "EPISODE: 340 - FINAL SCORE: 263.40382687862444 - Temperature: 0.08352928584533689\n",
            "Updating target network...\n",
            "EPISODE: 341 - FINAL SCORE: 218.14593795302258 - Temperature: 0.0825270827072329\n",
            "EPISODE: 342 - FINAL SCORE: 79.02993044674838 - Temperature: 0.08153690422754496\n",
            "EPISODE: 343 - FINAL SCORE: 84.23309229456054 - Temperature: 0.08055860613171978\n",
            "EPISODE: 344 - FINAL SCORE: 342.9821612456713 - Temperature: 0.07959204587624263\n",
            "EPISODE: 345 - FINAL SCORE: 61.33993190749018 - Temperature: 0.07863708262786788\n",
            "EPISODE: 346 - FINAL SCORE: 192.19375569231963 - Temperature: 0.07769357724309879\n",
            "EPISODE: 347 - FINAL SCORE: 149.48960251636257 - Temperature: 0.07676139224791359\n",
            "EPISODE: 348 - FINAL SCORE: 86.98330179506183 - Temperature: 0.0758403918177347\n",
            "EPISODE: 349 - FINAL SCORE: 251.46623594234916 - Temperature: 0.07493044175763836\n",
            "EPISODE: 350 - FINAL SCORE: 160.21353027794677 - Temperature: 0.0740314094828016\n",
            "Updating target network...\n",
            "EPISODE: 351 - FINAL SCORE: 208.45221495695066 - Temperature: 0.073143163999184\n",
            "EPISODE: 352 - FINAL SCORE: 253.5262263828187 - Temperature: 0.07226557588444102\n",
            "EPISODE: 353 - FINAL SCORE: 142.99418179277805 - Temperature: 0.07139851726906651\n",
            "EPISODE: 354 - FINAL SCORE: 225.41139768017325 - Temperature: 0.07054186181776141\n",
            "EPISODE: 355 - FINAL SCORE: 225.09152603463994 - Temperature: 0.06969548471102592\n",
            "EPISODE: 356 - FINAL SCORE: 163.86075569369493 - Temperature: 0.06885926262697264\n",
            "EPISODE: 357 - FINAL SCORE: 318.02683854797607 - Temperature: 0.06803307372335794\n",
            "EPISODE: 358 - FINAL SCORE: 114.10140104804995 - Temperature: 0.06721679761982872\n",
            "EPISODE: 359 - FINAL SCORE: 44.604026831964404 - Temperature: 0.06641031538038249\n",
            "EPISODE: 360 - FINAL SCORE: 135.14302032550162 - Temperature: 0.06561350949603754\n",
            "Updating target network...\n",
            "EPISODE: 361 - FINAL SCORE: 195.54673909632987 - Temperature: 0.06482626386771143\n",
            "EPISODE: 362 - FINAL SCORE: 215.8265902686291 - Temperature: 0.0640484637893045\n",
            "EPISODE: 363 - FINAL SCORE: 147.43691465052308 - Temperature: 0.06327999593098671\n",
            "EPISODE: 364 - FINAL SCORE: 116.24597635163312 - Temperature: 0.06252074832268475\n",
            "EPISODE: 365 - FINAL SCORE: 236.65767736563245 - Temperature: 0.06177061033776743\n",
            "EPISODE: 366 - FINAL SCORE: 128.65467296671778 - Temperature: 0.06102947267692671\n",
            "EPISODE: 367 - FINAL SCORE: 32.08420284804362 - Temperature: 0.060297227352252215\n",
            "EPISODE: 368 - FINAL SCORE: 114.36209952779723 - Temperature: 0.05957376767149678\n",
            "EPISODE: 369 - FINAL SCORE: 128.07019721725675 - Temperature: 0.0588589882225308\n",
            "EPISODE: 370 - FINAL SCORE: -95.65862976217714 - Temperature: 0.05815278485798307\n",
            "Updating target network...\n",
            "EPISODE: 371 - FINAL SCORE: 132.31749939021068 - Temperature: 0.05745505468006596\n",
            "EPISODE: 372 - FINAL SCORE: 167.9234038152402 - Temperature: 0.05676569602558259\n",
            "EPISODE: 373 - FINAL SCORE: 115.69431127778478 - Temperature: 0.056084608451113974\n",
            "EPISODE: 374 - FINAL SCORE: -17.18080246005519 - Temperature: 0.05541169271838384\n",
            "EPISODE: 375 - FINAL SCORE: 202.8928878721108 - Temperature: 0.05474685077979904\n",
            "EPISODE: 376 - FINAL SCORE: 119.058651346639 - Temperature: 0.05408998576416346\n",
            "EPISODE: 377 - FINAL SCORE: 227.0435619193376 - Temperature: 0.053441001962563406\n",
            "EPISODE: 378 - FINAL SCORE: 256.8335354065566 - Temperature: 0.052799804814422195\n",
            "EPISODE: 379 - FINAL SCORE: -48.66331895740551 - Temperature: 0.05216630089372219\n",
            "EPISODE: 380 - FINAL SCORE: 208.322802115476 - Temperature: 0.05154039789539214\n",
            "Updating target network...\n",
            "EPISODE: 381 - FINAL SCORE: 237.93032565910795 - Temperature: 0.05092200462185771\n",
            "EPISODE: 382 - FINAL SCORE: 170.64731797586938 - Temperature: 0.05031103096975363\n",
            "EPISODE: 383 - FINAL SCORE: 171.5433566649863 - Temperature: 0.049707387916794986\n",
            "EPISODE: 384 - FINAL SCORE: 281.22606635988916 - Temperature: 0.049110987508806284\n",
            "EPISODE: 385 - FINAL SCORE: 157.01123729887007 - Temperature: 0.048521742846905955\n",
            "EPISODE: 386 - FINAL SCORE: -44.52295230904313 - Temperature: 0.04793956807484476\n",
            "EPISODE: 387 - FINAL SCORE: 221.15559856566978 - Temperature: 0.047364378366496006\n",
            "EPISODE: 388 - FINAL SCORE: 136.14931607979432 - Temperature: 0.04679608991349594\n",
            "EPISODE: 389 - FINAL SCORE: 110.86050816802788 - Temperature: 0.046234619913032377\n",
            "EPISODE: 390 - FINAL SCORE: 223.95556688694748 - Temperature: 0.0456798865557799\n",
            "Updating target network...\n",
            "EPISODE: 391 - FINAL SCORE: -10.874913206048006 - Temperature: 0.045131809013979715\n",
            "EPISODE: 392 - FINAL SCORE: 178.60121511867908 - Temperature: 0.04459030742966268\n",
            "EPISODE: 393 - FINAL SCORE: 130.59682509181138 - Temperature: 0.044055302903013495\n",
            "EPISODE: 394 - FINAL SCORE: 113.99614046532825 - Temperature: 0.043526717480874555\n",
            "EPISODE: 395 - FINAL SCORE: 171.38769595077423 - Temperature: 0.043004474145387765\n",
            "EPISODE: 396 - FINAL SCORE: 154.6628382327269 - Temperature: 0.0424884968027726\n",
            "EPISODE: 397 - FINAL SCORE: 210.3032696802038 - Temperature: 0.04197871027223881\n",
            "EPISODE: 398 - FINAL SCORE: 238.64053454600733 - Temperature: 0.04147504027503214\n",
            "EPISODE: 399 - FINAL SCORE: 231.0922794764531 - Temperature: 0.04097741342361154\n",
            "EPISODE: 400 - FINAL SCORE: 280.3473974603047 - Temperature: 0.04048575721095614\n",
            "Updating target network...\n",
            "EPISODE: 401 - FINAL SCORE: -71.51059648964156 - Temperature: 0.04000000000000063\n",
            "EPISODE: 402 - FINAL SCORE: 195.15370967499314 - Temperature: 0.03952007101319728\n",
            "EPISODE: 403 - FINAL SCORE: 149.0469458522265 - Temperature: 0.039045900322203286\n",
            "EPISODE: 404 - FINAL SCORE: 268.3150736563395 - Temperature: 0.0385774188376918\n",
            "EPISODE: 405 - FINAL SCORE: 171.68030189100747 - Temperature: 0.038114558299285256\n",
            "EPISODE: 406 - FINAL SCORE: 272.92369808887815 - Temperature: 0.03765725126560943\n",
            "EPISODE: 407 - FINAL SCORE: 231.30229731615754 - Temperature: 0.03720543110446686\n",
            "EPISODE: 408 - FINAL SCORE: 170.12564670716807 - Temperature: 0.03675903198312815\n",
            "EPISODE: 409 - FINAL SCORE: 208.69529826428345 - Temperature: 0.03631798885873979\n",
            "EPISODE: 410 - FINAL SCORE: 190.48499839035006 - Temperature: 0.03588223746884704\n",
            "Updating target network...\n",
            "EPISODE: 411 - FINAL SCORE: 282.34811864565523 - Temperature: 0.03545171432203052\n",
            "EPISODE: 412 - FINAL SCORE: 227.6405792987852 - Temperature: 0.035026356688655176\n",
            "EPISODE: 413 - FINAL SCORE: 217.9219836518655 - Temperature: 0.034606102591730206\n",
            "EPISODE: 414 - FINAL SCORE: 106.38679967050783 - Temperature: 0.03419089079787867\n",
            "EPISODE: 415 - FINAL SCORE: 239.8154961830295 - Temperature: 0.03378066080841542\n",
            "EPISODE: 416 - FINAL SCORE: 324.1651382770372 - Temperature: 0.03337535285053217\n",
            "EPISODE: 417 - FINAL SCORE: 93.61518461854459 - Temperature: 0.032974907868588164\n",
            "EPISODE: 418 - FINAL SCORE: 141.69311800757865 - Temperature: 0.032579267515505536\n",
            "EPISODE: 419 - FINAL SCORE: -8.659828858293224 - Temperature: 0.03218837414426774\n",
            "EPISODE: 420 - FINAL SCORE: 262.9947870062676 - Temperature: 0.03180217079952011\n",
            "Updating target network...\n",
            "EPISODE: 421 - FINAL SCORE: 255.76072242403268 - Temperature: 0.0314206012092711\n",
            "EPISODE: 422 - FINAL SCORE: 198.38832725814558 - Temperature: 0.03104360977669316\n",
            "EPISODE: 423 - FINAL SCORE: 273.03962342003126 - Temperature: 0.03067114157202199\n",
            "EPISODE: 424 - FINAL SCORE: 198.66200937130785 - Temperature: 0.030303142324552935\n",
            "EPISODE: 425 - FINAL SCORE: 119.01609678984047 - Temperature: 0.029939558414733426\n",
            "EPISODE: 426 - FINAL SCORE: 276.50654258843963 - Temperature: 0.02958033686635036\n",
            "EPISODE: 427 - FINAL SCORE: 138.96934635074555 - Temperature: 0.029225425338811135\n",
            "EPISODE: 428 - FINAL SCORE: 163.42970324548023 - Temperature: 0.028874772119517327\n",
            "EPISODE: 429 - FINAL SCORE: 76.47798975371984 - Temperature: 0.02852832611632989\n",
            "EPISODE: 430 - FINAL SCORE: 222.71118053421827 - Temperature: 0.02818603685012475\n",
            "Updating target network...\n",
            "EPISODE: 431 - FINAL SCORE: 97.18308137782753 - Temperature: 0.027847854447437696\n",
            "EPISODE: 432 - FINAL SCORE: 206.18405299468137 - Temperature: 0.027513729633197554\n",
            "EPISODE: 433 - FINAL SCORE: 60.710783109871755 - Temperature: 0.027183613723546513\n",
            "EPISODE: 434 - FINAL SCORE: -39.28308582889287 - Temperature: 0.026857458618746635\n",
            "EPISODE: 435 - FINAL SCORE: 137.18150450885724 - Temperature: 0.02653521679617144\n",
            "EPISODE: 436 - FINAL SCORE: 94.26343981397451 - Temperature: 0.0262168413033816\n",
            "EPISODE: 437 - FINAL SCORE: 102.05220420994046 - Temperature: 0.0259022857512837\n",
            "EPISODE: 438 - FINAL SCORE: 240.5794619587772 - Temperature: 0.02559150430737109\n",
            "EPISODE: 439 - FINAL SCORE: -29.09790017749968 - Temperature: 0.02528445168904584\n",
            "EPISODE: 440 - FINAL SCORE: 248.02382479140184 - Temperature: 0.024981083157020793\n",
            "Updating target network...\n",
            "EPISODE: 441 - FINAL SCORE: 228.62256090070554 - Temperature: 0.024681354508800817\n",
            "EPISODE: 442 - FINAL SCORE: 2.5021822776543416 - Temperature: 0.024385222072242245\n",
            "EPISODE: 443 - FINAL SCORE: 43.45219497714544 - Temperature: 0.0240926426991896\n",
            "EPISODE: 444 - FINAL SCORE: 264.78941838587025 - Temperature: 0.023803573759188672\n",
            "EPISODE: 445 - FINAL SCORE: 21.09073350650756 - Temperature: 0.02351797313327502\n",
            "EPISODE: 446 - FINAL SCORE: 6.45003875199545 - Temperature: 0.023235799207837\n",
            "EPISODE: 447 - FINAL SCORE: 198.114453285178 - Temperature: 0.02295701086855242\n",
            "EPISODE: 448 - FINAL SCORE: 224.27284282690664 - Temperature: 0.022681567494397974\n",
            "EPISODE: 449 - FINAL SCORE: 196.55815379574065 - Temperature: 0.022409428951730526\n",
            "EPISODE: 450 - FINAL SCORE: 129.47748570979735 - Temperature: 0.022140555588439387\n",
            "Updating target network...\n",
            "EPISODE: 451 - FINAL SCORE: 227.45745726035227 - Temperature: 0.021874908228168812\n",
            "EPISODE: 452 - FINAL SCORE: 144.04484523274775 - Temperature: 0.021612448164609784\n",
            "EPISODE: 453 - FINAL SCORE: -26.577249394160233 - Temperature: 0.02135313715586026\n",
            "EPISODE: 454 - FINAL SCORE: 282.0133823672994 - Temperature: 0.021096937418853136\n",
            "EPISODE: 455 - FINAL SCORE: -30.467894570930767 - Temperature: 0.020843811623851047\n",
            "EPISODE: 456 - FINAL SCORE: 211.45408108695966 - Temperature: 0.02059372288900718\n",
            "EPISODE: 457 - FINAL SCORE: 70.89616926853756 - Temperature: 0.02034663477499143\n",
            "EPISODE: 458 - FINAL SCORE: 288.14594393021156 - Temperature: 0.02010251127968095\n",
            "EPISODE: 459 - FINAL SCORE: 261.8465298891802 - Temperature: 0.019861316832914446\n",
            "EPISODE: 460 - FINAL SCORE: 184.78207998949068 - Temperature: 0.01962301629130942\n",
            "Updating target network...\n",
            "EPISODE: 461 - FINAL SCORE: 218.88508985013567 - Temperature: 0.019387574933141583\n",
            "EPISODE: 462 - FINAL SCORE: 207.7933992051557 - Temperature: 0.01915495845328567\n",
            "EPISODE: 463 - FINAL SCORE: 240.76642365181127 - Temperature: 0.01892513295821703\n",
            "EPISODE: 464 - FINAL SCORE: 128.58064292374272 - Temperature: 0.018698064961073138\n",
            "EPISODE: 465 - FINAL SCORE: 120.31337573219548 - Temperature: 0.018473721376774364\n",
            "EPISODE: 466 - FINAL SCORE: 306.9419203166933 - Temperature: 0.0182520695172033\n",
            "EPISODE: 467 - FINAL SCORE: 218.86145625675636 - Temperature: 0.01803307708644191\n",
            "EPISODE: 468 - FINAL SCORE: 219.72041546117794 - Temperature: 0.017816712176065844\n",
            "EPISODE: 469 - FINAL SCORE: 109.98837304432311 - Temperature: 0.01760294326049519\n",
            "EPISODE: 470 - FINAL SCORE: 277.8244938667614 - Temperature: 0.017391739192401036\n",
            "Updating target network...\n",
            "EPISODE: 471 - FINAL SCORE: 327.3940729896181 - Temperature: 0.01718306919816711\n",
            "EPISODE: 472 - FINAL SCORE: 286.63829512774475 - Temperature: 0.01697690287340591\n",
            "EPISODE: 473 - FINAL SCORE: 230.2852656538813 - Temperature: 0.0167732101785286\n",
            "EPISODE: 474 - FINAL SCORE: 153.38923558717778 - Temperature: 0.016571961434368076\n",
            "EPISODE: 475 - FINAL SCORE: 270.1106653110834 - Temperature: 0.016373127317854567\n",
            "EPISODE: 476 - FINAL SCORE: 147.02451877366607 - Temperature: 0.016176678857743064\n",
            "EPISODE: 477 - FINAL SCORE: 171.4809133596035 - Temperature: 0.015982587430392072\n",
            "EPISODE: 478 - FINAL SCORE: 206.58710485419266 - Temperature: 0.015790824755592972\n",
            "EPISODE: 479 - FINAL SCORE: 229.6311816351161 - Temperature: 0.015601362892449452\n",
            "EPISODE: 480 - FINAL SCORE: 236.30050881110515 - Temperature: 0.015414174235306338\n",
            "Updating target network...\n",
            "EPISODE: 481 - FINAL SCORE: 218.0635518945608 - Temperature: 0.015229231509727317\n",
            "EPISODE: 482 - FINAL SCORE: -93.70775624018806 - Temperature: 0.015046507768520893\n",
            "EPISODE: 483 - FINAL SCORE: 230.60403846248292 - Temperature: 0.014865976387814022\n",
            "EPISODE: 484 - FINAL SCORE: 218.57416431060494 - Temperature: 0.014687611063172871\n",
            "EPISODE: 485 - FINAL SCORE: 59.95573975295295 - Temperature: 0.014511385805770119\n",
            "EPISODE: 486 - FINAL SCORE: 278.4109556291636 - Temperature: 0.014337274938598224\n",
            "EPISODE: 487 - FINAL SCORE: 230.97387227469764 - Temperature: 0.014165253092728165\n",
            "EPISODE: 488 - FINAL SCORE: 328.28842324346147 - Temperature: 0.013995295203613017\n",
            "EPISODE: 489 - FINAL SCORE: 83.2061808462011 - Temperature: 0.013827376507435922\n",
            "EPISODE: 490 - FINAL SCORE: -52.91717124589648 - Temperature: 0.013661472537501872\n",
            "Updating target network...\n",
            "EPISODE: 491 - FINAL SCORE: -37.89363317095909 - Temperature: 0.013497559120672745\n",
            "EPISODE: 492 - FINAL SCORE: 158.22073379767062 - Temperature: 0.013335612373845179\n",
            "EPISODE: 493 - FINAL SCORE: 206.3768376320892 - Temperature: 0.013175608700470638\n",
            "EPISODE: 494 - FINAL SCORE: 226.35466221973843 - Temperature: 0.013017524787117282\n",
            "EPISODE: 495 - FINAL SCORE: 230.78308320668404 - Temperature: 0.012861337600073068\n",
            "EPISODE: 496 - FINAL SCORE: 221.6403468904365 - Temperature: 0.012707024381989597\n",
            "EPISODE: 497 - FINAL SCORE: 253.6374499352921 - Temperature: 0.012554562648566256\n",
            "EPISODE: 498 - FINAL SCORE: 249.8473661747164 - Temperature: 0.012403930185274118\n",
            "EPISODE: 499 - FINAL SCORE: 229.44560774989924 - Temperature: 0.012255105044119167\n",
            "EPISODE: 500 - FINAL SCORE: 257.77754055867024 - Temperature: 0.012108065540444352\n",
            "Updating target network...\n",
            "EPISODE: 501 - FINAL SCORE: 299.00685752344043 - Temperature: 0.011962790249770002\n",
            "EPISODE: 502 - FINAL SCORE: 233.230539615128 - Temperature: 0.011819258004672175\n",
            "EPISODE: 503 - FINAL SCORE: 241.07223179338075 - Temperature: 0.011677447891698434\n",
            "EPISODE: 504 - FINAL SCORE: 218.72844365678367 - Temperature: 0.011537339248320642\n",
            "EPISODE: 505 - FINAL SCORE: 222.41617228080014 - Temperature: 0.01139891165992432\n",
            "EPISODE: 506 - FINAL SCORE: 211.51825587910392 - Temperature: 0.011262144956834112\n",
            "EPISODE: 507 - FINAL SCORE: 262.46236555540065 - Temperature: 0.011127019211374966\n",
            "EPISODE: 508 - FINAL SCORE: 273.8353503715644 - Temperature: 0.010993514734968554\n",
            "EPISODE: 509 - FINAL SCORE: -0.6191394973673141 - Temperature: 0.010861612075264527\n",
            "EPISODE: 510 - FINAL SCORE: -20.709245991532185 - Temperature: 0.01073129201330621\n",
            "Updating target network...\n",
            "EPISODE: 511 - FINAL SCORE: 242.8949343960477 - Temperature: 0.010602535560730287\n",
            "EPISODE: 512 - FINAL SCORE: 181.8889490684275 - Temperature: 0.010475323957000095\n",
            "EPISODE: 513 - FINAL SCORE: 159.2409155515064 - Temperature: 0.010349638666672099\n",
            "EPISODE: 514 - FINAL SCORE: 216.6007674937138 - Temperature: 0.010225461376695182\n",
            "EPISODE: 515 - FINAL SCORE: 129.7539208690056 - Temperature: 0.01010277399374233\n",
            "EPISODE: 516 - FINAL SCORE: 211.0538923920099 - Temperature: 0.009981558641574333\n",
            "EPISODE: 517 - FINAL SCORE: 218.9210076081751 - Temperature: 0.00986179765843511\n",
            "EPISODE: 518 - FINAL SCORE: 327.8899020208406 - Temperature: 0.0097434735944783\n",
            "EPISODE: 519 - FINAL SCORE: 158.37224707471253 - Temperature: 0.009626569209224722\n",
            "EPISODE: 520 - FINAL SCORE: 320.86283622192906 - Temperature: 0.009511067469050335\n",
            "Updating target network...\n",
            "EPISODE: 521 - FINAL SCORE: 185.8840005291475 - Temperature: 0.009396951544704346\n",
            "EPISODE: 522 - FINAL SCORE: 210.64663725301273 - Temperature: 0.009284204808857093\n",
            "EPISODE: 523 - FINAL SCORE: -38.70577345720399 - Temperature: 0.009172810833677356\n",
            "EPISODE: 524 - FINAL SCORE: 92.89242969764524 - Temperature: 0.009062753388438718\n",
            "EPISODE: 525 - FINAL SCORE: 39.100068537106495 - Temperature: 0.00895401643715467\n",
            "EPISODE: 526 - FINAL SCORE: 203.22147305160075 - Temperature: 0.008846584136242066\n",
            "EPISODE: 527 - FINAL SCORE: 153.94338413211958 - Temperature: 0.008740440832212638\n",
            "EPISODE: 528 - FINAL SCORE: 162.54127295385436 - Temperature: 0.008635571059392177\n",
            "EPISODE: 529 - FINAL SCORE: 247.55341613382865 - Temperature: 0.008531959537667118\n",
            "EPISODE: 530 - FINAL SCORE: 233.71880458562651 - Temperature: 0.008429591170258124\n",
            "Updating target network...\n",
            "EPISODE: 531 - FINAL SCORE: 208.4355593728331 - Temperature: 0.008328451041520414\n",
            "EPISODE: 532 - FINAL SCORE: 229.5035870937615 - Temperature: 0.008228524414770462\n",
            "EPISODE: 533 - FINAL SCORE: 220.2849098079464 - Temperature: 0.008129796730138777\n",
            "EPISODE: 534 - FINAL SCORE: -14.589250144038886 - Temperature: 0.00803225360244846\n",
            "EPISODE: 535 - FINAL SCORE: -3.9233794330126415 - Temperature: 0.007935880819119195\n",
            "EPISODE: 536 - FINAL SCORE: 190.37387537635163 - Temperature: 0.007840664338096395\n",
            "EPISODE: 537 - FINAL SCORE: 230.26155476928324 - Temperature: 0.0077465902858052035\n",
            "EPISODE: 538 - FINAL SCORE: 223.65863762094332 - Temperature: 0.007653644955129026\n",
            "EPISODE: 539 - FINAL SCORE: 205.24984337654914 - Temperature: 0.007561814803412336\n",
            "EPISODE: 540 - FINAL SCORE: 246.45970127491373 - Temperature: 0.00747108645048743\n",
            "Updating target network...\n",
            "EPISODE: 541 - FINAL SCORE: -14.839418901186704 - Temperature: 0.007381446676724864\n",
            "EPISODE: 542 - FINAL SCORE: 240.47935965916076 - Temperature: 0.007292882421107278\n",
            "EPISODE: 543 - FINAL SCORE: 161.66834643513886 - Temperature: 0.00720538077932633\n",
            "EPISODE: 544 - FINAL SCORE: 202.31368329664085 - Temperature: 0.00711892900190247\n",
            "EPISODE: 545 - FINAL SCORE: 165.64211448514163 - Temperature: 0.00703351449232727\n",
            "EPISODE: 546 - FINAL SCORE: 167.26875125570047 - Temperature: 0.006949124805228038\n",
            "EPISODE: 547 - FINAL SCORE: 251.19013493314986 - Temperature: 0.006865747644554462\n",
            "EPISODE: 548 - FINAL SCORE: 15.09145001344693 - Temperature: 0.006783370861787\n",
            "EPISODE: 549 - FINAL SCORE: 47.87460284862786 - Temperature: 0.006701982454166781\n",
            "EPISODE: 550 - FINAL SCORE: -14.299610287073719 - Temperature: 0.006621570562946729\n",
            "Updating target network...\n",
            "EPISODE: 551 - FINAL SCORE: 238.01830325449603 - Temperature: 0.0065421234716636825\n",
            "EPISODE: 552 - FINAL SCORE: 228.89656729063307 - Temperature: 0.006463629604431235\n",
            "EPISODE: 553 - FINAL SCORE: 21.39692722588083 - Temperature: 0.006386077524253065\n",
            "EPISODE: 554 - FINAL SCORE: 236.58302542181036 - Temperature: 0.006309455931356506\n",
            "EPISODE: 555 - FINAL SCORE: 241.6041020266995 - Temperature: 0.006233753661546099\n",
            "EPISODE: 556 - FINAL SCORE: 60.17197118260154 - Temperature: 0.006158959684576912\n",
            "EPISODE: 557 - FINAL SCORE: 230.5365261498913 - Temperature: 0.0060850631025473716\n",
            "EPISODE: 558 - FINAL SCORE: 301.77752738903337 - Temperature: 0.006012053148311373\n",
            "EPISODE: 559 - FINAL SCORE: 163.50166839164038 - Temperature: 0.0059399191839094485\n",
            "EPISODE: 560 - FINAL SCORE: 212.85392754314267 - Temperature: 0.005868650699018764\n",
            "Updating target network...\n",
            "EPISODE: 561 - FINAL SCORE: 91.18429737723858 - Temperature: 0.0057982373094216935\n",
            "EPISODE: 562 - FINAL SCORE: 230.4892864285994 - Temperature: 0.005728668755492791\n",
            "EPISODE: 563 - FINAL SCORE: 264.20040813679236 - Temperature: 0.0056599349007039\n",
            "EPISODE: 564 - FINAL SCORE: 275.1130665321604 - Temperature: 0.005592025730147207\n",
            "EPISODE: 565 - FINAL SCORE: 296.4414075232817 - Temperature: 0.005524931349076013\n",
            "EPISODE: 566 - FINAL SCORE: 207.03894708513505 - Temperature: 0.005458641981463011\n",
            "EPISODE: 567 - FINAL SCORE: 225.08944425729754 - Temperature: 0.005393147968575867\n",
            "EPISODE: 568 - FINAL SCORE: 266.1655621082731 - Temperature: 0.0053284397675698895\n",
            "EPISODE: 569 - FINAL SCORE: 290.43536132176735 - Temperature: 0.005264507950097577\n",
            "EPISODE: 570 - FINAL SCORE: -11.204483315225303 - Temperature: 0.005201343200934866\n",
            "Updating target network...\n",
            "EPISODE: 571 - FINAL SCORE: 222.23409795554537 - Temperature: 0.005138936316623837\n",
            "EPISODE: 572 - FINAL SCORE: 142.94801913231169 - Temperature: 0.005077278204131733\n",
            "EPISODE: 573 - FINAL SCORE: 227.97467783170984 - Temperature: 0.005016359879526041\n",
            "EPISODE: 574 - FINAL SCORE: 213.30269322935055 - Temperature: 0.0049561724666654944\n",
            "EPISODE: 575 - FINAL SCORE: 153.87303330874627 - Temperature: 0.004896707195906759\n",
            "EPISODE: 576 - FINAL SCORE: 224.61594877650015 - Temperature: 0.0048379554028266545\n",
            "EPISODE: 577 - FINAL SCORE: 228.0123069775935 - Temperature: 0.004779908526959696\n",
            "EPISODE: 578 - FINAL SCORE: -9.881112763476136 - Temperature: 0.004722558110550785\n",
            "EPISODE: 579 - FINAL SCORE: 250.61421875084517 - Temperature: 0.0046658957973228716\n",
            "EPISODE: 580 - FINAL SCORE: 59.61177984201083 - Temperature: 0.0046099133312593925\n",
            "Updating target network...\n",
            "EPISODE: 581 - FINAL SCORE: 307.5781290912669 - Temperature: 0.004554602555401329\n",
            "EPISODE: 582 - FINAL SCORE: 163.54857514570787 - Temperature: 0.004499955410658687\n",
            "EPISODE: 583 - FINAL SCORE: 249.74957986070973 - Temperature: 0.004445963934636246\n",
            "EPISODE: 584 - FINAL SCORE: 35.4408826835907 - Temperature: 0.004392620260473391\n",
            "EPISODE: 585 - FINAL SCORE: 11.385920508313191 - Temperature: 0.00433991661569787\n",
            "EPISODE: 586 - FINAL SCORE: 26.100805383520125 - Temperature: 0.004287845321093298\n",
            "EPISODE: 587 - FINAL SCORE: 235.65073328027552 - Temperature: 0.004236398789580254\n",
            "EPISODE: 588 - FINAL SCORE: 227.24488384636587 - Temperature: 0.0041855695251107996\n",
            "EPISODE: 589 - FINAL SCORE: 257.3971808223614 - Temperature: 0.004135350121576266\n",
            "EPISODE: 590 - FINAL SCORE: 202.45240682117867 - Temperature: 0.004085733261728136\n",
            "Updating target network...\n",
            "EPISODE: 591 - FINAL SCORE: 239.93810355104367 - Temperature: 0.004036711716111889\n",
            "EPISODE: 592 - FINAL SCORE: 257.94300576606236 - Temperature: 0.003988278342013618\n",
            "EPISODE: 593 - FINAL SCORE: 218.8162441698766 - Temperature: 0.003940426082419311\n",
            "EPISODE: 594 - FINAL SCORE: 82.64198015190215 - Temperature: 0.0038931479649865867\n",
            "EPISODE: 595 - FINAL SCORE: 257.9002514592252 - Temperature: 0.0038464371010287993\n",
            "EPISODE: 596 - FINAL SCORE: 296.747127389172 - Temperature: 0.0038002866845113104\n",
            "EPISODE: 597 - FINAL SCORE: 196.54561660221856 - Temperature: 0.0037546899910598165\n",
            "EPISODE: 598 - FINAL SCORE: 259.38388377118514 - Temperature: 0.0037096403769805667\n",
            "EPISODE: 599 - FINAL SCORE: 250.3007072952881 - Temperature: 0.00366513127829234\n",
            "EPISODE: 600 - FINAL SCORE: -5.590650266070696 - Temperature: 0.003621156209770038\n",
            "Updating target network...\n",
            "EPISODE: 601 - FINAL SCORE: 255.55800583797918 - Temperature: 0.0035777087639997486\n",
            "EPISODE: 602 - FINAL SCORE: -64.28666389706785 - Temperature: 0.003534782610445153\n",
            "EPISODE: 603 - FINAL SCORE: 241.37489810723136 - Temperature: 0.003492371494525127\n",
            "EPISODE: 604 - FINAL SCORE: 254.98462728674113 - Temperature: 0.0034504692367024192\n",
            "EPISODE: 605 - FINAL SCORE: 2.5625167602124037 - Temperature: 0.0034090697315832517\n",
            "EPISODE: 606 - FINAL SCORE: 252.22478416135797 - Temperature: 0.003368166947027734\n",
            "EPISODE: 607 - FINAL SCORE: 280.32173488543964 - Temperature: 0.0033277549232709454\n",
            "EPISODE: 608 - FINAL SCORE: 226.8455232469071 - Temperature: 0.003287827772054564\n",
            "EPISODE: 609 - FINAL SCORE: 44.50252301467273 - Temperature: 0.003248379675768913\n",
            "EPISODE: 610 - FINAL SCORE: 288.92294087899097 - Temperature: 0.0032094048866053043\n",
            "Updating target network...\n",
            "EPISODE: 611 - FINAL SCORE: -58.639930112682464 - Temperature: 0.0031708977257185497\n",
            "EPISODE: 612 - FINAL SCORE: 34.03853133783261 - Temperature: 0.0031328525823995216\n",
            "EPISODE: 613 - FINAL SCORE: 247.77483650175301 - Temperature: 0.00309526391325764\n",
            "EPISODE: 614 - FINAL SCORE: 242.08557825108346 - Temperature: 0.0030581262414131733\n",
            "EPISODE: 615 - FINAL SCORE: 289.89753953044993 - Temperature: 0.0030214341556992195\n",
            "EPISODE: 616 - FINAL SCORE: -126.13712725458785 - Temperature: 0.0029851823098732758\n",
            "EPISODE: 617 - FINAL SCORE: 268.65809633574975 - Temperature: 0.002949365421838257\n",
            "EPISODE: 618 - FINAL SCORE: 206.64974282471167 - Temperature: 0.0029139782728728656\n",
            "EPISODE: 619 - FINAL SCORE: 265.5606281563046 - Temperature: 0.002879015706871195\n",
            "EPISODE: 620 - FINAL SCORE: -84.49647390400384 - Temperature: 0.002844472629591455\n",
            "Updating target network...\n",
            "EPISODE: 621 - FINAL SCORE: 260.61419422585743 - Temperature: 0.0028103440079137133\n",
            "EPISODE: 622 - FINAL SCORE: 39.74347054329024 - Temperature: 0.002776624869106541\n",
            "EPISODE: 623 - FINAL SCORE: 228.16329681610662 - Temperature: 0.00274331030010246\n",
            "EPISODE: 624 - FINAL SCORE: 273.039985037702 - Temperature: 0.0027103954467820757\n",
            "EPISODE: 625 - FINAL SCORE: 268.1820792471978 - Temperature: 0.0026778755132668124\n",
            "EPISODE: 626 - FINAL SCORE: 296.4007093774591 - Temperature: 0.002645745761220122\n",
            "EPISODE: 627 - FINAL SCORE: 57.5376410480589 - Temperature: 0.0026140015091570814\n",
            "EPISODE: 628 - FINAL SCORE: 276.55964654655565 - Temperature: 0.0025826381317622773\n",
            "EPISODE: 629 - FINAL SCORE: 265.20680006066397 - Temperature: 0.0025516510592158686\n",
            "EPISODE: 630 - FINAL SCORE: 266.5598868029405 - Temperature: 0.0025210357765277397\n",
            "Updating target network...\n",
            "EPISODE: 631 - FINAL SCORE: 285.83483417995467 - Temperature: 0.0024907878228796415\n",
            "EPISODE: 632 - FINAL SCORE: 249.35114109891109 - Temperature: 0.002460902790975223\n",
            "EPISODE: 633 - FINAL SCORE: 251.12882697836613 - Temperature: 0.0024313763263978665\n",
            "EPISODE: 634 - FINAL SCORE: 267.7300124973361 - Temperature: 0.0024022041269762223\n",
            "EPISODE: 635 - FINAL SCORE: -56.3122300759838 - Temperature: 0.00237338194215736\n",
            "EPISODE: 636 - FINAL SCORE: 281.7991842839805 - Temperature: 0.0023449055723874365\n",
            "EPISODE: 637 - FINAL SCORE: 274.66164891099265 - Temperature: 0.002316770868499801\n",
            "EPISODE: 638 - FINAL SCORE: 30.434671465008677 - Temperature: 0.0022889737311104353\n",
            "EPISODE: 639 - FINAL SCORE: 219.22800569089145 - Temperature: 0.0022615101100206527\n",
            "EPISODE: 640 - FINAL SCORE: 11.387562777958578 - Temperature: 0.0022343760036269596\n",
            "Updating target network...\n",
            "EPISODE: 641 - FINAL SCORE: 72.27036810619012 - Temperature: 0.0022075674583379996\n",
            "EPISODE: 642 - FINAL SCORE: 245.04412382098977 - Temperature: 0.002181080567998495\n",
            "EPISODE: 643 - FINAL SCORE: 119.24042729828052 - Temperature: 0.0021549114733200956\n",
            "EPISODE: 644 - FINAL SCORE: 279.92566185133035 - Temperature: 0.00212905636131906\n",
            "EPISODE: 645 - FINAL SCORE: -7.37951470598729 - Temperature: 0.0021035114647606832\n",
            "EPISODE: 646 - FINAL SCORE: 246.4832142158484 - Temperature: 0.002078273061610388\n",
            "EPISODE: 647 - FINAL SCORE: 271.6640559690926 - Temperature: 0.002053337474491404\n",
            "EPISODE: 648 - FINAL SCORE: -42.87417996722834 - Temperature: 0.0020287010701489543\n",
            "EPISODE: 649 - FINAL SCORE: 45.849481896352245 - Temperature: 0.002004360258920868\n",
            "EPISODE: 650 - FINAL SCORE: 6.176101482139359 - Temperature: 0.0019803114942145484\n",
            "Updating target network...\n",
            "EPISODE: 651 - FINAL SCORE: 272.53946520857477 - Temperature: 0.0019565512719902133\n",
            "EPISODE: 652 - FINAL SCORE: 23.153804079074916 - Temperature: 0.0019330761302503371\n",
            "EPISODE: 653 - FINAL SCORE: 248.96440479799116 - Temperature: 0.0019098826485352176\n",
            "EPISODE: 654 - FINAL SCORE: -0.6752447609481038 - Temperature: 0.0018869674474245978\n",
            "EPISODE: 655 - FINAL SCORE: 257.8068348053759 - Temperature: 0.0018643271880452634\n",
            "EPISODE: 656 - FINAL SCORE: 40.74196421686082 - Temperature: 0.0018419585715845513\n",
            "EPISODE: 657 - FINAL SCORE: 292.2860331664458 - Temperature: 0.0018198583388096933\n",
            "EPISODE: 658 - FINAL SCORE: 255.5520750608498 - Temperature: 0.0017980232695929295\n",
            "EPISODE: 659 - FINAL SCORE: 258.11521854972807 - Temperature: 0.0017764501824423153\n",
            "EPISODE: 660 - FINAL SCORE: -15.506218643807529 - Temperature: 0.0017551359340381612\n",
            "Updating target network...\n",
            "EPISODE: 661 - FINAL SCORE: 245.4689532182689 - Temperature: 0.0017340774187750345\n",
            "EPISODE: 662 - FINAL SCORE: 284.94220412325745 - Temperature: 0.0017132715683092529\n",
            "EPISODE: 663 - FINAL SCORE: 280.57822949976367 - Temperature: 0.0016927153511118122\n",
            "EPISODE: 664 - FINAL SCORE: 45.61795311918067 - Temperature: 0.0016724057720266731\n",
            "EPISODE: 665 - FINAL SCORE: 148.9559037255781 - Temperature: 0.0016523398718343524\n",
            "EPISODE: 666 - FINAL SCORE: 35.44463677580342 - Temperature: 0.0016325147268207469\n",
            "EPISODE: 667 - FINAL SCORE: 272.92917755888516 - Temperature: 0.0016129274483511313\n",
            "EPISODE: 668 - FINAL SCORE: -14.23410418925475 - Temperature: 0.0015935751824492697\n",
            "EPISODE: 669 - FINAL SCORE: 38.58222945172122 - Temperature: 0.001574455109381574\n",
            "EPISODE: 670 - FINAL SCORE: 248.80763898622652 - Temperature: 0.0015555644432462528\n",
            "Updating target network...\n",
            "EPISODE: 671 - FINAL SCORE: 269.85952340945835 - Temperature: 0.0015369004315673907\n",
            "EPISODE: 672 - FINAL SCORE: 272.5774251551341 - Temperature: 0.0015184603548938965\n",
            "EPISODE: 673 - FINAL SCORE: 238.80006067947042 - Temperature: 0.001500241526403265\n",
            "EPISODE: 674 - FINAL SCORE: 261.5853769548678 - Temperature: 0.0014822412915100895\n",
            "EPISODE: 675 - FINAL SCORE: -16.516433292922557 - Temperature: 0.0014644570274792764\n",
            "EPISODE: 676 - FINAL SCORE: 277.68029473951447 - Temperature: 0.0014468861430438971\n",
            "EPISODE: 677 - FINAL SCORE: 17.06884077230474 - Temperature: 0.0014295260780276258\n",
            "EPISODE: 678 - FINAL SCORE: 24.035691016218365 - Temperature: 0.001412374302971707\n",
            "EPISODE: 679 - FINAL SCORE: 1.7715706636553818 - Temperature: 0.0013954283187663996\n",
            "EPISODE: 680 - FINAL SCORE: 266.9528267356221 - Temperature: 0.0013786856562868432\n",
            "Updating target network...\n",
            "EPISODE: 681 - FINAL SCORE: 255.57311318074306 - Temperature: 0.001362143876033292\n",
            "EPISODE: 682 - FINAL SCORE: 256.0772027140042 - Temperature: 0.0013458005677756662\n",
            "EPISODE: 683 - FINAL SCORE: 252.7516665398668 - Temperature: 0.0013296533502023678\n",
            "EPISODE: 684 - FINAL SCORE: 277.7837996267358 - Temperature: 0.0013136998705733105\n",
            "EPISODE: 685 - FINAL SCORE: 223.5801362377399 - Temperature: 0.001297937804377112\n",
            "EPISODE: 686 - FINAL SCORE: 132.07661892514653 - Temperature: 0.0012823648549924005\n",
            "EPISODE: 687 - FINAL SCORE: 250.85781211876733 - Temperature: 0.0012669787533531826\n",
            "EPISODE: 688 - FINAL SCORE: 24.468280173780954 - Temperature: 0.0012517772576182283\n",
            "EPISODE: 689 - FINAL SCORE: 264.1736751142776 - Temperature: 0.0012367581528444239\n",
            "EPISODE: 690 - FINAL SCORE: 32.682245460871854 - Temperature: 0.001221919250664039\n",
            "Updating target network...\n",
            "EPISODE: 691 - FINAL SCORE: 306.36977040441093 - Temperature: 0.0012072583889658716\n",
            "EPISODE: 692 - FINAL SCORE: 251.04656203392335 - Temperature: 0.0011927734315802158\n",
            "EPISODE: 693 - FINAL SCORE: 251.1154157996465 - Temperature: 0.0011784622679676098\n",
            "EPISODE: 694 - FINAL SCORE: 259.56295067186016 - Temperature: 0.001164322812911318\n",
            "EPISODE: 695 - FINAL SCORE: 173.9113308316962 - Temperature: 0.0011503530062135043\n",
            "EPISODE: 696 - FINAL SCORE: 257.46411164813213 - Temperature: 0.0011365508123950489\n",
            "EPISODE: 697 - FINAL SCORE: 265.86208603357125 - Temperature: 0.001122914220398967\n",
            "EPISODE: 698 - FINAL SCORE: 274.5503914569576 - Temperature: 0.0011094412432973884\n",
            "EPISODE: 699 - FINAL SCORE: 254.01941625509718 - Temperature: 0.0010961299180020495\n",
            "EPISODE: 700 - FINAL SCORE: 35.057494674972276 - Temperature: 0.0010829783049782606\n",
            "Updating target network...\n",
            "EPISODE: 701 - FINAL SCORE: 256.6005582139421 - Temperature: 0.001069984487962305\n",
            "EPISODE: 702 - FINAL SCORE: 260.31400543311406 - Temperature: 0.001057146573682229\n",
            "EPISODE: 703 - FINAL SCORE: 51.89292781450001 - Temperature: 0.0010444626915819804\n",
            "EPISODE: 704 - FINAL SCORE: 296.6986142634513 - Temperature: 0.0010319309935488596\n",
            "EPISODE: 705 - FINAL SCORE: 281.97400978591355 - Temperature: 0.001019549653644238\n",
            "EPISODE: 706 - FINAL SCORE: 19.588238237839334 - Temperature: 0.0010073168678375083\n",
            "EPISODE: 707 - FINAL SCORE: 284.75094568568727 - Temperature: 0.000995230853743229\n",
            "EPISODE: 708 - FINAL SCORE: 268.4856974098699 - Temperature: 0.0009832898503614185\n",
            "EPISODE: 709 - FINAL SCORE: 229.7071882949774 - Temperature: 0.0009714921178209695\n",
            "EPISODE: 710 - FINAL SCORE: 275.5198157051699 - Temperature: 0.0009598359371261381\n",
            "Updating target network...\n",
            "EPISODE: 711 - FINAL SCORE: 16.434795349670893 - Temperature: 0.0009483196099060785\n",
            "EPISODE: 712 - FINAL SCORE: 53.80181974940288 - Temperature: 0.0009369414581673793\n",
            "EPISODE: 713 - FINAL SCORE: 15.825808325080843 - Temperature: 0.0009256998240495713\n",
            "EPISODE: 714 - FINAL SCORE: 298.33830702330243 - Temperature: 0.0009145930695835676\n",
            "EPISODE: 715 - FINAL SCORE: 47.97809842671771 - Temperature: 0.0009036195764530027\n",
            "EPISODE: 716 - FINAL SCORE: 20.6896918790641 - Temperature: 0.0008927777457584337\n",
            "EPISODE: 717 - FINAL SCORE: 261.319523411252 - Temperature: 0.0008820659977843733\n",
            "EPISODE: 718 - FINAL SCORE: 59.2324486511246 - Temperature: 0.000871482771769115\n",
            "EPISODE: 719 - FINAL SCORE: 0.1287962619160794 - Temperature: 0.0008610265256773219\n",
            "EPISODE: 720 - FINAL SCORE: 268.0219289577562 - Temperature: 0.0008506957359753439\n",
            "Updating target network...\n",
            "EPISODE: 721 - FINAL SCORE: 244.8639569865301 - Temperature: 0.0008404888974092295\n",
            "EPISODE: 722 - FINAL SCORE: 16.081444168243706 - Temperature: 0.0008304045227854028\n",
            "EPISODE: 723 - FINAL SCORE: 328.0385013186983 - Temperature: 0.00082044114275397\n",
            "EPISODE: 724 - FINAL SCORE: 23.245832713919384 - Temperature: 0.0008105973055946278\n",
            "EPISODE: 725 - FINAL SCORE: 309.3380842494759 - Temperature: 0.000800871577005139\n",
            "EPISODE: 726 - FINAL SCORE: 32.29930653494637 - Temperature: 0.0007912625398923471\n",
            "EPISODE: 727 - FINAL SCORE: 10.381452354103729 - Temperature: 0.0007817687941656978\n",
            "EPISODE: 728 - FINAL SCORE: 20.952576201662183 - Temperature: 0.0007723889565332373\n",
            "EPISODE: 729 - FINAL SCORE: -40.690266118703406 - Temperature: 0.0007631216603000601\n",
            "EPISODE: 730 - FINAL SCORE: 272.6829002509689 - Temperature: 0.0007539655551691728\n",
            "Updating target network...\n",
            "EPISODE: 731 - FINAL SCORE: 269.07479181269093 - Temperature: 0.0007449193070447487\n",
            "EPISODE: 732 - FINAL SCORE: 78.33877076291301 - Temperature: 0.0007359815978377429\n",
            "EPISODE: 733 - FINAL SCORE: 6.265202615918412 - Temperature: 0.0007271511252738385\n",
            "EPISODE: 734 - FINAL SCORE: 254.16655748137745 - Temperature: 0.0007184266027036989\n",
            "EPISODE: 735 - FINAL SCORE: 2.1425315267421325 - Temperature: 0.000709806758915495\n",
            "EPISODE: 736 - FINAL SCORE: -1.1609240891801704 - Temperature: 0.000701290337949683\n",
            "EPISODE: 737 - FINAL SCORE: 278.81321848608087 - Temperature: 0.0006928760989160039\n",
            "EPISODE: 738 - FINAL SCORE: 22.671993192851915 - Temperature: 0.0006845628158126786\n",
            "EPISODE: 739 - FINAL SCORE: 271.55272082894516 - Temperature: 0.000676349277347773\n",
            "EPISODE: 740 - FINAL SCORE: 258.19947156927674 - Temperature: 0.0006682342867627058\n",
            "Updating target network...\n",
            "EPISODE: 741 - FINAL SCORE: 252.57144592304093 - Temperature: 0.0006602166616578738\n",
            "EPISODE: 742 - FINAL SCORE: 24.662034046185667 - Temperature: 0.0006522952338203701\n",
            "EPISODE: 743 - FINAL SCORE: 281.6283280675086 - Temperature: 0.0006444688490537685\n",
            "EPISODE: 744 - FINAL SCORE: -36.3501358484732 - Temperature: 0.0006367363670099512\n",
            "EPISODE: 745 - FINAL SCORE: 250.80128696242633 - Temperature: 0.000629096661022953\n",
            "EPISODE: 746 - FINAL SCORE: 258.3194561570912 - Temperature: 0.0006215486179448001\n",
            "EPISODE: 747 - FINAL SCORE: 288.8311842712991 - Temperature: 0.0006140911379833186\n",
            "EPISODE: 748 - FINAL SCORE: 307.9137026927841 - Temperature: 0.0006067231345418874\n",
            "EPISODE: 749 - FINAL SCORE: 254.45462271790035 - Temperature: 0.0005994435340611164\n",
            "EPISODE: 750 - FINAL SCORE: 266.6065899719791 - Temperature: 0.0005922512758624222\n",
            "Updating target network...\n",
            "EPISODE: 751 - FINAL SCORE: 282.3732932546345 - Temperature: 0.0005851453119934812\n",
            "EPISODE: 752 - FINAL SCORE: 39.52859337170392 - Temperature: 0.0005781246070755373\n",
            "EPISODE: 753 - FINAL SCORE: 281.36507949373 - Temperature: 0.0005711881381525412\n",
            "EPISODE: 754 - FINAL SCORE: 24.76279608205688 - Temperature: 0.0005643348945421002\n",
            "EPISODE: 755 - FINAL SCORE: -12.805236643239297 - Temperature: 0.0005575638776882161\n",
            "EPISODE: 756 - FINAL SCORE: 231.73720429447212 - Temperature: 0.0005508741010157899\n",
            "EPISODE: 757 - FINAL SCORE: 235.31593238005036 - Temperature: 0.0005442645897868722\n",
            "EPISODE: 758 - FINAL SCORE: 219.03466124685508 - Temperature: 0.0005377343809586384\n",
            "EPISODE: 759 - FINAL SCORE: 310.35737705798596 - Temperature: 0.0005312825230430683\n",
            "EPISODE: 760 - FINAL SCORE: 218.49278439114443 - Temperature: 0.0005249080759683087\n",
            "Updating target network...\n",
            "EPISODE: 761 - FINAL SCORE: 273.1896065572987 - Temperature: 0.0005186101109416997\n",
            "EPISODE: 762 - FINAL SCORE: 287.9654652995327 - Temperature: 0.0005123877103144441\n",
            "EPISODE: 763 - FINAL SCORE: 324.70032824473697 - Temperature: 0.0005062399674479018\n",
            "EPISODE: 764 - FINAL SCORE: 22.866093994123503 - Temperature: 0.000500165986581486\n",
            "EPISODE: 765 - FINAL SCORE: 1.8297185260598212 - Temperature: 0.0004941648827021473\n",
            "EPISODE: 766 - FINAL SCORE: 279.7457002715787 - Temperature: 0.00048823578141542147\n",
            "EPISODE: 767 - FINAL SCORE: 287.49425450487774 - Temperature: 0.0004823778188180254\n",
            "EPISODE: 768 - FINAL SCORE: 308.52857465035777 - Temperature: 0.00047659014137198187\n",
            "EPISODE: 769 - FINAL SCORE: 268.572304679827 - Temperature: 0.0004708719057802539\n",
            "EPISODE: 770 - FINAL SCORE: 249.93865861737316 - Temperature: 0.00046522227886387193\n",
            "Updating target network...\n",
            "EPISODE: 771 - FINAL SCORE: 247.7322738459498 - Temperature: 0.00045964043744053495\n",
            "EPISODE: 772 - FINAL SCORE: -18.317786207301964 - Temperature: 0.0004541255682046679\n",
            "EPISODE: 773 - FINAL SCORE: 291.59906715133707 - Temperature: 0.0004486768676089189\n",
            "EPISODE: 774 - FINAL SCORE: 269.30527349989916 - Temperature: 0.00044329354174707774\n",
            "EPISODE: 775 - FINAL SCORE: 274.6588901319235 - Temperature: 0.0004379748062383992\n",
            "EPISODE: 776 - FINAL SCORE: 258.43895717763894 - Temperature: 0.0004327198861133146\n",
            "EPISODE: 777 - FINAL SCORE: 274.62272954116645 - Temperature: 0.000427528015700514\n",
            "EPISODE: 778 - FINAL SCORE: 41.65128536420838 - Temperature: 0.0004223984385153842\n",
            "EPISODE: 779 - FINAL SCORE: -35.97337307835362 - Temperature: 0.00041733040714978415\n",
            "EPISODE: 780 - FINAL SCORE: 269.12646510359576 - Temperature: 0.00041232318316314364\n",
            "Updating target network...\n",
            "EPISODE: 781 - FINAL SCORE: 310.3928356773168 - Temperature: 0.00040737603697486814\n",
            "EPISODE: 782 - FINAL SCORE: 270.20007355983 - Temperature: 0.0004024882477580354\n",
            "EPISODE: 783 - FINAL SCORE: 172.45608499331095 - Temperature: 0.00039765910333436626\n",
            "EPISODE: 784 - FINAL SCORE: 233.92479878798883 - Temperature: 0.0003928879000704565\n",
            "EPISODE: 785 - FINAL SCORE: 259.5426599540108 - Temperature: 0.0003881739427752538\n",
            "EPISODE: 786 - FINAL SCORE: 16.62363532856459 - Temperature: 0.0003835165445987642\n",
            "EPISODE: 787 - FINAL SCORE: 273.8031610022123 - Temperature: 0.0003789150269319741\n",
            "EPISODE: 788 - FINAL SCORE: 274.10018269860063 - Temperature: 0.00037436871930797346\n",
            "EPISODE: 789 - FINAL SCORE: 231.5264664168494 - Temperature: 0.0003698769593042649\n",
            "EPISODE: 790 - FINAL SCORE: 277.404364669704 - Temperature: 0.00036543909244624495\n",
            "Updating target network...\n",
            "EPISODE: 791 - FINAL SCORE: 270.50162881861434 - Temperature: 0.00036105447211184346\n",
            "EPISODE: 792 - FINAL SCORE: 220.06152468714032 - Temperature: 0.0003567224594373071\n",
            "EPISODE: 793 - FINAL SCORE: 253.92231683761662 - Temperature: 0.00035244242322411354\n",
            "EPISODE: 794 - FINAL SCORE: 260.0619333776899 - Temperature: 0.0003482137398470019\n",
            "EPISODE: 795 - FINAL SCORE: 227.4008282429972 - Temperature: 0.0003440357931631076\n",
            "EPISODE: 796 - FINAL SCORE: 7.088599050291819 - Temperature: 0.0003399079744221862\n",
            "EPISODE: 797 - FINAL SCORE: 42.80866124862837 - Temperature: 0.00033582968217791577\n",
            "EPISODE: 798 - FINAL SCORE: 277.08194420261503 - Temperature: 0.0003318003222002624\n",
            "EPISODE: 799 - FINAL SCORE: 237.8677310166201 - Temperature: 0.0003278193073888975\n",
            "EPISODE: 800 - FINAL SCORE: 255.90860571967306 - Temperature: 0.00032388605768765436\n",
            "\n"
          ],
          "name": "stdout"
        }
      ]
    },
    {
      "cell_type": "code",
      "metadata": {
        "id": "7FQjjVTiP2T6"
      },
      "source": [
        "# Display the videos, not required outside Colab\n",
        "#show_videos()"
      ],
      "execution_count": 20,
      "outputs": []
    },
    {
      "cell_type": "code",
      "metadata": {
        "id": "Oc6cJfUnBpoi",
        "colab": {
          "base_uri": "https://localhost:8080/",
          "height": 414
        },
        "outputId": "a85eb20f-d78b-4c28-f7c7-99e9f79a1a5f"
      },
      "source": [
        "# Exploration profile\n",
        "plt.figure(figsize=(12,6))\n",
        "plt.plot(scores)\n",
        "plt.xlabel('Iteration', fontsize=18)\n",
        "plt.ylabel('Score', fontsize=18)\n",
        "plt.legend()\n",
        "plt.grid(ls='--')"
      ],
      "execution_count": 21,
      "outputs": [
        {
          "output_type": "stream",
          "text": [
            "No handles with labels found to put in legend.\n"
          ],
          "name": "stderr"
        },
        {
          "output_type": "display_data",
          "data": {
            "image/png": "[encoded data removed]",
            "text/plain": [
              "<Figure size 864x432 with 1 Axes>"
            ]
          },
          "metadata": {
            "tags": [],
            "needs_background": "light"
          }
        }
      ]
    },
    {
      "cell_type": "code",
      "metadata": {
        "id": "otvg6f7yciTh"
      },
      "source": [
        "with open(\"lunar_scores.txt\", \"w\") as output:\n",
        "    output.write(str(scores))"
      ],
      "execution_count": 22,
      "outputs": []
    },
    {
      "cell_type": "markdown",
      "metadata": {
        "id": "JkG9iDZTIhzc"
      },
      "source": [
        "## Final test"
      ]
    },
    {
      "cell_type": "code",
      "metadata": {
        "id": "vJKgnu3_IjWE",
        "colab": {
          "base_uri": "https://localhost:8080/"
        },
        "outputId": "24b42fd9-4342-4c32-e3c3-c115224c925b"
      },
      "source": [
        "# Initialize the Gym environment\n",
        "env = gym.make('LunarLander-v2') \n",
        "env.seed(1) # Set a random seed for the environment (reproducible results)\n",
        "\n",
        "# This is for creating the output video in Colab, not required outside Colab\n",
        "env = wrap_env(env, video_callable=lambda episode_id: True) # Save a video every episode\n",
        "\n",
        "# Let's try for a total of 10 episodes\n",
        "for num_episode in range(3): \n",
        "    # Reset the environment and get the initial state\n",
        "    state = env.reset()\n",
        "    # Reset the score. The final score will be the total amount of steps before the pole falls\n",
        "    score = 0\n",
        "    done = False\n",
        "    # Go on until the pole falls off or the score reach 490\n",
        "    while not done:\n",
        "      # Choose the best action (temperature 0)\n",
        "      action, q_values = choose_action_softmax(policy_net, state, temperature=0)\n",
        "      # Apply the action and get the next state, the reward and a flag \"done\" that is True if the game is ended\n",
        "      next_state, reward, done, info = env.step(action)\n",
        "      # Visually render the environment\n",
        "      env.render()\n",
        "      # Update the final score (+1 for each step)\n",
        "      score += reward \n",
        "      # Set the current state for the next iteration\n",
        "      state = next_state\n",
        "      # Check if the episode ended (the pole fell down)\n",
        "    # Print the final score\n",
        "    print(f\"EPISODE {num_episode + 1} - FINAL SCORE: {score}\") \n",
        "env.close()"
      ],
      "execution_count": 27,
      "outputs": [
        {
          "output_type": "stream",
          "text": [
            "EPISODE 1 - FINAL SCORE: 262.15264593734037\n",
            "EPISODE 2 - FINAL SCORE: 262.7250516565897\n",
            "EPISODE 3 - FINAL SCORE: 28.292188428397935\n"
          ],
          "name": "stdout"
        }
      ]
    },
    {
      "cell_type": "code",
      "metadata": {
        "id": "mxdtGJutLqlw",
        "colab": {
          "base_uri": "https://localhost:8080/",
          "height": 1000
        },
        "outputId": "cdba62d7-0c57-46a9-8694-84aaba7c1792"
      },
      "source": [
        "# Display the videos, not required outside Colab\n",
        "show_videos()"
      ],
      "execution_count": 28,
      "outputs": [
        {
          "output_type": "stream",
          "text": [
            "\n",
            "SHOWING VIDEO video/openaigym.video.2.4083.video000000.mp4\n"
          ],
          "name": "stdout"
        },
        {
          "output_type": "display_data",
          "data": {
            "text/html": [
              "<video alt=\"test\" autoplay \n",
              "                loop controls style=\"height: 400px;\">\n",
              "                <source src=\"data:video/mp4;base64,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\" type=\"video/mp4\" />\n",
              "             </video>"
            ],
            "text/plain": [
              "<IPython.core.display.HTML object>"
            ]
          },
          "metadata": {
            "tags": []
          }
        },
        {
          "output_type": "stream",
          "text": [
            "\n",
            "SHOWING VIDEO video/openaigym.video.2.4083.video000001.mp4\n"
          ],
          "name": "stdout"
        },
        {
          "output_type": "display_data",
          "data": {
            "text/html": [
              "<video alt=\"test\" autoplay \n",
              "                loop controls style=\"height: 400px;\">\n",
              "                <source src=\"data:video/mp4;base64,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\" type=\"video/mp4\" />\n",
              "             </video>"
            ],
            "text/plain": [
              "<IPython.core.display.HTML object>"
            ]
          },
          "metadata": {
            "tags": []
          }
        },
        {
          "output_type": "stream",
          "text": [
            "\n",
            "SHOWING VIDEO video/openaigym.video.2.4083.video000002.mp4\n"
          ],
          "name": "stdout"
        },
        {
          "output_type": "display_data",
          "data": {
            "text/html": [
              "<video alt=\"test\" autoplay \n",
              "                loop controls style=\"height: 400px;\">\n",
              "                <source src=\"data:video/mp4;base64,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\" type=\"video/mp4\" />\n",
              "             </video>"
            ],
            "text/plain": [
              "<IPython.core.display.HTML object>"
            ]
          },
          "metadata": {
            "tags": []
          }
        }
      ]
    },
    {
      "cell_type": "code",
      "metadata": {
        "id": "wnh2opDZ4I5t"
      },
      "source": [
        ""
      ],
      "execution_count": 24,
      "outputs": []
    }
  ]
}
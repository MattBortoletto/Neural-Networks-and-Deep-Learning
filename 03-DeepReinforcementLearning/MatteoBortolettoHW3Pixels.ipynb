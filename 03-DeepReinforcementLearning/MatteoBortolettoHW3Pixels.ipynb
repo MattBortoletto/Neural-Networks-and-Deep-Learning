{
  "nbformat": 4,
  "nbformat_minor": 0,
  "metadata": {
    "colab": {
      "name": "MatteoBortolettoHW3Pixels.ipynb",
      "provenance": [],
      "collapsed_sections": []
    },
    "kernelspec": {
      "name": "python3",
      "display_name": "Python 3"
    },
    "language_info": {
      "name": "python"
    },
    "widgets": {
      "application/vnd.jupyter.widget-state+json": {
        "d361c7cd57ff4a24b4430936b9716f4c": {
          "model_module": "@jupyter-widgets/controls",
          "model_name": "HBoxModel",
          "state": {
            "_view_name": "HBoxView",
            "_dom_classes": [],
            "_model_name": "HBoxModel",
            "_view_module": "@jupyter-widgets/controls",
            "_model_module_version": "1.5.0",
            "_view_count": null,
            "_view_module_version": "1.5.0",
            "box_style": "",
            "layout": "IPY_MODEL_5104b2882f5c4ef7870e5d6335fc97dc",
            "_model_module": "@jupyter-widgets/controls",
            "children": [
              "IPY_MODEL_5f355d2d701d485b9fe3cbccccd2b103",
              "IPY_MODEL_39f7f4be071344c5a4c172716d930214"
            ]
          }
        },
        "5104b2882f5c4ef7870e5d6335fc97dc": {
          "model_module": "@jupyter-widgets/base",
          "model_name": "LayoutModel",
          "state": {
            "_view_name": "LayoutView",
            "grid_template_rows": null,
            "right": null,
            "justify_content": null,
            "_view_module": "@jupyter-widgets/base",
            "overflow": null,
            "_model_module_version": "1.2.0",
            "_view_count": null,
            "flex_flow": null,
            "width": null,
            "min_width": null,
            "border": null,
            "align_items": null,
            "bottom": null,
            "_model_module": "@jupyter-widgets/base",
            "top": null,
            "grid_column": null,
            "overflow_y": null,
            "overflow_x": null,
            "grid_auto_flow": null,
            "grid_area": null,
            "grid_template_columns": null,
            "flex": null,
            "_model_name": "LayoutModel",
            "justify_items": null,
            "grid_row": null,
            "max_height": null,
            "align_content": null,
            "visibility": null,
            "align_self": null,
            "height": null,
            "min_height": null,
            "padding": null,
            "grid_auto_rows": null,
            "grid_gap": null,
            "max_width": null,
            "order": null,
            "_view_module_version": "1.2.0",
            "grid_template_areas": null,
            "object_position": null,
            "object_fit": null,
            "grid_auto_columns": null,
            "margin": null,
            "display": null,
            "left": null
          }
        },
        "5f355d2d701d485b9fe3cbccccd2b103": {
          "model_module": "@jupyter-widgets/controls",
          "model_name": "FloatProgressModel",
          "state": {
            "_view_name": "ProgressView",
            "style": "IPY_MODEL_279e02e421c4481bad4e41fcd2171ac8",
            "_dom_classes": [],
            "description": "100%",
            "_model_name": "FloatProgressModel",
            "bar_style": "success",
            "max": 800,
            "_view_module": "@jupyter-widgets/controls",
            "_model_module_version": "1.5.0",
            "value": 800,
            "_view_count": null,
            "_view_module_version": "1.5.0",
            "orientation": "horizontal",
            "min": 0,
            "description_tooltip": null,
            "_model_module": "@jupyter-widgets/controls",
            "layout": "IPY_MODEL_d91bbdb287fb41fb8f476dbf8b7ef44e"
          }
        },
        "39f7f4be071344c5a4c172716d930214": {
          "model_module": "@jupyter-widgets/controls",
          "model_name": "HTMLModel",
          "state": {
            "_view_name": "HTMLView",
            "style": "IPY_MODEL_7b5773bd774a4838b49a72d3dda2a4b9",
            "_dom_classes": [],
            "description": "",
            "_model_name": "HTMLModel",
            "placeholder": "​",
            "_view_module": "@jupyter-widgets/controls",
            "_model_module_version": "1.5.0",
            "value": " 800/800 [4:21:57&lt;00:00, 19.65s/it]",
            "_view_count": null,
            "_view_module_version": "1.5.0",
            "description_tooltip": null,
            "_model_module": "@jupyter-widgets/controls",
            "layout": "IPY_MODEL_f9c599f450c94303b71104fe1710cc9d"
          }
        },
        "279e02e421c4481bad4e41fcd2171ac8": {
          "model_module": "@jupyter-widgets/controls",
          "model_name": "ProgressStyleModel",
          "state": {
            "_view_name": "StyleView",
            "_model_name": "ProgressStyleModel",
            "description_width": "initial",
            "_view_module": "@jupyter-widgets/base",
            "_model_module_version": "1.5.0",
            "_view_count": null,
            "_view_module_version": "1.2.0",
            "bar_color": null,
            "_model_module": "@jupyter-widgets/controls"
          }
        },
        "d91bbdb287fb41fb8f476dbf8b7ef44e": {
          "model_module": "@jupyter-widgets/base",
          "model_name": "LayoutModel",
          "state": {
            "_view_name": "LayoutView",
            "grid_template_rows": null,
            "right": null,
            "justify_content": null,
            "_view_module": "@jupyter-widgets/base",
            "overflow": null,
            "_model_module_version": "1.2.0",
            "_view_count": null,
            "flex_flow": null,
            "width": null,
            "min_width": null,
            "border": null,
            "align_items": null,
            "bottom": null,
            "_model_module": "@jupyter-widgets/base",
            "top": null,
            "grid_column": null,
            "overflow_y": null,
            "overflow_x": null,
            "grid_auto_flow": null,
            "grid_area": null,
            "grid_template_columns": null,
            "flex": null,
            "_model_name": "LayoutModel",
            "justify_items": null,
            "grid_row": null,
            "max_height": null,
            "align_content": null,
            "visibility": null,
            "align_self": null,
            "height": null,
            "min_height": null,
            "padding": null,
            "grid_auto_rows": null,
            "grid_gap": null,
            "max_width": null,
            "order": null,
            "_view_module_version": "1.2.0",
            "grid_template_areas": null,
            "object_position": null,
            "object_fit": null,
            "grid_auto_columns": null,
            "margin": null,
            "display": null,
            "left": null
          }
        },
        "7b5773bd774a4838b49a72d3dda2a4b9": {
          "model_module": "@jupyter-widgets/controls",
          "model_name": "DescriptionStyleModel",
          "state": {
            "_view_name": "StyleView",
            "_model_name": "DescriptionStyleModel",
            "description_width": "",
            "_view_module": "@jupyter-widgets/base",
            "_model_module_version": "1.5.0",
            "_view_count": null,
            "_view_module_version": "1.2.0",
            "_model_module": "@jupyter-widgets/controls"
          }
        },
        "f9c599f450c94303b71104fe1710cc9d": {
          "model_module": "@jupyter-widgets/base",
          "model_name": "LayoutModel",
          "state": {
            "_view_name": "LayoutView",
            "grid_template_rows": null,
            "right": null,
            "justify_content": null,
            "_view_module": "@jupyter-widgets/base",
            "overflow": null,
            "_model_module_version": "1.2.0",
            "_view_count": null,
            "flex_flow": null,
            "width": null,
            "min_width": null,
            "border": null,
            "align_items": null,
            "bottom": null,
            "_model_module": "@jupyter-widgets/base",
            "top": null,
            "grid_column": null,
            "overflow_y": null,
            "overflow_x": null,
            "grid_auto_flow": null,
            "grid_area": null,
            "grid_template_columns": null,
            "flex": null,
            "_model_name": "LayoutModel",
            "justify_items": null,
            "grid_row": null,
            "max_height": null,
            "align_content": null,
            "visibility": null,
            "align_self": null,
            "height": null,
            "min_height": null,
            "padding": null,
            "grid_auto_rows": null,
            "grid_gap": null,
            "max_width": null,
            "order": null,
            "_view_module_version": "1.2.0",
            "grid_template_areas": null,
            "object_position": null,
            "object_fit": null,
            "grid_auto_columns": null,
            "margin": null,
            "display": null,
            "left": null
          }
        }
      }
    }
  },
  "cells": [
    {
      "cell_type": "code",
      "metadata": {
        "id": "M-EktZelNzaJ"
      },
      "source": [
        "import random\n",
        "import torch\n",
        "import numpy as np\n",
        "import gym\n",
        "import matplotlib.pyplot as plt\n",
        "from tqdm.notebook import tqdm\n",
        "\n",
        "from torch import nn\n",
        "import torch.nn.functional as F \n",
        "from collections import deque # this python module implements exactly what we need for the replay memeory"
      ],
      "execution_count": 1,
      "outputs": []
    },
    {
      "cell_type": "code",
      "metadata": {
        "colab": {
          "base_uri": "https://localhost:8080/"
        },
        "id": "mkRlJMpCOKH1",
        "outputId": "627b8181-1830-4676-e1b3-5461b5089f91"
      },
      "source": [
        "!apt update\n",
        "!apt-get install python-opengl -y\n",
        "!apt install xvfb -y\n",
        "!pip install pyvirtualdisplay\n",
        "!pip install piglet"
      ],
      "execution_count": 2,
      "outputs": [
        {
          "output_type": "stream",
          "text": [
            "\u001b[33m\r0% [Working]\u001b[0m\r            \rHit:1 https://cloud.r-project.org/bin/linux/ubuntu bionic-cran40/ InRelease\n",
            "\u001b[33m\r0% [Connecting to archive.ubuntu.com] [Waiting for headers] [Connecting to ppa.\u001b[0m\r                                                                               \rIgn:2 https://developer.download.nvidia.com/compute/cuda/repos/ubuntu1804/x86_64  InRelease\n",
            "\u001b[33m\r0% [Connecting to archive.ubuntu.com] [Waiting for headers] [Connecting to ppa.\u001b[0m\u001b[33m\r0% [1 InRelease gpgv 3,626 B] [Connecting to archive.ubuntu.com] [Waiting for h\u001b[0m\r                                                                               \rIgn:3 https://developer.download.nvidia.com/compute/machine-learning/repos/ubuntu1804/x86_64  InRelease\n",
            "\u001b[33m\r0% [1 InRelease gpgv 3,626 B] [Connecting to archive.ubuntu.com] [Waiting for h\u001b[0m\r                                                                               \rHit:4 https://developer.download.nvidia.com/compute/cuda/repos/ubuntu1804/x86_64  Release\n",
            "\u001b[33m\r0% [1 InRelease gpgv 3,626 B] [Connecting to archive.ubuntu.com] [Waiting for h\u001b[0m\r                                                                               \rHit:5 https://developer.download.nvidia.com/compute/machine-learning/repos/ubuntu1804/x86_64  Release\n",
            "Hit:6 http://security.ubuntu.com/ubuntu bionic-security InRelease\n",
            "Hit:7 http://ppa.launchpad.net/c2d4u.team/c2d4u4.0+/ubuntu bionic InRelease\n",
            "Hit:8 http://archive.ubuntu.com/ubuntu bionic InRelease\n",
            "Hit:9 http://archive.ubuntu.com/ubuntu bionic-updates InRelease\n",
            "Hit:10 http://ppa.launchpad.net/cran/libgit2/ubuntu bionic InRelease\n",
            "Hit:12 http://archive.ubuntu.com/ubuntu bionic-backports InRelease\n",
            "Hit:14 http://ppa.launchpad.net/deadsnakes/ppa/ubuntu bionic InRelease\n",
            "Hit:15 http://ppa.launchpad.net/graphics-drivers/ppa/ubuntu bionic InRelease\n",
            "Reading package lists... Done\n",
            "Building dependency tree       \n",
            "Reading state information... Done\n",
            "69 packages can be upgraded. Run 'apt list --upgradable' to see them.\n",
            "Reading package lists... Done\n",
            "Building dependency tree       \n",
            "Reading state information... Done\n",
            "python-opengl is already the newest version (3.1.0+dfsg-1).\n",
            "0 upgraded, 0 newly installed, 0 to remove and 69 not upgraded.\n",
            "Reading package lists... Done\n",
            "Building dependency tree       \n",
            "Reading state information... Done\n",
            "xvfb is already the newest version (2:1.19.6-1ubuntu4.9).\n",
            "0 upgraded, 0 newly installed, 0 to remove and 69 not upgraded.\n",
            "Requirement already satisfied: pyvirtualdisplay in /usr/local/lib/python3.7/dist-packages (2.2)\n",
            "Requirement already satisfied: EasyProcess in /usr/local/lib/python3.7/dist-packages (from pyvirtualdisplay) (0.3)\n",
            "Requirement already satisfied: piglet in /usr/local/lib/python3.7/dist-packages (1.0.0)\n",
            "Requirement already satisfied: piglet-templates in /usr/local/lib/python3.7/dist-packages (from piglet) (1.2.0)\n",
            "Requirement already satisfied: markupsafe in /usr/local/lib/python3.7/dist-packages (from piglet-templates->piglet) (2.0.1)\n",
            "Requirement already satisfied: attrs in /usr/local/lib/python3.7/dist-packages (from piglet-templates->piglet) (21.2.0)\n",
            "Requirement already satisfied: pyparsing in /usr/local/lib/python3.7/dist-packages (from piglet-templates->piglet) (2.4.7)\n",
            "Requirement already satisfied: astunparse in /usr/local/lib/python3.7/dist-packages (from piglet-templates->piglet) (1.6.3)\n",
            "Requirement already satisfied: six<2.0,>=1.6.1 in /usr/local/lib/python3.7/dist-packages (from astunparse->piglet-templates->piglet) (1.15.0)\n",
            "Requirement already satisfied: wheel<1.0,>=0.23.0 in /usr/local/lib/python3.7/dist-packages (from astunparse->piglet-templates->piglet) (0.36.2)\n"
          ],
          "name": "stdout"
        }
      ]
    },
    {
      "cell_type": "code",
      "metadata": {
        "id": "jxM-vHKz1r_M"
      },
      "source": [
        "import glob\n",
        "import io\n",
        "import base64\n",
        "import os\n",
        "from IPython.display import HTML\n",
        "from IPython import display as ipythondisplay\n",
        "from pyvirtualdisplay import Display\n",
        "from gym.wrappers import Monitor"
      ],
      "execution_count": 3,
      "outputs": []
    },
    {
      "cell_type": "code",
      "metadata": {
        "id": "E0oXbzI2ZAfv",
        "colab": {
          "base_uri": "https://localhost:8080/"
        },
        "outputId": "9112e5fe-fd21-4b83-d537-c65678e6d108"
      },
      "source": [
        "display = Display(visible=0, size=(1400, 900))\n",
        "display.start()"
      ],
      "execution_count": 4,
      "outputs": [
        {
          "output_type": "execute_result",
          "data": {
            "text/plain": [
              "<pyvirtualdisplay.display.Display at 0x7f83fcfcdd10>"
            ]
          },
          "metadata": {
            "tags": []
          },
          "execution_count": 4
        }
      ]
    },
    {
      "cell_type": "code",
      "metadata": {
        "id": "yr5j5rz0ZEJf"
      },
      "source": [
        "# This code creates a virtual display to draw game images on. \n",
        "# If you are running locally, just ignore it\n",
        "if type(os.environ.get(\"DISPLAY\")) is not str or len(os.environ.get(\"DISPLAY\"))==0:\n",
        "    !bash ../xvfb start\n",
        "    %env DISPLAY=:1"
      ],
      "execution_count": 5,
      "outputs": []
    },
    {
      "cell_type": "code",
      "metadata": {
        "id": "StaxWEA0Z-O1"
      },
      "source": [
        "\"\"\"\n",
        "Utility functions to enable video recording of gym environment and displaying it\n",
        "To enable video, just do \"env = wrap_env(env)\"\"\n",
        "\"\"\"\n",
        "\n",
        "def show_videos():\n",
        "  mp4list = glob.glob('video/*.mp4')\n",
        "  mp4list.sort()\n",
        "  for mp4 in mp4list:\n",
        "    print(f\"\\nSHOWING VIDEO {mp4}\")\n",
        "    video = io.open(mp4, 'r+b').read()\n",
        "    encoded = base64.b64encode(video)\n",
        "    ipythondisplay.display(HTML(data='''<video alt=\"test\" autoplay \n",
        "                loop controls style=\"height: 400px;\">\n",
        "                <source src=\"data:video/mp4;base64,{0}\" type=\"video/mp4\" />\n",
        "             </video>'''.format(encoded.decode('ascii'))))\n",
        "    \n",
        "def wrap_env(env, video_callable=None):\n",
        "  env = Monitor(env, './video', force=True, video_callable=video_callable)\n",
        "  return env"
      ],
      "execution_count": 6,
      "outputs": []
    },
    {
      "cell_type": "markdown",
      "metadata": {
        "id": "vGErnZUpOcN0"
      },
      "source": [
        "## Replay memory"
      ]
    },
    {
      "cell_type": "code",
      "metadata": {
        "id": "rj3l66szN8rm"
      },
      "source": [
        "class ReplayMemory(object):\n",
        "\n",
        "    def __init__(self, capacity):\n",
        "        self.memory = deque(maxlen=capacity) # Define a queue with maxlen \"capacity\"\n",
        "\n",
        "    def push(self, state, action, next_state, reward):\n",
        "        self.memory.append( (state, action, next_state, reward) ) # Add the tuple (state, action, next_state, reward) to the queue\n",
        "\n",
        "    def sample(self, batch_size):\n",
        "        batch_size = min(batch_size, len(self)) # Get all the samples if the requested batch_size is higher than the number of sample currently in the memory\n",
        "        return random.sample(self.memory, batch_size) # Randomly select \"batch_size\" samples\n",
        "\n",
        "    def __len__(self):\n",
        "        return len(self.memory) # Return the number of samples currently stored in the memory"
      ],
      "execution_count": 7,
      "outputs": []
    },
    {
      "cell_type": "markdown",
      "metadata": {
        "id": "yrfmB8WhOb42"
      },
      "source": [
        "## Exploration policy"
      ]
    },
    {
      "cell_type": "code",
      "metadata": {
        "id": "vnM_xdTyOUD_"
      },
      "source": [
        "def choose_action_epsilon_greedy(net, state, epsilon):\n",
        "    \n",
        "    if epsilon > 1 or epsilon < 0:\n",
        "        raise Exception('The epsilon value must be between 0 and 1')\n",
        "                \n",
        "    # Evaluate the network output from the current state\n",
        "    with torch.no_grad():\n",
        "        net.eval()\n",
        "        state = torch.tensor(state, dtype=torch.float32) # Convert the state to tensor\n",
        "        net_out = net(state)\n",
        "\n",
        "    # Get the best action (argmax of the network output)\n",
        "    best_action = int(net_out.argmax())\n",
        "    # Get the number of possible actions\n",
        "    action_space_dim = net_out.shape[-1]\n",
        "\n",
        "    # Select a non optimal action with probability epsilon, otherwise choose the best action\n",
        "    if random.random() < epsilon:\n",
        "        # List of non-optimal actions\n",
        "        non_optimal_actions = [a for a in range(action_space_dim) if a != best_action]\n",
        "        # Select randomly\n",
        "        action = random.choice(non_optimal_actions)\n",
        "    else:\n",
        "        # Select best action\n",
        "        action = best_action\n",
        "        \n",
        "    return action, net_out.numpy()"
      ],
      "execution_count": 8,
      "outputs": []
    },
    {
      "cell_type": "code",
      "metadata": {
        "id": "S6XY3eZ8OU0I"
      },
      "source": [
        "def choose_action_softmax(net, state, temperature):\n",
        "    \n",
        "    if temperature < 0:\n",
        "        raise Exception('The temperature value must be greater than or equal to 0 ')\n",
        "        \n",
        "    # If the temperature is 0, just select the best action using the eps-greedy policy with epsilon = 0\n",
        "    if temperature == 0:\n",
        "        return choose_action_epsilon_greedy(net, state, 0)\n",
        "    \n",
        "    # Evaluate the network output from the current state\n",
        "    with torch.no_grad():\n",
        "        net.eval()\n",
        "        state = torch.tensor(state, dtype=torch.float32)\n",
        "        net_out = net(state)\n",
        "\n",
        "    # Apply softmax with temp\n",
        "    temperature = max(temperature, 1e-8) # set a minimum to the temperature for numerical stability\n",
        "    softmax_out = nn.functional.softmax(net_out[0] / temperature, dim=0).numpy()\n",
        "                \n",
        "    # Sample the action using softmax output as mass pdf\n",
        "    all_possible_actions = np.arange(0, softmax_out.shape[-1])\n",
        "    action = np.random.choice(all_possible_actions, p=softmax_out) # this samples a random element from \"all_possible_actions\" with the probability distribution p (softmax_out in this case)\n",
        "    \n",
        "    return action, net_out.numpy()"
      ],
      "execution_count": 9,
      "outputs": []
    },
    {
      "cell_type": "markdown",
      "metadata": {
        "id": "6gKAtMBlQfgc"
      },
      "source": [
        "## Exploration profile"
      ]
    },
    {
      "cell_type": "markdown",
      "metadata": {
        "id": "4f1KUPvYOikq"
      },
      "source": [
        "## Policy network"
      ]
    },
    {
      "cell_type": "code",
      "metadata": {
        "id": "matVue9SOmq3"
      },
      "source": [
        "class ConvDQN(nn.Module):\n",
        "\n",
        "    def __init__(self, channels, action_space_dim):\n",
        "        super().__init__()\n",
        "        self.conv = nn.Sequential(\n",
        "            nn.Conv2d(in_channels=channels, out_channels=16, kernel_size=5, stride=2, padding=0),\n",
        "            nn.ReLU(),\n",
        "            nn.Conv2d(in_channels=16, out_channels=16, kernel_size=5, stride=2, padding=0),\n",
        "            nn.ReLU(),\n",
        "            nn.Conv2d(in_channels=16, out_channels=32, kernel_size=5, stride=2, padding=0),\n",
        "            nn.ReLU()\n",
        "        )\n",
        "\n",
        "        def conv2d_size_out(size, kernel_size, stride):\n",
        "            return (size - (kernel_size - 1) - 1) // stride  + 1\n",
        "\n",
        "        convw = conv2d_size_out(conv2d_size_out(conv2d_size_out(200, 5, 2), 5, 2), 5, 2)\n",
        "        convh = conv2d_size_out(conv2d_size_out(conv2d_size_out(160, 5, 2), 5, 2), 5, 2)\n",
        "        linear_input_size = convw * convh * 32\n",
        "\n",
        "        self.linear = nn.Sequential(\n",
        "            nn.Flatten(),\n",
        "            nn.Linear(linear_input_size, 256),\n",
        "            nn.Tanh(),\n",
        "            nn.Linear(256, 128),\n",
        "            nn.Tanh(),\n",
        "            nn.Linear(128, action_space_dim)\n",
        "        )\n",
        "        \n",
        "    def forward(self, x):\n",
        "        x = self.conv(x)\n",
        "        x = self.linear(x)\n",
        "        return x"
      ],
      "execution_count": 10,
      "outputs": []
    },
    {
      "cell_type": "markdown",
      "metadata": {
        "id": "pKc5QLHpOtWs"
      },
      "source": [
        "## Update function"
      ]
    },
    {
      "cell_type": "code",
      "metadata": {
        "id": "xlnJfE_BOuzi"
      },
      "source": [
        "def update_step(policy_net, target_net, replay_mem, gamma, optimizer, loss_fn, batch_size):\n",
        "        \n",
        "    # Sample the data from the replay memory\n",
        "    batch = replay_mem.sample(batch_size)\n",
        "    batch_size = len(batch)\n",
        "\n",
        "    # Create tensors for each element of the batch\n",
        "    #states      = torch.tensor([s[0][0] for s in batch], dtype=torch.float32)\n",
        "    states      = torch.stack([s[0][0] for s in batch])\n",
        "    actions     = torch.tensor([s[1] for s in batch], dtype=torch.int64)\n",
        "    rewards     = torch.tensor([s[3] for s in batch], dtype=torch.float32)\n",
        "\n",
        "    # Compute a mask of non-final states (all the elements where the next state is not None)\n",
        "    #non_final_next_states = torch.tensor([s[2] for s in batch if s[2] is not None], dtype=torch.float32) # the next state can be None if the game has ended\n",
        "    non_final_next_states = torch.stack([s[2][0] for s in batch if s[2] is not None]) # the next state can be None if the game has ended\n",
        "    non_final_mask = torch.tensor([s[2] is not None for s in batch], dtype=torch.bool)\n",
        "\n",
        "    # Compute all the Q values (forward pass)\n",
        "    policy_net.train()\n",
        "    q_values = policy_net(states)\n",
        "    # Select the proper Q value for the corresponding action taken Q(s_t, a)\n",
        "    state_action_values = q_values.gather(1, actions.unsqueeze(1))\n",
        "\n",
        "    # Compute the value function of the next states using the target network V(s_{t+1}) = max_a( Q_target(s_{t+1}, a)) )\n",
        "    with torch.no_grad():\n",
        "      target_net.eval()\n",
        "      q_values_target = target_net(non_final_next_states)\n",
        "    next_state_max_q_values = torch.zeros(batch_size)\n",
        "    next_state_max_q_values[non_final_mask] = q_values_target.max(dim=1)[0]\n",
        "\n",
        "    # Compute the expected Q values\n",
        "    expected_state_action_values = rewards + (next_state_max_q_values * gamma)\n",
        "    expected_state_action_values = expected_state_action_values.unsqueeze(1) # Set the required tensor shape\n",
        "\n",
        "    # Compute the Huber loss\n",
        "    loss = loss_fn(state_action_values, expected_state_action_values)\n",
        "\n",
        "    # Optimize the model\n",
        "    optimizer.zero_grad()\n",
        "    loss.backward()\n",
        "    # Apply gradient clipping (clip all the gradients greater than 2 for training stability)\n",
        "    nn.utils.clip_grad_norm_(policy_net.parameters(), 2)\n",
        "    optimizer.step()"
      ],
      "execution_count": 11,
      "outputs": []
    },
    {
      "cell_type": "code",
      "metadata": {
        "id": "CcLnSTC9n-tl"
      },
      "source": [
        "def ProcessScreen0(env):\n",
        "    state_screen = env.render(mode='rgb_array')\n",
        "    state_screen = state_screen[150:320, 150:450, 2]\n",
        "    state_screen = state_screen.reshape((1, 85, 2, 150, 2)).max(4).max(2)\n",
        "    state_screen = torch.tensor(state_screen.copy(), dtype=torch.float32)\n",
        "    return state_screen\n",
        "\n",
        "def ProcessScreen(env):\n",
        "    screen = env.render(mode='rgb_array')\n",
        "    screen = np.ascontiguousarray(screen, dtype=np.float32) / 255.\n",
        "    screen = np.dot(screen[..., :3], [0.2989, 0.5870, 0.1140])\n",
        "    screen = screen[160:320, 200:400]\n",
        "    #screen = screen.reshape((1, 80, 2, 100, 2)).max(4).max(2)\n",
        "    screen = screen[np.newaxis, :]\n",
        "    return torch.tensor(screen.copy(), dtype=torch.float32)"
      ],
      "execution_count": 12,
      "outputs": []
    },
    {
      "cell_type": "markdown",
      "metadata": {
        "id": "5mUXpA3lO69h"
      },
      "source": [
        "## Environment"
      ]
    },
    {
      "cell_type": "code",
      "metadata": {
        "colab": {
          "base_uri": "https://localhost:8080/"
        },
        "id": "feyYIqpIO8D5",
        "outputId": "2f145dd0-1fa7-42fc-b3f6-a1f57288b618"
      },
      "source": [
        "### Create environment\n",
        "env = gym.make('CartPole-v1') # Initialize the Gym environment\n",
        "env.seed(0) # Set a random seed for the environment (reproducible results)\n",
        "\n",
        "# Get the shapes of the state space (observation_space) and action space (action_space)\n",
        "state_space_dim = env.observation_space.shape[0]\n",
        "action_space_dim = env.action_space.n\n",
        "\n",
        "print(f\"STATE SPACE SIZE: {state_space_dim}\")\n",
        "print(f\"ACTION SPACE SIZE: {action_space_dim}\")"
      ],
      "execution_count": 13,
      "outputs": [
        {
          "output_type": "stream",
          "text": [
            "STATE SPACE SIZE: 4\n",
            "ACTION SPACE SIZE: 2\n"
          ],
          "name": "stdout"
        }
      ]
    },
    {
      "cell_type": "code",
      "metadata": {
        "colab": {
          "base_uri": "https://localhost:8080/",
          "height": 395
        },
        "id": "BNL9K3nUpYqw",
        "outputId": "a57114ff-46b4-42b3-a1b4-2aac2c2f58ee"
      },
      "source": [
        "#Test image rescaling\n",
        "env = gym.make('CartPole-v1') \n",
        "env.seed(0) # Set a random seed for the environment (reproducible results)\n",
        "\n",
        "state = env.reset()\n",
        "state_screen = ProcessScreen(env)\n",
        "\n",
        "env.close()\n",
        "\n",
        "print(state_screen.size())\n",
        "\n",
        "plt.figure(figsize=(12, 6))\n",
        "plt.imshow(state_screen.cpu().squeeze().numpy(), cmap='gray')\n",
        "plt.savefig('cartpole_gray.pdf', bbox_inches='tight')\n",
        "plt.show()"
      ],
      "execution_count": 14,
      "outputs": [
        {
          "output_type": "stream",
          "text": [
            "torch.Size([1, 160, 200])\n"
          ],
          "name": "stdout"
        },
        {
          "output_type": "display_data",
          "data": {
            "image/png": "[encoded data removed]",
            "text/plain": [
              "<Figure size 864x432 with 1 Axes>"
            ]
          },
          "metadata": {
            "tags": [],
            "needs_background": "light"
          }
        }
      ]
    },
    {
      "cell_type": "markdown",
      "metadata": {
        "id": "KZtNx-ZSPa_u"
      },
      "source": [
        "## Initialization"
      ]
    },
    {
      "cell_type": "code",
      "metadata": {
        "id": "qM_0mJT7PbOk"
      },
      "source": [
        "# Set random seeds\n",
        "torch.manual_seed(0)\n",
        "np.random.seed(0)\n",
        "random.seed(0)\n",
        "\n",
        "### PARAMETERS\n",
        "gamma = 0.99   # gamma parameter for the long term reward\n",
        "replay_memory_capacity = 10000   # Replay memory capacity\n",
        "lr = 0.05   # Optimizer learning rate\n",
        "target_net_update_steps = 10   # Number of episodes to wait before updating the target network\n",
        "batch_size = 128   # Number of samples to take from the replay memory for each update\n",
        "bad_state_penalty = 0   # Penalty to the reward when we are in a bad state (in this case when the pole falls down) \n",
        "min_samples_for_training = 1000   # Minimum samples in the replay memory to enable the training"
      ],
      "execution_count": 15,
      "outputs": []
    },
    {
      "cell_type": "code",
      "metadata": {
        "id": "iCbi0amTPd46"
      },
      "source": [
        "### Initialize the replay memory\n",
        "replay_mem = ReplayMemory(replay_memory_capacity)    \n",
        "\n",
        "### Initialize the policy network\n",
        "policy_net = ConvDQN(1, action_space_dim)\n",
        "\n",
        "### Initialize the target network with the same weights of the policy network\n",
        "target_net = ConvDQN(1, action_space_dim)\n",
        "target_net.load_state_dict(policy_net.state_dict()) # This will copy the weights of the policy network to the target network\n",
        "\n",
        "### Initialize the optimizer\n",
        "optimizer = torch.optim.SGD(policy_net.parameters(), lr=lr) # The optimizer will update ONLY the parameters of the policy network\n",
        "\n",
        "### Initialize the loss function (Huber loss)\n",
        "loss_fn = nn.SmoothL1Loss()"
      ],
      "execution_count": 16,
      "outputs": []
    },
    {
      "cell_type": "markdown",
      "metadata": {
        "id": "03Ab0RMB5CCC"
      },
      "source": [
        "## Training loop"
      ]
    },
    {
      "cell_type": "code",
      "metadata": {
        "colab": {
          "base_uri": "https://localhost:8080/",
          "height": 515
        },
        "id": "A5pULP0iQhwL",
        "outputId": "0c9901b3-f132-4cb9-e745-72128011929c"
      },
      "source": [
        "### Define exploration profile\n",
        "initial_value = 5\n",
        "num_iterations = 800\n",
        "exp_decay = np.exp(-np.log(initial_value) / num_iterations * 6) # We compute the exponential decay in such a way the shape of the exploration profile does not depend on the number of iterations\n",
        "exploration_profile = [initial_value * (exp_decay ** i) for i in range(num_iterations)]\n",
        "\n",
        "### Plot exploration profile\n",
        "plt.figure(figsize=(12,8))\n",
        "plt.plot(exploration_profile)\n",
        "plt.grid()\n",
        "plt.xlabel('Iteration')\n",
        "plt.ylabel('Exploration profile (Softmax temperature)')"
      ],
      "execution_count": 17,
      "outputs": [
        {
          "output_type": "execute_result",
          "data": {
            "text/plain": [
              "Text(0, 0.5, 'Exploration profile (Softmax temperature)')"
            ]
          },
          "metadata": {
            "tags": []
          },
          "execution_count": 17
        },
        {
          "output_type": "display_data",
          "data": {
            "image/png": "[encoded data removed]",
            "text/plain": [
              "<Figure size 864x576 with 1 Axes>"
            ]
          },
          "metadata": {
            "tags": [],
            "needs_background": "light"
          }
        }
      ]
    },
    {
      "cell_type": "code",
      "metadata": {
        "id": "WF6Zf53FoRDZ",
        "colab": {
          "base_uri": "https://localhost:8080/",
          "height": 1000,
          "referenced_widgets": [
            "d361c7cd57ff4a24b4430936b9716f4c",
            "5104b2882f5c4ef7870e5d6335fc97dc",
            "5f355d2d701d485b9fe3cbccccd2b103",
            "39f7f4be071344c5a4c172716d930214",
            "279e02e421c4481bad4e41fcd2171ac8",
            "d91bbdb287fb41fb8f476dbf8b7ef44e",
            "7b5773bd774a4838b49a72d3dda2a4b9",
            "f9c599f450c94303b71104fe1710cc9d"
          ]
        },
        "outputId": "42a4175a-3eb7-4c36-bcc0-796551129279"
      },
      "source": [
        "# Initialize the Gym environment\n",
        "env = gym.make('CartPole-v1') \n",
        "env.seed(0) # Set a random seed for the environment (reproducible results)\n",
        "\n",
        "# This is for creating the output video in Colab, not required outside Colab\n",
        "#env = wrap_env(env, video_callable=lambda episode_id: episode_id % 100 == 0) # Save a video every 100 episodes\n",
        "\n",
        "scores = []\n",
        "\n",
        "for episode_num, tau in enumerate(tqdm(exploration_profile)):\n",
        "\n",
        "    # Reset the environment and get the initial state\n",
        "    state = env.reset()\n",
        "    state_img = ProcessScreen(env)\n",
        "    state_img = state_img.unsqueeze(0)\n",
        "\n",
        "    # Reset the score. The final score will be the total amount of steps before the pole falls\n",
        "    score = 0\n",
        "    done = False\n",
        "\n",
        "    # Go on until the pole falls off\n",
        "    while not done:\n",
        "\n",
        "      # Choose the action following the policy\n",
        "      action, q_values = choose_action_softmax(policy_net, state_img, temperature=tau)\n",
        "      \n",
        "      # Apply the action and get the next state, the reward and a flag \"done\" that is True if the game is ended\n",
        "      next_state, reward, done, info = env.step(action)\n",
        "\n",
        "      next_state_img = ProcessScreen(env).unsqueeze(0)\n",
        "\n",
        "      # We apply a (linear) penalty when the cart is far from center\n",
        "      pos_weight = 1\n",
        "      reward = reward - pos_weight * np.abs(state[0]) \n",
        "\n",
        "      # Update the final score (+1 for each step)\n",
        "      score += 1\n",
        "\n",
        "      # Apply penalty for bad state\n",
        "      if done: # if the pole has fallen down \n",
        "          reward += bad_state_penalty\n",
        "          next_state = None\n",
        "          next_state_img = None \n",
        "\n",
        "      if type(next_state) != \"NoneType\":\n",
        "          next_state_img = ProcessScreen(env).unsqueeze(0)\n",
        "\n",
        "      # Update the replay memory\n",
        "      replay_mem.push(state_img, action, next_state_img, reward)\n",
        "\n",
        "      # Update the network\n",
        "      if len(replay_mem) > min_samples_for_training: # we enable the training only if we have enough samples in the replay memory, otherwise the training will use the same samples too often\n",
        "          update_step(policy_net, target_net, replay_mem, gamma, optimizer, loss_fn, batch_size)\n",
        "\n",
        "      # Visually render the environment (disable to speed up the training)\n",
        "      #env.render()\n",
        "\n",
        "      # Set the current state for the next iteration\n",
        "      state = next_state\n",
        "      state_img = next_state_img\n",
        "\n",
        "    # Update the target network every target_net_update_steps episodes\n",
        "    if episode_num % target_net_update_steps == 0:\n",
        "        print('Updating target network...')\n",
        "        target_net.load_state_dict(policy_net.state_dict()) # This will copy the weights of the policy network to the target network\n",
        "\n",
        "    scores.append(score)\n",
        "\n",
        "    # Print the final score\n",
        "    print(f\"EPISODE: {episode_num + 1} - FINAL SCORE: {score} - Temperature: {tau}\") # Print the final score\n",
        "\n",
        "env.close()"
      ],
      "execution_count": 18,
      "outputs": [
        {
          "output_type": "display_data",
          "data": {
            "application/vnd.jupyter.widget-view+json": {
              "model_id": "d361c7cd57ff4a24b4430936b9716f4c",
              "version_major": 2,
              "version_minor": 0
            },
            "text/plain": [
              "HBox(children=(FloatProgress(value=0.0, max=800.0), HTML(value='')))"
            ]
          },
          "metadata": {
            "tags": []
          }
        },
        {
          "output_type": "stream",
          "text": [
            "/usr/local/lib/python3.7/dist-packages/ipykernel_launcher.py:13: UserWarning: To copy construct from a tensor, it is recommended to use sourceTensor.clone().detach() or sourceTensor.clone().detach().requires_grad_(True), rather than torch.tensor(sourceTensor).\n",
            "  del sys.path[0]\n"
          ],
          "name": "stderr"
        },
        {
          "output_type": "stream",
          "text": [
            "Updating target network...\n",
            "EPISODE: 1 - FINAL SCORE: 12 - Temperature: 5.0\n",
            "EPISODE: 2 - FINAL SCORE: 17 - Temperature: 4.940008876649582\n",
            "EPISODE: 3 - FINAL SCORE: 41 - Temperature: 4.880737540275333\n",
            "EPISODE: 4 - FINAL SCORE: 19 - Temperature: 4.822177354711398\n",
            "EPISODE: 5 - FINAL SCORE: 24 - Temperature: 4.764319787410582\n",
            "EPISODE: 6 - FINAL SCORE: 16 - Temperature: 4.707156408201104\n",
            "EPISODE: 7 - FINAL SCORE: 30 - Temperature: 4.650678888058284\n",
            "EPISODE: 8 - FINAL SCORE: 29 - Temperature: 4.594878997890946\n",
            "EPISODE: 9 - FINAL SCORE: 15 - Temperature: 4.539748607342402\n",
            "EPISODE: 10 - FINAL SCORE: 21 - Temperature: 4.485279683605809\n",
            "Updating target network...\n",
            "EPISODE: 11 - FINAL SCORE: 31 - Temperature: 4.431464290253745\n",
            "EPISODE: 12 - FINAL SCORE: 59 - Temperature: 4.378294586081827\n",
            "EPISODE: 13 - FINAL SCORE: 29 - Temperature: 4.325762823966207\n",
            "EPISODE: 14 - FINAL SCORE: 26 - Temperature: 4.273861349734766\n",
            "EPISODE: 15 - FINAL SCORE: 18 - Temperature: 4.222582601051861\n",
            "EPISODE: 16 - FINAL SCORE: 14 - Temperature: 4.171919106316454\n",
            "EPISODE: 17 - FINAL SCORE: 17 - Temperature: 4.121863483573455\n",
            "EPISODE: 18 - FINAL SCORE: 27 - Temperature: 4.072408439438128\n",
            "EPISODE: 19 - FINAL SCORE: 20 - Temperature: 4.0235467680334045\n",
            "EPISODE: 20 - FINAL SCORE: 21 - Temperature: 3.975271349939951\n",
            "Updating target network...\n",
            "EPISODE: 21 - FINAL SCORE: 36 - Temperature: 3.9275751511588246\n",
            "EPISODE: 22 - FINAL SCORE: 15 - Temperature: 3.8804512220865837\n",
            "EPISODE: 23 - FINAL SCORE: 10 - Temperature: 3.833892696502688\n",
            "EPISODE: 24 - FINAL SCORE: 23 - Temperature: 3.7878927905690563\n",
            "EPISODE: 25 - FINAL SCORE: 18 - Temperature: 3.7424448018416188\n",
            "EPISODE: 26 - FINAL SCORE: 47 - Temperature: 3.6975421082937365\n",
            "EPISODE: 27 - FINAL SCORE: 21 - Temperature: 3.653178167351334\n",
            "EPISODE: 28 - FINAL SCORE: 14 - Temperature: 3.6093465149396082\n",
            "EPISODE: 29 - FINAL SCORE: 35 - Temperature: 3.56604076454118\n",
            "EPISODE: 30 - FINAL SCORE: 11 - Temperature: 3.523254606265538\n",
            "Updating target network...\n",
            "EPISODE: 31 - FINAL SCORE: 54 - Temperature: 3.480981805929657\n",
            "EPISODE: 32 - FINAL SCORE: 18 - Temperature: 3.4392162041496395\n",
            "EPISODE: 33 - FINAL SCORE: 17 - Temperature: 3.39795171544326\n",
            "EPISODE: 34 - FINAL SCORE: 16 - Temperature: 3.357182327343276\n",
            "EPISODE: 35 - FINAL SCORE: 18 - Temperature: 3.316902099521377\n",
            "EPISODE: 36 - FINAL SCORE: 38 - Temperature: 3.2771051629226475\n",
            "EPISODE: 37 - FINAL SCORE: 15 - Temperature: 3.237785718910411\n",
            "EPISODE: 38 - FINAL SCORE: 27 - Temperature: 3.1989380384213355\n",
            "EPISODE: 39 - FINAL SCORE: 16 - Temperature: 3.1605564611306796\n",
            "EPISODE: 40 - FINAL SCORE: 14 - Temperature: 3.12263539462755\n",
            "Updating target network...\n",
            "EPISODE: 41 - FINAL SCORE: 19 - Temperature: 3.085169313600053\n",
            "EPISODE: 42 - FINAL SCORE: 22 - Temperature: 3.048152759030232\n",
            "EPISODE: 43 - FINAL SCORE: 16 - Temperature: 3.011580337398652\n",
            "EPISODE: 44 - FINAL SCORE: 18 - Temperature: 2.975446719898537\n",
            "EPISODE: 45 - FINAL SCORE: 32 - Temperature: 2.939746641659331\n",
            "EPISODE: 46 - FINAL SCORE: 31 - Temperature: 2.9044749009795785\n",
            "EPISODE: 47 - FINAL SCORE: 14 - Temperature: 2.8696263585690067\n",
            "EPISODE: 48 - FINAL SCORE: 43 - Temperature: 2.835195936799702\n",
            "EPISODE: 49 - FINAL SCORE: 17 - Temperature: 2.801178618966271\n",
            "EPISODE: 50 - FINAL SCORE: 12 - Temperature: 2.767569448554879\n",
            "Updating target network...\n",
            "EPISODE: 51 - FINAL SCORE: 18 - Temperature: 2.734363528521058\n",
            "EPISODE: 52 - FINAL SCORE: 11 - Temperature: 2.70155602057618\n",
            "EPISODE: 53 - FINAL SCORE: 12 - Temperature: 2.6691421444824903\n",
            "EPISODE: 54 - FINAL SCORE: 17 - Temperature: 2.6371171773566005\n",
            "EPISODE: 55 - FINAL SCORE: 9 - Temperature: 2.605476452981339\n",
            "EPISODE: 56 - FINAL SCORE: 21 - Temperature: 2.574215361125857\n",
            "EPISODE: 57 - FINAL SCORE: 12 - Temperature: 2.5433293468738882\n",
            "EPISODE: 58 - FINAL SCORE: 9 - Temperature: 2.5128139099600784\n",
            "EPISODE: 59 - FINAL SCORE: 10 - Temperature: 2.482664604114266\n",
            "EPISODE: 60 - FINAL SCORE: 22 - Temperature: 2.452877036413639\n",
            "Updating target network...\n",
            "EPISODE: 61 - FINAL SCORE: 9 - Temperature: 2.423446866642659\n",
            "EPISODE: 62 - FINAL SCORE: 28 - Temperature: 2.3943698066606705\n",
            "EPISODE: 63 - FINAL SCORE: 23 - Temperature: 2.365641619777091\n",
            "EPISODE: 64 - FINAL SCORE: 35 - Temperature: 2.337258120134105\n",
            "EPISODE: 65 - FINAL SCORE: 19 - Temperature: 2.3092151720967586\n",
            "EPISODE: 66 - FINAL SCORE: 19 - Temperature: 2.281508689650376\n",
            "EPISODE: 67 - FINAL SCORE: 12 - Temperature: 2.254134635805203\n",
            "EPISODE: 68 - FINAL SCORE: 27 - Temperature: 2.227089022008195\n",
            "EPISODE: 69 - FINAL SCORE: 18 - Temperature: 2.200367907561864\n",
            "EPISODE: 70 - FINAL SCORE: 12 - Temperature: 2.173967399050095\n",
            "Updating target network...\n",
            "EPISODE: 71 - FINAL SCORE: 10 - Temperature: 2.1478836497708547\n",
            "EPISODE: 72 - FINAL SCORE: 18 - Temperature: 2.122112859175705\n",
            "EPISODE: 73 - FINAL SCORE: 39 - Temperature: 2.096651272316041\n",
            "EPISODE: 74 - FINAL SCORE: 13 - Temperature: 2.0714951792959764\n",
            "EPISODE: 75 - FINAL SCORE: 97 - Temperature: 2.0466409147317886\n",
            "EPISODE: 76 - FINAL SCORE: 27 - Temperature: 2.022084857217851\n",
            "EPISODE: 77 - FINAL SCORE: 17 - Temperature: 1.9978234287989773\n",
            "EPISODE: 78 - FINAL SCORE: 12 - Temperature: 1.9738530944490904\n",
            "EPISODE: 79 - FINAL SCORE: 29 - Temperature: 1.9501703615561505\n",
            "EPISODE: 80 - FINAL SCORE: 19 - Temperature: 1.9267717794132615\n",
            "Updating target network...\n",
            "EPISODE: 81 - FINAL SCORE: 19 - Temperature: 1.9036539387158846\n",
            "EPISODE: 82 - FINAL SCORE: 30 - Temperature: 1.8808134710650817\n",
            "EPISODE: 83 - FINAL SCORE: 12 - Temperature: 1.8582470484767233\n",
            "EPISODE: 84 - FINAL SCORE: 25 - Temperature: 1.8359513828965799\n",
            "EPISODE: 85 - FINAL SCORE: 20 - Temperature: 1.8139232257212359\n",
            "EPISODE: 86 - FINAL SCORE: 13 - Temperature: 1.7921593673247496\n",
            "EPISODE: 87 - FINAL SCORE: 82 - Temperature: 1.7706566365909926\n",
            "EPISODE: 88 - FINAL SCORE: 11 - Temperature: 1.7494119004515993\n",
            "EPISODE: 89 - FINAL SCORE: 8 - Temperature: 1.7284220634294631\n",
            "EPISODE: 90 - FINAL SCORE: 18 - Temperature: 1.7076840671877067\n",
            "Updating target network...\n",
            "EPISODE: 91 - FINAL SCORE: 12 - Temperature: 1.6871948900840668\n",
            "EPISODE: 92 - FINAL SCORE: 27 - Temperature: 1.6669515467306208\n",
            "EPISODE: 93 - FINAL SCORE: 24 - Temperature: 1.6469510875588036\n",
            "EPISODE: 94 - FINAL SCORE: 56 - Temperature: 1.6271905983896344\n",
            "EPISODE: 95 - FINAL SCORE: 16 - Temperature: 1.6076672000091077\n",
            "EPISODE: 96 - FINAL SCORE: 25 - Temperature: 1.5883780477486744\n",
            "EPISODE: 97 - FINAL SCORE: 21 - Temperature: 1.569320331070757\n",
            "EPISODE: 98 - FINAL SCORE: 14 - Temperature: 1.5504912731592402\n",
            "EPISODE: 99 - FINAL SCORE: 12 - Temperature: 1.5318881305148715\n",
            "EPISODE: 100 - FINAL SCORE: 20 - Temperature: 1.5135081925555196\n",
            "Updating target network...\n",
            "EPISODE: 101 - FINAL SCORE: 34 - Temperature: 1.4953487812212265\n",
            "EPISODE: 102 - FINAL SCORE: 17 - Temperature: 1.4774072505839986\n",
            "EPISODE: 103 - FINAL SCORE: 31 - Temperature: 1.4596809864622813\n",
            "EPISODE: 104 - FINAL SCORE: 14 - Temperature: 1.4421674060400576\n",
            "EPISODE: 105 - FINAL SCORE: 14 - Temperature: 1.4248639574905173\n",
            "EPISODE: 106 - FINAL SCORE: 18 - Temperature: 1.4077681196042415\n",
            "EPISODE: 107 - FINAL SCORE: 16 - Temperature: 1.3908774014218486\n",
            "EPISODE: 108 - FINAL SCORE: 17 - Temperature: 1.3741893418710474\n",
            "EPISODE: 109 - FINAL SCORE: 43 - Temperature: 1.3577015094080442\n",
            "EPISODE: 110 - FINAL SCORE: 17 - Temperature: 1.3414115016632548\n",
            "Updating target network...\n",
            "EPISODE: 111 - FINAL SCORE: 15 - Temperature: 1.325316945091265\n",
            "EPISODE: 112 - FINAL SCORE: 19 - Temperature: 1.3094154946249912\n",
            "EPISODE: 113 - FINAL SCORE: 11 - Temperature: 1.2937048333339918\n",
            "EPISODE: 114 - FINAL SCORE: 16 - Temperature: 1.2781826720868774\n",
            "EPISODE: 115 - FINAL SCORE: 16 - Temperature: 1.2628467492177715\n",
            "EPISODE: 116 - FINAL SCORE: 17 - Temperature: 1.2476948301967719\n",
            "EPISODE: 117 - FINAL SCORE: 26 - Temperature: 1.232724707304369\n",
            "EPISODE: 118 - FINAL SCORE: 13 - Temperature: 1.2179341993097683\n",
            "EPISODE: 119 - FINAL SCORE: 21 - Temperature: 1.2033211511530713\n",
            "EPISODE: 120 - FINAL SCORE: 19 - Temperature: 1.188883433631273\n",
            "Updating target network...\n",
            "EPISODE: 121 - FINAL SCORE: 48 - Temperature: 1.1746189430880247\n",
            "EPISODE: 122 - FINAL SCORE: 11 - Temperature: 1.1605256011071183\n",
            "EPISODE: 123 - FINAL SCORE: 68 - Temperature: 1.1466013542096514\n",
            "EPISODE: 124 - FINAL SCORE: 23 - Temperature: 1.1328441735548218\n",
            "EPISODE: 125 - FINAL SCORE: 16 - Temperature: 1.1192520546443159\n",
            "EPISODE: 126 - FINAL SCORE: 33 - Temperature: 1.1058230170302406\n",
            "EPISODE: 127 - FINAL SCORE: 47 - Temperature: 1.0925551040265622\n",
            "EPISODE: 128 - FINAL SCORE: 26 - Temperature: 1.079446382424005\n",
            "EPISODE: 129 - FINAL SCORE: 29 - Temperature: 1.0664949422083727\n",
            "EPISODE: 130 - FINAL SCORE: 14 - Temperature: 1.0536988962822489\n",
            "Updating target network...\n",
            "EPISODE: 131 - FINAL SCORE: 12 - Temperature: 1.0410563801900354\n",
            "EPISODE: 132 - FINAL SCORE: 16 - Temperature: 1.0285655518462913\n",
            "EPISODE: 133 - FINAL SCORE: 12 - Temperature: 1.016224591267331\n",
            "EPISODE: 134 - FINAL SCORE: 53 - Temperature: 1.0040317003060417\n",
            "EPISODE: 135 - FINAL SCORE: 36 - Temperature: 0.9919851023898838\n",
            "EPISODE: 136 - FINAL SCORE: 26 - Temperature: 0.9800830422620341\n",
            "EPISODE: 137 - FINAL SCORE: 9 - Temperature: 0.968323785725635\n",
            "EPISODE: 138 - FINAL SCORE: 14 - Temperature: 0.956705619391113\n",
            "EPISODE: 139 - FINAL SCORE: 15 - Temperature: 0.945226850426527\n",
            "EPISODE: 140 - FINAL SCORE: 24 - Temperature: 0.933885806310914\n",
            "Updating target network...\n",
            "EPISODE: 141 - FINAL SCORE: 31 - Temperature: 0.9226808345905935\n",
            "EPISODE: 142 - FINAL SCORE: 14 - Temperature: 0.9116103026383953\n",
            "EPISODE: 143 - FINAL SCORE: 17 - Temperature: 0.9006725974157769\n",
            "EPISODE: 144 - FINAL SCORE: 45 - Temperature: 0.8898661252377947\n",
            "EPISODE: 145 - FINAL SCORE: 15 - Temperature: 0.8791893115408949\n",
            "EPISODE: 146 - FINAL SCORE: 27 - Temperature: 0.868640600653491\n",
            "EPISODE: 147 - FINAL SCORE: 16 - Temperature: 0.8582184555692941\n",
            "EPISODE: 148 - FINAL SCORE: 10 - Temperature: 0.8479213577233615\n",
            "EPISODE: 149 - FINAL SCORE: 14 - Temperature: 0.8377478067708344\n",
            "EPISODE: 150 - FINAL SCORE: 13 - Temperature: 0.8276963203683281\n",
            "Updating target network...\n",
            "EPISODE: 151 - FINAL SCORE: 40 - Temperature: 0.8177654339579474\n",
            "EPISODE: 152 - FINAL SCORE: 43 - Temperature: 0.8079537005538916\n",
            "EPISODE: 153 - FINAL SCORE: 17 - Temperature: 0.7982596905316204\n",
            "EPISODE: 154 - FINAL SCORE: 22 - Temperature: 0.7886819914195508\n",
            "EPISODE: 155 - FINAL SCORE: 27 - Temperature: 0.77921920769325\n",
            "EPISODE: 156 - FINAL SCORE: 29 - Temperature: 0.7698699605721018\n",
            "EPISODE: 157 - FINAL SCORE: 39 - Temperature: 0.7606328878184093\n",
            "EPISODE: 158 - FINAL SCORE: 32 - Temperature: 0.7515066435389095\n",
            "EPISODE: 159 - FINAL SCORE: 35 - Temperature: 0.7424898979886694\n",
            "EPISODE: 160 - FINAL SCORE: 41 - Temperature: 0.7335813373773338\n",
            "Updating target network...\n",
            "EPISODE: 161 - FINAL SCORE: 10 - Temperature: 0.7247796636777002\n",
            "EPISODE: 162 - FINAL SCORE: 17 - Temperature: 0.7160835944365874\n",
            "EPISODE: 163 - FINAL SCORE: 34 - Temperature: 0.7074918625879763\n",
            "EPISODE: 164 - FINAL SCORE: 29 - Temperature: 0.6990032162683899\n",
            "EPISODE: 165 - FINAL SCORE: 14 - Temperature: 0.6906164186344907\n",
            "EPISODE: 166 - FINAL SCORE: 21 - Temperature: 0.6823302476828654\n",
            "EPISODE: 167 - FINAL SCORE: 23 - Temperature: 0.6741434960719727\n",
            "EPISODE: 168 - FINAL SCORE: 24 - Temperature: 0.6660549709462256\n",
            "EPISODE: 169 - FINAL SCORE: 13 - Temperature: 0.6580634937621866\n",
            "EPISODE: 170 - FINAL SCORE: 12 - Temperature: 0.6501679001168479\n",
            "Updating target network...\n",
            "EPISODE: 171 - FINAL SCORE: 17 - Temperature: 0.6423670395779695\n",
            "EPISODE: 172 - FINAL SCORE: 13 - Temperature: 0.6346597755164565\n",
            "EPISODE: 173 - FINAL SCORE: 12 - Temperature: 0.6270449849407451\n",
            "EPISODE: 174 - FINAL SCORE: 17 - Temperature: 0.6195215583331769\n",
            "EPISODE: 175 - FINAL SCORE: 25 - Temperature: 0.6120883994883352\n",
            "EPISODE: 176 - FINAL SCORE: 16 - Temperature: 0.6047444253533223\n",
            "EPISODE: 177 - FINAL SCORE: 12 - Temperature: 0.5974885658699525\n",
            "EPISODE: 178 - FINAL SCORE: 24 - Temperature: 0.5903197638188388\n",
            "EPISODE: 179 - FINAL SCORE: 52 - Temperature: 0.5832369746653496\n",
            "EPISODE: 180 - FINAL SCORE: 28 - Temperature: 0.5762391664074149\n",
            "Updating target network...\n",
            "EPISODE: 181 - FINAL SCORE: 32 - Temperature: 0.5693253194251571\n",
            "EPISODE: 182 - FINAL SCORE: 10 - Temperature: 0.5624944263323269\n",
            "EPISODE: 183 - FINAL SCORE: 23 - Temperature: 0.5557454918295219\n",
            "EPISODE: 184 - FINAL SCORE: 19 - Temperature: 0.5490775325591651\n",
            "EPISODE: 185 - FINAL SCORE: 15 - Temperature: 0.5424895769622252\n",
            "EPISODE: 186 - FINAL SCORE: 15 - Temperature: 0.5359806651366538\n",
            "EPISODE: 187 - FINAL SCORE: 12 - Temperature: 0.5295498486975234\n",
            "EPISODE: 188 - FINAL SCORE: 12 - Temperature: 0.5231961906388417\n",
            "EPISODE: 189 - FINAL SCORE: 23 - Temperature: 0.516918765197025\n",
            "EPISODE: 190 - FINAL SCORE: 30 - Temperature: 0.5107166577160089\n",
            "Updating target network...\n",
            "EPISODE: 191 - FINAL SCORE: 9 - Temperature: 0.504588964513978\n",
            "EPISODE: 192 - FINAL SCORE: 17 - Temperature: 0.4985347927516945\n",
            "EPISODE: 193 - FINAL SCORE: 23 - Temperature: 0.49255326030240604\n",
            "EPISODE: 194 - FINAL SCORE: 24 - Temperature: 0.48664349562331566\n",
            "EPISODE: 195 - FINAL SCORE: 18 - Temperature: 0.48080463762859227\n",
            "EPISODE: 196 - FINAL SCORE: 15 - Temperature: 0.4750358355639062\n",
            "EPISODE: 197 - FINAL SCORE: 20 - Temperature: 0.4693362488824696\n",
            "EPISODE: 198 - FINAL SCORE: 21 - Temperature: 0.4637050471225635\n",
            "EPISODE: 199 - FINAL SCORE: 16 - Temperature: 0.4581414097865352\n",
            "EPISODE: 200 - FINAL SCORE: 17 - Temperature: 0.45264452622124757\n",
            "Updating target network...\n",
            "EPISODE: 201 - FINAL SCORE: 20 - Temperature: 0.4472135954999615\n",
            "EPISODE: 202 - FINAL SCORE: 35 - Temperature: 0.441847826305637\n",
            "EPISODE: 203 - FINAL SCORE: 18 - Temperature: 0.436546436815634\n",
            "EPISODE: 204 - FINAL SCORE: 29 - Temperature: 0.43130865458779555\n",
            "EPISODE: 205 - FINAL SCORE: 18 - Temperature: 0.42613371644789966\n",
            "EPISODE: 206 - FINAL SCORE: 15 - Temperature: 0.42102086837846003\n",
            "EPISODE: 207 - FINAL SCORE: 25 - Temperature: 0.41596936540886165\n",
            "EPISODE: 208 - FINAL SCORE: 38 - Temperature: 0.410978471506814\n",
            "EPISODE: 209 - FINAL SCORE: 23 - Temperature: 0.4060474594711077\n",
            "EPISODE: 210 - FINAL SCORE: 20 - Temperature: 0.40117561082565667\n",
            "Updating target network...\n",
            "EPISODE: 211 - FINAL SCORE: 9 - Temperature: 0.39636221571481245\n",
            "EPISODE: 212 - FINAL SCORE: 12 - Temperature: 0.391606572799934\n",
            "EPISODE: 213 - FINAL SCORE: 18 - Temperature: 0.3869079891571989\n",
            "EPISODE: 214 - FINAL SCORE: 11 - Temperature: 0.38226578017664053\n",
            "EPISODE: 215 - FINAL SCORE: 24 - Temperature: 0.37767926946239644\n",
            "EPISODE: 216 - FINAL SCORE: 12 - Temperature: 0.37314778873415355\n",
            "EPISODE: 217 - FINAL SCORE: 31 - Temperature: 0.3686706777297763\n",
            "EPISODE: 218 - FINAL SCORE: 16 - Temperature: 0.36424728410910245\n",
            "EPISODE: 219 - FINAL SCORE: 13 - Temperature: 0.35987696335889363\n",
            "EPISODE: 220 - FINAL SCORE: 13 - Temperature: 0.3555590786989262\n",
            "Updating target network...\n",
            "EPISODE: 221 - FINAL SCORE: 29 - Temperature: 0.3512930009892085\n",
            "EPISODE: 222 - FINAL SCORE: 27 - Temperature: 0.3470781086383121\n",
            "EPISODE: 223 - FINAL SCORE: 18 - Temperature: 0.34291378751280194\n",
            "EPISODE: 224 - FINAL SCORE: 16 - Temperature: 0.33879943084775405\n",
            "EPISODE: 225 - FINAL SCORE: 11 - Temperature: 0.3347344391583463\n",
            "EPISODE: 226 - FINAL SCORE: 11 - Temperature: 0.33071822015251\n",
            "EPISODE: 227 - FINAL SCORE: 28 - Temperature: 0.32675018864463\n",
            "EPISODE: 228 - FINAL SCORE: 42 - Temperature: 0.32282976647027956\n",
            "EPISODE: 229 - FINAL SCORE: 9 - Temperature: 0.31895638240197854\n",
            "EPISODE: 230 - FINAL SCORE: 15 - Temperature: 0.3151294720659625\n",
            "Updating target network...\n",
            "EPISODE: 231 - FINAL SCORE: 24 - Temperature: 0.31134847785995023\n",
            "EPISODE: 232 - FINAL SCORE: 33 - Temperature: 0.307612848871898\n",
            "EPISODE: 233 - FINAL SCORE: 15 - Temperature: 0.30392204079972845\n",
            "EPISODE: 234 - FINAL SCORE: 14 - Temperature: 0.30027551587202306\n",
            "EPISODE: 235 - FINAL SCORE: 23 - Temperature: 0.2966727427696652\n",
            "EPISODE: 236 - FINAL SCORE: 33 - Temperature: 0.2931131965484249\n",
            "EPISODE: 237 - FINAL SCORE: 35 - Temperature: 0.2895963585624705\n",
            "EPISODE: 238 - FINAL SCORE: 54 - Temperature: 0.2861217163887999\n",
            "EPISODE: 239 - FINAL SCORE: 27 - Temperature: 0.2826887637525771\n",
            "EPISODE: 240 - FINAL SCORE: 31 - Temperature: 0.27929700045336553\n",
            "Updating target network...\n",
            "EPISODE: 241 - FINAL SCORE: 21 - Temperature: 0.2759459322922456\n",
            "EPISODE: 242 - FINAL SCORE: 29 - Temperature: 0.27263507099980755\n",
            "EPISODE: 243 - FINAL SCORE: 13 - Temperature: 0.2693639341650077\n",
            "EPISODE: 244 - FINAL SCORE: 12 - Temperature: 0.2661320451648783\n",
            "EPISODE: 245 - FINAL SCORE: 19 - Temperature: 0.26293893309508126\n",
            "EPISODE: 246 - FINAL SCORE: 30 - Temperature: 0.2597841327012944\n",
            "EPISODE: 247 - FINAL SCORE: 13 - Temperature: 0.25666718431142144\n",
            "EPISODE: 248 - FINAL SCORE: 16 - Temperature: 0.25358763376861526\n",
            "EPISODE: 249 - FINAL SCORE: 12 - Temperature: 0.2505450323651045\n",
            "EPISODE: 250 - FINAL SCORE: 14 - Temperature: 0.24753893677681466\n",
            "Updating target network...\n",
            "EPISODE: 251 - FINAL SCORE: 21 - Temperature: 0.2445689089987728\n",
            "EPISODE: 252 - FINAL SCORE: 24 - Temperature: 0.2416345162812883\n",
            "EPISODE: 253 - FINAL SCORE: 50 - Temperature: 0.23873533106689843\n",
            "EPISODE: 254 - FINAL SCORE: 41 - Temperature: 0.235870930928071\n",
            "EPISODE: 255 - FINAL SCORE: 11 - Temperature: 0.2330408985056542\n",
            "EPISODE: 256 - FINAL SCORE: 18 - Temperature: 0.23024482144806524\n",
            "EPISODE: 257 - FINAL SCORE: 39 - Temperature: 0.22748229235120807\n",
            "EPISODE: 258 - FINAL SCORE: 14 - Temperature: 0.22475290869911263\n",
            "EPISODE: 259 - FINAL SCORE: 25 - Temperature: 0.2220562728052859\n",
            "EPISODE: 260 - FINAL SCORE: 12 - Temperature: 0.21939199175476667\n",
            "Updating target network...\n",
            "EPISODE: 261 - FINAL SCORE: 21 - Temperature: 0.21675967734687585\n",
            "EPISODE: 262 - FINAL SCORE: 14 - Temperature: 0.21415894603865324\n",
            "EPISODE: 263 - FINAL SCORE: 17 - Temperature: 0.21158941888897315\n",
            "EPISODE: 264 - FINAL SCORE: 15 - Temperature: 0.20905072150333082\n",
            "EPISODE: 265 - FINAL SCORE: 10 - Temperature: 0.2065424839792908\n",
            "EPISODE: 266 - FINAL SCORE: 52 - Temperature: 0.2040643408525901\n",
            "EPISODE: 267 - FINAL SCORE: 18 - Temperature: 0.20161593104388822\n",
            "EPISODE: 268 - FINAL SCORE: 13 - Temperature: 0.19919689780615557\n",
            "EPISODE: 269 - FINAL SCORE: 21 - Temperature: 0.19680688867269364\n",
            "EPISODE: 270 - FINAL SCORE: 9 - Temperature: 0.19444555540577851\n",
            "Updating target network...\n",
            "EPISODE: 271 - FINAL SCORE: 25 - Temperature: 0.19211255394592078\n",
            "EPISODE: 272 - FINAL SCORE: 11 - Temperature: 0.18980754436173408\n",
            "EPISODE: 273 - FINAL SCORE: 25 - Temperature: 0.18753019080040512\n",
            "EPISODE: 274 - FINAL SCORE: 10 - Temperature: 0.18528016143875822\n",
            "EPISODE: 275 - FINAL SCORE: 72 - Temperature: 0.18305712843490665\n",
            "EPISODE: 276 - FINAL SCORE: 25 - Temperature: 0.18086076788048427\n",
            "EPISODE: 277 - FINAL SCORE: 26 - Temperature: 0.1786907597534504\n",
            "EPISODE: 278 - FINAL SCORE: 53 - Temperature: 0.17654678787146055\n",
            "EPISODE: 279 - FINAL SCORE: 21 - Temperature: 0.17442853984579718\n",
            "EPISODE: 280 - FINAL SCORE: 9 - Temperature: 0.17233570703585266\n",
            "Updating target network...\n",
            "EPISODE: 281 - FINAL SCORE: 55 - Temperature: 0.1702679845041588\n",
            "EPISODE: 282 - FINAL SCORE: 30 - Temperature: 0.1682250709719556\n",
            "EPISODE: 283 - FINAL SCORE: 43 - Temperature: 0.16620666877529333\n",
            "EPISODE: 284 - FINAL SCORE: 13 - Temperature: 0.16421248382166118\n",
            "EPISODE: 285 - FINAL SCORE: 38 - Temperature: 0.16224222554713644\n",
            "EPISODE: 286 - FINAL SCORE: 51 - Temperature: 0.16029560687404748\n",
            "EPISODE: 287 - FINAL SCORE: 30 - Temperature: 0.1583723441691453\n",
            "EPISODE: 288 - FINAL SCORE: 42 - Temperature: 0.15647215720227609\n",
            "EPISODE: 289 - FINAL SCORE: 8 - Temperature: 0.15459476910555053\n",
            "EPISODE: 290 - FINAL SCORE: 17 - Temperature: 0.15273990633300244\n",
            "Updating target network...\n",
            "EPISODE: 291 - FINAL SCORE: 20 - Temperature: 0.15090729862073154\n",
            "EPISODE: 292 - FINAL SCORE: 23 - Temperature: 0.1490966789475246\n",
            "EPISODE: 293 - FINAL SCORE: 13 - Temperature: 0.1473077834959489\n",
            "EPISODE: 294 - FINAL SCORE: 20 - Temperature: 0.14554035161391246\n",
            "EPISODE: 295 - FINAL SCORE: 13 - Temperature: 0.14379412577668577\n",
            "EPISODE: 296 - FINAL SCORE: 12 - Temperature: 0.14206885154937884\n",
            "EPISODE: 297 - FINAL SCORE: 16 - Temperature: 0.14036427754986863\n",
            "EPISODE: 298 - FINAL SCORE: 11 - Temperature: 0.13868015541217135\n",
            "EPISODE: 299 - FINAL SCORE: 26 - Temperature: 0.137016239750254\n",
            "EPISODE: 300 - FINAL SCORE: 15 - Temperature: 0.13537228812228042\n",
            "Updating target network...\n",
            "EPISODE: 301 - FINAL SCORE: 19 - Temperature: 0.133748060995286\n",
            "EPISODE: 302 - FINAL SCORE: 21 - Temperature: 0.1321433217102765\n",
            "EPISODE: 303 - FINAL SCORE: 40 - Temperature: 0.1305578364477455\n",
            "EPISODE: 304 - FINAL SCORE: 24 - Temperature: 0.1289913741936054\n",
            "EPISODE: 305 - FINAL SCORE: 11 - Temperature: 0.12744370670552768\n",
            "EPISODE: 306 - FINAL SCORE: 17 - Temperature: 0.12591460847968655\n",
            "EPISODE: 307 - FINAL SCORE: 17 - Temperature: 0.12440385671790165\n",
            "EPISODE: 308 - FINAL SCORE: 23 - Temperature: 0.12291123129517537\n",
            "EPISODE: 309 - FINAL SCORE: 9 - Temperature: 0.12143651472761925\n",
            "EPISODE: 310 - FINAL SCORE: 20 - Temperature: 0.11997949214076535\n",
            "Updating target network...\n",
            "EPISODE: 311 - FINAL SCORE: 23 - Temperature: 0.11853995123825792\n",
            "EPISODE: 312 - FINAL SCORE: 31 - Temperature: 0.11711768227092054\n",
            "EPISODE: 313 - FINAL SCORE: 10 - Temperature: 0.11571247800619458\n",
            "EPISODE: 314 - FINAL SCORE: 18 - Temperature: 0.11432413369794414\n",
            "EPISODE: 315 - FINAL SCORE: 17 - Temperature: 0.11295244705662355\n",
            "EPISODE: 316 - FINAL SCORE: 15 - Temperature: 0.11159721821980245\n",
            "EPISODE: 317 - FINAL SCORE: 21 - Temperature: 0.1102582497230449\n",
            "EPISODE: 318 - FINAL SCORE: 16 - Temperature: 0.10893534647113763\n",
            "EPISODE: 319 - FINAL SCORE: 14 - Temperature: 0.10762831570966352\n",
            "EPISODE: 320 - FINAL SCORE: 15 - Temperature: 0.10633696699691629\n",
            "Updating target network...\n",
            "EPISODE: 321 - FINAL SCORE: 43 - Temperature: 0.10506111217615202\n",
            "EPISODE: 322 - FINAL SCORE: 21 - Temperature: 0.1038005653481737\n",
            "EPISODE: 323 - FINAL SCORE: 38 - Temperature: 0.10255514284424462\n",
            "EPISODE: 324 - FINAL SCORE: 22 - Temperature: 0.10132466319932686\n",
            "EPISODE: 325 - FINAL SCORE: 29 - Temperature: 0.10010894712564078\n",
            "EPISODE: 326 - FINAL SCORE: 24 - Temperature: 0.09890781748654182\n",
            "EPISODE: 327 - FINAL SCORE: 39 - Temperature: 0.09772109927071067\n",
            "EPISODE: 328 - FINAL SCORE: 15 - Temperature: 0.09654861956665314\n",
            "EPISODE: 329 - FINAL SCORE: 22 - Temperature: 0.095390207537506\n",
            "EPISODE: 330 - FINAL SCORE: 24 - Temperature: 0.09424569439614511\n",
            "Updating target network...\n",
            "EPISODE: 331 - FINAL SCORE: 37 - Temperature: 0.09311491338059211\n",
            "EPISODE: 332 - FINAL SCORE: 15 - Temperature: 0.09199769972971639\n",
            "EPISODE: 333 - FINAL SCORE: 22 - Temperature: 0.09089389065922837\n",
            "EPISODE: 334 - FINAL SCORE: 17 - Temperature: 0.08980332533796093\n",
            "EPISODE: 335 - FINAL SCORE: 12 - Temperature: 0.08872584486443547\n",
            "EPISODE: 336 - FINAL SCORE: 22 - Temperature: 0.087661292243709\n",
            "EPISODE: 337 - FINAL SCORE: 23 - Temperature: 0.08660951236449912\n",
            "EPISODE: 338 - FINAL SCORE: 15 - Temperature: 0.08557035197658347\n",
            "EPISODE: 339 - FINAL SCORE: 60 - Temperature: 0.08454365966847027\n",
            "EPISODE: 340 - FINAL SCORE: 10 - Temperature: 0.08352928584533689\n",
            "Updating target network...\n",
            "EPISODE: 341 - FINAL SCORE: 27 - Temperature: 0.0825270827072329\n",
            "EPISODE: 342 - FINAL SCORE: 16 - Temperature: 0.08153690422754496\n",
            "EPISODE: 343 - FINAL SCORE: 33 - Temperature: 0.08055860613171978\n",
            "EPISODE: 344 - FINAL SCORE: 26 - Temperature: 0.07959204587624263\n",
            "EPISODE: 345 - FINAL SCORE: 10 - Temperature: 0.07863708262786788\n",
            "EPISODE: 346 - FINAL SCORE: 17 - Temperature: 0.07769357724309879\n",
            "EPISODE: 347 - FINAL SCORE: 11 - Temperature: 0.07676139224791359\n",
            "EPISODE: 348 - FINAL SCORE: 16 - Temperature: 0.0758403918177347\n",
            "EPISODE: 349 - FINAL SCORE: 23 - Temperature: 0.07493044175763836\n",
            "EPISODE: 350 - FINAL SCORE: 14 - Temperature: 0.0740314094828016\n",
            "Updating target network...\n",
            "EPISODE: 351 - FINAL SCORE: 16 - Temperature: 0.073143163999184\n",
            "EPISODE: 352 - FINAL SCORE: 25 - Temperature: 0.07226557588444102\n",
            "EPISODE: 353 - FINAL SCORE: 19 - Temperature: 0.07139851726906651\n",
            "EPISODE: 354 - FINAL SCORE: 20 - Temperature: 0.07054186181776141\n",
            "EPISODE: 355 - FINAL SCORE: 10 - Temperature: 0.06969548471102592\n",
            "EPISODE: 356 - FINAL SCORE: 51 - Temperature: 0.06885926262697264\n",
            "EPISODE: 357 - FINAL SCORE: 38 - Temperature: 0.06803307372335794\n",
            "EPISODE: 358 - FINAL SCORE: 12 - Temperature: 0.06721679761982872\n",
            "EPISODE: 359 - FINAL SCORE: 13 - Temperature: 0.06641031538038249\n",
            "EPISODE: 360 - FINAL SCORE: 10 - Temperature: 0.06561350949603754\n",
            "Updating target network...\n",
            "EPISODE: 361 - FINAL SCORE: 11 - Temperature: 0.06482626386771143\n",
            "EPISODE: 362 - FINAL SCORE: 26 - Temperature: 0.0640484637893045\n",
            "EPISODE: 363 - FINAL SCORE: 15 - Temperature: 0.06327999593098671\n",
            "EPISODE: 364 - FINAL SCORE: 22 - Temperature: 0.06252074832268475\n",
            "EPISODE: 365 - FINAL SCORE: 13 - Temperature: 0.06177061033776743\n",
            "EPISODE: 366 - FINAL SCORE: 18 - Temperature: 0.06102947267692671\n",
            "EPISODE: 367 - FINAL SCORE: 18 - Temperature: 0.060297227352252215\n",
            "EPISODE: 368 - FINAL SCORE: 46 - Temperature: 0.05957376767149678\n",
            "EPISODE: 369 - FINAL SCORE: 13 - Temperature: 0.0588589882225308\n",
            "EPISODE: 370 - FINAL SCORE: 130 - Temperature: 0.05815278485798307\n",
            "Updating target network...\n",
            "EPISODE: 371 - FINAL SCORE: 14 - Temperature: 0.05745505468006596\n",
            "EPISODE: 372 - FINAL SCORE: 13 - Temperature: 0.05676569602558259\n",
            "EPISODE: 373 - FINAL SCORE: 16 - Temperature: 0.056084608451113974\n",
            "EPISODE: 374 - FINAL SCORE: 22 - Temperature: 0.05541169271838384\n",
            "EPISODE: 375 - FINAL SCORE: 13 - Temperature: 0.05474685077979904\n",
            "EPISODE: 376 - FINAL SCORE: 55 - Temperature: 0.05408998576416346\n",
            "EPISODE: 377 - FINAL SCORE: 24 - Temperature: 0.053441001962563406\n",
            "EPISODE: 378 - FINAL SCORE: 23 - Temperature: 0.052799804814422195\n",
            "EPISODE: 379 - FINAL SCORE: 54 - Temperature: 0.05216630089372219\n",
            "EPISODE: 380 - FINAL SCORE: 49 - Temperature: 0.05154039789539214\n",
            "Updating target network...\n",
            "EPISODE: 381 - FINAL SCORE: 40 - Temperature: 0.05092200462185771\n",
            "EPISODE: 382 - FINAL SCORE: 45 - Temperature: 0.05031103096975363\n",
            "EPISODE: 383 - FINAL SCORE: 45 - Temperature: 0.049707387916794986\n",
            "EPISODE: 384 - FINAL SCORE: 49 - Temperature: 0.049110987508806284\n",
            "EPISODE: 385 - FINAL SCORE: 29 - Temperature: 0.048521742846905955\n",
            "EPISODE: 386 - FINAL SCORE: 13 - Temperature: 0.04793956807484476\n",
            "EPISODE: 387 - FINAL SCORE: 10 - Temperature: 0.047364378366496006\n",
            "EPISODE: 388 - FINAL SCORE: 32 - Temperature: 0.04679608991349594\n",
            "EPISODE: 389 - FINAL SCORE: 86 - Temperature: 0.046234619913032377\n",
            "EPISODE: 390 - FINAL SCORE: 14 - Temperature: 0.0456798865557799\n",
            "Updating target network...\n",
            "EPISODE: 391 - FINAL SCORE: 12 - Temperature: 0.045131809013979715\n",
            "EPISODE: 392 - FINAL SCORE: 13 - Temperature: 0.04459030742966268\n",
            "EPISODE: 393 - FINAL SCORE: 24 - Temperature: 0.044055302903013495\n",
            "EPISODE: 394 - FINAL SCORE: 12 - Temperature: 0.043526717480874555\n",
            "EPISODE: 395 - FINAL SCORE: 21 - Temperature: 0.043004474145387765\n",
            "EPISODE: 396 - FINAL SCORE: 15 - Temperature: 0.0424884968027726\n",
            "EPISODE: 397 - FINAL SCORE: 22 - Temperature: 0.04197871027223881\n",
            "EPISODE: 398 - FINAL SCORE: 12 - Temperature: 0.04147504027503214\n",
            "EPISODE: 399 - FINAL SCORE: 46 - Temperature: 0.04097741342361154\n",
            "EPISODE: 400 - FINAL SCORE: 64 - Temperature: 0.04048575721095614\n",
            "Updating target network...\n",
            "EPISODE: 401 - FINAL SCORE: 57 - Temperature: 0.04000000000000063\n",
            "EPISODE: 402 - FINAL SCORE: 28 - Temperature: 0.03952007101319728\n",
            "EPISODE: 403 - FINAL SCORE: 31 - Temperature: 0.039045900322203286\n",
            "EPISODE: 404 - FINAL SCORE: 36 - Temperature: 0.0385774188376918\n",
            "EPISODE: 405 - FINAL SCORE: 24 - Temperature: 0.038114558299285256\n",
            "EPISODE: 406 - FINAL SCORE: 29 - Temperature: 0.03765725126560943\n",
            "EPISODE: 407 - FINAL SCORE: 26 - Temperature: 0.03720543110446686\n",
            "EPISODE: 408 - FINAL SCORE: 26 - Temperature: 0.03675903198312815\n",
            "EPISODE: 409 - FINAL SCORE: 14 - Temperature: 0.03631798885873979\n",
            "EPISODE: 410 - FINAL SCORE: 35 - Temperature: 0.03588223746884704\n",
            "Updating target network...\n",
            "EPISODE: 411 - FINAL SCORE: 16 - Temperature: 0.03545171432203052\n",
            "EPISODE: 412 - FINAL SCORE: 17 - Temperature: 0.035026356688655176\n",
            "EPISODE: 413 - FINAL SCORE: 17 - Temperature: 0.034606102591730206\n",
            "EPISODE: 414 - FINAL SCORE: 13 - Temperature: 0.03419089079787867\n",
            "EPISODE: 415 - FINAL SCORE: 40 - Temperature: 0.03378066080841542\n",
            "EPISODE: 416 - FINAL SCORE: 48 - Temperature: 0.03337535285053217\n",
            "EPISODE: 417 - FINAL SCORE: 24 - Temperature: 0.032974907868588164\n",
            "EPISODE: 418 - FINAL SCORE: 16 - Temperature: 0.032579267515505536\n",
            "EPISODE: 419 - FINAL SCORE: 40 - Temperature: 0.03218837414426774\n",
            "EPISODE: 420 - FINAL SCORE: 21 - Temperature: 0.03180217079952011\n",
            "Updating target network...\n",
            "EPISODE: 421 - FINAL SCORE: 53 - Temperature: 0.0314206012092711\n",
            "EPISODE: 422 - FINAL SCORE: 72 - Temperature: 0.03104360977669316\n",
            "EPISODE: 423 - FINAL SCORE: 13 - Temperature: 0.03067114157202199\n",
            "EPISODE: 424 - FINAL SCORE: 33 - Temperature: 0.030303142324552935\n",
            "EPISODE: 425 - FINAL SCORE: 68 - Temperature: 0.029939558414733426\n",
            "EPISODE: 426 - FINAL SCORE: 23 - Temperature: 0.02958033686635036\n",
            "EPISODE: 427 - FINAL SCORE: 29 - Temperature: 0.029225425338811135\n",
            "EPISODE: 428 - FINAL SCORE: 11 - Temperature: 0.028874772119517327\n",
            "EPISODE: 429 - FINAL SCORE: 13 - Temperature: 0.02852832611632989\n",
            "EPISODE: 430 - FINAL SCORE: 16 - Temperature: 0.02818603685012475\n",
            "Updating target network...\n",
            "EPISODE: 431 - FINAL SCORE: 15 - Temperature: 0.027847854447437696\n",
            "EPISODE: 432 - FINAL SCORE: 22 - Temperature: 0.027513729633197554\n",
            "EPISODE: 433 - FINAL SCORE: 25 - Temperature: 0.027183613723546513\n",
            "EPISODE: 434 - FINAL SCORE: 20 - Temperature: 0.026857458618746635\n",
            "EPISODE: 435 - FINAL SCORE: 14 - Temperature: 0.02653521679617144\n",
            "EPISODE: 436 - FINAL SCORE: 13 - Temperature: 0.0262168413033816\n",
            "EPISODE: 437 - FINAL SCORE: 17 - Temperature: 0.0259022857512837\n",
            "EPISODE: 438 - FINAL SCORE: 17 - Temperature: 0.02559150430737109\n",
            "EPISODE: 439 - FINAL SCORE: 12 - Temperature: 0.02528445168904584\n",
            "EPISODE: 440 - FINAL SCORE: 12 - Temperature: 0.024981083157020793\n",
            "Updating target network...\n",
            "EPISODE: 441 - FINAL SCORE: 22 - Temperature: 0.024681354508800817\n",
            "EPISODE: 442 - FINAL SCORE: 20 - Temperature: 0.024385222072242245\n",
            "EPISODE: 443 - FINAL SCORE: 23 - Temperature: 0.0240926426991896\n",
            "EPISODE: 444 - FINAL SCORE: 13 - Temperature: 0.023803573759188672\n",
            "EPISODE: 445 - FINAL SCORE: 52 - Temperature: 0.02351797313327502\n",
            "EPISODE: 446 - FINAL SCORE: 22 - Temperature: 0.023235799207837\n",
            "EPISODE: 447 - FINAL SCORE: 12 - Temperature: 0.02295701086855242\n",
            "EPISODE: 448 - FINAL SCORE: 50 - Temperature: 0.022681567494397974\n",
            "EPISODE: 449 - FINAL SCORE: 13 - Temperature: 0.022409428951730526\n",
            "EPISODE: 450 - FINAL SCORE: 9 - Temperature: 0.022140555588439387\n",
            "Updating target network...\n",
            "EPISODE: 451 - FINAL SCORE: 58 - Temperature: 0.021874908228168812\n",
            "EPISODE: 452 - FINAL SCORE: 11 - Temperature: 0.021612448164609784\n",
            "EPISODE: 453 - FINAL SCORE: 10 - Temperature: 0.02135313715586026\n",
            "EPISODE: 454 - FINAL SCORE: 21 - Temperature: 0.021096937418853136\n",
            "EPISODE: 455 - FINAL SCORE: 24 - Temperature: 0.020843811623851047\n",
            "EPISODE: 456 - FINAL SCORE: 40 - Temperature: 0.02059372288900718\n",
            "EPISODE: 457 - FINAL SCORE: 18 - Temperature: 0.02034663477499143\n",
            "EPISODE: 458 - FINAL SCORE: 37 - Temperature: 0.02010251127968095\n",
            "EPISODE: 459 - FINAL SCORE: 15 - Temperature: 0.019861316832914446\n",
            "EPISODE: 460 - FINAL SCORE: 12 - Temperature: 0.01962301629130942\n",
            "Updating target network...\n",
            "EPISODE: 461 - FINAL SCORE: 44 - Temperature: 0.019387574933141583\n",
            "EPISODE: 462 - FINAL SCORE: 23 - Temperature: 0.01915495845328567\n",
            "EPISODE: 463 - FINAL SCORE: 11 - Temperature: 0.01892513295821703\n",
            "EPISODE: 464 - FINAL SCORE: 18 - Temperature: 0.018698064961073138\n",
            "EPISODE: 465 - FINAL SCORE: 12 - Temperature: 0.018473721376774364\n",
            "EPISODE: 466 - FINAL SCORE: 10 - Temperature: 0.0182520695172033\n",
            "EPISODE: 467 - FINAL SCORE: 11 - Temperature: 0.01803307708644191\n",
            "EPISODE: 468 - FINAL SCORE: 22 - Temperature: 0.017816712176065844\n",
            "EPISODE: 469 - FINAL SCORE: 53 - Temperature: 0.01760294326049519\n",
            "EPISODE: 470 - FINAL SCORE: 17 - Temperature: 0.017391739192401036\n",
            "Updating target network...\n",
            "EPISODE: 471 - FINAL SCORE: 25 - Temperature: 0.01718306919816711\n",
            "EPISODE: 472 - FINAL SCORE: 10 - Temperature: 0.01697690287340591\n",
            "EPISODE: 473 - FINAL SCORE: 39 - Temperature: 0.0167732101785286\n",
            "EPISODE: 474 - FINAL SCORE: 27 - Temperature: 0.016571961434368076\n",
            "EPISODE: 475 - FINAL SCORE: 32 - Temperature: 0.016373127317854567\n",
            "EPISODE: 476 - FINAL SCORE: 44 - Temperature: 0.016176678857743064\n",
            "EPISODE: 477 - FINAL SCORE: 26 - Temperature: 0.015982587430392072\n",
            "EPISODE: 478 - FINAL SCORE: 10 - Temperature: 0.015790824755592972\n",
            "EPISODE: 479 - FINAL SCORE: 21 - Temperature: 0.015601362892449452\n",
            "EPISODE: 480 - FINAL SCORE: 15 - Temperature: 0.015414174235306338\n",
            "Updating target network...\n",
            "EPISODE: 481 - FINAL SCORE: 9 - Temperature: 0.015229231509727317\n",
            "EPISODE: 482 - FINAL SCORE: 33 - Temperature: 0.015046507768520893\n",
            "EPISODE: 483 - FINAL SCORE: 18 - Temperature: 0.014865976387814022\n",
            "EPISODE: 484 - FINAL SCORE: 17 - Temperature: 0.014687611063172871\n",
            "EPISODE: 485 - FINAL SCORE: 17 - Temperature: 0.014511385805770119\n",
            "EPISODE: 486 - FINAL SCORE: 54 - Temperature: 0.014337274938598224\n",
            "EPISODE: 487 - FINAL SCORE: 15 - Temperature: 0.014165253092728165\n",
            "EPISODE: 488 - FINAL SCORE: 14 - Temperature: 0.013995295203613017\n",
            "EPISODE: 489 - FINAL SCORE: 11 - Temperature: 0.013827376507435922\n",
            "EPISODE: 490 - FINAL SCORE: 45 - Temperature: 0.013661472537501872\n",
            "Updating target network...\n",
            "EPISODE: 491 - FINAL SCORE: 13 - Temperature: 0.013497559120672745\n",
            "EPISODE: 492 - FINAL SCORE: 18 - Temperature: 0.013335612373845179\n",
            "EPISODE: 493 - FINAL SCORE: 11 - Temperature: 0.013175608700470638\n",
            "EPISODE: 494 - FINAL SCORE: 10 - Temperature: 0.013017524787117282\n",
            "EPISODE: 495 - FINAL SCORE: 17 - Temperature: 0.012861337600073068\n",
            "EPISODE: 496 - FINAL SCORE: 25 - Temperature: 0.012707024381989597\n",
            "EPISODE: 497 - FINAL SCORE: 33 - Temperature: 0.012554562648566256\n",
            "EPISODE: 498 - FINAL SCORE: 37 - Temperature: 0.012403930185274118\n",
            "EPISODE: 499 - FINAL SCORE: 17 - Temperature: 0.012255105044119167\n",
            "EPISODE: 500 - FINAL SCORE: 33 - Temperature: 0.012108065540444352\n",
            "Updating target network...\n",
            "EPISODE: 501 - FINAL SCORE: 22 - Temperature: 0.011962790249770002\n",
            "EPISODE: 502 - FINAL SCORE: 14 - Temperature: 0.011819258004672175\n",
            "EPISODE: 503 - FINAL SCORE: 13 - Temperature: 0.011677447891698434\n",
            "EPISODE: 504 - FINAL SCORE: 44 - Temperature: 0.011537339248320642\n",
            "EPISODE: 505 - FINAL SCORE: 23 - Temperature: 0.01139891165992432\n",
            "EPISODE: 506 - FINAL SCORE: 13 - Temperature: 0.011262144956834112\n",
            "EPISODE: 507 - FINAL SCORE: 14 - Temperature: 0.011127019211374966\n",
            "EPISODE: 508 - FINAL SCORE: 14 - Temperature: 0.010993514734968554\n",
            "EPISODE: 509 - FINAL SCORE: 15 - Temperature: 0.010861612075264527\n",
            "EPISODE: 510 - FINAL SCORE: 12 - Temperature: 0.01073129201330621\n",
            "Updating target network...\n",
            "EPISODE: 511 - FINAL SCORE: 12 - Temperature: 0.010602535560730287\n",
            "EPISODE: 512 - FINAL SCORE: 10 - Temperature: 0.010475323957000095\n",
            "EPISODE: 513 - FINAL SCORE: 13 - Temperature: 0.010349638666672099\n",
            "EPISODE: 514 - FINAL SCORE: 10 - Temperature: 0.010225461376695182\n",
            "EPISODE: 515 - FINAL SCORE: 51 - Temperature: 0.01010277399374233\n",
            "EPISODE: 516 - FINAL SCORE: 11 - Temperature: 0.009981558641574333\n",
            "EPISODE: 517 - FINAL SCORE: 10 - Temperature: 0.00986179765843511\n",
            "EPISODE: 518 - FINAL SCORE: 13 - Temperature: 0.0097434735944783\n",
            "EPISODE: 519 - FINAL SCORE: 24 - Temperature: 0.009626569209224722\n",
            "EPISODE: 520 - FINAL SCORE: 14 - Temperature: 0.009511067469050335\n",
            "Updating target network...\n",
            "EPISODE: 521 - FINAL SCORE: 12 - Temperature: 0.009396951544704346\n",
            "EPISODE: 522 - FINAL SCORE: 59 - Temperature: 0.009284204808857093\n",
            "EPISODE: 523 - FINAL SCORE: 45 - Temperature: 0.009172810833677356\n",
            "EPISODE: 524 - FINAL SCORE: 23 - Temperature: 0.009062753388438718\n",
            "EPISODE: 525 - FINAL SCORE: 27 - Temperature: 0.00895401643715467\n",
            "EPISODE: 526 - FINAL SCORE: 14 - Temperature: 0.008846584136242066\n",
            "EPISODE: 527 - FINAL SCORE: 11 - Temperature: 0.008740440832212638\n",
            "EPISODE: 528 - FINAL SCORE: 11 - Temperature: 0.008635571059392177\n",
            "EPISODE: 529 - FINAL SCORE: 9 - Temperature: 0.008531959537667118\n",
            "EPISODE: 530 - FINAL SCORE: 57 - Temperature: 0.008429591170258124\n",
            "Updating target network...\n",
            "EPISODE: 531 - FINAL SCORE: 23 - Temperature: 0.008328451041520414\n",
            "EPISODE: 532 - FINAL SCORE: 31 - Temperature: 0.008228524414770462\n",
            "EPISODE: 533 - FINAL SCORE: 38 - Temperature: 0.008129796730138777\n",
            "EPISODE: 534 - FINAL SCORE: 12 - Temperature: 0.00803225360244846\n",
            "EPISODE: 535 - FINAL SCORE: 13 - Temperature: 0.007935880819119195\n",
            "EPISODE: 536 - FINAL SCORE: 42 - Temperature: 0.007840664338096395\n",
            "EPISODE: 537 - FINAL SCORE: 12 - Temperature: 0.0077465902858052035\n",
            "EPISODE: 538 - FINAL SCORE: 17 - Temperature: 0.007653644955129026\n",
            "EPISODE: 539 - FINAL SCORE: 39 - Temperature: 0.007561814803412336\n",
            "EPISODE: 540 - FINAL SCORE: 9 - Temperature: 0.00747108645048743\n",
            "Updating target network...\n",
            "EPISODE: 541 - FINAL SCORE: 13 - Temperature: 0.007381446676724864\n",
            "EPISODE: 542 - FINAL SCORE: 28 - Temperature: 0.007292882421107278\n",
            "EPISODE: 543 - FINAL SCORE: 40 - Temperature: 0.00720538077932633\n",
            "EPISODE: 544 - FINAL SCORE: 17 - Temperature: 0.00711892900190247\n",
            "EPISODE: 545 - FINAL SCORE: 20 - Temperature: 0.00703351449232727\n",
            "EPISODE: 546 - FINAL SCORE: 13 - Temperature: 0.006949124805228038\n",
            "EPISODE: 547 - FINAL SCORE: 11 - Temperature: 0.006865747644554462\n",
            "EPISODE: 548 - FINAL SCORE: 39 - Temperature: 0.006783370861787\n",
            "EPISODE: 549 - FINAL SCORE: 18 - Temperature: 0.006701982454166781\n",
            "EPISODE: 550 - FINAL SCORE: 10 - Temperature: 0.006621570562946729\n",
            "Updating target network...\n",
            "EPISODE: 551 - FINAL SCORE: 15 - Temperature: 0.0065421234716636825\n",
            "EPISODE: 552 - FINAL SCORE: 54 - Temperature: 0.006463629604431235\n",
            "EPISODE: 553 - FINAL SCORE: 22 - Temperature: 0.006386077524253065\n",
            "EPISODE: 554 - FINAL SCORE: 18 - Temperature: 0.006309455931356506\n",
            "EPISODE: 555 - FINAL SCORE: 40 - Temperature: 0.006233753661546099\n",
            "EPISODE: 556 - FINAL SCORE: 29 - Temperature: 0.006158959684576912\n",
            "EPISODE: 557 - FINAL SCORE: 35 - Temperature: 0.0060850631025473716\n",
            "EPISODE: 558 - FINAL SCORE: 13 - Temperature: 0.006012053148311373\n",
            "EPISODE: 559 - FINAL SCORE: 39 - Temperature: 0.0059399191839094485\n",
            "EPISODE: 560 - FINAL SCORE: 19 - Temperature: 0.005868650699018764\n",
            "Updating target network...\n",
            "EPISODE: 561 - FINAL SCORE: 14 - Temperature: 0.0057982373094216935\n",
            "EPISODE: 562 - FINAL SCORE: 24 - Temperature: 0.005728668755492791\n",
            "EPISODE: 563 - FINAL SCORE: 10 - Temperature: 0.0056599349007039\n",
            "EPISODE: 564 - FINAL SCORE: 34 - Temperature: 0.005592025730147207\n",
            "EPISODE: 565 - FINAL SCORE: 23 - Temperature: 0.005524931349076013\n",
            "EPISODE: 566 - FINAL SCORE: 44 - Temperature: 0.005458641981463011\n",
            "EPISODE: 567 - FINAL SCORE: 14 - Temperature: 0.005393147968575867\n",
            "EPISODE: 568 - FINAL SCORE: 32 - Temperature: 0.0053284397675698895\n",
            "EPISODE: 569 - FINAL SCORE: 11 - Temperature: 0.005264507950097577\n",
            "EPISODE: 570 - FINAL SCORE: 27 - Temperature: 0.005201343200934866\n",
            "Updating target network...\n",
            "EPISODE: 571 - FINAL SCORE: 31 - Temperature: 0.005138936316623837\n",
            "EPISODE: 572 - FINAL SCORE: 12 - Temperature: 0.005077278204131733\n",
            "EPISODE: 573 - FINAL SCORE: 21 - Temperature: 0.005016359879526041\n",
            "EPISODE: 574 - FINAL SCORE: 13 - Temperature: 0.0049561724666654944\n",
            "EPISODE: 575 - FINAL SCORE: 20 - Temperature: 0.004896707195906759\n",
            "EPISODE: 576 - FINAL SCORE: 74 - Temperature: 0.0048379554028266545\n",
            "EPISODE: 577 - FINAL SCORE: 36 - Temperature: 0.004779908526959696\n",
            "EPISODE: 578 - FINAL SCORE: 67 - Temperature: 0.004722558110550785\n",
            "EPISODE: 579 - FINAL SCORE: 11 - Temperature: 0.0046658957973228716\n",
            "EPISODE: 580 - FINAL SCORE: 13 - Temperature: 0.0046099133312593925\n",
            "Updating target network...\n",
            "EPISODE: 581 - FINAL SCORE: 11 - Temperature: 0.004554602555401329\n",
            "EPISODE: 582 - FINAL SCORE: 11 - Temperature: 0.004499955410658687\n",
            "EPISODE: 583 - FINAL SCORE: 20 - Temperature: 0.004445963934636246\n",
            "EPISODE: 584 - FINAL SCORE: 14 - Temperature: 0.004392620260473391\n",
            "EPISODE: 585 - FINAL SCORE: 11 - Temperature: 0.00433991661569787\n",
            "EPISODE: 586 - FINAL SCORE: 15 - Temperature: 0.004287845321093298\n",
            "EPISODE: 587 - FINAL SCORE: 19 - Temperature: 0.004236398789580254\n",
            "EPISODE: 588 - FINAL SCORE: 13 - Temperature: 0.0041855695251107996\n",
            "EPISODE: 589 - FINAL SCORE: 11 - Temperature: 0.004135350121576266\n",
            "EPISODE: 590 - FINAL SCORE: 12 - Temperature: 0.004085733261728136\n",
            "Updating target network...\n",
            "EPISODE: 591 - FINAL SCORE: 20 - Temperature: 0.004036711716111889\n",
            "EPISODE: 592 - FINAL SCORE: 20 - Temperature: 0.003988278342013618\n",
            "EPISODE: 593 - FINAL SCORE: 15 - Temperature: 0.003940426082419311\n",
            "EPISODE: 594 - FINAL SCORE: 13 - Temperature: 0.0038931479649865867\n",
            "EPISODE: 595 - FINAL SCORE: 22 - Temperature: 0.0038464371010287993\n",
            "EPISODE: 596 - FINAL SCORE: 15 - Temperature: 0.0038002866845113104\n",
            "EPISODE: 597 - FINAL SCORE: 33 - Temperature: 0.0037546899910598165\n",
            "EPISODE: 598 - FINAL SCORE: 13 - Temperature: 0.0037096403769805667\n",
            "EPISODE: 599 - FINAL SCORE: 10 - Temperature: 0.00366513127829234\n",
            "EPISODE: 600 - FINAL SCORE: 14 - Temperature: 0.003621156209770038\n",
            "Updating target network...\n",
            "EPISODE: 601 - FINAL SCORE: 26 - Temperature: 0.0035777087639997486\n",
            "EPISODE: 602 - FINAL SCORE: 18 - Temperature: 0.003534782610445153\n",
            "EPISODE: 603 - FINAL SCORE: 12 - Temperature: 0.003492371494525127\n",
            "EPISODE: 604 - FINAL SCORE: 60 - Temperature: 0.0034504692367024192\n",
            "EPISODE: 605 - FINAL SCORE: 48 - Temperature: 0.0034090697315832517\n",
            "EPISODE: 606 - FINAL SCORE: 16 - Temperature: 0.003368166947027734\n",
            "EPISODE: 607 - FINAL SCORE: 20 - Temperature: 0.0033277549232709454\n",
            "EPISODE: 608 - FINAL SCORE: 15 - Temperature: 0.003287827772054564\n",
            "EPISODE: 609 - FINAL SCORE: 41 - Temperature: 0.003248379675768913\n",
            "EPISODE: 610 - FINAL SCORE: 18 - Temperature: 0.0032094048866053043\n",
            "Updating target network...\n",
            "EPISODE: 611 - FINAL SCORE: 28 - Temperature: 0.0031708977257185497\n",
            "EPISODE: 612 - FINAL SCORE: 41 - Temperature: 0.0031328525823995216\n",
            "EPISODE: 613 - FINAL SCORE: 15 - Temperature: 0.00309526391325764\n",
            "EPISODE: 614 - FINAL SCORE: 29 - Temperature: 0.0030581262414131733\n",
            "EPISODE: 615 - FINAL SCORE: 30 - Temperature: 0.0030214341556992195\n",
            "EPISODE: 616 - FINAL SCORE: 24 - Temperature: 0.0029851823098732758\n",
            "EPISODE: 617 - FINAL SCORE: 18 - Temperature: 0.002949365421838257\n",
            "EPISODE: 618 - FINAL SCORE: 16 - Temperature: 0.0029139782728728656\n",
            "EPISODE: 619 - FINAL SCORE: 43 - Temperature: 0.002879015706871195\n",
            "EPISODE: 620 - FINAL SCORE: 12 - Temperature: 0.002844472629591455\n",
            "Updating target network...\n",
            "EPISODE: 621 - FINAL SCORE: 14 - Temperature: 0.0028103440079137133\n",
            "EPISODE: 622 - FINAL SCORE: 43 - Temperature: 0.002776624869106541\n",
            "EPISODE: 623 - FINAL SCORE: 36 - Temperature: 0.00274331030010246\n",
            "EPISODE: 624 - FINAL SCORE: 35 - Temperature: 0.0027103954467820757\n",
            "EPISODE: 625 - FINAL SCORE: 25 - Temperature: 0.0026778755132668124\n",
            "EPISODE: 626 - FINAL SCORE: 11 - Temperature: 0.002645745761220122\n",
            "EPISODE: 627 - FINAL SCORE: 29 - Temperature: 0.0026140015091570814\n",
            "EPISODE: 628 - FINAL SCORE: 27 - Temperature: 0.0025826381317622773\n",
            "EPISODE: 629 - FINAL SCORE: 19 - Temperature: 0.0025516510592158686\n",
            "EPISODE: 630 - FINAL SCORE: 11 - Temperature: 0.0025210357765277397\n",
            "Updating target network...\n",
            "EPISODE: 631 - FINAL SCORE: 25 - Temperature: 0.0024907878228796415\n",
            "EPISODE: 632 - FINAL SCORE: 16 - Temperature: 0.002460902790975223\n",
            "EPISODE: 633 - FINAL SCORE: 23 - Temperature: 0.0024313763263978665\n",
            "EPISODE: 634 - FINAL SCORE: 16 - Temperature: 0.0024022041269762223\n",
            "EPISODE: 635 - FINAL SCORE: 46 - Temperature: 0.00237338194215736\n",
            "EPISODE: 636 - FINAL SCORE: 14 - Temperature: 0.0023449055723874365\n",
            "EPISODE: 637 - FINAL SCORE: 32 - Temperature: 0.002316770868499801\n",
            "EPISODE: 638 - FINAL SCORE: 12 - Temperature: 0.0022889737311104353\n",
            "EPISODE: 639 - FINAL SCORE: 16 - Temperature: 0.0022615101100206527\n",
            "EPISODE: 640 - FINAL SCORE: 18 - Temperature: 0.0022343760036269596\n",
            "Updating target network...\n",
            "EPISODE: 641 - FINAL SCORE: 28 - Temperature: 0.0022075674583379996\n",
            "EPISODE: 642 - FINAL SCORE: 21 - Temperature: 0.002181080567998495\n",
            "EPISODE: 643 - FINAL SCORE: 18 - Temperature: 0.0021549114733200956\n",
            "EPISODE: 644 - FINAL SCORE: 12 - Temperature: 0.00212905636131906\n",
            "EPISODE: 645 - FINAL SCORE: 39 - Temperature: 0.0021035114647606832\n",
            "EPISODE: 646 - FINAL SCORE: 11 - Temperature: 0.002078273061610388\n",
            "EPISODE: 647 - FINAL SCORE: 24 - Temperature: 0.002053337474491404\n",
            "EPISODE: 648 - FINAL SCORE: 50 - Temperature: 0.0020287010701489543\n",
            "EPISODE: 649 - FINAL SCORE: 11 - Temperature: 0.002004360258920868\n",
            "EPISODE: 650 - FINAL SCORE: 26 - Temperature: 0.0019803114942145484\n",
            "Updating target network...\n",
            "EPISODE: 651 - FINAL SCORE: 9 - Temperature: 0.0019565512719902133\n",
            "EPISODE: 652 - FINAL SCORE: 64 - Temperature: 0.0019330761302503371\n",
            "EPISODE: 653 - FINAL SCORE: 23 - Temperature: 0.0019098826485352176\n",
            "EPISODE: 654 - FINAL SCORE: 25 - Temperature: 0.0018869674474245978\n",
            "EPISODE: 655 - FINAL SCORE: 22 - Temperature: 0.0018643271880452634\n",
            "EPISODE: 656 - FINAL SCORE: 19 - Temperature: 0.0018419585715845513\n",
            "EPISODE: 657 - FINAL SCORE: 52 - Temperature: 0.0018198583388096933\n",
            "EPISODE: 658 - FINAL SCORE: 34 - Temperature: 0.0017980232695929295\n",
            "EPISODE: 659 - FINAL SCORE: 41 - Temperature: 0.0017764501824423153\n",
            "EPISODE: 660 - FINAL SCORE: 30 - Temperature: 0.0017551359340381612\n",
            "Updating target network...\n",
            "EPISODE: 661 - FINAL SCORE: 41 - Temperature: 0.0017340774187750345\n",
            "EPISODE: 662 - FINAL SCORE: 34 - Temperature: 0.0017132715683092529\n",
            "EPISODE: 663 - FINAL SCORE: 51 - Temperature: 0.0016927153511118122\n",
            "EPISODE: 664 - FINAL SCORE: 13 - Temperature: 0.0016724057720266731\n",
            "EPISODE: 665 - FINAL SCORE: 33 - Temperature: 0.0016523398718343524\n",
            "EPISODE: 666 - FINAL SCORE: 47 - Temperature: 0.0016325147268207469\n",
            "EPISODE: 667 - FINAL SCORE: 38 - Temperature: 0.0016129274483511313\n",
            "EPISODE: 668 - FINAL SCORE: 74 - Temperature: 0.0015935751824492697\n",
            "EPISODE: 669 - FINAL SCORE: 72 - Temperature: 0.001574455109381574\n",
            "EPISODE: 670 - FINAL SCORE: 24 - Temperature: 0.0015555644432462528\n",
            "Updating target network...\n",
            "EPISODE: 671 - FINAL SCORE: 21 - Temperature: 0.0015369004315673907\n",
            "EPISODE: 672 - FINAL SCORE: 16 - Temperature: 0.0015184603548938965\n",
            "EPISODE: 673 - FINAL SCORE: 12 - Temperature: 0.001500241526403265\n",
            "EPISODE: 674 - FINAL SCORE: 12 - Temperature: 0.0014822412915100895\n",
            "EPISODE: 675 - FINAL SCORE: 24 - Temperature: 0.0014644570274792764\n",
            "EPISODE: 676 - FINAL SCORE: 16 - Temperature: 0.0014468861430438971\n",
            "EPISODE: 677 - FINAL SCORE: 41 - Temperature: 0.0014295260780276258\n",
            "EPISODE: 678 - FINAL SCORE: 34 - Temperature: 0.001412374302971707\n",
            "EPISODE: 679 - FINAL SCORE: 55 - Temperature: 0.0013954283187663996\n",
            "EPISODE: 680 - FINAL SCORE: 16 - Temperature: 0.0013786856562868432\n",
            "Updating target network...\n",
            "EPISODE: 681 - FINAL SCORE: 13 - Temperature: 0.001362143876033292\n",
            "EPISODE: 682 - FINAL SCORE: 35 - Temperature: 0.0013458005677756662\n",
            "EPISODE: 683 - FINAL SCORE: 38 - Temperature: 0.0013296533502023678\n",
            "EPISODE: 684 - FINAL SCORE: 44 - Temperature: 0.0013136998705733105\n",
            "EPISODE: 685 - FINAL SCORE: 41 - Temperature: 0.001297937804377112\n",
            "EPISODE: 686 - FINAL SCORE: 30 - Temperature: 0.0012823648549924005\n",
            "EPISODE: 687 - FINAL SCORE: 28 - Temperature: 0.0012669787533531826\n",
            "EPISODE: 688 - FINAL SCORE: 14 - Temperature: 0.0012517772576182283\n",
            "EPISODE: 689 - FINAL SCORE: 39 - Temperature: 0.0012367581528444239\n",
            "EPISODE: 690 - FINAL SCORE: 14 - Temperature: 0.001221919250664039\n",
            "Updating target network...\n",
            "EPISODE: 691 - FINAL SCORE: 15 - Temperature: 0.0012072583889658716\n",
            "EPISODE: 692 - FINAL SCORE: 13 - Temperature: 0.0011927734315802158\n",
            "EPISODE: 693 - FINAL SCORE: 45 - Temperature: 0.0011784622679676098\n",
            "EPISODE: 694 - FINAL SCORE: 14 - Temperature: 0.001164322812911318\n",
            "EPISODE: 695 - FINAL SCORE: 18 - Temperature: 0.0011503530062135043\n",
            "EPISODE: 696 - FINAL SCORE: 20 - Temperature: 0.0011365508123950489\n",
            "EPISODE: 697 - FINAL SCORE: 17 - Temperature: 0.001122914220398967\n",
            "EPISODE: 698 - FINAL SCORE: 35 - Temperature: 0.0011094412432973884\n",
            "EPISODE: 699 - FINAL SCORE: 11 - Temperature: 0.0010961299180020495\n",
            "EPISODE: 700 - FINAL SCORE: 32 - Temperature: 0.0010829783049782606\n",
            "Updating target network...\n",
            "EPISODE: 701 - FINAL SCORE: 21 - Temperature: 0.001069984487962305\n",
            "EPISODE: 702 - FINAL SCORE: 18 - Temperature: 0.001057146573682229\n",
            "EPISODE: 703 - FINAL SCORE: 18 - Temperature: 0.0010444626915819804\n",
            "EPISODE: 704 - FINAL SCORE: 10 - Temperature: 0.0010319309935488596\n",
            "EPISODE: 705 - FINAL SCORE: 26 - Temperature: 0.001019549653644238\n",
            "EPISODE: 706 - FINAL SCORE: 10 - Temperature: 0.0010073168678375083\n",
            "EPISODE: 707 - FINAL SCORE: 22 - Temperature: 0.000995230853743229\n",
            "EPISODE: 708 - FINAL SCORE: 12 - Temperature: 0.0009832898503614185\n",
            "EPISODE: 709 - FINAL SCORE: 23 - Temperature: 0.0009714921178209695\n",
            "EPISODE: 710 - FINAL SCORE: 32 - Temperature: 0.0009598359371261381\n",
            "Updating target network...\n",
            "EPISODE: 711 - FINAL SCORE: 29 - Temperature: 0.0009483196099060785\n",
            "EPISODE: 712 - FINAL SCORE: 50 - Temperature: 0.0009369414581673793\n",
            "EPISODE: 713 - FINAL SCORE: 26 - Temperature: 0.0009256998240495713\n",
            "EPISODE: 714 - FINAL SCORE: 38 - Temperature: 0.0009145930695835676\n",
            "EPISODE: 715 - FINAL SCORE: 52 - Temperature: 0.0009036195764530027\n",
            "EPISODE: 716 - FINAL SCORE: 19 - Temperature: 0.0008927777457584337\n",
            "EPISODE: 717 - FINAL SCORE: 22 - Temperature: 0.0008820659977843733\n",
            "EPISODE: 718 - FINAL SCORE: 17 - Temperature: 0.000871482771769115\n",
            "EPISODE: 719 - FINAL SCORE: 24 - Temperature: 0.0008610265256773219\n",
            "EPISODE: 720 - FINAL SCORE: 14 - Temperature: 0.0008506957359753439\n",
            "Updating target network...\n",
            "EPISODE: 721 - FINAL SCORE: 21 - Temperature: 0.0008404888974092295\n",
            "EPISODE: 722 - FINAL SCORE: 9 - Temperature: 0.0008304045227854028\n",
            "EPISODE: 723 - FINAL SCORE: 42 - Temperature: 0.00082044114275397\n",
            "EPISODE: 724 - FINAL SCORE: 62 - Temperature: 0.0008105973055946278\n",
            "EPISODE: 725 - FINAL SCORE: 33 - Temperature: 0.000800871577005139\n",
            "EPISODE: 726 - FINAL SCORE: 69 - Temperature: 0.0007912625398923471\n",
            "EPISODE: 727 - FINAL SCORE: 13 - Temperature: 0.0007817687941656978\n",
            "EPISODE: 728 - FINAL SCORE: 48 - Temperature: 0.0007723889565332373\n",
            "EPISODE: 729 - FINAL SCORE: 16 - Temperature: 0.0007631216603000601\n",
            "EPISODE: 730 - FINAL SCORE: 36 - Temperature: 0.0007539655551691728\n",
            "Updating target network...\n",
            "EPISODE: 731 - FINAL SCORE: 18 - Temperature: 0.0007449193070447487\n",
            "EPISODE: 732 - FINAL SCORE: 22 - Temperature: 0.0007359815978377429\n",
            "EPISODE: 733 - FINAL SCORE: 21 - Temperature: 0.0007271511252738385\n",
            "EPISODE: 734 - FINAL SCORE: 14 - Temperature: 0.0007184266027036989\n",
            "EPISODE: 735 - FINAL SCORE: 24 - Temperature: 0.000709806758915495\n",
            "EPISODE: 736 - FINAL SCORE: 45 - Temperature: 0.000701290337949683\n",
            "EPISODE: 737 - FINAL SCORE: 43 - Temperature: 0.0006928760989160039\n",
            "EPISODE: 738 - FINAL SCORE: 40 - Temperature: 0.0006845628158126786\n",
            "EPISODE: 739 - FINAL SCORE: 22 - Temperature: 0.000676349277347773\n",
            "EPISODE: 740 - FINAL SCORE: 10 - Temperature: 0.0006682342867627058\n",
            "Updating target network...\n",
            "EPISODE: 741 - FINAL SCORE: 68 - Temperature: 0.0006602166616578738\n",
            "EPISODE: 742 - FINAL SCORE: 39 - Temperature: 0.0006522952338203701\n",
            "EPISODE: 743 - FINAL SCORE: 30 - Temperature: 0.0006444688490537685\n",
            "EPISODE: 744 - FINAL SCORE: 19 - Temperature: 0.0006367363670099512\n",
            "EPISODE: 745 - FINAL SCORE: 22 - Temperature: 0.000629096661022953\n",
            "EPISODE: 746 - FINAL SCORE: 23 - Temperature: 0.0006215486179448001\n",
            "EPISODE: 747 - FINAL SCORE: 12 - Temperature: 0.0006140911379833186\n",
            "EPISODE: 748 - FINAL SCORE: 9 - Temperature: 0.0006067231345418874\n",
            "EPISODE: 749 - FINAL SCORE: 35 - Temperature: 0.0005994435340611164\n",
            "EPISODE: 750 - FINAL SCORE: 28 - Temperature: 0.0005922512758624222\n",
            "Updating target network...\n",
            "EPISODE: 751 - FINAL SCORE: 22 - Temperature: 0.0005851453119934812\n",
            "EPISODE: 752 - FINAL SCORE: 16 - Temperature: 0.0005781246070755373\n",
            "EPISODE: 753 - FINAL SCORE: 19 - Temperature: 0.0005711881381525412\n",
            "EPISODE: 754 - FINAL SCORE: 50 - Temperature: 0.0005643348945421002\n",
            "EPISODE: 755 - FINAL SCORE: 12 - Temperature: 0.0005575638776882161\n",
            "EPISODE: 756 - FINAL SCORE: 13 - Temperature: 0.0005508741010157899\n",
            "EPISODE: 757 - FINAL SCORE: 12 - Temperature: 0.0005442645897868722\n",
            "EPISODE: 758 - FINAL SCORE: 36 - Temperature: 0.0005377343809586384\n",
            "EPISODE: 759 - FINAL SCORE: 15 - Temperature: 0.0005312825230430683\n",
            "EPISODE: 760 - FINAL SCORE: 41 - Temperature: 0.0005249080759683087\n",
            "Updating target network...\n",
            "EPISODE: 761 - FINAL SCORE: 27 - Temperature: 0.0005186101109416997\n",
            "EPISODE: 762 - FINAL SCORE: 35 - Temperature: 0.0005123877103144441\n",
            "EPISODE: 763 - FINAL SCORE: 23 - Temperature: 0.0005062399674479018\n",
            "EPISODE: 764 - FINAL SCORE: 49 - Temperature: 0.000500165986581486\n",
            "EPISODE: 765 - FINAL SCORE: 24 - Temperature: 0.0004941648827021473\n",
            "EPISODE: 766 - FINAL SCORE: 32 - Temperature: 0.00048823578141542147\n",
            "EPISODE: 767 - FINAL SCORE: 11 - Temperature: 0.0004823778188180254\n",
            "EPISODE: 768 - FINAL SCORE: 26 - Temperature: 0.00047659014137198187\n",
            "EPISODE: 769 - FINAL SCORE: 15 - Temperature: 0.0004708719057802539\n",
            "EPISODE: 770 - FINAL SCORE: 12 - Temperature: 0.00046522227886387193\n",
            "Updating target network...\n",
            "EPISODE: 771 - FINAL SCORE: 10 - Temperature: 0.00045964043744053495\n",
            "EPISODE: 772 - FINAL SCORE: 10 - Temperature: 0.0004541255682046679\n",
            "EPISODE: 773 - FINAL SCORE: 13 - Temperature: 0.0004486768676089189\n",
            "EPISODE: 774 - FINAL SCORE: 9 - Temperature: 0.00044329354174707774\n",
            "EPISODE: 775 - FINAL SCORE: 12 - Temperature: 0.0004379748062383992\n",
            "EPISODE: 776 - FINAL SCORE: 31 - Temperature: 0.0004327198861133146\n",
            "EPISODE: 777 - FINAL SCORE: 11 - Temperature: 0.000427528015700514\n",
            "EPISODE: 778 - FINAL SCORE: 10 - Temperature: 0.0004223984385153842\n",
            "EPISODE: 779 - FINAL SCORE: 9 - Temperature: 0.00041733040714978415\n",
            "EPISODE: 780 - FINAL SCORE: 18 - Temperature: 0.00041232318316314364\n",
            "Updating target network...\n",
            "EPISODE: 781 - FINAL SCORE: 27 - Temperature: 0.00040737603697486814\n",
            "EPISODE: 782 - FINAL SCORE: 26 - Temperature: 0.0004024882477580354\n",
            "EPISODE: 783 - FINAL SCORE: 30 - Temperature: 0.00039765910333436626\n",
            "EPISODE: 784 - FINAL SCORE: 18 - Temperature: 0.0003928879000704565\n",
            "EPISODE: 785 - FINAL SCORE: 41 - Temperature: 0.0003881739427752538\n",
            "EPISODE: 786 - FINAL SCORE: 20 - Temperature: 0.0003835165445987642\n",
            "EPISODE: 787 - FINAL SCORE: 16 - Temperature: 0.0003789150269319741\n",
            "EPISODE: 788 - FINAL SCORE: 20 - Temperature: 0.00037436871930797346\n",
            "EPISODE: 789 - FINAL SCORE: 12 - Temperature: 0.0003698769593042649\n",
            "EPISODE: 790 - FINAL SCORE: 18 - Temperature: 0.00036543909244624495\n",
            "Updating target network...\n",
            "EPISODE: 791 - FINAL SCORE: 34 - Temperature: 0.00036105447211184346\n",
            "EPISODE: 792 - FINAL SCORE: 13 - Temperature: 0.0003567224594373071\n",
            "EPISODE: 793 - FINAL SCORE: 41 - Temperature: 0.00035244242322411354\n",
            "EPISODE: 794 - FINAL SCORE: 80 - Temperature: 0.0003482137398470019\n",
            "EPISODE: 795 - FINAL SCORE: 68 - Temperature: 0.0003440357931631076\n",
            "EPISODE: 796 - FINAL SCORE: 26 - Temperature: 0.0003399079744221862\n",
            "EPISODE: 797 - FINAL SCORE: 41 - Temperature: 0.00033582968217791577\n",
            "EPISODE: 798 - FINAL SCORE: 14 - Temperature: 0.0003318003222002624\n",
            "EPISODE: 799 - FINAL SCORE: 46 - Temperature: 0.0003278193073888975\n",
            "EPISODE: 800 - FINAL SCORE: 13 - Temperature: 0.00032388605768765436\n",
            "\n"
          ],
          "name": "stdout"
        }
      ]
    },
    {
      "cell_type": "code",
      "metadata": {
        "id": "7FQjjVTiP2T6"
      },
      "source": [
        "# Display the videos, not required outside Colab\n",
        "#show_videos()"
      ],
      "execution_count": 19,
      "outputs": []
    },
    {
      "cell_type": "code",
      "metadata": {
        "id": "NS4rguV7NxTA"
      },
      "source": [
        "with open('pixels_scores.txt', 'w') as f:\n",
        "    f.write(str(scores))"
      ],
      "execution_count": 20,
      "outputs": []
    },
    {
      "cell_type": "code",
      "metadata": {
        "id": "Oc6cJfUnBpoi",
        "colab": {
          "base_uri": "https://localhost:8080/",
          "height": 396
        },
        "outputId": "5f1c491f-5b92-4c04-919c-3f91686e0e12"
      },
      "source": [
        "# Exploration profile\n",
        "plt.figure(figsize=(12,6))\n",
        "plt.plot(scores)\n",
        "plt.xlabel('Iteration', fontsize=18)\n",
        "plt.ylabel('Score', fontsize=18)\n",
        "plt.grid(ls='--')\n",
        "plt.savefig('pixel_scores.pdf')\n",
        "plt.show()"
      ],
      "execution_count": 24,
      "outputs": [
        {
          "output_type": "display_data",
          "data": {
            "image/png": "[encoded data removed]",
            "text/plain": [
              "<Figure size 864x432 with 1 Axes>"
            ]
          },
          "metadata": {
            "tags": [],
            "needs_background": "light"
          }
        }
      ]
    },
    {
      "cell_type": "markdown",
      "metadata": {
        "id": "JkG9iDZTIhzc"
      },
      "source": [
        "## Final test"
      ]
    },
    {
      "cell_type": "code",
      "metadata": {
        "id": "vJKgnu3_IjWE"
      },
      "source": [
        "# Initialize the Gym environment\n",
        "env = gym.make('CartPole-v1') \n",
        "env.seed(1) # Set a random seed for the environment (reproducible results)\n",
        "\n",
        "# This is for creating the output video in Colab, not required outside Colab\n",
        "env = wrap_env(env, video_callable=lambda episode_id: True) # Save a video every episode\n",
        "\n",
        "# Let's try for a total of 10 episodes\n",
        "for num_episode in range(10): \n",
        "    # Reset the environment and get the initial state\n",
        "    state = env.reset()\n",
        "    state_img = ProcessScreen(env).unsqueeze(0)\n",
        "    # Reset the score. The final score will be the total amount of steps before the pole falls\n",
        "    score = 0\n",
        "    done = False\n",
        "    # Go on until the pole falls off or the score reach 490\n",
        "    while not done:\n",
        "      # Choose the best action (temperature 0)\n",
        "      action, q_values = choose_action_softmax(policy_net, state_img, temperature=0)\n",
        "      # Apply the action and get the next state, the reward and a flag \"done\" that is True if the game is ended\n",
        "      next_state, reward, done, info = env.step(action)\n",
        "      # Visually render the environment\n",
        "      env.render()\n",
        "      # Update the final score (+1 for each step)\n",
        "      score += reward \n",
        "      if type(next_state) != \"NoneType\":\n",
        "          next_state_img = ProcessScreen(env).unsqueeze(0)\n",
        "      # Set the current state for the next iteration\n",
        "      state = next_state\n",
        "      state_img = next_state_img\n",
        "      # Check if the episode ended (the pole fell down)\n",
        "    # Print the final score\n",
        "    print(f\"EPISODE {num_episode + 1} - FINAL SCORE: {score}\") \n",
        "env.close()"
      ],
      "execution_count": null,
      "outputs": []
    },
    {
      "cell_type": "code",
      "metadata": {
        "id": "mxdtGJutLqlw",
        "colab": {
          "base_uri": "https://localhost:8080/",
          "height": 1000
        },
        "outputId": "573a1e8a-7269-453d-819c-8d9fd5a6c6e5"
      },
      "source": [
        "# Display the videos, not required outside Colab\n",
        "show_videos()"
      ],
      "execution_count": 23,
      "outputs": [
        {
          "output_type": "stream",
          "text": [
            "\n",
            "SHOWING VIDEO video/openaigym.video.0.15618.video000000.mp4\n"
          ],
          "name": "stdout"
        },
        {
          "output_type": "display_data",
          "data": {
            "text/html": [
              "<video alt=\"test\" autoplay \n",
              "                loop controls style=\"height: 400px;\">\n",
              "                <source src=\"data:video/mp4;base64,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\" type=\"video/mp4\" />\n",
              "             </video>"
            ],
            "text/plain": [
              "<IPython.core.display.HTML object>"
            ]
          },
          "metadata": {
            "tags": []
          }
        },
        {
          "output_type": "stream",
          "text": [
            "\n",
            "SHOWING VIDEO video/openaigym.video.0.15618.video000001.mp4\n"
          ],
          "name": "stdout"
        },
        {
          "output_type": "display_data",
          "data": {
            "text/html": [
              "<video alt=\"test\" autoplay \n",
              "                loop controls style=\"height: 400px;\">\n",
              "                <source src=\"data:video/mp4;base64,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\" type=\"video/mp4\" />\n",
              "             </video>"
            ],
            "text/plain": [
              "<IPython.core.display.HTML object>"
            ]
          },
          "metadata": {
            "tags": []
          }
        },
        {
          "output_type": "stream",
          "text": [
            "\n",
            "SHOWING VIDEO video/openaigym.video.0.15618.video000002.mp4\n"
          ],
          "name": "stdout"
        },
        {
          "output_type": "display_data",
          "data": {
            "text/html": [
              "<video alt=\"test\" autoplay \n",
              "                loop controls style=\"height: 400px;\">\n",
              "                <source src=\"data:video/mp4;base64,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\" type=\"video/mp4\" />\n",
              "             </video>"
            ],
            "text/plain": [
              "<IPython.core.display.HTML object>"
            ]
          },
          "metadata": {
            "tags": []
          }
        },
        {
          "output_type": "stream",
          "text": [
            "\n",
            "SHOWING VIDEO video/openaigym.video.0.15618.video000003.mp4\n"
          ],
          "name": "stdout"
        },
        {
          "output_type": "display_data",
          "data": {
            "text/html": [
              "<video alt=\"test\" autoplay \n",
              "                loop controls style=\"height: 400px;\">\n",
              "                <source src=\"data:video/mp4;base64,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\" type=\"video/mp4\" />\n",
              "             </video>"
            ],
            "text/plain": [
              "<IPython.core.display.HTML object>"
            ]
          },
          "metadata": {
            "tags": []
          }
        },
        {
          "output_type": "stream",
          "text": [
            "\n",
            "SHOWING VIDEO video/openaigym.video.0.15618.video000004.mp4\n"
          ],
          "name": "stdout"
        },
        {
          "output_type": "display_data",
          "data": {
            "text/html": [
              "<video alt=\"test\" autoplay \n",
              "                loop controls style=\"height: 400px;\">\n",
              "                <source src=\"data:video/mp4;base64,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\" type=\"video/mp4\" />\n",
              "             </video>"
            ],
            "text/plain": [
              "<IPython.core.display.HTML object>"
            ]
          },
          "metadata": {
            "tags": []
          }
        },
        {
          "output_type": "stream",
          "text": [
            "\n",
            "SHOWING VIDEO video/openaigym.video.0.15618.video000005.mp4\n"
          ],
          "name": "stdout"
        },
        {
          "output_type": "display_data",
          "data": {
            "text/html": [
              "<video alt=\"test\" autoplay \n",
              "                loop controls style=\"height: 400px;\">\n",
              "                <source src=\"data:video/mp4;base64,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\" type=\"video/mp4\" />\n",
              "             </video>"
            ],
            "text/plain": [
              "<IPython.core.display.HTML object>"
            ]
          },
          "metadata": {
            "tags": []
          }
        },
        {
          "output_type": "stream",
          "text": [
            "\n",
            "SHOWING VIDEO video/openaigym.video.0.15618.video000006.mp4\n"
          ],
          "name": "stdout"
        },
        {
          "output_type": "display_data",
          "data": {
            "text/html": [
              "<video alt=\"test\" autoplay \n",
              "                loop controls style=\"height: 400px;\">\n",
              "                <source src=\"data:video/mp4;base64,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\" type=\"video/mp4\" />\n",
              "             </video>"
            ],
            "text/plain": [
              "<IPython.core.display.HTML object>"
            ]
          },
          "metadata": {
            "tags": []
          }
        },
        {
          "output_type": "stream",
          "text": [
            "\n",
            "SHOWING VIDEO video/openaigym.video.0.15618.video000007.mp4\n"
          ],
          "name": "stdout"
        },
        {
          "output_type": "display_data",
          "data": {
            "text/html": [
              "<video alt=\"test\" autoplay \n",
              "                loop controls style=\"height: 400px;\">\n",
              "                <source src=\"data:video/mp4;base64,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\" type=\"video/mp4\" />\n",
              "             </video>"
            ],
            "text/plain": [
              "<IPython.core.display.HTML object>"
            ]
          },
          "metadata": {
            "tags": []
          }
        },
        {
          "output_type": "stream",
          "text": [
            "\n",
            "SHOWING VIDEO video/openaigym.video.0.15618.video000008.mp4\n"
          ],
          "name": "stdout"
        },
        {
          "output_type": "display_data",
          "data": {
            "text/html": [
              "<video alt=\"test\" autoplay \n",
              "                loop controls style=\"height: 400px;\">\n",
              "                <source src=\"data:video/mp4;base64,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\" type=\"video/mp4\" />\n",
              "             </video>"
            ],
            "text/plain": [
              "<IPython.core.display.HTML object>"
            ]
          },
          "metadata": {
            "tags": []
          }
        },
        {
          "output_type": "stream",
          "text": [
            "\n",
            "SHOWING VIDEO video/openaigym.video.0.15618.video000009.mp4\n"
          ],
          "name": "stdout"
        },
        {
          "output_type": "display_data",
          "data": {
            "text/html": [
              "<video alt=\"test\" autoplay \n",
              "                loop controls style=\"height: 400px;\">\n",
              "                <source src=\"data:video/mp4;base64,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\" type=\"video/mp4\" />\n",
              "             </video>"
            ],
            "text/plain": [
              "<IPython.core.display.HTML object>"
            ]
          },
          "metadata": {
            "tags": []
          }
        }
      ]
    },
    {
      "cell_type": "code",
      "metadata": {
        "id": "7_lHM6l_B3hS"
      },
      "source": [
        ""
      ],
      "execution_count": 23,
      "outputs": []
    }
  ]
}
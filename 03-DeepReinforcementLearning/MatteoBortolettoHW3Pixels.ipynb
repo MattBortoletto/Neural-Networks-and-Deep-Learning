{
  "nbformat": 4,
  "nbformat_minor": 0,
  "metadata": {
    "colab": {
      "name": "MatteoBortolettoHW3Pixels.ipynb",
      "provenance": [],
      "collapsed_sections": []
    },
    "kernelspec": {
      "name": "python3",
      "display_name": "Python 3"
    },
    "language_info": {
      "name": "python"
    },
    "widgets": {
      "application/vnd.jupyter.widget-state+json": {
        "a36567cb877d4ebaa0185ec25cde4bc9": {
          "model_module": "@jupyter-widgets/controls",
          "model_name": "HBoxModel",
          "state": {
            "_view_name": "HBoxView",
            "_dom_classes": [],
            "_model_name": "HBoxModel",
            "_view_module": "@jupyter-widgets/controls",
            "_model_module_version": "1.5.0",
            "_view_count": null,
            "_view_module_version": "1.5.0",
            "box_style": "",
            "layout": "IPY_MODEL_769f1d614b5f43e4a2b5073cf5a938a6",
            "_model_module": "@jupyter-widgets/controls",
            "children": [
              "IPY_MODEL_0aee76ac620f456380df513e08341211",
              "IPY_MODEL_0012aada6e6f47e2949b90e993a497e5"
            ]
          }
        },
        "769f1d614b5f43e4a2b5073cf5a938a6": {
          "model_module": "@jupyter-widgets/base",
          "model_name": "LayoutModel",
          "state": {
            "_view_name": "LayoutView",
            "grid_template_rows": null,
            "right": null,
            "justify_content": null,
            "_view_module": "@jupyter-widgets/base",
            "overflow": null,
            "_model_module_version": "1.2.0",
            "_view_count": null,
            "flex_flow": null,
            "width": null,
            "min_width": null,
            "border": null,
            "align_items": null,
            "bottom": null,
            "_model_module": "@jupyter-widgets/base",
            "top": null,
            "grid_column": null,
            "overflow_y": null,
            "overflow_x": null,
            "grid_auto_flow": null,
            "grid_area": null,
            "grid_template_columns": null,
            "flex": null,
            "_model_name": "LayoutModel",
            "justify_items": null,
            "grid_row": null,
            "max_height": null,
            "align_content": null,
            "visibility": null,
            "align_self": null,
            "height": null,
            "min_height": null,
            "padding": null,
            "grid_auto_rows": null,
            "grid_gap": null,
            "max_width": null,
            "order": null,
            "_view_module_version": "1.2.0",
            "grid_template_areas": null,
            "object_position": null,
            "object_fit": null,
            "grid_auto_columns": null,
            "margin": null,
            "display": null,
            "left": null
          }
        },
        "0aee76ac620f456380df513e08341211": {
          "model_module": "@jupyter-widgets/controls",
          "model_name": "FloatProgressModel",
          "state": {
            "_view_name": "ProgressView",
            "style": "IPY_MODEL_97229aadb77046eda0f94a28cb194a77",
            "_dom_classes": [],
            "description": "100%",
            "_model_name": "FloatProgressModel",
            "bar_style": "success",
            "max": 300,
            "_view_module": "@jupyter-widgets/controls",
            "_model_module_version": "1.5.0",
            "value": 300,
            "_view_count": null,
            "_view_module_version": "1.5.0",
            "orientation": "horizontal",
            "min": 0,
            "description_tooltip": null,
            "_model_module": "@jupyter-widgets/controls",
            "layout": "IPY_MODEL_4208e831dffe4ed6ba678a6c0ca42ea8"
          }
        },
        "0012aada6e6f47e2949b90e993a497e5": {
          "model_module": "@jupyter-widgets/controls",
          "model_name": "HTMLModel",
          "state": {
            "_view_name": "HTMLView",
            "style": "IPY_MODEL_bdca8128157d406eae066c5df43156c9",
            "_dom_classes": [],
            "description": "",
            "_model_name": "HTMLModel",
            "placeholder": "​",
            "_view_module": "@jupyter-widgets/controls",
            "_model_module_version": "1.5.0",
            "value": " 300/300 [1:55:33&lt;00:00, 23.11s/it]",
            "_view_count": null,
            "_view_module_version": "1.5.0",
            "description_tooltip": null,
            "_model_module": "@jupyter-widgets/controls",
            "layout": "IPY_MODEL_02c572ce9d324aa98cae0326cdff18a7"
          }
        },
        "97229aadb77046eda0f94a28cb194a77": {
          "model_module": "@jupyter-widgets/controls",
          "model_name": "ProgressStyleModel",
          "state": {
            "_view_name": "StyleView",
            "_model_name": "ProgressStyleModel",
            "description_width": "initial",
            "_view_module": "@jupyter-widgets/base",
            "_model_module_version": "1.5.0",
            "_view_count": null,
            "_view_module_version": "1.2.0",
            "bar_color": null,
            "_model_module": "@jupyter-widgets/controls"
          }
        },
        "4208e831dffe4ed6ba678a6c0ca42ea8": {
          "model_module": "@jupyter-widgets/base",
          "model_name": "LayoutModel",
          "state": {
            "_view_name": "LayoutView",
            "grid_template_rows": null,
            "right": null,
            "justify_content": null,
            "_view_module": "@jupyter-widgets/base",
            "overflow": null,
            "_model_module_version": "1.2.0",
            "_view_count": null,
            "flex_flow": null,
            "width": null,
            "min_width": null,
            "border": null,
            "align_items": null,
            "bottom": null,
            "_model_module": "@jupyter-widgets/base",
            "top": null,
            "grid_column": null,
            "overflow_y": null,
            "overflow_x": null,
            "grid_auto_flow": null,
            "grid_area": null,
            "grid_template_columns": null,
            "flex": null,
            "_model_name": "LayoutModel",
            "justify_items": null,
            "grid_row": null,
            "max_height": null,
            "align_content": null,
            "visibility": null,
            "align_self": null,
            "height": null,
            "min_height": null,
            "padding": null,
            "grid_auto_rows": null,
            "grid_gap": null,
            "max_width": null,
            "order": null,
            "_view_module_version": "1.2.0",
            "grid_template_areas": null,
            "object_position": null,
            "object_fit": null,
            "grid_auto_columns": null,
            "margin": null,
            "display": null,
            "left": null
          }
        },
        "bdca8128157d406eae066c5df43156c9": {
          "model_module": "@jupyter-widgets/controls",
          "model_name": "DescriptionStyleModel",
          "state": {
            "_view_name": "StyleView",
            "_model_name": "DescriptionStyleModel",
            "description_width": "",
            "_view_module": "@jupyter-widgets/base",
            "_model_module_version": "1.5.0",
            "_view_count": null,
            "_view_module_version": "1.2.0",
            "_model_module": "@jupyter-widgets/controls"
          }
        },
        "02c572ce9d324aa98cae0326cdff18a7": {
          "model_module": "@jupyter-widgets/base",
          "model_name": "LayoutModel",
          "state": {
            "_view_name": "LayoutView",
            "grid_template_rows": null,
            "right": null,
            "justify_content": null,
            "_view_module": "@jupyter-widgets/base",
            "overflow": null,
            "_model_module_version": "1.2.0",
            "_view_count": null,
            "flex_flow": null,
            "width": null,
            "min_width": null,
            "border": null,
            "align_items": null,
            "bottom": null,
            "_model_module": "@jupyter-widgets/base",
            "top": null,
            "grid_column": null,
            "overflow_y": null,
            "overflow_x": null,
            "grid_auto_flow": null,
            "grid_area": null,
            "grid_template_columns": null,
            "flex": null,
            "_model_name": "LayoutModel",
            "justify_items": null,
            "grid_row": null,
            "max_height": null,
            "align_content": null,
            "visibility": null,
            "align_self": null,
            "height": null,
            "min_height": null,
            "padding": null,
            "grid_auto_rows": null,
            "grid_gap": null,
            "max_width": null,
            "order": null,
            "_view_module_version": "1.2.0",
            "grid_template_areas": null,
            "object_position": null,
            "object_fit": null,
            "grid_auto_columns": null,
            "margin": null,
            "display": null,
            "left": null
          }
        }
      }
    }
  },
  "cells": [
    {
      "cell_type": "code",
      "metadata": {
        "id": "M-EktZelNzaJ"
      },
      "source": [
        "import random\n",
        "import torch\n",
        "import numpy as np\n",
        "import gym\n",
        "import matplotlib.pyplot as plt\n",
        "from tqdm.notebook import tqdm\n",
        "\n",
        "from torch import nn\n",
        "from collections import deque # this python module implements exactly what we need for the replay memeory"
      ],
      "execution_count": 1,
      "outputs": []
    },
    {
      "cell_type": "code",
      "metadata": {
        "colab": {
          "base_uri": "https://localhost:8080/"
        },
        "id": "mkRlJMpCOKH1",
        "outputId": "f4ff5230-db0f-4b29-8db7-4bf592a35dcb"
      },
      "source": [
        "!apt update\n",
        "!apt-get install python-opengl -y\n",
        "!apt install xvfb -y\n",
        "!pip install pyvirtualdisplay\n",
        "!pip install piglet"
      ],
      "execution_count": 2,
      "outputs": [
        {
          "output_type": "stream",
          "text": [
            "\u001b[33m\r0% [Working]\u001b[0m\r            \rHit:1 http://security.ubuntu.com/ubuntu bionic-security InRelease\n",
            "\u001b[33m\r0% [Connecting to archive.ubuntu.com (91.189.88.152)] [Connected to cloud.r-pro\u001b[0m\u001b[33m\r0% [1 InRelease gpgv 88.7 kB] [Connecting to archive.ubuntu.com (91.189.88.152)\u001b[0m\r                                                                               \rHit:2 https://cloud.r-project.org/bin/linux/ubuntu bionic-cran40/ InRelease\n",
            "\u001b[33m\r0% [1 InRelease gpgv 88.7 kB] [Waiting for headers] [Waiting for headers] [Wait\u001b[0m\r                                                                               \rIgn:3 https://developer.download.nvidia.com/compute/cuda/repos/ubuntu1804/x86_64  InRelease\n",
            "\u001b[33m\r0% [1 InRelease gpgv 88.7 kB] [Waiting for headers] [Waiting for headers] [Wait\u001b[0m\r                                                                               \rHit:4 http://ppa.launchpad.net/c2d4u.team/c2d4u4.0+/ubuntu bionic InRelease\n",
            "\u001b[33m\r                                                                               \r0% [1 InRelease gpgv 88.7 kB] [Waiting for headers] [Waiting for headers]\u001b[0m\r                                                                         \rHit:5 http://archive.ubuntu.com/ubuntu bionic InRelease\n",
            "\u001b[33m\r0% [1 InRelease gpgv 88.7 kB] [Waiting for headers] [Connecting to ppa.launchpa\u001b[0m\r                                                                               \rIgn:6 https://developer.download.nvidia.com/compute/machine-learning/repos/ubuntu1804/x86_64  InRelease\n",
            "\u001b[33m\r0% [1 InRelease gpgv 88.7 kB] [Waiting for headers] [Connecting to ppa.launchpa\u001b[0m\r                                                                               \rHit:7 https://developer.download.nvidia.com/compute/cuda/repos/ubuntu1804/x86_64  Release\n",
            "\u001b[33m\r0% [1 InRelease gpgv 88.7 kB] [Waiting for headers] [Connecting to ppa.launchpa\u001b[0m\r                                                                               \rHit:8 https://developer.download.nvidia.com/compute/machine-learning/repos/ubuntu1804/x86_64  Release\n",
            "Hit:9 http://archive.ubuntu.com/ubuntu bionic-updates InRelease\n",
            "Hit:10 http://ppa.launchpad.net/cran/libgit2/ubuntu bionic InRelease\n",
            "Hit:11 http://archive.ubuntu.com/ubuntu bionic-backports InRelease\n",
            "Hit:12 http://ppa.launchpad.net/deadsnakes/ppa/ubuntu bionic InRelease\n",
            "Hit:13 http://ppa.launchpad.net/graphics-drivers/ppa/ubuntu bionic InRelease\n",
            "Reading package lists... Done\n",
            "Building dependency tree       \n",
            "Reading state information... Done\n",
            "49 packages can be upgraded. Run 'apt list --upgradable' to see them.\n",
            "Reading package lists... Done\n",
            "Building dependency tree       \n",
            "Reading state information... Done\n",
            "python-opengl is already the newest version (3.1.0+dfsg-1).\n",
            "0 upgraded, 0 newly installed, 0 to remove and 49 not upgraded.\n",
            "Reading package lists... Done\n",
            "Building dependency tree       \n",
            "Reading state information... Done\n",
            "xvfb is already the newest version (2:1.19.6-1ubuntu4.9).\n",
            "0 upgraded, 0 newly installed, 0 to remove and 49 not upgraded.\n",
            "Requirement already satisfied: pyvirtualdisplay in /usr/local/lib/python3.7/dist-packages (2.2)\n",
            "Requirement already satisfied: EasyProcess in /usr/local/lib/python3.7/dist-packages (from pyvirtualdisplay) (0.3)\n",
            "Requirement already satisfied: piglet in /usr/local/lib/python3.7/dist-packages (1.0.0)\n",
            "Requirement already satisfied: piglet-templates in /usr/local/lib/python3.7/dist-packages (from piglet) (1.2.0)\n",
            "Requirement already satisfied: pyparsing in /usr/local/lib/python3.7/dist-packages (from piglet-templates->piglet) (2.4.7)\n",
            "Requirement already satisfied: astunparse in /usr/local/lib/python3.7/dist-packages (from piglet-templates->piglet) (1.6.3)\n",
            "Requirement already satisfied: markupsafe in /usr/local/lib/python3.7/dist-packages (from piglet-templates->piglet) (2.0.1)\n",
            "Requirement already satisfied: attrs in /usr/local/lib/python3.7/dist-packages (from piglet-templates->piglet) (21.2.0)\n",
            "Requirement already satisfied: six<2.0,>=1.6.1 in /usr/local/lib/python3.7/dist-packages (from astunparse->piglet-templates->piglet) (1.15.0)\n",
            "Requirement already satisfied: wheel<1.0,>=0.23.0 in /usr/local/lib/python3.7/dist-packages (from astunparse->piglet-templates->piglet) (0.36.2)\n"
          ],
          "name": "stdout"
        }
      ]
    },
    {
      "cell_type": "code",
      "metadata": {
        "id": "jxM-vHKz1r_M"
      },
      "source": [
        "import glob\n",
        "import io\n",
        "import base64\n",
        "import os\n",
        "from IPython.display import HTML\n",
        "from IPython import display as ipythondisplay\n",
        "from pyvirtualdisplay import Display\n",
        "from gym.wrappers import Monitor"
      ],
      "execution_count": 3,
      "outputs": []
    },
    {
      "cell_type": "code",
      "metadata": {
        "id": "E0oXbzI2ZAfv",
        "colab": {
          "base_uri": "https://localhost:8080/"
        },
        "outputId": "7ff97012-f2bc-4f71-c84f-7dad57137bd7"
      },
      "source": [
        "display = Display(visible=0, size=(1400, 900))\n",
        "display.start()"
      ],
      "execution_count": 4,
      "outputs": [
        {
          "output_type": "execute_result",
          "data": {
            "text/plain": [
              "<pyvirtualdisplay.display.Display at 0x7facc0a653d0>"
            ]
          },
          "metadata": {
            "tags": []
          },
          "execution_count": 4
        }
      ]
    },
    {
      "cell_type": "code",
      "metadata": {
        "id": "yr5j5rz0ZEJf"
      },
      "source": [
        "# This code creates a virtual display to draw game images on. \n",
        "# If you are running locally, just ignore it\n",
        "if type(os.environ.get(\"DISPLAY\")) is not str or len(os.environ.get(\"DISPLAY\"))==0:\n",
        "    !bash ../xvfb start\n",
        "    %env DISPLAY=:1"
      ],
      "execution_count": 5,
      "outputs": []
    },
    {
      "cell_type": "code",
      "metadata": {
        "id": "StaxWEA0Z-O1"
      },
      "source": [
        "\"\"\"\n",
        "Utility functions to enable video recording of gym environment and displaying it\n",
        "To enable video, just do \"env = wrap_env(env)\"\"\n",
        "\"\"\"\n",
        "\n",
        "def show_videos():\n",
        "  mp4list = glob.glob('video/*.mp4')\n",
        "  mp4list.sort()\n",
        "  for mp4 in mp4list:\n",
        "    print(f\"\\nSHOWING VIDEO {mp4}\")\n",
        "    video = io.open(mp4, 'r+b').read()\n",
        "    encoded = base64.b64encode(video)\n",
        "    ipythondisplay.display(HTML(data='''<video alt=\"test\" autoplay \n",
        "                loop controls style=\"height: 400px;\">\n",
        "                <source src=\"data:video/mp4;base64,{0}\" type=\"video/mp4\" />\n",
        "             </video>'''.format(encoded.decode('ascii'))))\n",
        "    \n",
        "def wrap_env(env, video_callable=None):\n",
        "  env = Monitor(env, './video', force=True, video_callable=video_callable)\n",
        "  return env"
      ],
      "execution_count": 6,
      "outputs": []
    },
    {
      "cell_type": "markdown",
      "metadata": {
        "id": "vGErnZUpOcN0"
      },
      "source": [
        "## Replay memory"
      ]
    },
    {
      "cell_type": "code",
      "metadata": {
        "id": "rj3l66szN8rm"
      },
      "source": [
        "class ReplayMemory(object):\n",
        "\n",
        "    def __init__(self, capacity):\n",
        "        self.memory = deque(maxlen=capacity) # Define a queue with maxlen \"capacity\"\n",
        "\n",
        "    def push(self, state, action, next_state, reward):\n",
        "        self.memory.append( (state, action, next_state, reward) ) # Add the tuple (state, action, next_state, reward) to the queue\n",
        "\n",
        "    def sample(self, batch_size):\n",
        "        batch_size = min(batch_size, len(self)) # Get all the samples if the requested batch_size is higher than the number of sample currently in the memory\n",
        "        return random.sample(self.memory, batch_size) # Randomly select \"batch_size\" samples\n",
        "\n",
        "    def __len__(self):\n",
        "        return len(self.memory) # Return the number of samples currently stored in the memory"
      ],
      "execution_count": 7,
      "outputs": []
    },
    {
      "cell_type": "markdown",
      "metadata": {
        "id": "yrfmB8WhOb42"
      },
      "source": [
        "## Exploration policy"
      ]
    },
    {
      "cell_type": "code",
      "metadata": {
        "id": "vnM_xdTyOUD_"
      },
      "source": [
        "def choose_action_epsilon_greedy(net, state, epsilon):\n",
        "    \n",
        "    if epsilon > 1 or epsilon < 0:\n",
        "        raise Exception('The epsilon value must be between 0 and 1')\n",
        "                \n",
        "    # Evaluate the network output from the current state\n",
        "    with torch.no_grad():\n",
        "        net.eval()\n",
        "        state = torch.tensor(state, dtype=torch.float32) # Convert the state to tensor\n",
        "        net_out = net(state)\n",
        "\n",
        "    # Get the best action (argmax of the network output)\n",
        "    best_action = int(net_out.argmax())\n",
        "    # Get the number of possible actions\n",
        "    action_space_dim = net_out.shape[-1]\n",
        "\n",
        "    # Select a non optimal action with probability epsilon, otherwise choose the best action\n",
        "    if random.random() < epsilon:\n",
        "        # List of non-optimal actions\n",
        "        non_optimal_actions = [a for a in range(action_space_dim) if a != best_action]\n",
        "        # Select randomly\n",
        "        action = random.choice(non_optimal_actions)\n",
        "    else:\n",
        "        # Select best action\n",
        "        action = best_action\n",
        "        \n",
        "    return action, net_out.numpy()"
      ],
      "execution_count": 8,
      "outputs": []
    },
    {
      "cell_type": "code",
      "metadata": {
        "id": "S6XY3eZ8OU0I"
      },
      "source": [
        "def choose_action_softmax(net, state, temperature):\n",
        "    \n",
        "    if temperature < 0:\n",
        "        raise Exception('The temperature value must be greater than or equal to 0 ')\n",
        "        \n",
        "    # If the temperature is 0, just select the best action using the eps-greedy policy with epsilon = 0\n",
        "    if temperature == 0:\n",
        "        return choose_action_epsilon_greedy(net, state, 0)\n",
        "    \n",
        "    # Evaluate the network output from the current state\n",
        "    with torch.no_grad():\n",
        "        net.eval()\n",
        "        state = torch.tensor(state, dtype=torch.float32)\n",
        "        net_out = net(state)\n",
        "\n",
        "    # Apply softmax with temp\n",
        "    temperature = max(temperature, 1e-8) # set a minimum to the temperature for numerical stability\n",
        "    softmax_out = nn.functional.softmax(net_out[0] / temperature, dim=0).numpy()\n",
        "                \n",
        "    # Sample the action using softmax output as mass pdf\n",
        "    all_possible_actions = np.arange(0, softmax_out.shape[-1])\n",
        "    action = np.random.choice(all_possible_actions, p=softmax_out) # this samples a random element from \"all_possible_actions\" with the probability distribution p (softmax_out in this case)\n",
        "    \n",
        "    return action, net_out.numpy()"
      ],
      "execution_count": 9,
      "outputs": []
    },
    {
      "cell_type": "markdown",
      "metadata": {
        "id": "6gKAtMBlQfgc"
      },
      "source": [
        "## Exploration profile"
      ]
    },
    {
      "cell_type": "markdown",
      "metadata": {
        "id": "4f1KUPvYOikq"
      },
      "source": [
        "## Policy network"
      ]
    },
    {
      "cell_type": "code",
      "metadata": {
        "id": "matVue9SOmq3"
      },
      "source": [
        "class ConvDQN(nn.Module):\n",
        "\n",
        "    def __init__(self, channels, action_space_dim):\n",
        "        super().__init__()\n",
        "        self.conv = nn.Sequential(\n",
        "            # Size = 1x128x192\n",
        "            nn.Conv2d(in_channels=channels, out_channels=64, kernel_size=4, stride=2, padding=0),\n",
        "            nn.ReLU(),\n",
        "            #Size 64x64x96\n",
        "            nn.Conv2d(in_channels=64, out_channels=64, kernel_size=4, stride=2, padding=0),\n",
        "            nn.ReLU(),\n",
        "            #Size 128x32x48\n",
        "            nn.Conv2d(in_channels=64, out_channels=32, kernel_size=3, stride=1, padding=0),\n",
        "            nn.ReLU()\n",
        "        )\n",
        "        self.linear = nn.Sequential(\n",
        "            nn.Flatten(),\n",
        "            nn.Linear(10752, 128),\n",
        "            nn.Tanh(),\n",
        "            nn.Linear(128, 128),\n",
        "            nn.Tanh(),\n",
        "            nn.Linear(128, action_space_dim)\n",
        "        )\n",
        "        \n",
        "    def forward(self, x):\n",
        "        x = self.conv(x)\n",
        "        x = self.linear(x)\n",
        "        return x"
      ],
      "execution_count": 10,
      "outputs": []
    },
    {
      "cell_type": "markdown",
      "metadata": {
        "id": "pKc5QLHpOtWs"
      },
      "source": [
        "## Update function"
      ]
    },
    {
      "cell_type": "code",
      "metadata": {
        "id": "xlnJfE_BOuzi"
      },
      "source": [
        "def update_step(policy_net, target_net, replay_mem, gamma, optimizer, loss_fn, batch_size):\n",
        "        \n",
        "    # Sample the data from the replay memory\n",
        "    batch = replay_mem.sample(batch_size)\n",
        "    batch_size = len(batch)\n",
        "\n",
        "    # Create tensors for each element of the batch\n",
        "    #states      = torch.tensor([s[0][0] for s in batch], dtype=torch.float32)\n",
        "    states      = torch.stack([s[0][0] for s in batch])\n",
        "    actions     = torch.tensor([s[1] for s in batch], dtype=torch.int64)\n",
        "    rewards     = torch.tensor([s[3] for s in batch], dtype=torch.float32)\n",
        "\n",
        "    # Compute a mask of non-final states (all the elements where the next state is not None)\n",
        "    #non_final_next_states = torch.tensor([s[2] for s in batch if s[2] is not None], dtype=torch.float32) # the next state can be None if the game has ended\n",
        "    non_final_next_states = torch.stack([s[2][0] for s in batch if s[2] is not None]) # the next state can be None if the game has ended\n",
        "    non_final_mask = torch.tensor([s[2] is not None for s in batch], dtype=torch.bool)\n",
        "\n",
        "    # Compute all the Q values (forward pass)\n",
        "    policy_net.train()\n",
        "    q_values = policy_net(states)\n",
        "    # Select the proper Q value for the corresponding action taken Q(s_t, a)\n",
        "    state_action_values = q_values.gather(1, actions.unsqueeze(1))\n",
        "\n",
        "    # Compute the value function of the next states using the target network V(s_{t+1}) = max_a( Q_target(s_{t+1}, a)) )\n",
        "    with torch.no_grad():\n",
        "      target_net.eval()\n",
        "      q_values_target = target_net(non_final_next_states)\n",
        "    next_state_max_q_values = torch.zeros(batch_size)\n",
        "    next_state_max_q_values[non_final_mask] = q_values_target.max(dim=1)[0]\n",
        "\n",
        "    # Compute the expected Q values\n",
        "    expected_state_action_values = rewards + (next_state_max_q_values * gamma)\n",
        "    expected_state_action_values = expected_state_action_values.unsqueeze(1) # Set the required tensor shape\n",
        "\n",
        "    # Compute the Huber loss\n",
        "    loss = loss_fn(state_action_values, expected_state_action_values)\n",
        "\n",
        "    # Optimize the model\n",
        "    optimizer.zero_grad()\n",
        "    loss.backward()\n",
        "    # Apply gradient clipping (clip all the gradients greater than 2 for training stability)\n",
        "    nn.utils.clip_grad_norm_(policy_net.parameters(), 2)\n",
        "    optimizer.step()"
      ],
      "execution_count": 11,
      "outputs": []
    },
    {
      "cell_type": "code",
      "metadata": {
        "id": "CcLnSTC9n-tl"
      },
      "source": [
        "def ProcessScreen(env):\n",
        "    state_screen = env.render(mode='rgb_array')\n",
        "    state_screen = state_screen[160:320, 200:400, 2]\n",
        "    state_screen = state_screen.reshape((1, 80, 2, 100, 2)).max(4).max(2)\n",
        "    state_screen = torch.tensor(state_screen.copy(), dtype=torch.float32)\n",
        "    return state_screen"
      ],
      "execution_count": 12,
      "outputs": []
    },
    {
      "cell_type": "markdown",
      "metadata": {
        "id": "5mUXpA3lO69h"
      },
      "source": [
        "## Environment"
      ]
    },
    {
      "cell_type": "code",
      "metadata": {
        "colab": {
          "base_uri": "https://localhost:8080/"
        },
        "id": "feyYIqpIO8D5",
        "outputId": "1eda8bb8-223d-4bf8-ea2b-6e7228700b69"
      },
      "source": [
        "### Create environment\n",
        "env = gym.make('CartPole-v1') # Initialize the Gym environment\n",
        "env.seed(0) # Set a random seed for the environment (reproducible results)\n",
        "\n",
        "# Get the shapes of the state space (observation_space) and action space (action_space)\n",
        "state_space_dim = env.observation_space.shape[0]\n",
        "action_space_dim = env.action_space.n\n",
        "\n",
        "print(f\"STATE SPACE SIZE: {state_space_dim}\")\n",
        "print(f\"ACTION SPACE SIZE: {action_space_dim}\")"
      ],
      "execution_count": 13,
      "outputs": [
        {
          "output_type": "stream",
          "text": [
            "STATE SPACE SIZE: 4\n",
            "ACTION SPACE SIZE: 2\n"
          ],
          "name": "stdout"
        }
      ]
    },
    {
      "cell_type": "code",
      "metadata": {
        "colab": {
          "base_uri": "https://localhost:8080/",
          "height": 376
        },
        "id": "BNL9K3nUpYqw",
        "outputId": "201c0ade-2f87-4f89-b9ca-063151742235"
      },
      "source": [
        "#Test image rescaling\n",
        "env = gym.make('CartPole-v1') \n",
        "env.seed(0) # Set a random seed for the environment (reproducible results)\n",
        "\n",
        "state = env.reset()\n",
        "state_screen = ProcessScreen(env)\n",
        "\n",
        "env.close()\n",
        "\n",
        "plt.figure(figsize=(12, 6))\n",
        "plt.imshow(state_screen.cpu().squeeze().numpy(),cmap='gray')\n",
        "plt.show()"
      ],
      "execution_count": 14,
      "outputs": [
        {
          "output_type": "display_data",
          "data": {
            "image/png": "[encoded data removed]",
            "text/plain": [
              "<Figure size 864x432 with 1 Axes>"
            ]
          },
          "metadata": {
            "tags": [],
            "needs_background": "light"
          }
        }
      ]
    },
    {
      "cell_type": "markdown",
      "metadata": {
        "id": "KZtNx-ZSPa_u"
      },
      "source": [
        "## Initialization"
      ]
    },
    {
      "cell_type": "code",
      "metadata": {
        "id": "qM_0mJT7PbOk"
      },
      "source": [
        "# Set random seeds\n",
        "torch.manual_seed(0)\n",
        "np.random.seed(0)\n",
        "random.seed(0)\n",
        "\n",
        "### PARAMETERS\n",
        "gamma = 0.98   # gamma parameter for the long term reward\n",
        "replay_memory_capacity = 10000   # Replay memory capacity\n",
        "lr = 1e-2   # Optimizer learning rate\n",
        "target_net_update_steps = 10   # Number of episodes to wait before updating the target network\n",
        "batch_size = 128   # Number of samples to take from the replay memory for each update\n",
        "bad_state_penalty = 0   # Penalty to the reward when we are in a bad state (in this case when the pole falls down) \n",
        "min_samples_for_training = 1000   # Minimum samples in the replay memory to enable the training"
      ],
      "execution_count": 15,
      "outputs": []
    },
    {
      "cell_type": "code",
      "metadata": {
        "id": "iCbi0amTPd46"
      },
      "source": [
        "### Initialize the replay memory\n",
        "replay_mem = ReplayMemory(replay_memory_capacity)    \n",
        "\n",
        "### Initialize the policy network\n",
        "policy_net = ConvDQN(1, action_space_dim)\n",
        "\n",
        "### Initialize the target network with the same weights of the policy network\n",
        "target_net = ConvDQN(1, action_space_dim)\n",
        "target_net.load_state_dict(policy_net.state_dict()) # This will copy the weights of the policy network to the target network\n",
        "\n",
        "### Initialize the optimizer\n",
        "optimizer = torch.optim.SGD(policy_net.parameters(), lr=lr) # The optimizer will update ONLY the parameters of the policy network\n",
        "\n",
        "### Initialize the loss function (Huber loss)\n",
        "loss_fn = nn.SmoothL1Loss()"
      ],
      "execution_count": 16,
      "outputs": []
    },
    {
      "cell_type": "markdown",
      "metadata": {
        "id": "03Ab0RMB5CCC"
      },
      "source": [
        "## Training loop"
      ]
    },
    {
      "cell_type": "code",
      "metadata": {
        "colab": {
          "base_uri": "https://localhost:8080/",
          "height": 515
        },
        "id": "A5pULP0iQhwL",
        "outputId": "795b3f05-5ace-4d1e-e05b-c09cb544dfbd"
      },
      "source": [
        "### Define exploration profile\n",
        "initial_value = 5\n",
        "num_iterations = 300\n",
        "exp_decay = np.exp(-np.log(initial_value) / num_iterations * 6) # We compute the exponential decay in such a way the shape of the exploration profile does not depend on the number of iterations\n",
        "exploration_profile = [initial_value * (exp_decay ** i) for i in range(num_iterations)]\n",
        "\n",
        "### Plot exploration profile\n",
        "plt.figure(figsize=(12,8))\n",
        "plt.plot(exploration_profile)\n",
        "plt.grid()\n",
        "plt.xlabel('Iteration')\n",
        "plt.ylabel('Exploration profile (Softmax temperature)')"
      ],
      "execution_count": 17,
      "outputs": [
        {
          "output_type": "execute_result",
          "data": {
            "text/plain": [
              "Text(0, 0.5, 'Exploration profile (Softmax temperature)')"
            ]
          },
          "metadata": {
            "tags": []
          },
          "execution_count": 17
        },
        {
          "output_type": "display_data",
          "data": {
            "image/png": "[encoded data removed]",
            "text/plain": [
              "<Figure size 864x576 with 1 Axes>"
            ]
          },
          "metadata": {
            "tags": [],
            "needs_background": "light"
          }
        }
      ]
    },
    {
      "cell_type": "code",
      "metadata": {
        "id": "WF6Zf53FoRDZ",
        "colab": {
          "base_uri": "https://localhost:8080/",
          "height": 1000,
          "referenced_widgets": [
            "a36567cb877d4ebaa0185ec25cde4bc9",
            "769f1d614b5f43e4a2b5073cf5a938a6",
            "0aee76ac620f456380df513e08341211",
            "0012aada6e6f47e2949b90e993a497e5",
            "97229aadb77046eda0f94a28cb194a77",
            "4208e831dffe4ed6ba678a6c0ca42ea8",
            "bdca8128157d406eae066c5df43156c9",
            "02c572ce9d324aa98cae0326cdff18a7"
          ]
        },
        "outputId": "b47752ad-2ff0-4dd1-fc89-a7ad51843a1a"
      },
      "source": [
        "# Initialize the Gym environment\n",
        "env = gym.make('CartPole-v1') \n",
        "env.seed(0) # Set a random seed for the environment (reproducible results)\n",
        "\n",
        "# This is for creating the output video in Colab, not required outside Colab\n",
        "#env = wrap_env(env, video_callable=lambda episode_id: episode_id % 100 == 0) # Save a video every 100 episodes\n",
        "\n",
        "scores = []\n",
        "\n",
        "for episode_num, tau in enumerate(tqdm(exploration_profile)):\n",
        "\n",
        "    # Reset the environment and get the initial state\n",
        "    state = env.reset()\n",
        "    state_img = ProcessScreen(env)\n",
        "    state_img = state_img.unsqueeze(0)\n",
        "\n",
        "    # Reset the score. The final score will be the total amount of steps before the pole falls\n",
        "    score = 0\n",
        "    done = False\n",
        "\n",
        "    # Go on until the pole falls off\n",
        "    while not done:\n",
        "\n",
        "      # Choose the action following the policy\n",
        "      action, q_values = choose_action_softmax(policy_net, state_img, temperature=tau)\n",
        "      \n",
        "      # Apply the action and get the next state, the reward and a flag \"done\" that is True if the game is ended\n",
        "      next_state, reward, done, info = env.step(action)\n",
        "\n",
        "      next_state_img = ProcessScreen(env).unsqueeze(0)\n",
        "\n",
        "      # We apply a (linear) penalty when the cart is far from center\n",
        "      pos_weight = 1\n",
        "      reward = reward - pos_weight * np.abs(state[0]) \n",
        "\n",
        "      # Update the final score (+1 for each step)\n",
        "      score += 1\n",
        "\n",
        "      # Apply penalty for bad state\n",
        "      if done: # if the pole has fallen down \n",
        "          reward += bad_state_penalty\n",
        "          next_state = None\n",
        "          next_state_img = None \n",
        "\n",
        "      if type(next_state) != \"NoneType\":\n",
        "          next_state_img = ProcessScreen(env).unsqueeze(0)\n",
        "\n",
        "      # Update the replay memory\n",
        "      replay_mem.push(state_img, action, next_state_img, reward)\n",
        "\n",
        "      # Update the network\n",
        "      if len(replay_mem) > min_samples_for_training: # we enable the training only if we have enough samples in the replay memory, otherwise the training will use the same samples too often\n",
        "          update_step(policy_net, target_net, replay_mem, gamma, optimizer, loss_fn, batch_size)\n",
        "\n",
        "      # Visually render the environment (disable to speed up the training)\n",
        "      #env.render()\n",
        "\n",
        "      # Set the current state for the next iteration\n",
        "      state = next_state\n",
        "      state_img = next_state_img\n",
        "\n",
        "    # Update the target network every target_net_update_steps episodes\n",
        "    if episode_num % target_net_update_steps == 0:\n",
        "        print('Updating target network...')\n",
        "        target_net.load_state_dict(policy_net.state_dict()) # This will copy the weights of the policy network to the target network\n",
        "\n",
        "    scores.append(score)\n",
        "\n",
        "    # Print the final score\n",
        "    print(f\"EPISODE: {episode_num + 1} - FINAL SCORE: {score} - Temperature: {tau}\") # Print the final score\n",
        "\n",
        "env.close()"
      ],
      "execution_count": 18,
      "outputs": [
        {
          "output_type": "display_data",
          "data": {
            "application/vnd.jupyter.widget-view+json": {
              "model_id": "a36567cb877d4ebaa0185ec25cde4bc9",
              "version_minor": 0,
              "version_major": 2
            },
            "text/plain": [
              "HBox(children=(FloatProgress(value=0.0, max=300.0), HTML(value='')))"
            ]
          },
          "metadata": {
            "tags": []
          }
        },
        {
          "output_type": "stream",
          "text": [
            "/usr/local/lib/python3.7/dist-packages/ipykernel_launcher.py:13: UserWarning: To copy construct from a tensor, it is recommended to use sourceTensor.clone().detach() or sourceTensor.clone().detach().requires_grad_(True), rather than torch.tensor(sourceTensor).\n",
            "  del sys.path[0]\n"
          ],
          "name": "stderr"
        },
        {
          "output_type": "stream",
          "text": [
            "Updating target network...\n",
            "EPISODE: 1 - FINAL SCORE: 12 - Temperature: 5.0\n",
            "EPISODE: 2 - FINAL SCORE: 17 - Temperature: 4.841618928628149\n",
            "EPISODE: 3 - FINAL SCORE: 41 - Temperature: 4.688254770010078\n",
            "EPISODE: 4 - FINAL SCORE: 19 - Temperature: 4.5397486073424\n",
            "EPISODE: 5 - FINAL SCORE: 24 - Temperature: 4.395946557704448\n",
            "EPISODE: 6 - FINAL SCORE: 14 - Temperature: 4.2566996126039225\n",
            "EPISODE: 7 - FINAL SCORE: 34 - Temperature: 4.121863483573453\n",
            "EPISODE: 8 - FINAL SCORE: 27 - Temperature: 3.9912984526580777\n",
            "EPISODE: 9 - FINAL SCORE: 15 - Temperature: 3.864869227638718\n",
            "EPISODE: 10 - FINAL SCORE: 21 - Temperature: 3.7424448018416143\n",
            "Updating target network...\n",
            "EPISODE: 11 - FINAL SCORE: 31 - Temperature: 3.623898318388477\n",
            "EPISODE: 12 - FINAL SCORE: 59 - Temperature: 3.509106938746674\n",
            "EPISODE: 13 - FINAL SCORE: 29 - Temperature: 3.397951715443255\n",
            "EPISODE: 14 - FINAL SCORE: 26 - Temperature: 3.2903174688109105\n",
            "EPISODE: 15 - FINAL SCORE: 18 - Temperature: 3.186092667638153\n",
            "EPISODE: 16 - FINAL SCORE: 14 - Temperature: 3.085169313600047\n",
            "EPISODE: 17 - FINAL SCORE: 17 - Temperature: 2.9874428293497406\n",
            "EPISODE: 18 - FINAL SCORE: 27 - Temperature: 2.8928119501548273\n",
            "EPISODE: 19 - FINAL SCORE: 20 - Temperature: 2.8011786189662646\n",
            "EPISODE: 20 - FINAL SCORE: 21 - Temperature: 2.712447884811105\n",
            "Updating target network...\n",
            "EPISODE: 21 - FINAL SCORE: 36 - Temperature: 2.626527804403766\n",
            "EPISODE: 22 - FINAL SCORE: 15 - Temperature: 2.5433293468738816\n",
            "EPISODE: 23 - FINAL SCORE: 10 - Temperature: 2.4627663015120103\n",
            "EPISODE: 24 - FINAL SCORE: 43 - Temperature: 2.3847551884376177\n",
            "EPISODE: 25 - FINAL SCORE: 16 - Temperature: 2.3092151720967515\n",
            "EPISODE: 26 - FINAL SCORE: 11 - Temperature: 2.2360679774997885\n",
            "EPISODE: 27 - FINAL SCORE: 14 - Temperature: 2.1652378091124476\n",
            "EPISODE: 28 - FINAL SCORE: 20 - Temperature: 2.0966512723160338\n",
            "EPISODE: 29 - FINAL SCORE: 16 - Temperature: 2.0302372973555203\n",
            "EPISODE: 30 - FINAL SCORE: 38 - Temperature: 1.9659270656966688\n",
            "Updating target network...\n",
            "EPISODE: 31 - FINAL SCORE: 11 - Temperature: 1.903653938715877\n",
            "EPISODE: 32 - FINAL SCORE: 17 - Temperature: 1.8433533886488642\n",
            "EPISODE: 33 - FINAL SCORE: 15 - Temperature: 1.7849629317266367\n",
            "EPISODE: 34 - FINAL SCORE: 45 - Temperature: 1.7284220634294556\n",
            "EPISODE: 35 - FINAL SCORE: 20 - Temperature: 1.6736721957917151\n",
            "EPISODE: 36 - FINAL SCORE: 14 - Temperature: 1.620656596692761\n",
            "EPISODE: 37 - FINAL SCORE: 15 - Temperature: 1.5693203310707495\n",
            "EPISODE: 38 - FINAL SCORE: 30 - Temperature: 1.519610203998627\n",
            "EPISODE: 39 - FINAL SCORE: 36 - Temperature: 1.471474705563247\n",
            "EPISODE: 40 - FINAL SCORE: 21 - Temperature: 1.42486395749051\n",
            "Updating target network...\n",
            "EPISODE: 41 - FINAL SCORE: 13 - Temperature: 1.3797296614612136\n",
            "EPISODE: 42 - FINAL SCORE: 19 - Temperature: 1.3360250490640642\n",
            "EPISODE: 43 - FINAL SCORE: 18 - Temperature: 1.293704833333985\n",
            "EPISODE: 44 - FINAL SCORE: 11 - Temperature: 1.2527251618255093\n",
            "EPISODE: 45 - FINAL SCORE: 13 - Temperature: 1.2130435711726293\n",
            "EPISODE: 46 - FINAL SCORE: 45 - Temperature: 1.1746189430880176\n",
            "EPISODE: 47 - FINAL SCORE: 16 - Temperature: 1.1374114617560276\n",
            "EPISODE: 48 - FINAL SCORE: 30 - Temperature: 1.101382572575319\n",
            "EPISODE: 49 - FINAL SCORE: 16 - Temperature: 1.066494942208366\n",
            "EPISODE: 50 - FINAL SCORE: 8 - Temperature: 1.032712419896442\n",
            "Updating target network...\n",
            "EPISODE: 51 - FINAL SCORE: 11 - Temperature: 0.9999999999999988\n",
            "EPISODE: 52 - FINAL SCORE: 20 - Temperature: 0.9683237857256287\n",
            "EPISODE: 53 - FINAL SCORE: 36 - Temperature: 0.9376509540020144\n",
            "EPISODE: 54 - FINAL SCORE: 20 - Temperature: 0.907949721468479\n",
            "EPISODE: 55 - FINAL SCORE: 43 - Temperature: 0.8791893115408888\n",
            "EPISODE: 56 - FINAL SCORE: 17 - Temperature: 0.8513399225207835\n",
            "EPISODE: 57 - FINAL SCORE: 13 - Temperature: 0.8243726967146894\n",
            "EPISODE: 58 - FINAL SCORE: 80 - Temperature: 0.7982596905316146\n",
            "EPISODE: 59 - FINAL SCORE: 11 - Temperature: 0.7729738455277428\n",
            "EPISODE: 60 - FINAL SCORE: 14 - Temperature: 0.748488960368322\n",
            "Updating target network...\n",
            "EPISODE: 61 - FINAL SCORE: 23 - Temperature: 0.7247796636776946\n",
            "EPISODE: 62 - FINAL SCORE: 16 - Temperature: 0.701821387749334\n",
            "EPISODE: 63 - FINAL SCORE: 16 - Temperature: 0.6795903430886502\n",
            "EPISODE: 64 - FINAL SCORE: 19 - Temperature: 0.6580634937621814\n",
            "EPISODE: 65 - FINAL SCORE: 11 - Temperature: 0.6372185335276298\n",
            "EPISODE: 66 - FINAL SCORE: 36 - Temperature: 0.6170338627200087\n",
            "EPISODE: 67 - FINAL SCORE: 12 - Temperature: 0.5974885658699474\n",
            "EPISODE: 68 - FINAL SCORE: 12 - Temperature: 0.5785623900309649\n",
            "EPISODE: 69 - FINAL SCORE: 34 - Temperature: 0.5602357237932523\n",
            "EPISODE: 70 - FINAL SCORE: 14 - Temperature: 0.5424895769622203\n",
            "Updating target network...\n",
            "EPISODE: 71 - FINAL SCORE: 10 - Temperature: 0.5253055608807526\n",
            "EPISODE: 72 - FINAL SCORE: 27 - Temperature: 0.5086658693747756\n",
            "EPISODE: 73 - FINAL SCORE: 35 - Temperature: 0.49255326030240154\n",
            "EPISODE: 74 - FINAL SCORE: 24 - Temperature: 0.476951037687523\n",
            "EPISODE: 75 - FINAL SCORE: 18 - Temperature: 0.4618430344193498\n",
            "EPISODE: 76 - FINAL SCORE: 47 - Temperature: 0.4472135954999572\n",
            "EPISODE: 77 - FINAL SCORE: 11 - Temperature: 0.43304756182248905\n",
            "EPISODE: 78 - FINAL SCORE: 18 - Temperature: 0.4193302544632063\n",
            "EPISODE: 79 - FINAL SCORE: 17 - Temperature: 0.4060474594711036\n",
            "EPISODE: 80 - FINAL SCORE: 32 - Temperature: 0.3931854131393333\n",
            "Updating target network...\n",
            "EPISODE: 81 - FINAL SCORE: 17 - Temperature: 0.38073078774317504\n",
            "EPISODE: 82 - FINAL SCORE: 41 - Temperature: 0.3686706777297724\n",
            "EPISODE: 83 - FINAL SCORE: 14 - Temperature: 0.3569925863453269\n",
            "EPISODE: 84 - FINAL SCORE: 10 - Temperature: 0.34568441268589073\n",
            "EPISODE: 85 - FINAL SCORE: 12 - Temperature: 0.3347344391583426\n",
            "EPISODE: 86 - FINAL SCORE: 14 - Temperature: 0.3241313193385519\n",
            "EPISODE: 87 - FINAL SCORE: 51 - Temperature: 0.3138640662141496\n",
            "EPISODE: 88 - FINAL SCORE: 19 - Temperature: 0.30392204079972507\n",
            "EPISODE: 89 - FINAL SCORE: 39 - Temperature: 0.2942949411126491\n",
            "EPISODE: 90 - FINAL SCORE: 30 - Temperature: 0.2849727914981017\n",
            "Updating target network...\n",
            "EPISODE: 91 - FINAL SCORE: 18 - Temperature: 0.2759459322922424\n",
            "EPISODE: 92 - FINAL SCORE: 57 - Temperature: 0.2672050098128125\n",
            "EPISODE: 93 - FINAL SCORE: 27 - Temperature: 0.25874096666679663\n",
            "EPISODE: 94 - FINAL SCORE: 18 - Temperature: 0.25054503236510156\n",
            "EPISODE: 95 - FINAL SCORE: 12 - Temperature: 0.24260871423452557\n",
            "EPISODE: 96 - FINAL SCORE: 25 - Temperature: 0.23492378861760327\n",
            "EPISODE: 97 - FINAL SCORE: 15 - Temperature: 0.22748229235120526\n",
            "EPISODE: 98 - FINAL SCORE: 9 - Temperature: 0.22027651451506355\n",
            "EPISODE: 99 - FINAL SCORE: 42 - Temperature: 0.213298988441673\n",
            "EPISODE: 100 - FINAL SCORE: 15 - Temperature: 0.20654248397928815\n",
            "Updating target network...\n",
            "EPISODE: 101 - FINAL SCORE: 14 - Temperature: 0.19999999999999957\n",
            "EPISODE: 102 - FINAL SCORE: 13 - Temperature: 0.19366475714512552\n",
            "EPISODE: 103 - FINAL SCORE: 25 - Temperature: 0.18753019080040265\n",
            "EPISODE: 104 - FINAL SCORE: 14 - Temperature: 0.18158994429369557\n",
            "EPISODE: 105 - FINAL SCORE: 12 - Temperature: 0.17583786230817755\n",
            "EPISODE: 106 - FINAL SCORE: 23 - Temperature: 0.17026798450415653\n",
            "EPISODE: 107 - FINAL SCORE: 51 - Temperature: 0.1648745393429377\n",
            "EPISODE: 108 - FINAL SCORE: 26 - Temperature: 0.15965193810632275\n",
            "EPISODE: 109 - FINAL SCORE: 16 - Temperature: 0.15459476910554837\n",
            "EPISODE: 110 - FINAL SCORE: 19 - Temperature: 0.14969779207366424\n",
            "Updating target network...\n",
            "EPISODE: 111 - FINAL SCORE: 15 - Temperature: 0.14495593273553872\n",
            "EPISODE: 112 - FINAL SCORE: 13 - Temperature: 0.14036427754986663\n",
            "EPISODE: 113 - FINAL SCORE: 16 - Temperature: 0.13591806861772987\n",
            "EPISODE: 114 - FINAL SCORE: 17 - Temperature: 0.1316126987524361\n",
            "EPISODE: 115 - FINAL SCORE: 39 - Temperature: 0.12744370670552582\n",
            "EPISODE: 116 - FINAL SCORE: 44 - Temperature: 0.1234067725440016\n",
            "EPISODE: 117 - FINAL SCORE: 26 - Temperature: 0.11949771317398936\n",
            "EPISODE: 118 - FINAL SCORE: 27 - Temperature: 0.11571247800619283\n",
            "EPISODE: 119 - FINAL SCORE: 20 - Temperature: 0.11204714475865032\n",
            "EPISODE: 120 - FINAL SCORE: 17 - Temperature: 0.10849791539244395\n",
            "Updating target network...\n",
            "EPISODE: 121 - FINAL SCORE: 13 - Temperature: 0.10506111217615041\n",
            "EPISODE: 122 - FINAL SCORE: 18 - Temperature: 0.10173317387495502\n",
            "EPISODE: 123 - FINAL SCORE: 12 - Temperature: 0.09851065206048018\n",
            "EPISODE: 124 - FINAL SCORE: 35 - Temperature: 0.09539020753750449\n",
            "EPISODE: 125 - FINAL SCORE: 24 - Temperature: 0.09236860688386986\n",
            "EPISODE: 126 - FINAL SCORE: 22 - Temperature: 0.08944271909999134\n",
            "EPISODE: 127 - FINAL SCORE: 16 - Temperature: 0.08660951236449771\n",
            "EPISODE: 128 - FINAL SCORE: 11 - Temperature: 0.08386605089264117\n",
            "EPISODE: 129 - FINAL SCORE: 22 - Temperature: 0.08120949189422062\n",
            "EPISODE: 130 - FINAL SCORE: 18 - Temperature: 0.07863708262786658\n",
            "Updating target network...\n",
            "EPISODE: 131 - FINAL SCORE: 21 - Temperature: 0.07614615754863491\n",
            "EPISODE: 132 - FINAL SCORE: 19 - Temperature: 0.0737341355459544\n",
            "EPISODE: 133 - FINAL SCORE: 26 - Temperature: 0.07139851726906529\n",
            "EPISODE: 134 - FINAL SCORE: 36 - Temperature: 0.06913688253717806\n",
            "EPISODE: 135 - FINAL SCORE: 41 - Temperature: 0.06694688783166845\n",
            "EPISODE: 136 - FINAL SCORE: 30 - Temperature: 0.06482626386771029\n",
            "EPISODE: 137 - FINAL SCORE: 24 - Temperature: 0.06277281324282984\n",
            "EPISODE: 138 - FINAL SCORE: 14 - Temperature: 0.060784408159944944\n",
            "EPISODE: 139 - FINAL SCORE: 15 - Temperature: 0.05885898822252975\n",
            "EPISODE: 140 - FINAL SCORE: 28 - Temperature: 0.056994558299620274\n",
            "Updating target network...\n",
            "EPISODE: 141 - FINAL SCORE: 10 - Temperature: 0.05518918645844841\n",
            "EPISODE: 142 - FINAL SCORE: 22 - Temperature: 0.05344100196256244\n",
            "EPISODE: 143 - FINAL SCORE: 17 - Temperature: 0.05174819333335927\n",
            "EPISODE: 144 - FINAL SCORE: 22 - Temperature: 0.050109006473020246\n",
            "EPISODE: 145 - FINAL SCORE: 20 - Temperature: 0.04852174284690505\n",
            "EPISODE: 146 - FINAL SCORE: 16 - Temperature: 0.04698475772352061\n",
            "EPISODE: 147 - FINAL SCORE: 56 - Temperature: 0.045496458470241\n",
            "EPISODE: 148 - FINAL SCORE: 19 - Temperature: 0.04405530290301266\n",
            "EPISODE: 149 - FINAL SCORE: 14 - Temperature: 0.04265979768833455\n",
            "EPISODE: 150 - FINAL SCORE: 40 - Temperature: 0.04130849679585758\n",
            "Updating target network...\n",
            "EPISODE: 151 - FINAL SCORE: 30 - Temperature: 0.03999999999999986\n",
            "EPISODE: 152 - FINAL SCORE: 13 - Temperature: 0.03873295142902506\n",
            "EPISODE: 153 - FINAL SCORE: 21 - Temperature: 0.03750603816008049\n",
            "EPISODE: 154 - FINAL SCORE: 14 - Temperature: 0.036317988858739075\n",
            "EPISODE: 155 - FINAL SCORE: 19 - Temperature: 0.03516757246163547\n",
            "EPISODE: 156 - FINAL SCORE: 17 - Temperature: 0.03405359690083126\n",
            "EPISODE: 157 - FINAL SCORE: 13 - Temperature: 0.032974907868587505\n",
            "EPISODE: 158 - FINAL SCORE: 12 - Temperature: 0.03193038762126451\n",
            "EPISODE: 159 - FINAL SCORE: 37 - Temperature: 0.030918953821109638\n",
            "EPISODE: 160 - FINAL SCORE: 22 - Temperature: 0.029939558414732812\n",
            "Updating target network...\n",
            "EPISODE: 161 - FINAL SCORE: 43 - Temperature: 0.028991186547107715\n",
            "EPISODE: 162 - FINAL SCORE: 11 - Temperature: 0.028072855509973293\n",
            "EPISODE: 163 - FINAL SCORE: 9 - Temperature: 0.027183613723545944\n",
            "EPISODE: 164 - FINAL SCORE: 19 - Temperature: 0.026322539750487196\n",
            "EPISODE: 165 - FINAL SCORE: 14 - Temperature: 0.025488741341105136\n",
            "EPISODE: 166 - FINAL SCORE: 16 - Temperature: 0.024681354508800293\n",
            "EPISODE: 167 - FINAL SCORE: 14 - Temperature: 0.023899542634797842\n",
            "EPISODE: 168 - FINAL SCORE: 18 - Temperature: 0.02314249560123854\n",
            "EPISODE: 169 - FINAL SCORE: 14 - Temperature: 0.02240942895173004\n",
            "EPISODE: 170 - FINAL SCORE: 25 - Temperature: 0.021699583078488762\n",
            "Updating target network...\n",
            "EPISODE: 171 - FINAL SCORE: 12 - Temperature: 0.021012222435230057\n",
            "EPISODE: 172 - FINAL SCORE: 35 - Temperature: 0.02034663477499098\n",
            "EPISODE: 173 - FINAL SCORE: 15 - Temperature: 0.019702130412096015\n",
            "EPISODE: 174 - FINAL SCORE: 16 - Temperature: 0.01907804150750088\n",
            "EPISODE: 175 - FINAL SCORE: 19 - Temperature: 0.01847372137677395\n",
            "EPISODE: 176 - FINAL SCORE: 53 - Temperature: 0.017888543819998246\n",
            "EPISODE: 177 - FINAL SCORE: 17 - Temperature: 0.017321902472899522\n",
            "EPISODE: 178 - FINAL SCORE: 17 - Temperature: 0.016773210178528213\n",
            "EPISODE: 179 - FINAL SCORE: 32 - Temperature: 0.016241898378844107\n",
            "EPISODE: 180 - FINAL SCORE: 17 - Temperature: 0.015727416525573294\n",
            "Updating target network...\n",
            "EPISODE: 181 - FINAL SCORE: 42 - Temperature: 0.015229231509726967\n",
            "EPISODE: 182 - FINAL SCORE: 45 - Temperature: 0.014746827109190863\n",
            "EPISODE: 183 - FINAL SCORE: 16 - Temperature: 0.014279703453813042\n",
            "EPISODE: 184 - FINAL SCORE: 13 - Temperature: 0.013827376507435598\n",
            "EPISODE: 185 - FINAL SCORE: 30 - Temperature: 0.013389377566333675\n",
            "EPISODE: 186 - FINAL SCORE: 12 - Temperature: 0.012965252773542045\n",
            "EPISODE: 187 - FINAL SCORE: 19 - Temperature: 0.012554562648565954\n",
            "EPISODE: 188 - FINAL SCORE: 9 - Temperature: 0.012156881631988975\n",
            "EPISODE: 189 - FINAL SCORE: 35 - Temperature: 0.011771797644505937\n",
            "EPISODE: 190 - FINAL SCORE: 29 - Temperature: 0.011398911659924042\n",
            "Updating target network...\n",
            "EPISODE: 191 - FINAL SCORE: 37 - Temperature: 0.01103783729168967\n",
            "EPISODE: 192 - FINAL SCORE: 32 - Temperature: 0.010688200392512476\n",
            "EPISODE: 193 - FINAL SCORE: 46 - Temperature: 0.010349638666671842\n",
            "EPISODE: 194 - FINAL SCORE: 19 - Temperature: 0.01002180129460404\n",
            "EPISODE: 195 - FINAL SCORE: 56 - Temperature: 0.009704348569381\n",
            "EPISODE: 196 - FINAL SCORE: 36 - Temperature: 0.00939695154470411\n",
            "EPISODE: 197 - FINAL SCORE: 42 - Temperature: 0.00909929169404819\n",
            "EPISODE: 198 - FINAL SCORE: 24 - Temperature: 0.008811060580602522\n",
            "EPISODE: 199 - FINAL SCORE: 10 - Temperature: 0.0085319595376669\n",
            "EPISODE: 200 - FINAL SCORE: 25 - Temperature: 0.008261699359171508\n",
            "Updating target network...\n",
            "EPISODE: 201 - FINAL SCORE: 10 - Temperature: 0.007999999999999964\n",
            "EPISODE: 202 - FINAL SCORE: 12 - Temperature: 0.007746590285805003\n",
            "EPISODE: 203 - FINAL SCORE: 25 - Temperature: 0.00750120763201609\n",
            "EPISODE: 204 - FINAL SCORE: 12 - Temperature: 0.007263597771747806\n",
            "EPISODE: 205 - FINAL SCORE: 27 - Temperature: 0.0070335144923270865\n",
            "EPISODE: 206 - FINAL SCORE: 27 - Temperature: 0.006810719380166245\n",
            "EPISODE: 207 - FINAL SCORE: 37 - Temperature: 0.006594981573717493\n",
            "EPISODE: 208 - FINAL SCORE: 10 - Temperature: 0.006386077524252895\n",
            "EPISODE: 209 - FINAL SCORE: 40 - Temperature: 0.006183790764221921\n",
            "EPISODE: 210 - FINAL SCORE: 13 - Temperature: 0.0059879116829465555\n",
            "Updating target network...\n",
            "EPISODE: 211 - FINAL SCORE: 12 - Temperature: 0.0057982373094215365\n",
            "EPISODE: 212 - FINAL SCORE: 29 - Temperature: 0.005614571101994653\n",
            "EPISODE: 213 - FINAL SCORE: 25 - Temperature: 0.005436722744709183\n",
            "EPISODE: 214 - FINAL SCORE: 47 - Temperature: 0.005264507950097433\n",
            "EPISODE: 215 - FINAL SCORE: 12 - Temperature: 0.005097748268221022\n",
            "EPISODE: 216 - FINAL SCORE: 46 - Temperature: 0.004936270901760053\n",
            "EPISODE: 217 - FINAL SCORE: 35 - Temperature: 0.004779908526959563\n",
            "EPISODE: 218 - FINAL SCORE: 46 - Temperature: 0.004628499120247703\n",
            "EPISODE: 219 - FINAL SCORE: 10 - Temperature: 0.004481885790346003\n",
            "EPISODE: 220 - FINAL SCORE: 16 - Temperature: 0.004339916615697747\n",
            "Updating target network...\n",
            "EPISODE: 221 - FINAL SCORE: 10 - Temperature: 0.0042024444870460064\n",
            "EPISODE: 222 - FINAL SCORE: 34 - Temperature: 0.0040693269549981915\n",
            "EPISODE: 223 - FINAL SCORE: 31 - Temperature: 0.0039404260824191985\n",
            "EPISODE: 224 - FINAL SCORE: 16 - Temperature: 0.003815608301500171\n",
            "EPISODE: 225 - FINAL SCORE: 29 - Temperature: 0.003694744275354786\n",
            "EPISODE: 226 - FINAL SCORE: 12 - Temperature: 0.0035777087639996454\n",
            "EPISODE: 227 - FINAL SCORE: 10 - Temperature: 0.0034643804945799\n",
            "EPISODE: 228 - FINAL SCORE: 31 - Temperature: 0.0033546420357056387\n",
            "EPISODE: 229 - FINAL SCORE: 22 - Temperature: 0.0032483796757688177\n",
            "EPISODE: 230 - FINAL SCORE: 34 - Temperature: 0.003145483305114655\n",
            "Updating target network...\n",
            "EPISODE: 231 - FINAL SCORE: 37 - Temperature: 0.0030458463019453898\n",
            "EPISODE: 232 - FINAL SCORE: 31 - Temperature: 0.0029493654218381692\n",
            "EPISODE: 233 - FINAL SCORE: 15 - Temperature: 0.002855940690762605\n",
            "EPISODE: 234 - FINAL SCORE: 42 - Temperature: 0.0027654753014871164\n",
            "EPISODE: 235 - FINAL SCORE: 44 - Temperature: 0.0026778755132667318\n",
            "EPISODE: 236 - FINAL SCORE: 16 - Temperature: 0.002593050554708406\n",
            "EPISODE: 237 - FINAL SCORE: 14 - Temperature: 0.002510912529713188\n",
            "EPISODE: 238 - FINAL SCORE: 21 - Temperature: 0.0024313763263977923\n",
            "EPISODE: 239 - FINAL SCORE: 35 - Temperature: 0.0023543595289011844\n",
            "EPISODE: 240 - FINAL SCORE: 23 - Temperature: 0.0022797823319848057\n",
            "Updating target network...\n",
            "EPISODE: 241 - FINAL SCORE: 25 - Temperature: 0.0022075674583379315\n",
            "EPISODE: 242 - FINAL SCORE: 27 - Temperature: 0.0021376400785024924\n",
            "EPISODE: 243 - FINAL SCORE: 23 - Temperature: 0.0020699277333343664\n",
            "EPISODE: 244 - FINAL SCORE: 27 - Temperature: 0.0020043602589208055\n",
            "EPISODE: 245 - FINAL SCORE: 17 - Temperature: 0.0019408697138761978\n",
            "EPISODE: 246 - FINAL SCORE: 30 - Temperature: 0.0018793903089408199\n",
            "EPISODE: 247 - FINAL SCORE: 29 - Temperature: 0.0018198583388096357\n",
            "EPISODE: 248 - FINAL SCORE: 47 - Temperature: 0.0017622121161205023\n",
            "EPISODE: 249 - FINAL SCORE: 27 - Temperature: 0.0017063919075333781\n",
            "EPISODE: 250 - FINAL SCORE: 46 - Temperature: 0.0016523398718342995\n",
            "Updating target network...\n",
            "EPISODE: 251 - FINAL SCORE: 22 - Temperature: 0.001599999999999991\n",
            "EPISODE: 252 - FINAL SCORE: 24 - Temperature: 0.0015493180571609986\n",
            "EPISODE: 253 - FINAL SCORE: 42 - Temperature: 0.0015002415264032162\n",
            "EPISODE: 254 - FINAL SCORE: 41 - Temperature: 0.0014527195543495596\n",
            "EPISODE: 255 - FINAL SCORE: 12 - Temperature: 0.0014067028984654157\n",
            "EPISODE: 256 - FINAL SCORE: 37 - Temperature: 0.0013621438760332474\n",
            "EPISODE: 257 - FINAL SCORE: 18 - Temperature: 0.0013189963147434971\n",
            "EPISODE: 258 - FINAL SCORE: 24 - Temperature: 0.0012772155048505775\n",
            "EPISODE: 259 - FINAL SCORE: 33 - Temperature: 0.0012367581528443827\n",
            "EPISODE: 260 - FINAL SCORE: 39 - Temperature: 0.0011975823365893098\n",
            "Updating target network...\n",
            "EPISODE: 261 - FINAL SCORE: 19 - Temperature: 0.001159647461884306\n",
            "EPISODE: 262 - FINAL SCORE: 35 - Temperature: 0.0011229142203989292\n",
            "EPISODE: 263 - FINAL SCORE: 40 - Temperature: 0.0010873445489418354\n",
            "EPISODE: 264 - FINAL SCORE: 31 - Temperature: 0.0010529015900194853\n",
            "EPISODE: 265 - FINAL SCORE: 38 - Temperature: 0.0010195496536442032\n",
            "EPISODE: 266 - FINAL SCORE: 28 - Temperature: 0.0009872541803520093\n",
            "EPISODE: 267 - FINAL SCORE: 16 - Temperature: 0.0009559817053919114\n",
            "EPISODE: 268 - FINAL SCORE: 20 - Temperature: 0.0009256998240495395\n",
            "EPISODE: 269 - FINAL SCORE: 39 - Temperature: 0.0008963771580691995\n",
            "EPISODE: 270 - FINAL SCORE: 31 - Temperature: 0.0008679833231395486\n",
            "Updating target network...\n",
            "EPISODE: 271 - FINAL SCORE: 29 - Temperature: 0.0008404888974092004\n",
            "EPISODE: 272 - FINAL SCORE: 14 - Temperature: 0.0008138653909996374\n",
            "EPISODE: 273 - FINAL SCORE: 17 - Temperature: 0.0007880852164838388\n",
            "EPISODE: 274 - FINAL SCORE: 23 - Temperature: 0.0007631216603000333\n",
            "EPISODE: 275 - FINAL SCORE: 36 - Temperature: 0.0007389488550709563\n",
            "EPISODE: 276 - FINAL SCORE: 34 - Temperature: 0.0007155417527999282\n",
            "EPISODE: 277 - FINAL SCORE: 37 - Temperature: 0.0006928760989159792\n",
            "EPISODE: 278 - FINAL SCORE: 33 - Temperature: 0.0006709284071411269\n",
            "EPISODE: 279 - FINAL SCORE: 25 - Temperature: 0.0006496759351537628\n",
            "EPISODE: 280 - FINAL SCORE: 30 - Temperature: 0.0006290966610229304\n",
            "Updating target network...\n",
            "EPISODE: 281 - FINAL SCORE: 39 - Temperature: 0.0006091692603890773\n",
            "EPISODE: 282 - FINAL SCORE: 25 - Temperature: 0.0005898730843676332\n",
            "EPISODE: 283 - FINAL SCORE: 11 - Temperature: 0.0005711881381525204\n",
            "EPISODE: 284 - FINAL SCORE: 26 - Temperature: 0.0005530950602974226\n",
            "EPISODE: 285 - FINAL SCORE: 31 - Temperature: 0.0005355751026533458\n",
            "EPISODE: 286 - FINAL SCORE: 38 - Temperature: 0.0005186101109416806\n",
            "EPISODE: 287 - FINAL SCORE: 16 - Temperature: 0.0005021825059426371\n",
            "EPISODE: 288 - FINAL SCORE: 30 - Temperature: 0.0004862752652795579\n",
            "EPISODE: 289 - FINAL SCORE: 36 - Temperature: 0.00047087190578023644\n",
            "EPISODE: 290 - FINAL SCORE: 36 - Temperature: 0.0004559564663969606\n",
            "Updating target network...\n",
            "EPISODE: 291 - FINAL SCORE: 9 - Temperature: 0.0004415134916675858\n",
            "EPISODE: 292 - FINAL SCORE: 37 - Temperature: 0.000427528015700498\n",
            "EPISODE: 293 - FINAL SCORE: 36 - Temperature: 0.00041398554666687275\n",
            "EPISODE: 294 - FINAL SCORE: 26 - Temperature: 0.00040087205178416065\n",
            "EPISODE: 295 - FINAL SCORE: 29 - Temperature: 0.0003881739427752391\n",
            "EPISODE: 296 - FINAL SCORE: 24 - Temperature: 0.00037587806178816357\n",
            "EPISODE: 297 - FINAL SCORE: 46 - Temperature: 0.00036397166776192674\n",
            "EPISODE: 298 - FINAL SCORE: 35 - Temperature: 0.00035244242322410004\n",
            "EPISODE: 299 - FINAL SCORE: 30 - Temperature: 0.00034127838150667524\n",
            "EPISODE: 300 - FINAL SCORE: 10 - Temperature: 0.00033046797436685953\n",
            "\n"
          ],
          "name": "stdout"
        }
      ]
    },
    {
      "cell_type": "code",
      "metadata": {
        "id": "7FQjjVTiP2T6"
      },
      "source": [
        "# Display the videos, not required outside Colab\n",
        "#show_videos()"
      ],
      "execution_count": 19,
      "outputs": []
    },
    {
      "cell_type": "code",
      "metadata": {
        "id": "Oc6cJfUnBpoi",
        "colab": {
          "base_uri": "https://localhost:8080/",
          "height": 396
        },
        "outputId": "476a6bf0-ad98-4a47-ede8-70a97ac0e33a"
      },
      "source": [
        "# Exploration profile\n",
        "plt.figure(figsize=(12,6))\n",
        "plt.plot(scores)\n",
        "plt.xlabel('Iteration', fontsize=18)\n",
        "plt.ylabel('Score', fontsize=18)\n",
        "plt.grid(ls='--')"
      ],
      "execution_count": 20,
      "outputs": [
        {
          "output_type": "display_data",
          "data": {
            "image/png": "[encoded data removed]",
            "text/plain": [
              "<Figure size 864x432 with 1 Axes>"
            ]
          },
          "metadata": {
            "tags": [],
            "needs_background": "light"
          }
        }
      ]
    },
    {
      "cell_type": "markdown",
      "metadata": {
        "id": "JkG9iDZTIhzc"
      },
      "source": [
        "## Final test"
      ]
    },
    {
      "cell_type": "code",
      "metadata": {
        "id": "vJKgnu3_IjWE",
        "colab": {
          "base_uri": "https://localhost:8080/",
          "height": 301
        },
        "outputId": "a3e0d185-8f25-41fc-c861-878f4f408d5b"
      },
      "source": [
        "# Initialize the Gym environment\n",
        "env = gym.make('CartPole-v1') \n",
        "env.seed(1) # Set a random seed for the environment (reproducible results)\n",
        "\n",
        "# This is for creating the output video in Colab, not required outside Colab\n",
        "#env = wrap_env(env, video_callable=lambda episode_id: True) # Save a video every episode\n",
        "\n",
        "# Let's try for a total of 10 episodes\n",
        "for num_episode in range(10): \n",
        "    # Reset the environment and get the initial state\n",
        "    state = env.reset()\n",
        "    state_img = ProcessScreen(env).unsqueeze(0)\n",
        "    # Reset the score. The final score will be the total amount of steps before the pole falls\n",
        "    score = 0\n",
        "    done = False\n",
        "    # Go on until the pole falls off or the score reach 490\n",
        "    while not done:\n",
        "      # Choose the best action (temperature 0)\n",
        "      action, q_values = choose_action_softmax(policy_net, state_img, temperature=0)\n",
        "      # Apply the action and get the next state, the reward and a flag \"done\" that is True if the game is ended\n",
        "      next_state, reward, done, info = env.step(action)\n",
        "      # Visually render the environment\n",
        "      #env.render()\n",
        "      # Update the final score (+1 for each step)\n",
        "      score += reward \n",
        "      if type(next_state) != \"NoneType\":\n",
        "          next_state_img = ScreenProcess(env).unsqueeze(0)\n",
        "      # Set the current state for the next iteration\n",
        "      state = next_state\n",
        "      state_img = next_state_img\n",
        "      # Check if the episode ended (the pole fell down)\n",
        "    # Print the final score\n",
        "    print(f\"EPISODE {num_episode + 1} - FINAL SCORE: {score}\") \n",
        "env.close()"
      ],
      "execution_count": 21,
      "outputs": [
        {
          "output_type": "stream",
          "text": [
            "/usr/local/lib/python3.7/dist-packages/ipykernel_launcher.py:9: UserWarning: To copy construct from a tensor, it is recommended to use sourceTensor.clone().detach() or sourceTensor.clone().detach().requires_grad_(True), rather than torch.tensor(sourceTensor).\n",
            "  if __name__ == '__main__':\n"
          ],
          "name": "stderr"
        },
        {
          "output_type": "error",
          "ename": "NameError",
          "evalue": "ignored",
          "traceback": [
            "\u001b[0;31m---------------------------------------------------------------------------\u001b[0m",
            "\u001b[0;31mNameError\u001b[0m                                 Traceback (most recent call last)",
            "\u001b[0;32m<ipython-input-21-dccbe80219bc>\u001b[0m in \u001b[0;36m<module>\u001b[0;34m()\u001b[0m\n\u001b[1;32m     25\u001b[0m       \u001b[0mscore\u001b[0m \u001b[0;34m+=\u001b[0m \u001b[0mreward\u001b[0m\u001b[0;34m\u001b[0m\u001b[0;34m\u001b[0m\u001b[0m\n\u001b[1;32m     26\u001b[0m       \u001b[0;32mif\u001b[0m \u001b[0mtype\u001b[0m\u001b[0;34m(\u001b[0m\u001b[0mnext_state\u001b[0m\u001b[0;34m)\u001b[0m \u001b[0;34m!=\u001b[0m \u001b[0;34m\"NoneType\"\u001b[0m\u001b[0;34m:\u001b[0m\u001b[0;34m\u001b[0m\u001b[0;34m\u001b[0m\u001b[0m\n\u001b[0;32m---> 27\u001b[0;31m           \u001b[0mnext_state_img\u001b[0m \u001b[0;34m=\u001b[0m \u001b[0mScreenProcess\u001b[0m\u001b[0;34m(\u001b[0m\u001b[0menv\u001b[0m\u001b[0;34m)\u001b[0m\u001b[0;34m.\u001b[0m\u001b[0munsqueeze\u001b[0m\u001b[0;34m(\u001b[0m\u001b[0;36m0\u001b[0m\u001b[0;34m)\u001b[0m\u001b[0;34m\u001b[0m\u001b[0;34m\u001b[0m\u001b[0m\n\u001b[0m\u001b[1;32m     28\u001b[0m       \u001b[0;31m# Set the current state for the next iteration\u001b[0m\u001b[0;34m\u001b[0m\u001b[0;34m\u001b[0m\u001b[0;34m\u001b[0m\u001b[0m\n\u001b[1;32m     29\u001b[0m       \u001b[0mstate\u001b[0m \u001b[0;34m=\u001b[0m \u001b[0mnext_state\u001b[0m\u001b[0;34m\u001b[0m\u001b[0;34m\u001b[0m\u001b[0m\n",
            "\u001b[0;31mNameError\u001b[0m: name 'ScreenProcess' is not defined"
          ]
        }
      ]
    },
    {
      "cell_type": "code",
      "metadata": {
        "id": "mxdtGJutLqlw"
      },
      "source": [
        "# Display the videos, not required outside Colab\n",
        "#show_videos()"
      ],
      "execution_count": null,
      "outputs": []
    }
  ]
}